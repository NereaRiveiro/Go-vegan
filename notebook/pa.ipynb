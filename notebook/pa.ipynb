{
 "cells": [
  {
   "cell_type": "code",
   "execution_count": 1,
   "metadata": {},
   "outputs": [],
   "source": [
    "from funciones import *\n",
    "import pandas as pd\n",
    "import numpy as np\n",
    "import pycountry as pc\n",
    "\n",
    "pd.options.plotting.backend = \"plotly\"\n",
    "import matplotlib.pyplot as plt\n",
    "import seaborn as sns\n",
    "import plotly.express as px\n",
    "import plotly.graph_objects as go\n",
    "from plotly.subplots import make_subplots\n",
    "from matplotlib.animation import FuncAnimation\n"
   ]
  },
  {
   "cell_type": "code",
   "execution_count": 21,
   "metadata": {},
   "outputs": [],
   "source": [
    "fod = pd.read_csv('../data/Food/food_clean.csv')\n",
    "soy = pd.read_csv('..\\data\\Soy\\soy_clean.csv', parse_dates=['Year'])\n",
    "oil_prod = pd.read_csv('../data/Palm/oil_prod_clean.csv')\n",
    "oil_yield = pd.read_csv('../data/Palm/oil_yield_clean.csv')\n",
    "pop = pd.read_csv('../data/Population/population_clean.csv')"
   ]
  },
  {
   "cell_type": "code",
   "execution_count": 3,
   "metadata": {},
   "outputs": [
    {
     "ename": "NameError",
     "evalue": "name 'df_top_countries' is not defined",
     "output_type": "error",
     "traceback": [
      "\u001b[1;31m---------------------------------------------------------------------------\u001b[0m",
      "\u001b[1;31mNameError\u001b[0m                                 Traceback (most recent call last)",
      "Cell \u001b[1;32mIn[3], line 2\u001b[0m\n\u001b[0;32m      1\u001b[0m \u001b[39m# Agrupar los datos filtrados por año y sumar el Feed para cada año y país\u001b[39;00m\n\u001b[1;32m----> 2\u001b[0m agregado \u001b[39m=\u001b[39m df_top_countries\u001b[39m.\u001b[39mgroupby([\u001b[39m'\u001b[39m\u001b[39mYear\u001b[39m\u001b[39m'\u001b[39m, \u001b[39m'\u001b[39m\u001b[39mEntity\u001b[39m\u001b[39m'\u001b[39m])[\u001b[39m'\u001b[39m\u001b[39mFeed\u001b[39m\u001b[39m'\u001b[39m]\u001b[39m.\u001b[39msum()\u001b[39m.\u001b[39munstack()\n\u001b[0;32m      4\u001b[0m \u001b[39m# Crear subplots con una sola fila y una columna\u001b[39;00m\n\u001b[0;32m      5\u001b[0m fig \u001b[39m=\u001b[39m make_subplots(rows\u001b[39m=\u001b[39m\u001b[39m1\u001b[39m, cols\u001b[39m=\u001b[39m\u001b[39m1\u001b[39m)\n",
      "\u001b[1;31mNameError\u001b[0m: name 'df_top_countries' is not defined"
     ]
    }
   ],
   "source": [
    "# Agrupar los datos filtrados por año y sumar el Feed para cada año y país\n",
    "agregado = df_top_countries.groupby(['Year', 'Entity'])['Feed'].sum().unstack()\n",
    "\n",
    "# Crear subplots con una sola fila y una columna\n",
    "fig = make_subplots(rows=1, cols=1)\n",
    "\n",
    "# Añadir las barras apiladas al subplot\n",
    "for pais in agregado.columns:\n",
    "    fig.add_trace(go.Bar(x=agregado.index, y=agregado[pais], name=pais), 1, 1)\n",
    "\n",
    "# Establecer el título y las etiquetas de los ejes\n",
    "fig.update_layout(title='Total de Feed por año para los 10 países con más número en Feed',\n",
    "                  xaxis_title='Año',\n",
    "                  yaxis_title='Total de Feed')\n",
    "\n",
    "# Mostrar el gráfico\n",
    "fig.show()"
   ]
  },
  {
   "cell_type": "code",
   "execution_count": 4,
   "metadata": {},
   "outputs": [
    {
     "data": {
      "application/vnd.plotly.v1+json": {
       "config": {
        "plotlyServerURL": "https://plot.ly"
       },
       "data": [
        {
         "name": "Asia",
         "type": "bar",
         "x": [
          "1961-01-01",
          "1962-01-01",
          "1963-01-01",
          "1964-01-01",
          "1965-01-01",
          "1966-01-01",
          "1967-01-01",
          "1968-01-01",
          "1969-01-01",
          "1970-01-01",
          "1971-01-01",
          "1972-01-01",
          "1973-01-01",
          "1974-01-01",
          "1975-01-01",
          "1976-01-01",
          "1977-01-01",
          "1978-01-01",
          "1979-01-01",
          "1980-01-01",
          "1981-01-01",
          "1982-01-01",
          "1983-01-01",
          "1984-01-01",
          "1985-01-01",
          "1986-01-01",
          "1987-01-01",
          "1988-01-01",
          "1989-01-01",
          "1990-01-01",
          "1991-01-01",
          "1992-01-01",
          "1993-01-01",
          "1994-01-01",
          "1995-01-01",
          "1996-01-01",
          "1997-01-01",
          "1998-01-01",
          "1999-01-01",
          "2000-01-01",
          "2001-01-01",
          "2002-01-01",
          "2003-01-01",
          "2004-01-01",
          "2005-01-01",
          "2006-01-01",
          "2007-01-01",
          "2008-01-01",
          "2009-01-01",
          "2010-01-01",
          "2011-01-01",
          "2012-01-01",
          "2013-01-01",
          "2014-01-01",
          "2015-01-01",
          "2016-01-01",
          "2017-01-01",
          "2018-01-01",
          "2019-01-01",
          "2020-01-01"
         ],
         "xaxis": "x",
         "y": [
          191000,
          205000,
          225000,
          263000,
          284000,
          426000,
          403000,
          373000,
          332000,
          302000,
          474000,
          303000,
          367000,
          301000,
          293000,
          359000,
          365000,
          319000,
          335000,
          457000,
          486000,
          446000,
          478000,
          521000,
          845000,
          632000,
          606000,
          643000,
          574000,
          482000,
          488000,
          437000,
          1094000,
          1170000,
          769000,
          514000,
          454000,
          542000,
          1612000,
          2218000,
          2868000,
          2271000,
          3255000,
          3905000,
          3358000,
          3503000,
          3715000,
          3944000,
          5284000,
          11538000,
          7768000,
          13810000,
          10770000,
          10814000,
          15661000,
          12767000,
          15275000,
          12013000,
          16882000,
          23057000
         ],
         "yaxis": "y"
        },
        {
         "name": "China",
         "type": "bar",
         "x": [
          "1961-01-01",
          "1962-01-01",
          "1963-01-01",
          "1964-01-01",
          "1965-01-01",
          "1966-01-01",
          "1967-01-01",
          "1968-01-01",
          "1969-01-01",
          "1970-01-01",
          "1971-01-01",
          "1972-01-01",
          "1973-01-01",
          "1974-01-01",
          "1975-01-01",
          "1976-01-01",
          "1977-01-01",
          "1978-01-01",
          "1979-01-01",
          "1980-01-01",
          "1981-01-01",
          "1982-01-01",
          "1983-01-01",
          "1984-01-01",
          "1985-01-01",
          "1986-01-01",
          "1987-01-01",
          "1988-01-01",
          "1989-01-01",
          "1990-01-01",
          "1991-01-01",
          "1992-01-01",
          "1993-01-01",
          "1994-01-01",
          "1995-01-01",
          "1996-01-01",
          "1997-01-01",
          "1998-01-01",
          "1999-01-01",
          "2000-01-01",
          "2001-01-01",
          "2002-01-01",
          "2003-01-01",
          "2004-01-01",
          "2005-01-01",
          "2006-01-01",
          "2007-01-01",
          "2008-01-01",
          "2009-01-01",
          "2010-01-01",
          "2011-01-01",
          "2012-01-01",
          "2013-01-01",
          "2014-01-01",
          "2015-01-01",
          "2016-01-01",
          "2017-01-01",
          "2018-01-01",
          "2019-01-01",
          "2020-01-01"
         ],
         "xaxis": "x",
         "y": [
          186000,
          195000,
          217000,
          236000,
          230000,
          348000,
          290000,
          280000,
          232000,
          260000,
          260000,
          200000,
          255000,
          244000,
          203000,
          210000,
          248000,
          233000,
          242000,
          260000,
          300000,
          320000,
          350000,
          400000,
          700000,
          500000,
          500000,
          480000,
          400000,
          250000,
          200000,
          200000,
          800000,
          700000,
          450000,
          300000,
          300000,
          400000,
          1457000,
          2009000,
          2655000,
          1907000,
          2911000,
          3594000,
          3014000,
          3216000,
          3408000,
          3609000,
          4821000,
          9296000,
          5498000,
          11561000,
          8917000,
          8680000,
          11707000,
          6913000,
          10830000,
          8656000,
          11194000,
          18864000
         ],
         "yaxis": "y"
        },
        {
         "name": "High-income countries",
         "type": "bar",
         "x": [
          "1961-01-01",
          "1962-01-01",
          "1963-01-01",
          "1964-01-01",
          "1965-01-01",
          "1966-01-01",
          "1967-01-01",
          "1968-01-01",
          "1969-01-01",
          "1970-01-01",
          "1971-01-01",
          "1972-01-01",
          "1973-01-01",
          "1974-01-01",
          "1975-01-01",
          "1976-01-01",
          "1977-01-01",
          "1978-01-01",
          "1979-01-01",
          "1980-01-01",
          "1981-01-01",
          "1982-01-01",
          "1983-01-01",
          "1984-01-01",
          "1985-01-01",
          "1986-01-01",
          "1987-01-01",
          "1988-01-01",
          "1989-01-01",
          "1990-01-01",
          "1991-01-01",
          "1992-01-01",
          "1993-01-01",
          "1994-01-01",
          "1995-01-01",
          "1996-01-01",
          "1997-01-01",
          "1998-01-01",
          "1999-01-01",
          "2000-01-01",
          "2001-01-01",
          "2002-01-01",
          "2003-01-01",
          "2004-01-01",
          "2005-01-01",
          "2006-01-01",
          "2007-01-01",
          "2008-01-01",
          "2009-01-01",
          "2010-01-01",
          "2011-01-01",
          "2012-01-01",
          "2013-01-01",
          "2014-01-01",
          "2015-01-01",
          "2016-01-01",
          "2017-01-01",
          "2018-01-01",
          "2019-01-01",
          "2020-01-01"
         ],
         "xaxis": "x",
         "y": [
          67000,
          77000,
          94000,
          99000,
          115000,
          179000,
          194000,
          177000,
          182000,
          131000,
          295000,
          208000,
          177000,
          148000,
          194000,
          251000,
          233000,
          211000,
          203000,
          327000,
          432000,
          557000,
          556000,
          580000,
          569000,
          758000,
          1263000,
          1569000,
          1688000,
          1941000,
          1998000,
          2100000,
          1839000,
          2163000,
          2042000,
          2061000,
          2341000,
          2069000,
          1926000,
          1991000,
          1990000,
          2512000,
          2540000,
          4744000,
          3970000,
          4164000,
          2345000,
          3555000,
          3603000,
          3745000,
          3576000,
          3107000,
          3477000,
          4993000,
          6372000,
          2918000,
          5459000,
          3260000,
          3101000,
          3064000
         ],
         "yaxis": "y"
        },
        {
         "name": "Upper-middle-income countries",
         "type": "bar",
         "x": [
          "1961-01-01",
          "1962-01-01",
          "1963-01-01",
          "1964-01-01",
          "1965-01-01",
          "1966-01-01",
          "1967-01-01",
          "1968-01-01",
          "1969-01-01",
          "1970-01-01",
          "1971-01-01",
          "1972-01-01",
          "1973-01-01",
          "1974-01-01",
          "1975-01-01",
          "1976-01-01",
          "1977-01-01",
          "1978-01-01",
          "1979-01-01",
          "1980-01-01",
          "1981-01-01",
          "1982-01-01",
          "1983-01-01",
          "1984-01-01",
          "1985-01-01",
          "1986-01-01",
          "1987-01-01",
          "1988-01-01",
          "1989-01-01",
          "1990-01-01",
          "1991-01-01",
          "1992-01-01",
          "1993-01-01",
          "1994-01-01",
          "1995-01-01",
          "1996-01-01",
          "1997-01-01",
          "1998-01-01",
          "1999-01-01",
          "2000-01-01",
          "2001-01-01",
          "2002-01-01",
          "2003-01-01",
          "2004-01-01",
          "2005-01-01",
          "2006-01-01",
          "2007-01-01",
          "2008-01-01",
          "2009-01-01",
          "2010-01-01",
          "2011-01-01",
          "2012-01-01",
          "2013-01-01",
          "2014-01-01",
          "2015-01-01",
          "2016-01-01",
          "2017-01-01",
          "2018-01-01",
          "2019-01-01",
          "2020-01-01"
         ],
         "xaxis": "x",
         "y": [
          296000,
          357000,
          397000,
          384000,
          411000,
          576000,
          490000,
          641000,
          569000,
          470000,
          560000,
          496000,
          624000,
          620000,
          578000,
          667000,
          880000,
          880000,
          843000,
          907000,
          861000,
          865000,
          1009000,
          1236000,
          1570000,
          1579000,
          1697000,
          1837000,
          1881000,
          1616000,
          1760000,
          1504000,
          2338000,
          1876000,
          1359000,
          1404000,
          1627000,
          1801000,
          3135000,
          3608000,
          4074000,
          3503000,
          4537000,
          5380000,
          5343000,
          5525000,
          5820000,
          6127000,
          7233000,
          13435000,
          11467000,
          17778000,
          15742000,
          16192000,
          17797000,
          16382000,
          19478000,
          17362000,
          19431000,
          26857000
         ],
         "yaxis": "y"
        },
        {
         "name": "World",
         "type": "bar",
         "x": [
          "1961-01-01",
          "1962-01-01",
          "1963-01-01",
          "1964-01-01",
          "1965-01-01",
          "1966-01-01",
          "1967-01-01",
          "1968-01-01",
          "1969-01-01",
          "1970-01-01",
          "1971-01-01",
          "1972-01-01",
          "1973-01-01",
          "1974-01-01",
          "1975-01-01",
          "1976-01-01",
          "1977-01-01",
          "1978-01-01",
          "1979-01-01",
          "1980-01-01",
          "1981-01-01",
          "1982-01-01",
          "1983-01-01",
          "1984-01-01",
          "1985-01-01",
          "1986-01-01",
          "1987-01-01",
          "1988-01-01",
          "1989-01-01",
          "1990-01-01",
          "1991-01-01",
          "1992-01-01",
          "1993-01-01",
          "1994-01-01",
          "1995-01-01",
          "1996-01-01",
          "1997-01-01",
          "1998-01-01",
          "1999-01-01",
          "2000-01-01",
          "2001-01-01",
          "2002-01-01",
          "2003-01-01",
          "2004-01-01",
          "2005-01-01",
          "2006-01-01",
          "2007-01-01",
          "2008-01-01",
          "2009-01-01",
          "2010-01-01",
          "2011-01-01",
          "2012-01-01",
          "2013-01-01",
          "2014-01-01",
          "2015-01-01",
          "2016-01-01",
          "2017-01-01",
          "2018-01-01",
          "2019-01-01",
          "2020-01-01"
         ],
         "xaxis": "x",
         "y": [
          368000,
          440000,
          498000,
          487000,
          531000,
          759000,
          690000,
          825000,
          756000,
          607000,
          860000,
          710000,
          807000,
          776000,
          778000,
          926000,
          1119000,
          1100000,
          1054000,
          1242000,
          1301000,
          1433000,
          1572000,
          1825000,
          2148000,
          2365000,
          2992000,
          3438000,
          3604000,
          3580000,
          3804000,
          3682000,
          4259000,
          4136000,
          3747000,
          3725000,
          4249000,
          4216000,
          5434000,
          5728000,
          6204000,
          6311000,
          7374000,
          10547000,
          9643000,
          10309000,
          8670000,
          10250000,
          11270000,
          19789000,
          17425000,
          22295000,
          20368000,
          23261000,
          27381000,
          24569000,
          28660000,
          23255000,
          27118000,
          33624000
         ],
         "yaxis": "y"
        }
       ],
       "layout": {
        "template": {
         "data": {
          "bar": [
           {
            "error_x": {
             "color": "#2a3f5f"
            },
            "error_y": {
             "color": "#2a3f5f"
            },
            "marker": {
             "line": {
              "color": "#E5ECF6",
              "width": 0.5
             },
             "pattern": {
              "fillmode": "overlay",
              "size": 10,
              "solidity": 0.2
             }
            },
            "type": "bar"
           }
          ],
          "barpolar": [
           {
            "marker": {
             "line": {
              "color": "#E5ECF6",
              "width": 0.5
             },
             "pattern": {
              "fillmode": "overlay",
              "size": 10,
              "solidity": 0.2
             }
            },
            "type": "barpolar"
           }
          ],
          "carpet": [
           {
            "aaxis": {
             "endlinecolor": "#2a3f5f",
             "gridcolor": "white",
             "linecolor": "white",
             "minorgridcolor": "white",
             "startlinecolor": "#2a3f5f"
            },
            "baxis": {
             "endlinecolor": "#2a3f5f",
             "gridcolor": "white",
             "linecolor": "white",
             "minorgridcolor": "white",
             "startlinecolor": "#2a3f5f"
            },
            "type": "carpet"
           }
          ],
          "choropleth": [
           {
            "colorbar": {
             "outlinewidth": 0,
             "ticks": ""
            },
            "type": "choropleth"
           }
          ],
          "contour": [
           {
            "colorbar": {
             "outlinewidth": 0,
             "ticks": ""
            },
            "colorscale": [
             [
              0,
              "#0d0887"
             ],
             [
              0.1111111111111111,
              "#46039f"
             ],
             [
              0.2222222222222222,
              "#7201a8"
             ],
             [
              0.3333333333333333,
              "#9c179e"
             ],
             [
              0.4444444444444444,
              "#bd3786"
             ],
             [
              0.5555555555555556,
              "#d8576b"
             ],
             [
              0.6666666666666666,
              "#ed7953"
             ],
             [
              0.7777777777777778,
              "#fb9f3a"
             ],
             [
              0.8888888888888888,
              "#fdca26"
             ],
             [
              1,
              "#f0f921"
             ]
            ],
            "type": "contour"
           }
          ],
          "contourcarpet": [
           {
            "colorbar": {
             "outlinewidth": 0,
             "ticks": ""
            },
            "type": "contourcarpet"
           }
          ],
          "heatmap": [
           {
            "colorbar": {
             "outlinewidth": 0,
             "ticks": ""
            },
            "colorscale": [
             [
              0,
              "#0d0887"
             ],
             [
              0.1111111111111111,
              "#46039f"
             ],
             [
              0.2222222222222222,
              "#7201a8"
             ],
             [
              0.3333333333333333,
              "#9c179e"
             ],
             [
              0.4444444444444444,
              "#bd3786"
             ],
             [
              0.5555555555555556,
              "#d8576b"
             ],
             [
              0.6666666666666666,
              "#ed7953"
             ],
             [
              0.7777777777777778,
              "#fb9f3a"
             ],
             [
              0.8888888888888888,
              "#fdca26"
             ],
             [
              1,
              "#f0f921"
             ]
            ],
            "type": "heatmap"
           }
          ],
          "heatmapgl": [
           {
            "colorbar": {
             "outlinewidth": 0,
             "ticks": ""
            },
            "colorscale": [
             [
              0,
              "#0d0887"
             ],
             [
              0.1111111111111111,
              "#46039f"
             ],
             [
              0.2222222222222222,
              "#7201a8"
             ],
             [
              0.3333333333333333,
              "#9c179e"
             ],
             [
              0.4444444444444444,
              "#bd3786"
             ],
             [
              0.5555555555555556,
              "#d8576b"
             ],
             [
              0.6666666666666666,
              "#ed7953"
             ],
             [
              0.7777777777777778,
              "#fb9f3a"
             ],
             [
              0.8888888888888888,
              "#fdca26"
             ],
             [
              1,
              "#f0f921"
             ]
            ],
            "type": "heatmapgl"
           }
          ],
          "histogram": [
           {
            "marker": {
             "pattern": {
              "fillmode": "overlay",
              "size": 10,
              "solidity": 0.2
             }
            },
            "type": "histogram"
           }
          ],
          "histogram2d": [
           {
            "colorbar": {
             "outlinewidth": 0,
             "ticks": ""
            },
            "colorscale": [
             [
              0,
              "#0d0887"
             ],
             [
              0.1111111111111111,
              "#46039f"
             ],
             [
              0.2222222222222222,
              "#7201a8"
             ],
             [
              0.3333333333333333,
              "#9c179e"
             ],
             [
              0.4444444444444444,
              "#bd3786"
             ],
             [
              0.5555555555555556,
              "#d8576b"
             ],
             [
              0.6666666666666666,
              "#ed7953"
             ],
             [
              0.7777777777777778,
              "#fb9f3a"
             ],
             [
              0.8888888888888888,
              "#fdca26"
             ],
             [
              1,
              "#f0f921"
             ]
            ],
            "type": "histogram2d"
           }
          ],
          "histogram2dcontour": [
           {
            "colorbar": {
             "outlinewidth": 0,
             "ticks": ""
            },
            "colorscale": [
             [
              0,
              "#0d0887"
             ],
             [
              0.1111111111111111,
              "#46039f"
             ],
             [
              0.2222222222222222,
              "#7201a8"
             ],
             [
              0.3333333333333333,
              "#9c179e"
             ],
             [
              0.4444444444444444,
              "#bd3786"
             ],
             [
              0.5555555555555556,
              "#d8576b"
             ],
             [
              0.6666666666666666,
              "#ed7953"
             ],
             [
              0.7777777777777778,
              "#fb9f3a"
             ],
             [
              0.8888888888888888,
              "#fdca26"
             ],
             [
              1,
              "#f0f921"
             ]
            ],
            "type": "histogram2dcontour"
           }
          ],
          "mesh3d": [
           {
            "colorbar": {
             "outlinewidth": 0,
             "ticks": ""
            },
            "type": "mesh3d"
           }
          ],
          "parcoords": [
           {
            "line": {
             "colorbar": {
              "outlinewidth": 0,
              "ticks": ""
             }
            },
            "type": "parcoords"
           }
          ],
          "pie": [
           {
            "automargin": true,
            "type": "pie"
           }
          ],
          "scatter": [
           {
            "fillpattern": {
             "fillmode": "overlay",
             "size": 10,
             "solidity": 0.2
            },
            "type": "scatter"
           }
          ],
          "scatter3d": [
           {
            "line": {
             "colorbar": {
              "outlinewidth": 0,
              "ticks": ""
             }
            },
            "marker": {
             "colorbar": {
              "outlinewidth": 0,
              "ticks": ""
             }
            },
            "type": "scatter3d"
           }
          ],
          "scattercarpet": [
           {
            "marker": {
             "colorbar": {
              "outlinewidth": 0,
              "ticks": ""
             }
            },
            "type": "scattercarpet"
           }
          ],
          "scattergeo": [
           {
            "marker": {
             "colorbar": {
              "outlinewidth": 0,
              "ticks": ""
             }
            },
            "type": "scattergeo"
           }
          ],
          "scattergl": [
           {
            "marker": {
             "colorbar": {
              "outlinewidth": 0,
              "ticks": ""
             }
            },
            "type": "scattergl"
           }
          ],
          "scattermapbox": [
           {
            "marker": {
             "colorbar": {
              "outlinewidth": 0,
              "ticks": ""
             }
            },
            "type": "scattermapbox"
           }
          ],
          "scatterpolar": [
           {
            "marker": {
             "colorbar": {
              "outlinewidth": 0,
              "ticks": ""
             }
            },
            "type": "scatterpolar"
           }
          ],
          "scatterpolargl": [
           {
            "marker": {
             "colorbar": {
              "outlinewidth": 0,
              "ticks": ""
             }
            },
            "type": "scatterpolargl"
           }
          ],
          "scatterternary": [
           {
            "marker": {
             "colorbar": {
              "outlinewidth": 0,
              "ticks": ""
             }
            },
            "type": "scatterternary"
           }
          ],
          "surface": [
           {
            "colorbar": {
             "outlinewidth": 0,
             "ticks": ""
            },
            "colorscale": [
             [
              0,
              "#0d0887"
             ],
             [
              0.1111111111111111,
              "#46039f"
             ],
             [
              0.2222222222222222,
              "#7201a8"
             ],
             [
              0.3333333333333333,
              "#9c179e"
             ],
             [
              0.4444444444444444,
              "#bd3786"
             ],
             [
              0.5555555555555556,
              "#d8576b"
             ],
             [
              0.6666666666666666,
              "#ed7953"
             ],
             [
              0.7777777777777778,
              "#fb9f3a"
             ],
             [
              0.8888888888888888,
              "#fdca26"
             ],
             [
              1,
              "#f0f921"
             ]
            ],
            "type": "surface"
           }
          ],
          "table": [
           {
            "cells": {
             "fill": {
              "color": "#EBF0F8"
             },
             "line": {
              "color": "white"
             }
            },
            "header": {
             "fill": {
              "color": "#C8D4E3"
             },
             "line": {
              "color": "white"
             }
            },
            "type": "table"
           }
          ]
         },
         "layout": {
          "annotationdefaults": {
           "arrowcolor": "#2a3f5f",
           "arrowhead": 0,
           "arrowwidth": 1
          },
          "autotypenumbers": "strict",
          "coloraxis": {
           "colorbar": {
            "outlinewidth": 0,
            "ticks": ""
           }
          },
          "colorscale": {
           "diverging": [
            [
             0,
             "#8e0152"
            ],
            [
             0.1,
             "#c51b7d"
            ],
            [
             0.2,
             "#de77ae"
            ],
            [
             0.3,
             "#f1b6da"
            ],
            [
             0.4,
             "#fde0ef"
            ],
            [
             0.5,
             "#f7f7f7"
            ],
            [
             0.6,
             "#e6f5d0"
            ],
            [
             0.7,
             "#b8e186"
            ],
            [
             0.8,
             "#7fbc41"
            ],
            [
             0.9,
             "#4d9221"
            ],
            [
             1,
             "#276419"
            ]
           ],
           "sequential": [
            [
             0,
             "#0d0887"
            ],
            [
             0.1111111111111111,
             "#46039f"
            ],
            [
             0.2222222222222222,
             "#7201a8"
            ],
            [
             0.3333333333333333,
             "#9c179e"
            ],
            [
             0.4444444444444444,
             "#bd3786"
            ],
            [
             0.5555555555555556,
             "#d8576b"
            ],
            [
             0.6666666666666666,
             "#ed7953"
            ],
            [
             0.7777777777777778,
             "#fb9f3a"
            ],
            [
             0.8888888888888888,
             "#fdca26"
            ],
            [
             1,
             "#f0f921"
            ]
           ],
           "sequentialminus": [
            [
             0,
             "#0d0887"
            ],
            [
             0.1111111111111111,
             "#46039f"
            ],
            [
             0.2222222222222222,
             "#7201a8"
            ],
            [
             0.3333333333333333,
             "#9c179e"
            ],
            [
             0.4444444444444444,
             "#bd3786"
            ],
            [
             0.5555555555555556,
             "#d8576b"
            ],
            [
             0.6666666666666666,
             "#ed7953"
            ],
            [
             0.7777777777777778,
             "#fb9f3a"
            ],
            [
             0.8888888888888888,
             "#fdca26"
            ],
            [
             1,
             "#f0f921"
            ]
           ]
          },
          "colorway": [
           "#636efa",
           "#EF553B",
           "#00cc96",
           "#ab63fa",
           "#FFA15A",
           "#19d3f3",
           "#FF6692",
           "#B6E880",
           "#FF97FF",
           "#FECB52"
          ],
          "font": {
           "color": "#2a3f5f"
          },
          "geo": {
           "bgcolor": "white",
           "lakecolor": "white",
           "landcolor": "#E5ECF6",
           "showlakes": true,
           "showland": true,
           "subunitcolor": "white"
          },
          "hoverlabel": {
           "align": "left"
          },
          "hovermode": "closest",
          "mapbox": {
           "style": "light"
          },
          "paper_bgcolor": "white",
          "plot_bgcolor": "#E5ECF6",
          "polar": {
           "angularaxis": {
            "gridcolor": "white",
            "linecolor": "white",
            "ticks": ""
           },
           "bgcolor": "#E5ECF6",
           "radialaxis": {
            "gridcolor": "white",
            "linecolor": "white",
            "ticks": ""
           }
          },
          "scene": {
           "xaxis": {
            "backgroundcolor": "#E5ECF6",
            "gridcolor": "white",
            "gridwidth": 2,
            "linecolor": "white",
            "showbackground": true,
            "ticks": "",
            "zerolinecolor": "white"
           },
           "yaxis": {
            "backgroundcolor": "#E5ECF6",
            "gridcolor": "white",
            "gridwidth": 2,
            "linecolor": "white",
            "showbackground": true,
            "ticks": "",
            "zerolinecolor": "white"
           },
           "zaxis": {
            "backgroundcolor": "#E5ECF6",
            "gridcolor": "white",
            "gridwidth": 2,
            "linecolor": "white",
            "showbackground": true,
            "ticks": "",
            "zerolinecolor": "white"
           }
          },
          "shapedefaults": {
           "line": {
            "color": "#2a3f5f"
           }
          },
          "ternary": {
           "aaxis": {
            "gridcolor": "white",
            "linecolor": "white",
            "ticks": ""
           },
           "baxis": {
            "gridcolor": "white",
            "linecolor": "white",
            "ticks": ""
           },
           "bgcolor": "#E5ECF6",
           "caxis": {
            "gridcolor": "white",
            "linecolor": "white",
            "ticks": ""
           }
          },
          "title": {
           "x": 0.05
          },
          "xaxis": {
           "automargin": true,
           "gridcolor": "white",
           "linecolor": "white",
           "ticks": "",
           "title": {
            "standoff": 15
           },
           "zerolinecolor": "white",
           "zerolinewidth": 2
          },
          "yaxis": {
           "automargin": true,
           "gridcolor": "white",
           "linecolor": "white",
           "ticks": "",
           "title": {
            "standoff": 15
           },
           "zerolinecolor": "white",
           "zerolinewidth": 2
          }
         }
        },
        "title": {
         "text": "Total de Feed por año para los cinco continentes"
        },
        "xaxis": {
         "anchor": "y",
         "domain": [
          0,
          1
         ],
         "title": {
          "text": "Año"
         }
        },
        "yaxis": {
         "anchor": "x",
         "domain": [
          0,
          1
         ],
         "title": {
          "text": "Total de Feed"
         }
        }
       }
      }
     },
     "metadata": {},
     "output_type": "display_data"
    }
   ],
   "source": [
    "agregado = soy.groupby(['Year', 'Entity'])['Feed'].sum().unstack()\n",
    "\n",
    "top_continents = soy.groupby('Entity')['Feed'].sum().nlargest(5).index\n",
    "\n",
    "# Filtrar los datos para incluir solo los continentes seleccionados\n",
    "df_top_continents = soy[soy['Entity'].isin(top_continents)]\n",
    "\n",
    "# Agrupar los datos filtrados por 'Year' y 'Entity' y sumar el 'Feed'\n",
    "agregado = df_top_continents.groupby(['Year', 'Entity'])['Feed'].sum().unstack()\n",
    "\n",
    "# Crear subplots con una sola fila y una columna\n",
    "fig = make_subplots(rows=1, cols=1)\n",
    "\n",
    "# Añadir las barras apiladas al subplot\n",
    "for continente in agregado.columns:\n",
    "    fig.add_trace(go.Bar(x=agregado.index, y=agregado[continente], name=continente), 1, 1)\n",
    "\n",
    "# Establecer el título y las etiquetas de los ejes\n",
    "fig.update_layout(title='Total de Feed por año para los cinco continentes',\n",
    "                  xaxis_title='Año',\n",
    "                  yaxis_title='Total de Feed')\n",
    "\n",
    "# Mostrar el gráfico\n",
    "fig.show()"
   ]
  },
  {
   "cell_type": "code",
   "execution_count": 5,
   "metadata": {},
   "outputs": [
    {
     "name": "stderr",
     "output_type": "stream",
     "text": [
      "No artists with labels found to put in legend.  Note that artists whose label start with an underscore are ignored when legend() is called with no argument.\n"
     ]
    },
    {
     "data": {
      "image/png": "[encoded data removed]",
      "text/plain": [
       "<Figure size 1300x600 with 1 Axes>"
      ]
     },
     "metadata": {},
     "output_type": "display_data"
    }
   ],
   "source": [
    "# Calcular la suma de las emisiones de alimentos para cada entidad\n",
    "fod['Total_Food_Emissions'] = fod.iloc[:, 2:9].sum(axis=1)\n",
    "\n",
    "df_sorted = fod.sort_values('Total_Food_Emissions', ascending=True)\n",
    "\n",
    "colors = sns.color_palette('pastel')\n",
    "\n",
    "# Crear el gráfico de barras horizontales\n",
    "plt.figure(figsize=(13, 6))\n",
    "plt.barh(df_sorted['Entity'], df_sorted['Total_Food_Emissions'], color=colors, height=0.85)\n",
    "plt.xlabel('Total de Emisiones de Alimentos')\n",
    "plt.ylabel('Entidad')\n",
    "plt.title('Suma de Emisiones de Alimentos por Entidad')\n",
    "\n",
    "plt.legend(loc='upper right', labelspacing=2, prop={'size': 10})\n",
    "\n",
    "plt.rcParams['font.family'] = 'Georgia'\n",
    "\n",
    "plt.show()"
   ]
  },
  {
   "cell_type": "code",
   "execution_count": 6,
   "metadata": {},
   "outputs": [
    {
     "data": {
      "image/png": "[encoded data removed]",
      "text/plain": [
       "<Figure size 1600x800 with 1 Axes>"
      ]
     },
     "metadata": {},
     "output_type": "display_data"
    }
   ],
   "source": [
    "# Crear el gráfico de barras horizontales\n",
    "\n",
    "df_cleaned = fod.dropna(subset=['Water_l_kg'])\n",
    "\n",
    "df_sorted = df_cleaned.sort_values('Water_l_kg', ascending=True)\n",
    "\n",
    "colors = ['lightblue', 'lightgreen', 'lightpink', 'lightyellow', 'lavender']\n",
    "\n",
    "plt.figure(figsize=(16, 8))\n",
    "bars = plt.barh(df_sorted['Entity'], df_sorted['Water_l_kg'], color=colors)\n",
    "# Añadir etiquetas a las barras\n",
    "for bar in bars:\n",
    "    width = bar.get_width()\n",
    "    plt.text(width, bar.get_y() + bar.get_height() / 2, '{:.2f}'.format(width),\n",
    "             ha='left', va='center', color='black', fontsize=12)\n",
    "\n",
    "# Añadir título y etiquetas de los ejes\n",
    "plt.title('Total de agua gastada por entidad')\n",
    "plt.xlabel('Agua (litros)')\n",
    "plt.ylabel('Entidad')\n",
    "\n",
    "# Ajustar el espaciado de las etiquetas en el eje y\n",
    "plt.subplots_adjust(left=0.25)\n",
    "\n",
    "# Mostrar el gráfico\n",
    "plt.show()"
   ]
  },
  {
   "cell_type": "code",
   "execution_count": 7,
   "metadata": {},
   "outputs": [
    {
     "data": {
      "application/vnd.plotly.v1+json": {
       "config": {
        "plotlyServerURL": "https://plot.ly"
       },
       "data": [
        {
         "alignmentgroup": "True",
         "hovertemplate": "Entity=%{y}<br>Water_l_kg=%{x}<extra></extra>",
         "legendgroup": "Cassava",
         "marker": {
          "color": "lightblue",
          "pattern": {
           "shape": ""
          }
         },
         "name": "Cassava",
         "offsetgroup": "Cassava",
         "orientation": "h",
         "showlegend": true,
         "textposition": "outside",
         "texttemplate": "%{x:.2f}",
         "type": "bar",
         "x": [
          0
         ],
         "xaxis": "x",
         "y": [
          "Cassava"
         ],
         "yaxis": "y"
        },
        {
         "alignmentgroup": "True",
         "hovertemplate": "Entity=%{y}<br>Water_l_kg=%{x}<extra></extra>",
         "legendgroup": "Onions & Leeks",
         "marker": {
          "color": "lightgreen",
          "pattern": {
           "shape": ""
          }
         },
         "name": "Onions & Leeks",
         "offsetgroup": "Onions & Leeks",
         "orientation": "h",
         "showlegend": true,
         "textposition": "outside",
         "texttemplate": "%{x:.2f}",
         "type": "bar",
         "x": [
          14.3
         ],
         "xaxis": "x",
         "y": [
          "Onions & Leeks"
         ],
         "yaxis": "y"
        },
        {
         "alignmentgroup": "True",
         "hovertemplate": "Entity=%{y}<br>Water_l_kg=%{x}<extra></extra>",
         "legendgroup": "Barley",
         "marker": {
          "color": "lightpink",
          "pattern": {
           "shape": ""
          }
         },
         "name": "Barley",
         "offsetgroup": "Barley",
         "orientation": "h",
         "showlegend": true,
         "textposition": "outside",
         "texttemplate": "%{x:.2f}",
         "type": "bar",
         "x": [
          17.1
         ],
         "xaxis": "x",
         "y": [
          "Barley"
         ],
         "yaxis": "y"
        },
        {
         "alignmentgroup": "True",
         "hovertemplate": "Entity=%{y}<br>Water_l_kg=%{x}<extra></extra>",
         "legendgroup": "Coffee",
         "marker": {
          "color": "lightyellow",
          "pattern": {
           "shape": ""
          }
         },
         "name": "Coffee",
         "offsetgroup": "Coffee",
         "orientation": "h",
         "showlegend": true,
         "textposition": "outside",
         "texttemplate": "%{x:.2f}",
         "type": "bar",
         "x": [
          25.9
         ],
         "xaxis": "x",
         "y": [
          "Coffee"
         ],
         "yaxis": "y"
        },
        {
         "alignmentgroup": "True",
         "hovertemplate": "Entity=%{y}<br>Water_l_kg=%{x}<extra></extra>",
         "legendgroup": "Soy milk",
         "marker": {
          "color": "lavender",
          "pattern": {
           "shape": ""
          }
         },
         "name": "Soy milk",
         "offsetgroup": "Soy milk",
         "orientation": "h",
         "showlegend": true,
         "textposition": "outside",
         "texttemplate": "%{x:.2f}",
         "type": "bar",
         "x": [
          27.8
         ],
         "xaxis": "x",
         "y": [
          "Soy milk"
         ],
         "yaxis": "y"
        },
        {
         "alignmentgroup": "True",
         "hovertemplate": "Entity=%{y}<br>Water_l_kg=%{x}<extra></extra>",
         "legendgroup": "Root Vegetables",
         "marker": {
          "color": "lightblue",
          "pattern": {
           "shape": ""
          }
         },
         "name": "Root Vegetables",
         "offsetgroup": "Root Vegetables",
         "orientation": "h",
         "showlegend": true,
         "textposition": "outside",
         "texttemplate": "%{x:.2f}",
         "type": "bar",
         "x": [
          28.4
         ],
         "xaxis": "x",
         "y": [
          "Root Vegetables"
         ],
         "yaxis": "y"
        },
        {
         "alignmentgroup": "True",
         "hovertemplate": "Entity=%{y}<br>Water_l_kg=%{x}<extra></extra>",
         "legendgroup": "Potatoes",
         "marker": {
          "color": "lightgreen",
          "pattern": {
           "shape": ""
          }
         },
         "name": "Potatoes",
         "offsetgroup": "Potatoes",
         "orientation": "h",
         "showlegend": true,
         "textposition": "outside",
         "texttemplate": "%{x:.2f}",
         "type": "bar",
         "x": [
          59.1
         ],
         "xaxis": "x",
         "y": [
          "Potatoes"
         ],
         "yaxis": "y"
        },
        {
         "alignmentgroup": "True",
         "hovertemplate": "Entity=%{y}<br>Water_l_kg=%{x}<extra></extra>",
         "legendgroup": "Wine",
         "marker": {
          "color": "lightpink",
          "pattern": {
           "shape": ""
          }
         },
         "name": "Wine",
         "offsetgroup": "Wine",
         "orientation": "h",
         "showlegend": true,
         "textposition": "outside",
         "texttemplate": "%{x:.2f}",
         "type": "bar",
         "x": [
          78.9
         ],
         "xaxis": "x",
         "y": [
          "Wine"
         ],
         "yaxis": "y"
        },
        {
         "alignmentgroup": "True",
         "hovertemplate": "Entity=%{y}<br>Water_l_kg=%{x}<extra></extra>",
         "legendgroup": "Citrus Fruit",
         "marker": {
          "color": "lightyellow",
          "pattern": {
           "shape": ""
          }
         },
         "name": "Citrus Fruit",
         "offsetgroup": "Citrus Fruit",
         "orientation": "h",
         "showlegend": true,
         "textposition": "outside",
         "texttemplate": "%{x:.2f}",
         "type": "bar",
         "x": [
          82.7
         ],
         "xaxis": "x",
         "y": [
          "Citrus Fruit"
         ],
         "yaxis": "y"
        },
        {
         "alignmentgroup": "True",
         "hovertemplate": "Entity=%{y}<br>Water_l_kg=%{x}<extra></extra>",
         "legendgroup": "Other Vegetables",
         "marker": {
          "color": "lavender",
          "pattern": {
           "shape": ""
          }
         },
         "name": "Other Vegetables",
         "offsetgroup": "Other Vegetables",
         "orientation": "h",
         "showlegend": true,
         "textposition": "outside",
         "texttemplate": "%{x:.2f}",
         "type": "bar",
         "x": [
          102.5
         ],
         "xaxis": "x",
         "y": [
          "Other Vegetables"
         ],
         "yaxis": "y"
        },
        {
         "alignmentgroup": "True",
         "hovertemplate": "Entity=%{y}<br>Water_l_kg=%{x}<extra></extra>",
         "legendgroup": "Bananas",
         "marker": {
          "color": "lightblue",
          "pattern": {
           "shape": ""
          }
         },
         "name": "Bananas",
         "offsetgroup": "Bananas",
         "orientation": "h",
         "showlegend": true,
         "textposition": "outside",
         "texttemplate": "%{x:.2f}",
         "type": "bar",
         "x": [
          114.5
         ],
         "xaxis": "x",
         "y": [
          "Bananas"
         ],
         "yaxis": "y"
        },
        {
         "alignmentgroup": "True",
         "hovertemplate": "Entity=%{y}<br>Water_l_kg=%{x}<extra></extra>",
         "legendgroup": "Brassicas",
         "marker": {
          "color": "lightgreen",
          "pattern": {
           "shape": ""
          }
         },
         "name": "Brassicas",
         "offsetgroup": "Brassicas",
         "orientation": "h",
         "showlegend": true,
         "textposition": "outside",
         "texttemplate": "%{x:.2f}",
         "type": "bar",
         "x": [
          119.4
         ],
         "xaxis": "x",
         "y": [
          "Brassicas"
         ],
         "yaxis": "y"
        },
        {
         "alignmentgroup": "True",
         "hovertemplate": "Entity=%{y}<br>Water_l_kg=%{x}<extra></extra>",
         "legendgroup": "Tofu",
         "marker": {
          "color": "lightpink",
          "pattern": {
           "shape": ""
          }
         },
         "name": "Tofu",
         "offsetgroup": "Tofu",
         "orientation": "h",
         "showlegend": true,
         "textposition": "outside",
         "texttemplate": "%{x:.2f}",
         "type": "bar",
         "x": [
          148.6
         ],
         "xaxis": "x",
         "y": [
          "Tofu"
         ],
         "yaxis": "y"
        },
        {
         "alignmentgroup": "True",
         "hovertemplate": "Entity=%{y}<br>Water_l_kg=%{x}<extra></extra>",
         "legendgroup": "Other Fruit",
         "marker": {
          "color": "lightyellow",
          "pattern": {
           "shape": ""
          }
         },
         "name": "Other Fruit",
         "offsetgroup": "Other Fruit",
         "orientation": "h",
         "showlegend": true,
         "textposition": "outside",
         "texttemplate": "%{x:.2f}",
         "type": "bar",
         "x": [
          153.5
         ],
         "xaxis": "x",
         "y": [
          "Other Fruit"
         ],
         "yaxis": "y"
        },
        {
         "alignmentgroup": "True",
         "hovertemplate": "Entity=%{y}<br>Water_l_kg=%{x}<extra></extra>",
         "legendgroup": "Apples",
         "marker": {
          "color": "lavender",
          "pattern": {
           "shape": ""
          }
         },
         "name": "Apples",
         "offsetgroup": "Apples",
         "orientation": "h",
         "showlegend": true,
         "textposition": "outside",
         "texttemplate": "%{x:.2f}",
         "type": "bar",
         "x": [
          180.1
         ],
         "xaxis": "x",
         "y": [
          "Apples"
         ],
         "yaxis": "y"
        },
        {
         "alignmentgroup": "True",
         "hovertemplate": "Entity=%{y}<br>Water_l_kg=%{x}<extra></extra>",
         "legendgroup": "Maize",
         "marker": {
          "color": "lightblue",
          "pattern": {
           "shape": ""
          }
         },
         "name": "Maize",
         "offsetgroup": "Maize",
         "orientation": "h",
         "showlegend": true,
         "textposition": "outside",
         "texttemplate": "%{x:.2f}",
         "type": "bar",
         "x": [
          215.7
         ],
         "xaxis": "x",
         "y": [
          "Maize"
         ],
         "yaxis": "y"
        },
        {
         "alignmentgroup": "True",
         "hovertemplate": "Entity=%{y}<br>Water_l_kg=%{x}<extra></extra>",
         "legendgroup": "Beet Sugar",
         "marker": {
          "color": "lightgreen",
          "pattern": {
           "shape": ""
          }
         },
         "name": "Beet Sugar",
         "offsetgroup": "Beet Sugar",
         "orientation": "h",
         "showlegend": true,
         "textposition": "outside",
         "texttemplate": "%{x:.2f}",
         "type": "bar",
         "x": [
          217.7
         ],
         "xaxis": "x",
         "y": [
          "Beet Sugar"
         ],
         "yaxis": "y"
        },
        {
         "alignmentgroup": "True",
         "hovertemplate": "Entity=%{y}<br>Water_l_kg=%{x}<extra></extra>",
         "legendgroup": "Shrimps (farmed)",
         "marker": {
          "color": "lightpink",
          "pattern": {
           "shape": ""
          }
         },
         "name": "Shrimps (farmed)",
         "offsetgroup": "Shrimps (farmed)",
         "orientation": "h",
         "showlegend": true,
         "textposition": "outside",
         "texttemplate": "%{x:.2f}",
         "type": "bar",
         "x": [
          220
         ],
         "xaxis": "x",
         "y": [
          "Shrimps (farmed)"
         ],
         "yaxis": "y"
        },
        {
         "alignmentgroup": "True",
         "hovertemplate": "Entity=%{y}<br>Water_l_kg=%{x}<extra></extra>",
         "legendgroup": "Tomatoes",
         "marker": {
          "color": "lightyellow",
          "pattern": {
           "shape": ""
          }
         },
         "name": "Tomatoes",
         "offsetgroup": "Tomatoes",
         "orientation": "h",
         "showlegend": true,
         "textposition": "outside",
         "texttemplate": "%{x:.2f}",
         "type": "bar",
         "x": [
          369.8
         ],
         "xaxis": "x",
         "y": [
          "Tomatoes"
         ],
         "yaxis": "y"
        },
        {
         "alignmentgroup": "True",
         "hovertemplate": "Entity=%{y}<br>Water_l_kg=%{x}<extra></extra>",
         "legendgroup": "Peas",
         "marker": {
          "color": "lavender",
          "pattern": {
           "shape": ""
          }
         },
         "name": "Peas",
         "offsetgroup": "Peas",
         "orientation": "h",
         "showlegend": true,
         "textposition": "outside",
         "texttemplate": "%{x:.2f}",
         "type": "bar",
         "x": [
          396.6
         ],
         "xaxis": "x",
         "y": [
          "Peas"
         ],
         "yaxis": "y"
        },
        {
         "alignmentgroup": "True",
         "hovertemplate": "Entity=%{y}<br>Water_l_kg=%{x}<extra></extra>",
         "legendgroup": "Berries & Grapes",
         "marker": {
          "color": "lightblue",
          "pattern": {
           "shape": ""
          }
         },
         "name": "Berries & Grapes",
         "offsetgroup": "Berries & Grapes",
         "orientation": "h",
         "showlegend": true,
         "textposition": "outside",
         "texttemplate": "%{x:.2f}",
         "type": "bar",
         "x": [
          419.6
         ],
         "xaxis": "x",
         "y": [
          "Berries & Grapes"
         ],
         "yaxis": "y"
        },
        {
         "alignmentgroup": "True",
         "hovertemplate": "Entity=%{y}<br>Water_l_kg=%{x}<extra></extra>",
         "legendgroup": "Other Pulses",
         "marker": {
          "color": "lightgreen",
          "pattern": {
           "shape": ""
          }
         },
         "name": "Other Pulses",
         "offsetgroup": "Other Pulses",
         "orientation": "h",
         "showlegend": true,
         "textposition": "outside",
         "texttemplate": "%{x:.2f}",
         "type": "bar",
         "x": [
          435.7
         ],
         "xaxis": "x",
         "y": [
          "Other Pulses"
         ],
         "yaxis": "y"
        },
        {
         "alignmentgroup": "True",
         "hovertemplate": "Entity=%{y}<br>Water_l_kg=%{x}<extra></extra>",
         "legendgroup": "Oatmeal",
         "marker": {
          "color": "lightpink",
          "pattern": {
           "shape": ""
          }
         },
         "name": "Oatmeal",
         "offsetgroup": "Oatmeal",
         "orientation": "h",
         "showlegend": true,
         "textposition": "outside",
         "texttemplate": "%{x:.2f}",
         "type": "bar",
         "x": [
          482.4
         ],
         "xaxis": "x",
         "y": [
          "Oatmeal"
         ],
         "yaxis": "y"
        },
        {
         "alignmentgroup": "True",
         "hovertemplate": "Entity=%{y}<br>Water_l_kg=%{x}<extra></extra>",
         "legendgroup": "Dark Chocolate",
         "marker": {
          "color": "lightyellow",
          "pattern": {
           "shape": ""
          }
         },
         "name": "Dark Chocolate",
         "offsetgroup": "Dark Chocolate",
         "orientation": "h",
         "showlegend": true,
         "textposition": "outside",
         "texttemplate": "%{x:.2f}",
         "type": "bar",
         "x": [
          540.6
         ],
         "xaxis": "x",
         "y": [
          "Dark Chocolate"
         ],
         "yaxis": "y"
        },
        {
         "alignmentgroup": "True",
         "hovertemplate": "Entity=%{y}<br>Water_l_kg=%{x}<extra></extra>",
         "legendgroup": "Eggs",
         "marker": {
          "color": "lavender",
          "pattern": {
           "shape": ""
          }
         },
         "name": "Eggs",
         "offsetgroup": "Eggs",
         "orientation": "h",
         "showlegend": true,
         "textposition": "outside",
         "texttemplate": "%{x:.2f}",
         "type": "bar",
         "x": [
          577.7
         ],
         "xaxis": "x",
         "y": [
          "Eggs"
         ],
         "yaxis": "y"
        },
        {
         "alignmentgroup": "True",
         "hovertemplate": "Entity=%{y}<br>Water_l_kg=%{x}<extra></extra>",
         "legendgroup": "Cane Sugar",
         "marker": {
          "color": "lightblue",
          "pattern": {
           "shape": ""
          }
         },
         "name": "Cane Sugar",
         "offsetgroup": "Cane Sugar",
         "orientation": "h",
         "showlegend": true,
         "textposition": "outside",
         "texttemplate": "%{x:.2f}",
         "type": "bar",
         "x": [
          620.1
         ],
         "xaxis": "x",
         "y": [
          "Cane Sugar"
         ],
         "yaxis": "y"
        },
        {
         "alignmentgroup": "True",
         "hovertemplate": "Entity=%{y}<br>Water_l_kg=%{x}<extra></extra>",
         "legendgroup": "Milk",
         "marker": {
          "color": "lightgreen",
          "pattern": {
           "shape": ""
          }
         },
         "name": "Milk",
         "offsetgroup": "Milk",
         "orientation": "h",
         "showlegend": true,
         "textposition": "outside",
         "texttemplate": "%{x:.2f}",
         "type": "bar",
         "x": [
          628.2
         ],
         "xaxis": "x",
         "y": [
          "Milk"
         ],
         "yaxis": "y"
        },
        {
         "alignmentgroup": "True",
         "hovertemplate": "Entity=%{y}<br>Water_l_kg=%{x}<extra></extra>",
         "legendgroup": "Wheat & Rye",
         "marker": {
          "color": "lightpink",
          "pattern": {
           "shape": ""
          }
         },
         "name": "Wheat & Rye",
         "offsetgroup": "Wheat & Rye",
         "orientation": "h",
         "showlegend": true,
         "textposition": "outside",
         "texttemplate": "%{x:.2f}",
         "type": "bar",
         "x": [
          647.5
         ],
         "xaxis": "x",
         "y": [
          "Wheat & Rye"
         ],
         "yaxis": "y"
        },
        {
         "alignmentgroup": "True",
         "hovertemplate": "Entity=%{y}<br>Water_l_kg=%{x}<extra></extra>",
         "legendgroup": "Poultry Meat",
         "marker": {
          "color": "lightyellow",
          "pattern": {
           "shape": ""
          }
         },
         "name": "Poultry Meat",
         "offsetgroup": "Poultry Meat",
         "orientation": "h",
         "showlegend": true,
         "textposition": "outside",
         "texttemplate": "%{x:.2f}",
         "type": "bar",
         "x": [
          660
         ],
         "xaxis": "x",
         "y": [
          "Poultry Meat"
         ],
         "yaxis": "y"
        },
        {
         "alignmentgroup": "True",
         "hovertemplate": "Entity=%{y}<br>Water_l_kg=%{x}<extra></extra>",
         "legendgroup": "Beef meat",
         "marker": {
          "color": "lavender",
          "pattern": {
           "shape": ""
          }
         },
         "name": "Beef meat",
         "offsetgroup": "Beef meat",
         "orientation": "h",
         "showlegend": true,
         "textposition": "outside",
         "texttemplate": "%{x:.2f}",
         "type": "bar",
         "x": [
          1451.2
         ],
         "xaxis": "x",
         "y": [
          "Beef meat"
         ],
         "yaxis": "y"
        },
        {
         "alignmentgroup": "True",
         "hovertemplate": "Entity=%{y}<br>Water_l_kg=%{x}<extra></extra>",
         "legendgroup": "Pig Meat",
         "marker": {
          "color": "lightblue",
          "pattern": {
           "shape": ""
          }
         },
         "name": "Pig Meat",
         "offsetgroup": "Pig Meat",
         "orientation": "h",
         "showlegend": true,
         "textposition": "outside",
         "texttemplate": "%{x:.2f}",
         "type": "bar",
         "x": [
          1795.8
         ],
         "xaxis": "x",
         "y": [
          "Pig Meat"
         ],
         "yaxis": "y"
        },
        {
         "alignmentgroup": "True",
         "hovertemplate": "Entity=%{y}<br>Water_l_kg=%{x}<extra></extra>",
         "legendgroup": "Lamb",
         "marker": {
          "color": "lightgreen",
          "pattern": {
           "shape": ""
          }
         },
         "name": "Lamb",
         "offsetgroup": "Lamb",
         "orientation": "h",
         "showlegend": true,
         "textposition": "outside",
         "texttemplate": "%{x:.2f}",
         "type": "bar",
         "x": [
          1802.8
         ],
         "xaxis": "x",
         "y": [
          "Lamb"
         ],
         "yaxis": "y"
        },
        {
         "alignmentgroup": "True",
         "hovertemplate": "Entity=%{y}<br>Water_l_kg=%{x}<extra></extra>",
         "legendgroup": "Groundnuts",
         "marker": {
          "color": "lightpink",
          "pattern": {
           "shape": ""
          }
         },
         "name": "Groundnuts",
         "offsetgroup": "Groundnuts",
         "orientation": "h",
         "showlegend": true,
         "textposition": "outside",
         "texttemplate": "%{x:.2f}",
         "type": "bar",
         "x": [
          1852.3
         ],
         "xaxis": "x",
         "y": [
          "Groundnuts"
         ],
         "yaxis": "y"
        },
        {
         "alignmentgroup": "True",
         "hovertemplate": "Entity=%{y}<br>Water_l_kg=%{x}<extra></extra>",
         "legendgroup": "Rice",
         "marker": {
          "color": "lightyellow",
          "pattern": {
           "shape": ""
          }
         },
         "name": "Rice",
         "offsetgroup": "Rice",
         "orientation": "h",
         "showlegend": true,
         "textposition": "outside",
         "texttemplate": "%{x:.2f}",
         "type": "bar",
         "x": [
          2248.4
         ],
         "xaxis": "x",
         "y": [
          "Rice"
         ],
         "yaxis": "y"
        },
        {
         "alignmentgroup": "True",
         "hovertemplate": "Entity=%{y}<br>Water_l_kg=%{x}<extra></extra>",
         "legendgroup": "Beef milk",
         "marker": {
          "color": "lavender",
          "pattern": {
           "shape": ""
          }
         },
         "name": "Beef milk",
         "offsetgroup": "Beef milk",
         "orientation": "h",
         "showlegend": true,
         "textposition": "outside",
         "texttemplate": "%{x:.2f}",
         "type": "bar",
         "x": [
          2714.3
         ],
         "xaxis": "x",
         "y": [
          "Beef milk"
         ],
         "yaxis": "y"
        },
        {
         "alignmentgroup": "True",
         "hovertemplate": "Entity=%{y}<br>Water_l_kg=%{x}<extra></extra>",
         "legendgroup": "Fish (farmed)",
         "marker": {
          "color": "lightblue",
          "pattern": {
           "shape": ""
          }
         },
         "name": "Fish (farmed)",
         "offsetgroup": "Fish (farmed)",
         "orientation": "h",
         "showlegend": true,
         "textposition": "outside",
         "texttemplate": "%{x:.2f}",
         "type": "bar",
         "x": [
          3691.3
         ],
         "xaxis": "x",
         "y": [
          "Fish (farmed)"
         ],
         "yaxis": "y"
        },
        {
         "alignmentgroup": "True",
         "hovertemplate": "Entity=%{y}<br>Water_l_kg=%{x}<extra></extra>",
         "legendgroup": "Nuts",
         "marker": {
          "color": "lightgreen",
          "pattern": {
           "shape": ""
          }
         },
         "name": "Nuts",
         "offsetgroup": "Nuts",
         "orientation": "h",
         "showlegend": true,
         "textposition": "outside",
         "texttemplate": "%{x:.2f}",
         "type": "bar",
         "x": [
          4133.8
         ],
         "xaxis": "x",
         "y": [
          "Nuts"
         ],
         "yaxis": "y"
        },
        {
         "alignmentgroup": "True",
         "hovertemplate": "Entity=%{y}<br>Water_l_kg=%{x}<extra></extra>",
         "legendgroup": "Cheese",
         "marker": {
          "color": "lightpink",
          "pattern": {
           "shape": ""
          }
         },
         "name": "Cheese",
         "offsetgroup": "Cheese",
         "orientation": "h",
         "showlegend": true,
         "textposition": "outside",
         "texttemplate": "%{x:.2f}",
         "type": "bar",
         "x": [
          5605.2
         ],
         "xaxis": "x",
         "y": [
          "Cheese"
         ],
         "yaxis": "y"
        }
       ],
       "layout": {
        "barmode": "relative",
        "legend": {
         "title": {
          "text": "Entity"
         },
         "tracegroupgap": 0
        },
        "margin": {
         "t": 60
        },
        "template": {
         "data": {
          "bar": [
           {
            "error_x": {
             "color": "#2a3f5f"
            },
            "error_y": {
             "color": "#2a3f5f"
            },
            "marker": {
             "line": {
              "color": "#E5ECF6",
              "width": 0.5
             },
             "pattern": {
              "fillmode": "overlay",
              "size": 10,
              "solidity": 0.2
             }
            },
            "type": "bar"
           }
          ],
          "barpolar": [
           {
            "marker": {
             "line": {
              "color": "#E5ECF6",
              "width": 0.5
             },
             "pattern": {
              "fillmode": "overlay",
              "size": 10,
              "solidity": 0.2
             }
            },
            "type": "barpolar"
           }
          ],
          "carpet": [
           {
            "aaxis": {
             "endlinecolor": "#2a3f5f",
             "gridcolor": "white",
             "linecolor": "white",
             "minorgridcolor": "white",
             "startlinecolor": "#2a3f5f"
            },
            "baxis": {
             "endlinecolor": "#2a3f5f",
             "gridcolor": "white",
             "linecolor": "white",
             "minorgridcolor": "white",
             "startlinecolor": "#2a3f5f"
            },
            "type": "carpet"
           }
          ],
          "choropleth": [
           {
            "colorbar": {
             "outlinewidth": 0,
             "ticks": ""
            },
            "type": "choropleth"
           }
          ],
          "contour": [
           {
            "colorbar": {
             "outlinewidth": 0,
             "ticks": ""
            },
            "colorscale": [
             [
              0,
              "#0d0887"
             ],
             [
              0.1111111111111111,
              "#46039f"
             ],
             [
              0.2222222222222222,
              "#7201a8"
             ],
             [
              0.3333333333333333,
              "#9c179e"
             ],
             [
              0.4444444444444444,
              "#bd3786"
             ],
             [
              0.5555555555555556,
              "#d8576b"
             ],
             [
              0.6666666666666666,
              "#ed7953"
             ],
             [
              0.7777777777777778,
              "#fb9f3a"
             ],
             [
              0.8888888888888888,
              "#fdca26"
             ],
             [
              1,
              "#f0f921"
             ]
            ],
            "type": "contour"
           }
          ],
          "contourcarpet": [
           {
            "colorbar": {
             "outlinewidth": 0,
             "ticks": ""
            },
            "type": "contourcarpet"
           }
          ],
          "heatmap": [
           {
            "colorbar": {
             "outlinewidth": 0,
             "ticks": ""
            },
            "colorscale": [
             [
              0,
              "#0d0887"
             ],
             [
              0.1111111111111111,
              "#46039f"
             ],
             [
              0.2222222222222222,
              "#7201a8"
             ],
             [
              0.3333333333333333,
              "#9c179e"
             ],
             [
              0.4444444444444444,
              "#bd3786"
             ],
             [
              0.5555555555555556,
              "#d8576b"
             ],
             [
              0.6666666666666666,
              "#ed7953"
             ],
             [
              0.7777777777777778,
              "#fb9f3a"
             ],
             [
              0.8888888888888888,
              "#fdca26"
             ],
             [
              1,
              "#f0f921"
             ]
            ],
            "type": "heatmap"
           }
          ],
          "heatmapgl": [
           {
            "colorbar": {
             "outlinewidth": 0,
             "ticks": ""
            },
            "colorscale": [
             [
              0,
              "#0d0887"
             ],
             [
              0.1111111111111111,
              "#46039f"
             ],
             [
              0.2222222222222222,
              "#7201a8"
             ],
             [
              0.3333333333333333,
              "#9c179e"
             ],
             [
              0.4444444444444444,
              "#bd3786"
             ],
             [
              0.5555555555555556,
              "#d8576b"
             ],
             [
              0.6666666666666666,
              "#ed7953"
             ],
             [
              0.7777777777777778,
              "#fb9f3a"
             ],
             [
              0.8888888888888888,
              "#fdca26"
             ],
             [
              1,
              "#f0f921"
             ]
            ],
            "type": "heatmapgl"
           }
          ],
          "histogram": [
           {
            "marker": {
             "pattern": {
              "fillmode": "overlay",
              "size": 10,
              "solidity": 0.2
             }
            },
            "type": "histogram"
           }
          ],
          "histogram2d": [
           {
            "colorbar": {
             "outlinewidth": 0,
             "ticks": ""
            },
            "colorscale": [
             [
              0,
              "#0d0887"
             ],
             [
              0.1111111111111111,
              "#46039f"
             ],
             [
              0.2222222222222222,
              "#7201a8"
             ],
             [
              0.3333333333333333,
              "#9c179e"
             ],
             [
              0.4444444444444444,
              "#bd3786"
             ],
             [
              0.5555555555555556,
              "#d8576b"
             ],
             [
              0.6666666666666666,
              "#ed7953"
             ],
             [
              0.7777777777777778,
              "#fb9f3a"
             ],
             [
              0.8888888888888888,
              "#fdca26"
             ],
             [
              1,
              "#f0f921"
             ]
            ],
            "type": "histogram2d"
           }
          ],
          "histogram2dcontour": [
           {
            "colorbar": {
             "outlinewidth": 0,
             "ticks": ""
            },
            "colorscale": [
             [
              0,
              "#0d0887"
             ],
             [
              0.1111111111111111,
              "#46039f"
             ],
             [
              0.2222222222222222,
              "#7201a8"
             ],
             [
              0.3333333333333333,
              "#9c179e"
             ],
             [
              0.4444444444444444,
              "#bd3786"
             ],
             [
              0.5555555555555556,
              "#d8576b"
             ],
             [
              0.6666666666666666,
              "#ed7953"
             ],
             [
              0.7777777777777778,
              "#fb9f3a"
             ],
             [
              0.8888888888888888,
              "#fdca26"
             ],
             [
              1,
              "#f0f921"
             ]
            ],
            "type": "histogram2dcontour"
           }
          ],
          "mesh3d": [
           {
            "colorbar": {
             "outlinewidth": 0,
             "ticks": ""
            },
            "type": "mesh3d"
           }
          ],
          "parcoords": [
           {
            "line": {
             "colorbar": {
              "outlinewidth": 0,
              "ticks": ""
             }
            },
            "type": "parcoords"
           }
          ],
          "pie": [
           {
            "automargin": true,
            "type": "pie"
           }
          ],
          "scatter": [
           {
            "fillpattern": {
             "fillmode": "overlay",
             "size": 10,
             "solidity": 0.2
            },
            "type": "scatter"
           }
          ],
          "scatter3d": [
           {
            "line": {
             "colorbar": {
              "outlinewidth": 0,
              "ticks": ""
             }
            },
            "marker": {
             "colorbar": {
              "outlinewidth": 0,
              "ticks": ""
             }
            },
            "type": "scatter3d"
           }
          ],
          "scattercarpet": [
           {
            "marker": {
             "colorbar": {
              "outlinewidth": 0,
              "ticks": ""
             }
            },
            "type": "scattercarpet"
           }
          ],
          "scattergeo": [
           {
            "marker": {
             "colorbar": {
              "outlinewidth": 0,
              "ticks": ""
             }
            },
            "type": "scattergeo"
           }
          ],
          "scattergl": [
           {
            "marker": {
             "colorbar": {
              "outlinewidth": 0,
              "ticks": ""
             }
            },
            "type": "scattergl"
           }
          ],
          "scattermapbox": [
           {
            "marker": {
             "colorbar": {
              "outlinewidth": 0,
              "ticks": ""
             }
            },
            "type": "scattermapbox"
           }
          ],
          "scatterpolar": [
           {
            "marker": {
             "colorbar": {
              "outlinewidth": 0,
              "ticks": ""
             }
            },
            "type": "scatterpolar"
           }
          ],
          "scatterpolargl": [
           {
            "marker": {
             "colorbar": {
              "outlinewidth": 0,
              "ticks": ""
             }
            },
            "type": "scatterpolargl"
           }
          ],
          "scatterternary": [
           {
            "marker": {
             "colorbar": {
              "outlinewidth": 0,
              "ticks": ""
             }
            },
            "type": "scatterternary"
           }
          ],
          "surface": [
           {
            "colorbar": {
             "outlinewidth": 0,
             "ticks": ""
            },
            "colorscale": [
             [
              0,
              "#0d0887"
             ],
             [
              0.1111111111111111,
              "#46039f"
             ],
             [
              0.2222222222222222,
              "#7201a8"
             ],
             [
              0.3333333333333333,
              "#9c179e"
             ],
             [
              0.4444444444444444,
              "#bd3786"
             ],
             [
              0.5555555555555556,
              "#d8576b"
             ],
             [
              0.6666666666666666,
              "#ed7953"
             ],
             [
              0.7777777777777778,
              "#fb9f3a"
             ],
             [
              0.8888888888888888,
              "#fdca26"
             ],
             [
              1,
              "#f0f921"
             ]
            ],
            "type": "surface"
           }
          ],
          "table": [
           {
            "cells": {
             "fill": {
              "color": "#EBF0F8"
             },
             "line": {
              "color": "white"
             }
            },
            "header": {
             "fill": {
              "color": "#C8D4E3"
             },
             "line": {
              "color": "white"
             }
            },
            "type": "table"
           }
          ]
         },
         "layout": {
          "annotationdefaults": {
           "arrowcolor": "#2a3f5f",
           "arrowhead": 0,
           "arrowwidth": 1
          },
          "autotypenumbers": "strict",
          "coloraxis": {
           "colorbar": {
            "outlinewidth": 0,
            "ticks": ""
           }
          },
          "colorscale": {
           "diverging": [
            [
             0,
             "#8e0152"
            ],
            [
             0.1,
             "#c51b7d"
            ],
            [
             0.2,
             "#de77ae"
            ],
            [
             0.3,
             "#f1b6da"
            ],
            [
             0.4,
             "#fde0ef"
            ],
            [
             0.5,
             "#f7f7f7"
            ],
            [
             0.6,
             "#e6f5d0"
            ],
            [
             0.7,
             "#b8e186"
            ],
            [
             0.8,
             "#7fbc41"
            ],
            [
             0.9,
             "#4d9221"
            ],
            [
             1,
             "#276419"
            ]
           ],
           "sequential": [
            [
             0,
             "#0d0887"
            ],
            [
             0.1111111111111111,
             "#46039f"
            ],
            [
             0.2222222222222222,
             "#7201a8"
            ],
            [
             0.3333333333333333,
             "#9c179e"
            ],
            [
             0.4444444444444444,
             "#bd3786"
            ],
            [
             0.5555555555555556,
             "#d8576b"
            ],
            [
             0.6666666666666666,
             "#ed7953"
            ],
            [
             0.7777777777777778,
             "#fb9f3a"
            ],
            [
             0.8888888888888888,
             "#fdca26"
            ],
            [
             1,
             "#f0f921"
            ]
           ],
           "sequentialminus": [
            [
             0,
             "#0d0887"
            ],
            [
             0.1111111111111111,
             "#46039f"
            ],
            [
             0.2222222222222222,
             "#7201a8"
            ],
            [
             0.3333333333333333,
             "#9c179e"
            ],
            [
             0.4444444444444444,
             "#bd3786"
            ],
            [
             0.5555555555555556,
             "#d8576b"
            ],
            [
             0.6666666666666666,
             "#ed7953"
            ],
            [
             0.7777777777777778,
             "#fb9f3a"
            ],
            [
             0.8888888888888888,
             "#fdca26"
            ],
            [
             1,
             "#f0f921"
            ]
           ]
          },
          "colorway": [
           "#636efa",
           "#EF553B",
           "#00cc96",
           "#ab63fa",
           "#FFA15A",
           "#19d3f3",
           "#FF6692",
           "#B6E880",
           "#FF97FF",
           "#FECB52"
          ],
          "font": {
           "color": "#2a3f5f"
          },
          "geo": {
           "bgcolor": "white",
           "lakecolor": "white",
           "landcolor": "#E5ECF6",
           "showlakes": true,
           "showland": true,
           "subunitcolor": "white"
          },
          "hoverlabel": {
           "align": "left"
          },
          "hovermode": "closest",
          "mapbox": {
           "style": "light"
          },
          "paper_bgcolor": "white",
          "plot_bgcolor": "#E5ECF6",
          "polar": {
           "angularaxis": {
            "gridcolor": "white",
            "linecolor": "white",
            "ticks": ""
           },
           "bgcolor": "#E5ECF6",
           "radialaxis": {
            "gridcolor": "white",
            "linecolor": "white",
            "ticks": ""
           }
          },
          "scene": {
           "xaxis": {
            "backgroundcolor": "#E5ECF6",
            "gridcolor": "white",
            "gridwidth": 2,
            "linecolor": "white",
            "showbackground": true,
            "ticks": "",
            "zerolinecolor": "white"
           },
           "yaxis": {
            "backgroundcolor": "#E5ECF6",
            "gridcolor": "white",
            "gridwidth": 2,
            "linecolor": "white",
            "showbackground": true,
            "ticks": "",
            "zerolinecolor": "white"
           },
           "zaxis": {
            "backgroundcolor": "#E5ECF6",
            "gridcolor": "white",
            "gridwidth": 2,
            "linecolor": "white",
            "showbackground": true,
            "ticks": "",
            "zerolinecolor": "white"
           }
          },
          "shapedefaults": {
           "line": {
            "color": "#2a3f5f"
           }
          },
          "ternary": {
           "aaxis": {
            "gridcolor": "white",
            "linecolor": "white",
            "ticks": ""
           },
           "baxis": {
            "gridcolor": "white",
            "linecolor": "white",
            "ticks": ""
           },
           "bgcolor": "#E5ECF6",
           "caxis": {
            "gridcolor": "white",
            "linecolor": "white",
            "ticks": ""
           }
          },
          "title": {
           "x": 0.05
          },
          "xaxis": {
           "automargin": true,
           "gridcolor": "white",
           "linecolor": "white",
           "ticks": "",
           "title": {
            "standoff": 15
           },
           "zerolinecolor": "white",
           "zerolinewidth": 2
          },
          "yaxis": {
           "automargin": true,
           "gridcolor": "white",
           "linecolor": "white",
           "ticks": "",
           "title": {
            "standoff": 15
           },
           "zerolinecolor": "white",
           "zerolinewidth": 2
          }
         }
        },
        "title": {
         "text": "Total de agua gastada por entidad (Ordenado de mayor a menor)"
        },
        "xaxis": {
         "anchor": "y",
         "domain": [
          0,
          1
         ],
         "title": {
          "text": "Agua (litros)"
         }
        },
        "yaxis": {
         "anchor": "x",
         "automargin": true,
         "autorange": "reversed",
         "categoryarray": [
          "Cheese",
          "Nuts",
          "Fish (farmed)",
          "Beef milk",
          "Rice",
          "Groundnuts",
          "Lamb",
          "Pig Meat",
          "Beef meat",
          "Poultry Meat",
          "Wheat & Rye",
          "Milk",
          "Cane Sugar",
          "Eggs",
          "Dark Chocolate",
          "Oatmeal",
          "Other Pulses",
          "Berries & Grapes",
          "Peas",
          "Tomatoes",
          "Shrimps (farmed)",
          "Beet Sugar",
          "Maize",
          "Apples",
          "Other Fruit",
          "Tofu",
          "Brassicas",
          "Bananas",
          "Other Vegetables",
          "Citrus Fruit",
          "Wine",
          "Potatoes",
          "Root Vegetables",
          "Soy milk",
          "Coffee",
          "Barley",
          "Onions & Leeks",
          "Cassava"
         ],
         "categoryorder": "array",
         "domain": [
          0,
          1
         ],
         "title": {
          "text": "Entidad"
         }
        }
       }
      }
     },
     "metadata": {},
     "output_type": "display_data"
    }
   ],
   "source": [
    "# Eliminar filas con valores nulos en la columna 'Water_l_kg'\n",
    "df_cleaned = fod.dropna(subset=['Water_l_kg'])\n",
    "\n",
    "# Ordenar los datos de mayor a menor\n",
    "df_sorted = df_cleaned.sort_values('Water_l_kg', ascending=True)\n",
    "\n",
    "# Crear una paleta de colores pastel\n",
    "colors = ['lightblue', 'lightgreen', 'lightpink', 'lightyellow', 'lavender']\n",
    "\n",
    "# Crear el gráfico de barras horizontales utilizando Plotly\n",
    "fig = px.bar(df_sorted, x='Water_l_kg', y='Entity', orientation='h', color='Entity', color_discrete_sequence=colors)\n",
    "\n",
    "# Añadir etiquetas a las barras\n",
    "fig.update_traces(texttemplate='%{x:.2f}', textposition='outside')\n",
    "\n",
    "# Añadir título y etiquetas de los ejes\n",
    "fig.update_layout(title='Total de agua gastada por entidad (Ordenado de mayor a menor)', xaxis_title='Agua (litros)', yaxis_title='Entidad')\n",
    "\n",
    "# Ajustar el espaciado de las etiquetas en el eje y\n",
    "fig.update_layout(yaxis=dict(autorange=\"reversed\", automargin=True))\n",
    "\n",
    "# Mostrar el gráfico\n",
    "fig.show()\n"
   ]
  },
  {
   "cell_type": "code",
   "execution_count": 8,
   "metadata": {},
   "outputs": [
    {
     "data": {
      "application/vnd.plotly.v1+json": {
       "config": {
        "plotlyServerURL": "https://plot.ly"
       },
       "data": [
        {
         "marker": {
          "color": "lightblue"
         },
         "name": "Cheese",
         "orientation": "h",
         "type": "bar",
         "visible": false,
         "x": [
          5605.2
         ],
         "y": [
          "Cheese"
         ]
        },
        {
         "marker": {
          "color": "lightblue"
         },
         "name": "Nuts",
         "orientation": "h",
         "type": "bar",
         "visible": false,
         "x": [
          4133.8
         ],
         "y": [
          "Nuts"
         ]
        },
        {
         "marker": {
          "color": "lightblue"
         },
         "name": "Fish (farmed)",
         "orientation": "h",
         "type": "bar",
         "visible": false,
         "x": [
          3691.3
         ],
         "y": [
          "Fish (farmed)"
         ]
        },
        {
         "marker": {
          "color": "lavender"
         },
         "name": "Beef milk",
         "orientation": "h",
         "type": "bar",
         "visible": true,
         "x": [
          2714.3
         ],
         "y": [
          "Beef milk"
         ]
        },
        {
         "marker": {
          "color": "lightyellow"
         },
         "name": "Rice",
         "orientation": "h",
         "type": "bar",
         "visible": false,
         "x": [
          2248.4
         ],
         "y": [
          "Rice"
         ]
        },
        {
         "marker": {
          "color": "lightgreen"
         },
         "name": "Groundnuts",
         "orientation": "h",
         "type": "bar",
         "visible": false,
         "x": [
          1852.3
         ],
         "y": [
          "Groundnuts"
         ]
        },
        {
         "marker": {
          "color": "lightpink"
         },
         "name": "Lamb",
         "orientation": "h",
         "type": "bar",
         "visible": false,
         "x": [
          1802.8
         ],
         "y": [
          "Lamb"
         ]
        },
        {
         "marker": {
          "color": "lavender"
         },
         "name": "Pig Meat",
         "orientation": "h",
         "type": "bar",
         "visible": false,
         "x": [
          1795.8
         ],
         "y": [
          "Pig Meat"
         ]
        },
        {
         "marker": {
          "color": "lightyellow"
         },
         "name": "Beef meat",
         "orientation": "h",
         "type": "bar",
         "visible": true,
         "x": [
          1451.2
         ],
         "y": [
          "Beef meat"
         ]
        },
        {
         "marker": {
          "color": "lightgreen"
         },
         "name": "Poultry Meat",
         "orientation": "h",
         "type": "bar",
         "visible": false,
         "x": [
          660
         ],
         "y": [
          "Poultry Meat"
         ]
        },
        {
         "marker": {
          "color": "lightgreen"
         },
         "name": "Wheat & Rye",
         "orientation": "h",
         "type": "bar",
         "visible": false,
         "x": [
          647.5
         ],
         "y": [
          "Wheat & Rye"
         ]
        },
        {
         "marker": {
          "color": "lavender"
         },
         "name": "Milk",
         "orientation": "h",
         "type": "bar",
         "visible": false,
         "x": [
          628.2
         ],
         "y": [
          "Milk"
         ]
        },
        {
         "marker": {
          "color": "lightyellow"
         },
         "name": "Cane Sugar",
         "orientation": "h",
         "type": "bar",
         "visible": false,
         "x": [
          620.1
         ],
         "y": [
          "Cane Sugar"
         ]
        },
        {
         "marker": {
          "color": "lavender"
         },
         "name": "Eggs",
         "orientation": "h",
         "type": "bar",
         "visible": false,
         "x": [
          577.7
         ],
         "y": [
          "Eggs"
         ]
        },
        {
         "marker": {
          "color": "lightyellow"
         },
         "name": "Dark Chocolate",
         "orientation": "h",
         "type": "bar",
         "visible": false,
         "x": [
          540.6
         ],
         "y": [
          "Dark Chocolate"
         ]
        },
        {
         "marker": {
          "color": "lightgreen"
         },
         "name": "Oatmeal",
         "orientation": "h",
         "type": "bar",
         "visible": false,
         "x": [
          482.4
         ],
         "y": [
          "Oatmeal"
         ]
        },
        {
         "marker": {
          "color": "lightblue"
         },
         "name": "Other Pulses",
         "orientation": "h",
         "type": "bar",
         "visible": false,
         "x": [
          435.7
         ],
         "y": [
          "Other Pulses"
         ]
        },
        {
         "marker": {
          "color": "lightgreen"
         },
         "name": "Berries & Grapes",
         "orientation": "h",
         "type": "bar",
         "visible": false,
         "x": [
          419.6
         ],
         "y": [
          "Berries & Grapes"
         ]
        },
        {
         "marker": {
          "color": "lightyellow"
         },
         "name": "Peas",
         "orientation": "h",
         "type": "bar",
         "visible": false,
         "x": [
          396.6
         ],
         "y": [
          "Peas"
         ]
        },
        {
         "marker": {
          "color": "lightblue"
         },
         "name": "Tomatoes",
         "orientation": "h",
         "type": "bar",
         "visible": false,
         "x": [
          369.8
         ],
         "y": [
          "Tomatoes"
         ]
        },
        {
         "marker": {
          "color": "lightblue"
         },
         "name": "Shrimps (farmed)",
         "orientation": "h",
         "type": "bar",
         "visible": false,
         "x": [
          220
         ],
         "y": [
          "Shrimps (farmed)"
         ]
        },
        {
         "marker": {
          "color": "lightblue"
         },
         "name": "Beet Sugar",
         "orientation": "h",
         "type": "bar",
         "visible": false,
         "x": [
          217.7
         ],
         "y": [
          "Beet Sugar"
         ]
        },
        {
         "marker": {
          "color": "lightyellow"
         },
         "name": "Maize",
         "orientation": "h",
         "type": "bar",
         "visible": false,
         "x": [
          215.7
         ],
         "y": [
          "Maize"
         ]
        },
        {
         "marker": {
          "color": "lightblue"
         },
         "name": "Apples",
         "orientation": "h",
         "type": "bar",
         "visible": true,
         "x": [
          180.1
         ],
         "y": [
          "Apples"
         ]
        },
        {
         "marker": {
          "color": "lavender"
         },
         "name": "Other Fruit",
         "orientation": "h",
         "type": "bar",
         "visible": false,
         "x": [
          153.5
         ],
         "y": [
          "Other Fruit"
         ]
        },
        {
         "marker": {
          "color": "lavender"
         },
         "name": "Tofu",
         "orientation": "h",
         "type": "bar",
         "visible": false,
         "x": [
          148.6
         ],
         "y": [
          "Tofu"
         ]
        },
        {
         "marker": {
          "color": "lightpink"
         },
         "name": "Brassicas",
         "orientation": "h",
         "type": "bar",
         "visible": false,
         "x": [
          119.4
         ],
         "y": [
          "Brassicas"
         ]
        },
        {
         "marker": {
          "color": "lightgreen"
         },
         "name": "Bananas",
         "orientation": "h",
         "type": "bar",
         "visible": true,
         "x": [
          114.5
         ],
         "y": [
          "Bananas"
         ]
        },
        {
         "marker": {
          "color": "lightgreen"
         },
         "name": "Other Vegetables",
         "orientation": "h",
         "type": "bar",
         "visible": false,
         "x": [
          102.5
         ],
         "y": [
          "Other Vegetables"
         ]
        },
        {
         "marker": {
          "color": "lightgreen"
         },
         "name": "Citrus Fruit",
         "orientation": "h",
         "type": "bar",
         "visible": false,
         "x": [
          82.7
         ],
         "y": [
          "Citrus Fruit"
         ]
        },
        {
         "marker": {
          "color": "lightpink"
         },
         "name": "Wine",
         "orientation": "h",
         "type": "bar",
         "visible": false,
         "x": [
          78.9
         ],
         "y": [
          "Wine"
         ]
        },
        {
         "marker": {
          "color": "lightblue"
         },
         "name": "Potatoes",
         "orientation": "h",
         "type": "bar",
         "visible": false,
         "x": [
          59.1
         ],
         "y": [
          "Potatoes"
         ]
        },
        {
         "marker": {
          "color": "lavender"
         },
         "name": "Root Vegetables",
         "orientation": "h",
         "type": "bar",
         "visible": false,
         "x": [
          28.4
         ],
         "y": [
          "Root Vegetables"
         ]
        },
        {
         "marker": {
          "color": "lightgreen"
         },
         "name": "Soy milk",
         "orientation": "h",
         "type": "bar",
         "visible": false,
         "x": [
          27.8
         ],
         "y": [
          "Soy milk"
         ]
        },
        {
         "marker": {
          "color": "lightpink"
         },
         "name": "Coffee",
         "orientation": "h",
         "type": "bar",
         "visible": false,
         "x": [
          25.9
         ],
         "y": [
          "Coffee"
         ]
        },
        {
         "marker": {
          "color": "lightpink"
         },
         "name": "Barley",
         "orientation": "h",
         "type": "bar",
         "visible": true,
         "x": [
          17.1
         ],
         "y": [
          "Barley"
         ]
        },
        {
         "marker": {
          "color": "lightyellow"
         },
         "name": "Onions & Leeks",
         "orientation": "h",
         "type": "bar",
         "visible": false,
         "x": [
          14.3
         ],
         "y": [
          "Onions & Leeks"
         ]
        },
        {
         "marker": {
          "color": "lavender"
         },
         "name": "Cassava",
         "orientation": "h",
         "type": "bar",
         "visible": false,
         "x": [
          0
         ],
         "y": [
          "Cassava"
         ]
        }
       ],
       "layout": {
        "barmode": "stack",
        "height": 500,
        "template": {
         "data": {
          "bar": [
           {
            "error_x": {
             "color": "#2a3f5f"
            },
            "error_y": {
             "color": "#2a3f5f"
            },
            "marker": {
             "line": {
              "color": "#E5ECF6",
              "width": 0.5
             },
             "pattern": {
              "fillmode": "overlay",
              "size": 10,
              "solidity": 0.2
             }
            },
            "type": "bar"
           }
          ],
          "barpolar": [
           {
            "marker": {
             "line": {
              "color": "#E5ECF6",
              "width": 0.5
             },
             "pattern": {
              "fillmode": "overlay",
              "size": 10,
              "solidity": 0.2
             }
            },
            "type": "barpolar"
           }
          ],
          "carpet": [
           {
            "aaxis": {
             "endlinecolor": "#2a3f5f",
             "gridcolor": "white",
             "linecolor": "white",
             "minorgridcolor": "white",
             "startlinecolor": "#2a3f5f"
            },
            "baxis": {
             "endlinecolor": "#2a3f5f",
             "gridcolor": "white",
             "linecolor": "white",
             "minorgridcolor": "white",
             "startlinecolor": "#2a3f5f"
            },
            "type": "carpet"
           }
          ],
          "choropleth": [
           {
            "colorbar": {
             "outlinewidth": 0,
             "ticks": ""
            },
            "type": "choropleth"
           }
          ],
          "contour": [
           {
            "colorbar": {
             "outlinewidth": 0,
             "ticks": ""
            },
            "colorscale": [
             [
              0,
              "#0d0887"
             ],
             [
              0.1111111111111111,
              "#46039f"
             ],
             [
              0.2222222222222222,
              "#7201a8"
             ],
             [
              0.3333333333333333,
              "#9c179e"
             ],
             [
              0.4444444444444444,
              "#bd3786"
             ],
             [
              0.5555555555555556,
              "#d8576b"
             ],
             [
              0.6666666666666666,
              "#ed7953"
             ],
             [
              0.7777777777777778,
              "#fb9f3a"
             ],
             [
              0.8888888888888888,
              "#fdca26"
             ],
             [
              1,
              "#f0f921"
             ]
            ],
            "type": "contour"
           }
          ],
          "contourcarpet": [
           {
            "colorbar": {
             "outlinewidth": 0,
             "ticks": ""
            },
            "type": "contourcarpet"
           }
          ],
          "heatmap": [
           {
            "colorbar": {
             "outlinewidth": 0,
             "ticks": ""
            },
            "colorscale": [
             [
              0,
              "#0d0887"
             ],
             [
              0.1111111111111111,
              "#46039f"
             ],
             [
              0.2222222222222222,
              "#7201a8"
             ],
             [
              0.3333333333333333,
              "#9c179e"
             ],
             [
              0.4444444444444444,
              "#bd3786"
             ],
             [
              0.5555555555555556,
              "#d8576b"
             ],
             [
              0.6666666666666666,
              "#ed7953"
             ],
             [
              0.7777777777777778,
              "#fb9f3a"
             ],
             [
              0.8888888888888888,
              "#fdca26"
             ],
             [
              1,
              "#f0f921"
             ]
            ],
            "type": "heatmap"
           }
          ],
          "heatmapgl": [
           {
            "colorbar": {
             "outlinewidth": 0,
             "ticks": ""
            },
            "colorscale": [
             [
              0,
              "#0d0887"
             ],
             [
              0.1111111111111111,
              "#46039f"
             ],
             [
              0.2222222222222222,
              "#7201a8"
             ],
             [
              0.3333333333333333,
              "#9c179e"
             ],
             [
              0.4444444444444444,
              "#bd3786"
             ],
             [
              0.5555555555555556,
              "#d8576b"
             ],
             [
              0.6666666666666666,
              "#ed7953"
             ],
             [
              0.7777777777777778,
              "#fb9f3a"
             ],
             [
              0.8888888888888888,
              "#fdca26"
             ],
             [
              1,
              "#f0f921"
             ]
            ],
            "type": "heatmapgl"
           }
          ],
          "histogram": [
           {
            "marker": {
             "pattern": {
              "fillmode": "overlay",
              "size": 10,
              "solidity": 0.2
             }
            },
            "type": "histogram"
           }
          ],
          "histogram2d": [
           {
            "colorbar": {
             "outlinewidth": 0,
             "ticks": ""
            },
            "colorscale": [
             [
              0,
              "#0d0887"
             ],
             [
              0.1111111111111111,
              "#46039f"
             ],
             [
              0.2222222222222222,
              "#7201a8"
             ],
             [
              0.3333333333333333,
              "#9c179e"
             ],
             [
              0.4444444444444444,
              "#bd3786"
             ],
             [
              0.5555555555555556,
              "#d8576b"
             ],
             [
              0.6666666666666666,
              "#ed7953"
             ],
             [
              0.7777777777777778,
              "#fb9f3a"
             ],
             [
              0.8888888888888888,
              "#fdca26"
             ],
             [
              1,
              "#f0f921"
             ]
            ],
            "type": "histogram2d"
           }
          ],
          "histogram2dcontour": [
           {
            "colorbar": {
             "outlinewidth": 0,
             "ticks": ""
            },
            "colorscale": [
             [
              0,
              "#0d0887"
             ],
             [
              0.1111111111111111,
              "#46039f"
             ],
             [
              0.2222222222222222,
              "#7201a8"
             ],
             [
              0.3333333333333333,
              "#9c179e"
             ],
             [
              0.4444444444444444,
              "#bd3786"
             ],
             [
              0.5555555555555556,
              "#d8576b"
             ],
             [
              0.6666666666666666,
              "#ed7953"
             ],
             [
              0.7777777777777778,
              "#fb9f3a"
             ],
             [
              0.8888888888888888,
              "#fdca26"
             ],
             [
              1,
              "#f0f921"
             ]
            ],
            "type": "histogram2dcontour"
           }
          ],
          "mesh3d": [
           {
            "colorbar": {
             "outlinewidth": 0,
             "ticks": ""
            },
            "type": "mesh3d"
           }
          ],
          "parcoords": [
           {
            "line": {
             "colorbar": {
              "outlinewidth": 0,
              "ticks": ""
             }
            },
            "type": "parcoords"
           }
          ],
          "pie": [
           {
            "automargin": true,
            "type": "pie"
           }
          ],
          "scatter": [
           {
            "fillpattern": {
             "fillmode": "overlay",
             "size": 10,
             "solidity": 0.2
            },
            "type": "scatter"
           }
          ],
          "scatter3d": [
           {
            "line": {
             "colorbar": {
              "outlinewidth": 0,
              "ticks": ""
             }
            },
            "marker": {
             "colorbar": {
              "outlinewidth": 0,
              "ticks": ""
             }
            },
            "type": "scatter3d"
           }
          ],
          "scattercarpet": [
           {
            "marker": {
             "colorbar": {
              "outlinewidth": 0,
              "ticks": ""
             }
            },
            "type": "scattercarpet"
           }
          ],
          "scattergeo": [
           {
            "marker": {
             "colorbar": {
              "outlinewidth": 0,
              "ticks": ""
             }
            },
            "type": "scattergeo"
           }
          ],
          "scattergl": [
           {
            "marker": {
             "colorbar": {
              "outlinewidth": 0,
              "ticks": ""
             }
            },
            "type": "scattergl"
           }
          ],
          "scattermapbox": [
           {
            "marker": {
             "colorbar": {
              "outlinewidth": 0,
              "ticks": ""
             }
            },
            "type": "scattermapbox"
           }
          ],
          "scatterpolar": [
           {
            "marker": {
             "colorbar": {
              "outlinewidth": 0,
              "ticks": ""
             }
            },
            "type": "scatterpolar"
           }
          ],
          "scatterpolargl": [
           {
            "marker": {
             "colorbar": {
              "outlinewidth": 0,
              "ticks": ""
             }
            },
            "type": "scatterpolargl"
           }
          ],
          "scatterternary": [
           {
            "marker": {
             "colorbar": {
              "outlinewidth": 0,
              "ticks": ""
             }
            },
            "type": "scatterternary"
           }
          ],
          "surface": [
           {
            "colorbar": {
             "outlinewidth": 0,
             "ticks": ""
            },
            "colorscale": [
             [
              0,
              "#0d0887"
             ],
             [
              0.1111111111111111,
              "#46039f"
             ],
             [
              0.2222222222222222,
              "#7201a8"
             ],
             [
              0.3333333333333333,
              "#9c179e"
             ],
             [
              0.4444444444444444,
              "#bd3786"
             ],
             [
              0.5555555555555556,
              "#d8576b"
             ],
             [
              0.6666666666666666,
              "#ed7953"
             ],
             [
              0.7777777777777778,
              "#fb9f3a"
             ],
             [
              0.8888888888888888,
              "#fdca26"
             ],
             [
              1,
              "#f0f921"
             ]
            ],
            "type": "surface"
           }
          ],
          "table": [
           {
            "cells": {
             "fill": {
              "color": "#EBF0F8"
             },
             "line": {
              "color": "white"
             }
            },
            "header": {
             "fill": {
              "color": "#C8D4E3"
             },
             "line": {
              "color": "white"
             }
            },
            "type": "table"
           }
          ]
         },
         "layout": {
          "annotationdefaults": {
           "arrowcolor": "#2a3f5f",
           "arrowhead": 0,
           "arrowwidth": 1
          },
          "autotypenumbers": "strict",
          "coloraxis": {
           "colorbar": {
            "outlinewidth": 0,
            "ticks": ""
           }
          },
          "colorscale": {
           "diverging": [
            [
             0,
             "#8e0152"
            ],
            [
             0.1,
             "#c51b7d"
            ],
            [
             0.2,
             "#de77ae"
            ],
            [
             0.3,
             "#f1b6da"
            ],
            [
             0.4,
             "#fde0ef"
            ],
            [
             0.5,
             "#f7f7f7"
            ],
            [
             0.6,
             "#e6f5d0"
            ],
            [
             0.7,
             "#b8e186"
            ],
            [
             0.8,
             "#7fbc41"
            ],
            [
             0.9,
             "#4d9221"
            ],
            [
             1,
             "#276419"
            ]
           ],
           "sequential": [
            [
             0,
             "#0d0887"
            ],
            [
             0.1111111111111111,
             "#46039f"
            ],
            [
             0.2222222222222222,
             "#7201a8"
            ],
            [
             0.3333333333333333,
             "#9c179e"
            ],
            [
             0.4444444444444444,
             "#bd3786"
            ],
            [
             0.5555555555555556,
             "#d8576b"
            ],
            [
             0.6666666666666666,
             "#ed7953"
            ],
            [
             0.7777777777777778,
             "#fb9f3a"
            ],
            [
             0.8888888888888888,
             "#fdca26"
            ],
            [
             1,
             "#f0f921"
            ]
           ],
           "sequentialminus": [
            [
             0,
             "#0d0887"
            ],
            [
             0.1111111111111111,
             "#46039f"
            ],
            [
             0.2222222222222222,
             "#7201a8"
            ],
            [
             0.3333333333333333,
             "#9c179e"
            ],
            [
             0.4444444444444444,
             "#bd3786"
            ],
            [
             0.5555555555555556,
             "#d8576b"
            ],
            [
             0.6666666666666666,
             "#ed7953"
            ],
            [
             0.7777777777777778,
             "#fb9f3a"
            ],
            [
             0.8888888888888888,
             "#fdca26"
            ],
            [
             1,
             "#f0f921"
            ]
           ]
          },
          "colorway": [
           "#636efa",
           "#EF553B",
           "#00cc96",
           "#ab63fa",
           "#FFA15A",
           "#19d3f3",
           "#FF6692",
           "#B6E880",
           "#FF97FF",
           "#FECB52"
          ],
          "font": {
           "color": "#2a3f5f"
          },
          "geo": {
           "bgcolor": "white",
           "lakecolor": "white",
           "landcolor": "#E5ECF6",
           "showlakes": true,
           "showland": true,
           "subunitcolor": "white"
          },
          "hoverlabel": {
           "align": "left"
          },
          "hovermode": "closest",
          "mapbox": {
           "style": "light"
          },
          "paper_bgcolor": "white",
          "plot_bgcolor": "#E5ECF6",
          "polar": {
           "angularaxis": {
            "gridcolor": "white",
            "linecolor": "white",
            "ticks": ""
           },
           "bgcolor": "#E5ECF6",
           "radialaxis": {
            "gridcolor": "white",
            "linecolor": "white",
            "ticks": ""
           }
          },
          "scene": {
           "xaxis": {
            "backgroundcolor": "#E5ECF6",
            "gridcolor": "white",
            "gridwidth": 2,
            "linecolor": "white",
            "showbackground": true,
            "ticks": "",
            "zerolinecolor": "white"
           },
           "yaxis": {
            "backgroundcolor": "#E5ECF6",
            "gridcolor": "white",
            "gridwidth": 2,
            "linecolor": "white",
            "showbackground": true,
            "ticks": "",
            "zerolinecolor": "white"
           },
           "zaxis": {
            "backgroundcolor": "#E5ECF6",
            "gridcolor": "white",
            "gridwidth": 2,
            "linecolor": "white",
            "showbackground": true,
            "ticks": "",
            "zerolinecolor": "white"
           }
          },
          "shapedefaults": {
           "line": {
            "color": "#2a3f5f"
           }
          },
          "ternary": {
           "aaxis": {
            "gridcolor": "white",
            "linecolor": "white",
            "ticks": ""
           },
           "baxis": {
            "gridcolor": "white",
            "linecolor": "white",
            "ticks": ""
           },
           "bgcolor": "#E5ECF6",
           "caxis": {
            "gridcolor": "white",
            "linecolor": "white",
            "ticks": ""
           }
          },
          "title": {
           "x": 0.05
          },
          "xaxis": {
           "automargin": true,
           "gridcolor": "white",
           "linecolor": "white",
           "ticks": "",
           "title": {
            "standoff": 15
           },
           "zerolinecolor": "white",
           "zerolinewidth": 2
          },
          "yaxis": {
           "automargin": true,
           "gridcolor": "white",
           "linecolor": "white",
           "ticks": "",
           "title": {
            "standoff": 15
           },
           "zerolinecolor": "white",
           "zerolinewidth": 2
          }
         }
        },
        "title": {
         "text": "Total de agua gastada por entidad (Ordenado de mayor a menor)"
        },
        "updatemenus": [
         {
          "buttons": [
           {
            "args": [
             "visible",
             [
              true,
              true,
              true,
              true,
              true,
              true,
              true,
              true,
              true,
              true,
              true,
              true,
              true,
              true,
              true,
              true,
              true,
              true,
              true,
              true,
              true,
              true,
              true,
              true,
              true,
              true,
              true,
              true,
              true,
              true,
              true,
              true,
              true,
              true,
              true,
              true,
              true,
              true
             ]
            ],
            "label": "Mostrar todas",
            "method": "restyle"
           },
           {
            "args": [
             "visible",
             [
              true,
              true,
              true,
              true,
              true,
              true,
              true,
              true,
              true,
              true,
              true,
              true,
              true,
              true,
              true,
              true,
              true,
              true,
              true,
              true,
              true,
              true,
              true,
              true,
              true,
              true,
              true,
              true,
              true,
              true,
              true,
              true,
              true,
              true,
              true,
              true,
              true,
              true
             ]
            ],
            "label": "Mostrar ninguna",
            "method": "restyle"
           }
          ],
          "direction": "down",
          "pad": {
           "r": 10,
           "t": 10
          },
          "showactive": true,
          "x": 0.1,
          "xanchor": "left",
          "y": 1.1,
          "yanchor": "top"
         }
        ],
        "xaxis": {
         "title": {
          "text": "Agua (litros)"
         }
        },
        "yaxis": {
         "title": {
          "text": "Entidad"
         }
        }
       }
      }
     },
     "metadata": {},
     "output_type": "display_data"
    }
   ],
   "source": [
    "# Eliminar filas con valores nulos en la columna 'Water_l_kg'\n",
    "df_cleaned = fod.dropna(subset=['Water_l_kg'])\n",
    "\n",
    "# Ordenar los datos de mayor a menor\n",
    "df_sorted = df_cleaned.sort_values('Water_l_kg', ascending=False)\n",
    "\n",
    "# Crear una paleta de colores pastel\n",
    "colors = ['lightblue', 'lightgreen', 'lightpink', 'lightyellow', 'lavender']\n",
    "\n",
    "# Crear la figura y los datos de las barras\n",
    "fig = go.Figure()\n",
    "\n",
    "for i, row in df_sorted.iterrows():\n",
    "    entity = row['Entity']\n",
    "    water = row['Water_l_kg']\n",
    "    \n",
    "    # Añadir una barra al gráfico para cada entidad\n",
    "    fig.add_trace(go.Bar(\n",
    "        x=[water],\n",
    "        y=[entity],\n",
    "        orientation='h',\n",
    "        name=entity,\n",
    "        marker=dict(color=colors[i % len(colors)])\n",
    "    ))\n",
    "\n",
    "# Configurar el diseño del gráfico\n",
    "fig.update_layout(\n",
    "    title='Total de agua gastada por entidad (Ordenado de mayor a menor)',\n",
    "    xaxis_title='Agua (litros)',\n",
    "    yaxis_title='Entidad',\n",
    "    barmode='stack',\n",
    "    height=500\n",
    ")\n",
    "\n",
    "# Habilitar la selección de entidades\n",
    "fig.update_layout(\n",
    "    updatemenus=[\n",
    "        dict(\n",
    "            buttons=list([\n",
    "                dict(\n",
    "                    args=['visible', [True] * len(df_sorted)],\n",
    "                    label='Mostrar todas',\n",
    "                    method='restyle'\n",
    "                ),\n",
    "                dict(\n",
    "                    args=['visible', [True] * len(df_sorted)],\n",
    "                    label='Mostrar ninguna',\n",
    "                    method='restyle'\n",
    "                )\n",
    "            ]),\n",
    "            direction='down',\n",
    "            pad={'r': 10, 't': 10},\n",
    "            showactive=True,\n",
    "            x=0.1,\n",
    "            xanchor='left',\n",
    "            y=1.1,\n",
    "            yanchor='top'\n",
    "        )\n",
    "    ]\n",
    ")\n",
    "\n",
    "# Actualizar la visibilidad de las entidades al seleccionar/deseleccionar\n",
    "for i, row in df_sorted.iterrows():\n",
    "    entity = row['Entity']\n",
    "    fig.update_traces(visible=True if i < 5 else False, selector=dict(name=entity))\n",
    "\n",
    "# Mostrar el gráfico\n",
    "fig.show()"
   ]
  },
  {
   "cell_type": "code",
   "execution_count": 9,
   "metadata": {},
   "outputs": [
    {
     "data": {
      "image/png": "[encoded data removed]",
      "text/plain": [
       "<Figure size 1000x600 with 1 Axes>"
      ]
     },
     "metadata": {},
     "output_type": "display_data"
    }
   ],
   "source": [
    "fod['Total_Food_Emissions_Transports'] = fod.iloc[:, 6:9].sum(axis=1)\n",
    "\n",
    "df_filtered = fod[['Entity', 'food_emissions_transport', 'food_emissions_retail', 'food_emissions_packaging', 'Total_Food_Emissions_Transports']]\n",
    "\n",
    "df_grouped = df_filtered.groupby('Entity').sum()\n",
    "df_sorted = df_grouped.sort_values('Total_Food_Emissions_Transports', ascending=True)\n",
    "\n",
    "# Crear la figura y los datos de las barras\n",
    "fig, ax = plt.subplots(figsize=(10, 6))\n",
    "entities = df_sorted.index\n",
    "transport = df_sorted['food_emissions_transport']\n",
    "retail = df_sorted['food_emissions_retail']\n",
    "packaging = df_sorted['food_emissions_packaging']\n",
    "\n",
    "# Crear las barras apiladas\n",
    "bottom = None\n",
    "bars = []\n",
    "colors = ['lightblue', 'lightgreen', 'lightpink']\n",
    "labels = ['Transporte', 'Retail', 'Packaging']\n",
    "\n",
    "for i, data in enumerate([transport, retail, packaging]):\n",
    "    bar = ax.barh(entities, data, color=colors[i], left=bottom)\n",
    "    bars.append(bar)\n",
    "    if bottom is None:\n",
    "        bottom = data\n",
    "    else:\n",
    "        bottom += data\n",
    "\n",
    "# Añadir etiquetas de valor a las barras\n",
    "for bar in bars:\n",
    "    for rect in bar:\n",
    "        width = rect.get_width()\n",
    "        if width > 0:\n",
    "            ax.text(width, rect.get_y() + rect.get_height() / 2, '{:.2f}'.format(width),\n",
    "                    ha='left', va='center', color='black', fontsize=10)\n",
    "\n",
    "# Añadir leyenda\n",
    "ax.legend(bars, labels, loc='lower right')\n",
    "\n",
    "# Añadir título y etiquetas de los ejes\n",
    "ax.set_title('Comparación de emisiones de transporte, retail y packaging por entidad')\n",
    "ax.set_xlabel('Emisiones totales')\n",
    "ax.set_ylabel('Entidad')\n",
    "\n",
    "# Mostrar el gráfico\n",
    "plt.show()\n",
    "\n"
   ]
  },
  {
   "cell_type": "code",
   "execution_count": 10,
   "metadata": {},
   "outputs": [
    {
     "data": {
      "application/vnd.plotly.v1+json": {
       "config": {
        "plotlyServerURL": "https://plot.ly"
       },
       "data": [
        {
         "name": "Transporte",
         "orientation": "h",
         "type": "bar",
         "x": [
          0.134528124,
          0.678854295,
          0.592409815,
          0.330851591,
          0.501263865,
          0.414114186,
          0.276950302,
          0.494124578,
          0.185116868,
          0.18454226,
          0.17514717,
          0.381078302,
          0.794510292,
          0.093284143,
          0.110871398,
          0.035351164,
          0.628543902,
          0.138556663,
          0.176925292,
          0.09617697,
          0.109835191,
          0.247958628,
          0.236391771,
          0.093235401,
          0.295830362,
          0.177110774,
          0.132597229,
          0.084063931,
          0.106734489,
          0.125440977,
          0.095619114,
          0.183164953,
          0.165549737,
          0.091276148,
          0.090377117,
          0.113769657,
          0.095067089,
          0.094781878,
          0.093597398,
          0.093867162,
          0.095804473,
          0.094640882,
          0.093855317
         ],
         "y": [
          "Coffee",
          "Lamb",
          "Beef milk",
          "Shrimps (farmed)",
          "Pig Meat",
          "Olive Oil",
          "Soybean Oil",
          "Beef meat",
          "Palm Oil",
          "Sunflower Oil",
          "Rapeseed Oil",
          "Poultry Meat",
          "Cane Sugar",
          "Wine",
          "Dark Chocolate",
          "Barley",
          "Beet Sugar",
          "Cheese",
          "Tofu",
          "Other Pulses",
          "Soy milk",
          "Fish (farmed)",
          "Berries & Grapes",
          "Milk",
          "Bananas",
          "Tomatoes",
          "Groundnuts",
          "Eggs",
          "Nuts",
          "Wheat & Rye",
          "Rice",
          "Other Fruit",
          "Other Vegetables",
          "Oatmeal",
          "Maize",
          "Root Vegetables",
          "Peas",
          "Onions & Leeks",
          "Cassava",
          "Potatoes",
          "Apples",
          "Brassicas",
          "Citrus Fruit"
         ]
        },
        {
         "name": "Retail",
         "orientation": "h",
         "type": "bar",
         "x": [
          0.052486794,
          0.300814068,
          0.254032327,
          0.352361124,
          0.278096013,
          0.039322364,
          0.039402755,
          0.233537838,
          0.038737674,
          0.039322364,
          0.042540886,
          0.243976607,
          0.036723005,
          0.039322364,
          0.037652218,
          0.26358711,
          0.039322364,
          0.333337741,
          0.27017249,
          0.039322364,
          0.27017249,
          0.089975618,
          0.017056878,
          0.265149784,
          0.020980708,
          0.016691531,
          0.046872605,
          0.035615941,
          0.042638569,
          0.05604907,
          0.063362152,
          0.016432178,
          0.015135273,
          0.039322364,
          0.039312998,
          0.038855213,
          0.039322364,
          0.039249706,
          0.039322364,
          0.039243544,
          0.016577621,
          0.016843897,
          0.016685298
         ],
         "y": [
          "Coffee",
          "Lamb",
          "Beef milk",
          "Shrimps (farmed)",
          "Pig Meat",
          "Olive Oil",
          "Soybean Oil",
          "Beef meat",
          "Palm Oil",
          "Sunflower Oil",
          "Rapeseed Oil",
          "Poultry Meat",
          "Cane Sugar",
          "Wine",
          "Dark Chocolate",
          "Barley",
          "Beet Sugar",
          "Cheese",
          "Tofu",
          "Other Pulses",
          "Soy milk",
          "Fish (farmed)",
          "Berries & Grapes",
          "Milk",
          "Bananas",
          "Tomatoes",
          "Groundnuts",
          "Eggs",
          "Nuts",
          "Wheat & Rye",
          "Rice",
          "Other Fruit",
          "Other Vegetables",
          "Oatmeal",
          "Maize",
          "Root Vegetables",
          "Peas",
          "Onions & Leeks",
          "Cassava",
          "Potatoes",
          "Apples",
          "Brassicas",
          "Citrus Fruit"
         ]
        },
        {
         "name": "Packaging",
         "orientation": "h",
         "type": "bar",
         "x": [
          1.687496266,
          0.34760362,
          0.374549103,
          0.536147297,
          0.432286318,
          0.740116693,
          0.786068449,
          0.352084451,
          0.788108048,
          0.784464695,
          0.776637791,
          0.292702383,
          0.084277185,
          0.749231524,
          0.722433613,
          0.496786387,
          0.090289045,
          0.172090931,
          0.177360572,
          0.353229974,
          0.098395215,
          0.137537392,
          0.211092325,
          0.100180454,
          0.065670278,
          0.145671363,
          0.109439863,
          0.16143735,
          0.123747546,
          0.086838974,
          0.083853899,
          0.041961205,
          0.041747507,
          0.090289045,
          0.09026754,
          0.044662141,
          0.044821982,
          0.044784978,
          0.044821982,
          0.044549374,
          0.044526409,
          0.045303061,
          0.044735127
         ],
         "y": [
          "Coffee",
          "Lamb",
          "Beef milk",
          "Shrimps (farmed)",
          "Pig Meat",
          "Olive Oil",
          "Soybean Oil",
          "Beef meat",
          "Palm Oil",
          "Sunflower Oil",
          "Rapeseed Oil",
          "Poultry Meat",
          "Cane Sugar",
          "Wine",
          "Dark Chocolate",
          "Barley",
          "Beet Sugar",
          "Cheese",
          "Tofu",
          "Other Pulses",
          "Soy milk",
          "Fish (farmed)",
          "Berries & Grapes",
          "Milk",
          "Bananas",
          "Tomatoes",
          "Groundnuts",
          "Eggs",
          "Nuts",
          "Wheat & Rye",
          "Rice",
          "Other Fruit",
          "Other Vegetables",
          "Oatmeal",
          "Maize",
          "Root Vegetables",
          "Peas",
          "Onions & Leeks",
          "Cassava",
          "Potatoes",
          "Apples",
          "Brassicas",
          "Citrus Fruit"
         ]
        }
       ],
       "layout": {
        "bargap": 0.2,
        "barmode": "stack",
        "legend": {
         "bgcolor": "rgba(255, 255, 255, 0.5)",
         "itemclick": "toggle",
         "itemdoubleclick": "toggleothers",
         "traceorder": "reversed",
         "x": 1.05,
         "y": 0.5
        },
        "template": {
         "data": {
          "bar": [
           {
            "error_x": {
             "color": "#2a3f5f"
            },
            "error_y": {
             "color": "#2a3f5f"
            },
            "marker": {
             "line": {
              "color": "#E5ECF6",
              "width": 0.5
             },
             "pattern": {
              "fillmode": "overlay",
              "size": 10,
              "solidity": 0.2
             }
            },
            "type": "bar"
           }
          ],
          "barpolar": [
           {
            "marker": {
             "line": {
              "color": "#E5ECF6",
              "width": 0.5
             },
             "pattern": {
              "fillmode": "overlay",
              "size": 10,
              "solidity": 0.2
             }
            },
            "type": "barpolar"
           }
          ],
          "carpet": [
           {
            "aaxis": {
             "endlinecolor": "#2a3f5f",
             "gridcolor": "white",
             "linecolor": "white",
             "minorgridcolor": "white",
             "startlinecolor": "#2a3f5f"
            },
            "baxis": {
             "endlinecolor": "#2a3f5f",
             "gridcolor": "white",
             "linecolor": "white",
             "minorgridcolor": "white",
             "startlinecolor": "#2a3f5f"
            },
            "type": "carpet"
           }
          ],
          "choropleth": [
           {
            "colorbar": {
             "outlinewidth": 0,
             "ticks": ""
            },
            "type": "choropleth"
           }
          ],
          "contour": [
           {
            "colorbar": {
             "outlinewidth": 0,
             "ticks": ""
            },
            "colorscale": [
             [
              0,
              "#0d0887"
             ],
             [
              0.1111111111111111,
              "#46039f"
             ],
             [
              0.2222222222222222,
              "#7201a8"
             ],
             [
              0.3333333333333333,
              "#9c179e"
             ],
             [
              0.4444444444444444,
              "#bd3786"
             ],
             [
              0.5555555555555556,
              "#d8576b"
             ],
             [
              0.6666666666666666,
              "#ed7953"
             ],
             [
              0.7777777777777778,
              "#fb9f3a"
             ],
             [
              0.8888888888888888,
              "#fdca26"
             ],
             [
              1,
              "#f0f921"
             ]
            ],
            "type": "contour"
           }
          ],
          "contourcarpet": [
           {
            "colorbar": {
             "outlinewidth": 0,
             "ticks": ""
            },
            "type": "contourcarpet"
           }
          ],
          "heatmap": [
           {
            "colorbar": {
             "outlinewidth": 0,
             "ticks": ""
            },
            "colorscale": [
             [
              0,
              "#0d0887"
             ],
             [
              0.1111111111111111,
              "#46039f"
             ],
             [
              0.2222222222222222,
              "#7201a8"
             ],
             [
              0.3333333333333333,
              "#9c179e"
             ],
             [
              0.4444444444444444,
              "#bd3786"
             ],
             [
              0.5555555555555556,
              "#d8576b"
             ],
             [
              0.6666666666666666,
              "#ed7953"
             ],
             [
              0.7777777777777778,
              "#fb9f3a"
             ],
             [
              0.8888888888888888,
              "#fdca26"
             ],
             [
              1,
              "#f0f921"
             ]
            ],
            "type": "heatmap"
           }
          ],
          "heatmapgl": [
           {
            "colorbar": {
             "outlinewidth": 0,
             "ticks": ""
            },
            "colorscale": [
             [
              0,
              "#0d0887"
             ],
             [
              0.1111111111111111,
              "#46039f"
             ],
             [
              0.2222222222222222,
              "#7201a8"
             ],
             [
              0.3333333333333333,
              "#9c179e"
             ],
             [
              0.4444444444444444,
              "#bd3786"
             ],
             [
              0.5555555555555556,
              "#d8576b"
             ],
             [
              0.6666666666666666,
              "#ed7953"
             ],
             [
              0.7777777777777778,
              "#fb9f3a"
             ],
             [
              0.8888888888888888,
              "#fdca26"
             ],
             [
              1,
              "#f0f921"
             ]
            ],
            "type": "heatmapgl"
           }
          ],
          "histogram": [
           {
            "marker": {
             "pattern": {
              "fillmode": "overlay",
              "size": 10,
              "solidity": 0.2
             }
            },
            "type": "histogram"
           }
          ],
          "histogram2d": [
           {
            "colorbar": {
             "outlinewidth": 0,
             "ticks": ""
            },
            "colorscale": [
             [
              0,
              "#0d0887"
             ],
             [
              0.1111111111111111,
              "#46039f"
             ],
             [
              0.2222222222222222,
              "#7201a8"
             ],
             [
              0.3333333333333333,
              "#9c179e"
             ],
             [
              0.4444444444444444,
              "#bd3786"
             ],
             [
              0.5555555555555556,
              "#d8576b"
             ],
             [
              0.6666666666666666,
              "#ed7953"
             ],
             [
              0.7777777777777778,
              "#fb9f3a"
             ],
             [
              0.8888888888888888,
              "#fdca26"
             ],
             [
              1,
              "#f0f921"
             ]
            ],
            "type": "histogram2d"
           }
          ],
          "histogram2dcontour": [
           {
            "colorbar": {
             "outlinewidth": 0,
             "ticks": ""
            },
            "colorscale": [
             [
              0,
              "#0d0887"
             ],
             [
              0.1111111111111111,
              "#46039f"
             ],
             [
              0.2222222222222222,
              "#7201a8"
             ],
             [
              0.3333333333333333,
              "#9c179e"
             ],
             [
              0.4444444444444444,
              "#bd3786"
             ],
             [
              0.5555555555555556,
              "#d8576b"
             ],
             [
              0.6666666666666666,
              "#ed7953"
             ],
             [
              0.7777777777777778,
              "#fb9f3a"
             ],
             [
              0.8888888888888888,
              "#fdca26"
             ],
             [
              1,
              "#f0f921"
             ]
            ],
            "type": "histogram2dcontour"
           }
          ],
          "mesh3d": [
           {
            "colorbar": {
             "outlinewidth": 0,
             "ticks": ""
            },
            "type": "mesh3d"
           }
          ],
          "parcoords": [
           {
            "line": {
             "colorbar": {
              "outlinewidth": 0,
              "ticks": ""
             }
            },
            "type": "parcoords"
           }
          ],
          "pie": [
           {
            "automargin": true,
            "type": "pie"
           }
          ],
          "scatter": [
           {
            "fillpattern": {
             "fillmode": "overlay",
             "size": 10,
             "solidity": 0.2
            },
            "type": "scatter"
           }
          ],
          "scatter3d": [
           {
            "line": {
             "colorbar": {
              "outlinewidth": 0,
              "ticks": ""
             }
            },
            "marker": {
             "colorbar": {
              "outlinewidth": 0,
              "ticks": ""
             }
            },
            "type": "scatter3d"
           }
          ],
          "scattercarpet": [
           {
            "marker": {
             "colorbar": {
              "outlinewidth": 0,
              "ticks": ""
             }
            },
            "type": "scattercarpet"
           }
          ],
          "scattergeo": [
           {
            "marker": {
             "colorbar": {
              "outlinewidth": 0,
              "ticks": ""
             }
            },
            "type": "scattergeo"
           }
          ],
          "scattergl": [
           {
            "marker": {
             "colorbar": {
              "outlinewidth": 0,
              "ticks": ""
             }
            },
            "type": "scattergl"
           }
          ],
          "scattermapbox": [
           {
            "marker": {
             "colorbar": {
              "outlinewidth": 0,
              "ticks": ""
             }
            },
            "type": "scattermapbox"
           }
          ],
          "scatterpolar": [
           {
            "marker": {
             "colorbar": {
              "outlinewidth": 0,
              "ticks": ""
             }
            },
            "type": "scatterpolar"
           }
          ],
          "scatterpolargl": [
           {
            "marker": {
             "colorbar": {
              "outlinewidth": 0,
              "ticks": ""
             }
            },
            "type": "scatterpolargl"
           }
          ],
          "scatterternary": [
           {
            "marker": {
             "colorbar": {
              "outlinewidth": 0,
              "ticks": ""
             }
            },
            "type": "scatterternary"
           }
          ],
          "surface": [
           {
            "colorbar": {
             "outlinewidth": 0,
             "ticks": ""
            },
            "colorscale": [
             [
              0,
              "#0d0887"
             ],
             [
              0.1111111111111111,
              "#46039f"
             ],
             [
              0.2222222222222222,
              "#7201a8"
             ],
             [
              0.3333333333333333,
              "#9c179e"
             ],
             [
              0.4444444444444444,
              "#bd3786"
             ],
             [
              0.5555555555555556,
              "#d8576b"
             ],
             [
              0.6666666666666666,
              "#ed7953"
             ],
             [
              0.7777777777777778,
              "#fb9f3a"
             ],
             [
              0.8888888888888888,
              "#fdca26"
             ],
             [
              1,
              "#f0f921"
             ]
            ],
            "type": "surface"
           }
          ],
          "table": [
           {
            "cells": {
             "fill": {
              "color": "#EBF0F8"
             },
             "line": {
              "color": "white"
             }
            },
            "header": {
             "fill": {
              "color": "#C8D4E3"
             },
             "line": {
              "color": "white"
             }
            },
            "type": "table"
           }
          ]
         },
         "layout": {
          "annotationdefaults": {
           "arrowcolor": "#2a3f5f",
           "arrowhead": 0,
           "arrowwidth": 1
          },
          "autotypenumbers": "strict",
          "coloraxis": {
           "colorbar": {
            "outlinewidth": 0,
            "ticks": ""
           }
          },
          "colorscale": {
           "diverging": [
            [
             0,
             "#8e0152"
            ],
            [
             0.1,
             "#c51b7d"
            ],
            [
             0.2,
             "#de77ae"
            ],
            [
             0.3,
             "#f1b6da"
            ],
            [
             0.4,
             "#fde0ef"
            ],
            [
             0.5,
             "#f7f7f7"
            ],
            [
             0.6,
             "#e6f5d0"
            ],
            [
             0.7,
             "#b8e186"
            ],
            [
             0.8,
             "#7fbc41"
            ],
            [
             0.9,
             "#4d9221"
            ],
            [
             1,
             "#276419"
            ]
           ],
           "sequential": [
            [
             0,
             "#0d0887"
            ],
            [
             0.1111111111111111,
             "#46039f"
            ],
            [
             0.2222222222222222,
             "#7201a8"
            ],
            [
             0.3333333333333333,
             "#9c179e"
            ],
            [
             0.4444444444444444,
             "#bd3786"
            ],
            [
             0.5555555555555556,
             "#d8576b"
            ],
            [
             0.6666666666666666,
             "#ed7953"
            ],
            [
             0.7777777777777778,
             "#fb9f3a"
            ],
            [
             0.8888888888888888,
             "#fdca26"
            ],
            [
             1,
             "#f0f921"
            ]
           ],
           "sequentialminus": [
            [
             0,
             "#0d0887"
            ],
            [
             0.1111111111111111,
             "#46039f"
            ],
            [
             0.2222222222222222,
             "#7201a8"
            ],
            [
             0.3333333333333333,
             "#9c179e"
            ],
            [
             0.4444444444444444,
             "#bd3786"
            ],
            [
             0.5555555555555556,
             "#d8576b"
            ],
            [
             0.6666666666666666,
             "#ed7953"
            ],
            [
             0.7777777777777778,
             "#fb9f3a"
            ],
            [
             0.8888888888888888,
             "#fdca26"
            ],
            [
             1,
             "#f0f921"
            ]
           ]
          },
          "colorway": [
           "#636efa",
           "#EF553B",
           "#00cc96",
           "#ab63fa",
           "#FFA15A",
           "#19d3f3",
           "#FF6692",
           "#B6E880",
           "#FF97FF",
           "#FECB52"
          ],
          "font": {
           "color": "#2a3f5f"
          },
          "geo": {
           "bgcolor": "white",
           "lakecolor": "white",
           "landcolor": "#E5ECF6",
           "showlakes": true,
           "showland": true,
           "subunitcolor": "white"
          },
          "hoverlabel": {
           "align": "left"
          },
          "hovermode": "closest",
          "mapbox": {
           "style": "light"
          },
          "paper_bgcolor": "white",
          "plot_bgcolor": "#E5ECF6",
          "polar": {
           "angularaxis": {
            "gridcolor": "white",
            "linecolor": "white",
            "ticks": ""
           },
           "bgcolor": "#E5ECF6",
           "radialaxis": {
            "gridcolor": "white",
            "linecolor": "white",
            "ticks": ""
           }
          },
          "scene": {
           "xaxis": {
            "backgroundcolor": "#E5ECF6",
            "gridcolor": "white",
            "gridwidth": 2,
            "linecolor": "white",
            "showbackground": true,
            "ticks": "",
            "zerolinecolor": "white"
           },
           "yaxis": {
            "backgroundcolor": "#E5ECF6",
            "gridcolor": "white",
            "gridwidth": 2,
            "linecolor": "white",
            "showbackground": true,
            "ticks": "",
            "zerolinecolor": "white"
           },
           "zaxis": {
            "backgroundcolor": "#E5ECF6",
            "gridcolor": "white",
            "gridwidth": 2,
            "linecolor": "white",
            "showbackground": true,
            "ticks": "",
            "zerolinecolor": "white"
           }
          },
          "shapedefaults": {
           "line": {
            "color": "#2a3f5f"
           }
          },
          "ternary": {
           "aaxis": {
            "gridcolor": "white",
            "linecolor": "white",
            "ticks": ""
           },
           "baxis": {
            "gridcolor": "white",
            "linecolor": "white",
            "ticks": ""
           },
           "bgcolor": "#E5ECF6",
           "caxis": {
            "gridcolor": "white",
            "linecolor": "white",
            "ticks": ""
           }
          },
          "title": {
           "x": 0.05
          },
          "xaxis": {
           "automargin": true,
           "gridcolor": "white",
           "linecolor": "white",
           "ticks": "",
           "title": {
            "standoff": 15
           },
           "zerolinecolor": "white",
           "zerolinewidth": 2
          },
          "yaxis": {
           "automargin": true,
           "gridcolor": "white",
           "linecolor": "white",
           "ticks": "",
           "title": {
            "standoff": 15
           },
           "zerolinecolor": "white",
           "zerolinewidth": 2
          }
         }
        },
        "title": {
         "text": "Comparación de emisiones de transporte, retail y packaging por entidad"
        },
        "xaxis": {
         "title": {
          "text": "Emisiones totales"
         }
        },
        "yaxis": {
         "title": {
          "text": "Entidad"
         }
        }
       }
      }
     },
     "metadata": {},
     "output_type": "display_data"
    }
   ],
   "source": [
    "fod['Total_Food_Emissions_Transports'] = fod.iloc[:, 6:9].sum(axis=1)\n",
    "\n",
    "df_filtered = fod[['Entity', 'food_emissions_transport', 'food_emissions_retail', 'food_emissions_packaging', 'Total_Food_Emissions_Transports']]\n",
    "\n",
    "df_grouped = df_filtered.groupby('Entity').sum()\n",
    "df_sorted = df_grouped.sort_values('Total_Food_Emissions_Transports', ascending=False)\n",
    "\n",
    "entities = df_sorted.index\n",
    "transport = df_sorted['food_emissions_transport']\n",
    "retail = df_sorted['food_emissions_retail']\n",
    "packaging = df_sorted['food_emissions_packaging']\n",
    "\n",
    "# Crear las barras apiladas\n",
    "fig = go.Figure()\n",
    "\n",
    "fig.add_trace(go.Bar(y=entities, x=transport, name='Transporte', orientation='h'))\n",
    "fig.add_trace(go.Bar(y=entities, x=retail, name='Retail', orientation='h'))\n",
    "fig.add_trace(go.Bar(y=entities, x=packaging, name='Packaging', orientation='h'))\n",
    "\n",
    "# Actualiza grafico \n",
    "\n",
    "def sort_entities(column_name):\n",
    "    sorted_indices = df_grouped[column_name].sort_values(ascending=False).index\n",
    "    return [entity for entity in entities if entity in sorted_indices]\n",
    "\n",
    "# Diseño del gráfico\n",
    "fig.update_layout(\n",
    "    title='Comparación de emisiones de transporte, retail y packaging por entidad',\n",
    "    xaxis_title='Emisiones totales',\n",
    "    yaxis_title='Entidad',\n",
    "    barmode='stack',\n",
    "    bargap=0.2,\n",
    "    legend=dict(\n",
    "        x=1.05,\n",
    "        y=0.5,\n",
    "        bgcolor='rgba(255, 255, 255, 0.5)',\n",
    "        itemclick='toggle',\n",
    "        itemdoubleclick='toggleothers',\n",
    "        traceorder='reversed'\n",
    "    ),\n",
    ")\n",
    "\n",
    "# Mostrar el gráfico\n",
    "fig.show()"
   ]
  },
  {
   "cell_type": "code",
   "execution_count": 11,
   "metadata": {},
   "outputs": [
    {
     "data": {
      "application/vnd.plotly.v1+json": {
       "config": {
        "plotlyServerURL": "https://plot.ly"
       },
       "data": [
        {
         "marker": {
          "color": "rgb(239, 154, 154)"
         },
         "name": "Land Use",
         "orientation": "h",
         "type": "bar",
         "x": [
          25.81483298,
          23.23753584,
          4.467476309,
          3.818798535,
          3.508428798,
          2.866183849,
          2.755585078,
          2.244068682,
          1.266022291,
          1.263040556,
          1.194717129,
          0.958229607,
          0.710381288,
          0.648246975,
          0.589435664,
          0.51222255,
          0.4851524,
          0.475169036,
          0.372987265,
          0.330563074,
          0.195574761,
          0.179971835,
          0.127035306,
          0.122421009,
          0.097130028,
          0.033302446,
          0.024600997,
          0.013389332,
          0.00867555,
          0.004808972,
          0.002242361,
          0.001931697,
          0.001180576,
          0.000118777,
          0.0000519,
          -0.001315101,
          -0.02187964,
          -0.025533871,
          -0.028951464,
          -0.061264312,
          -0.145953655,
          -0.323684317,
          -3.257812133
         ],
         "y": [
          "Dark Chocolate",
          "Beef meat",
          "Cheese",
          "Coffee",
          "Poultry Meat",
          "Soybean Oil",
          "Palm Oil",
          "Pig Meat",
          "Beef milk",
          "Cane Sugar",
          "Fish (farmed)",
          "Tofu",
          "Eggs",
          "Lamb",
          "Cassava",
          "Milk",
          "Groundnuts",
          "Maize",
          "Tomatoes",
          "Shrimps (farmed)",
          "Rapeseed Oil",
          "Soy milk",
          "Other Fruit",
          "Sunflower Oil",
          "Wheat & Rye",
          "Other Pulses",
          "Berries & Grapes",
          "Root Vegetables",
          "Barley",
          "Onions & Leeks",
          "Brassicas",
          "Oatmeal",
          "Other Vegetables",
          "Peas",
          "Beet Sugar",
          "Potatoes",
          "Rice",
          "Bananas",
          "Apples",
          "Wine",
          "Citrus Fruit",
          "Olive Oil",
          "Nuts"
         ]
        },
        {
         "marker": {
          "color": "rgb(144, 202, 249)"
         },
         "name": "Farm",
         "orientation": "h",
         "type": "bar",
         "x": [
          6.68700226,
          56.22806279,
          13.0955392,
          10.75444008,
          0.927821834,
          1.406293945,
          1.875131956,
          2.477097669,
          21.91552941,
          0.491269852,
          8.056114834,
          0.494701474,
          1.319636556,
          27.02574947,
          0.219993617,
          1.508862035,
          1.575954219,
          0.717274411,
          0.705446792,
          13.45397854,
          2.156630103,
          0.092768045,
          0.372578972,
          1.976377998,
          0.820300153,
          1.08871478,
          0.71784815,
          0.153994029,
          0.176376721,
          0.211039002,
          0.277745354,
          1.872373655,
          0.176173078,
          0.717159966,
          0.535721306,
          0.193083415,
          3.553953627,
          0.269618358,
          0.225815762,
          0.626026936,
          0.306732538,
          3.672172059,
          3.374406815
         ],
         "y": [
          "Dark Chocolate",
          "Beef meat",
          "Cheese",
          "Coffee",
          "Poultry Meat",
          "Soybean Oil",
          "Palm Oil",
          "Pig Meat",
          "Beef milk",
          "Cane Sugar",
          "Fish (farmed)",
          "Tofu",
          "Eggs",
          "Lamb",
          "Cassava",
          "Milk",
          "Groundnuts",
          "Maize",
          "Tomatoes",
          "Shrimps (farmed)",
          "Rapeseed Oil",
          "Soy milk",
          "Other Fruit",
          "Sunflower Oil",
          "Wheat & Rye",
          "Other Pulses",
          "Berries & Grapes",
          "Root Vegetables",
          "Barley",
          "Onions & Leeks",
          "Brassicas",
          "Oatmeal",
          "Other Vegetables",
          "Peas",
          "Beet Sugar",
          "Potatoes",
          "Rice",
          "Bananas",
          "Apples",
          "Wine",
          "Citrus Fruit",
          "Olive Oil",
          "Nuts"
         ]
        }
       ],
       "layout": {
        "bargap": 0.2,
        "barmode": "stack",
        "legend": {
         "bgcolor": "rgba(255, 255, 255, 0.5)",
         "itemclick": "toggle",
         "itemdoubleclick": "toggleothers",
         "x": 1.05,
         "y": 0.5
        },
        "paper_bgcolor": "rgba(0,0,0,0)",
        "plot_bgcolor": "rgba(0,0,0,0)",
        "template": {
         "data": {
          "bar": [
           {
            "error_x": {
             "color": "#2a3f5f"
            },
            "error_y": {
             "color": "#2a3f5f"
            },
            "marker": {
             "line": {
              "color": "#E5ECF6",
              "width": 0.5
             },
             "pattern": {
              "fillmode": "overlay",
              "size": 10,
              "solidity": 0.2
             }
            },
            "type": "bar"
           }
          ],
          "barpolar": [
           {
            "marker": {
             "line": {
              "color": "#E5ECF6",
              "width": 0.5
             },
             "pattern": {
              "fillmode": "overlay",
              "size": 10,
              "solidity": 0.2
             }
            },
            "type": "barpolar"
           }
          ],
          "carpet": [
           {
            "aaxis": {
             "endlinecolor": "#2a3f5f",
             "gridcolor": "white",
             "linecolor": "white",
             "minorgridcolor": "white",
             "startlinecolor": "#2a3f5f"
            },
            "baxis": {
             "endlinecolor": "#2a3f5f",
             "gridcolor": "white",
             "linecolor": "white",
             "minorgridcolor": "white",
             "startlinecolor": "#2a3f5f"
            },
            "type": "carpet"
           }
          ],
          "choropleth": [
           {
            "colorbar": {
             "outlinewidth": 0,
             "ticks": ""
            },
            "type": "choropleth"
           }
          ],
          "contour": [
           {
            "colorbar": {
             "outlinewidth": 0,
             "ticks": ""
            },
            "colorscale": [
             [
              0,
              "#0d0887"
             ],
             [
              0.1111111111111111,
              "#46039f"
             ],
             [
              0.2222222222222222,
              "#7201a8"
             ],
             [
              0.3333333333333333,
              "#9c179e"
             ],
             [
              0.4444444444444444,
              "#bd3786"
             ],
             [
              0.5555555555555556,
              "#d8576b"
             ],
             [
              0.6666666666666666,
              "#ed7953"
             ],
             [
              0.7777777777777778,
              "#fb9f3a"
             ],
             [
              0.8888888888888888,
              "#fdca26"
             ],
             [
              1,
              "#f0f921"
             ]
            ],
            "type": "contour"
           }
          ],
          "contourcarpet": [
           {
            "colorbar": {
             "outlinewidth": 0,
             "ticks": ""
            },
            "type": "contourcarpet"
           }
          ],
          "heatmap": [
           {
            "colorbar": {
             "outlinewidth": 0,
             "ticks": ""
            },
            "colorscale": [
             [
              0,
              "#0d0887"
             ],
             [
              0.1111111111111111,
              "#46039f"
             ],
             [
              0.2222222222222222,
              "#7201a8"
             ],
             [
              0.3333333333333333,
              "#9c179e"
             ],
             [
              0.4444444444444444,
              "#bd3786"
             ],
             [
              0.5555555555555556,
              "#d8576b"
             ],
             [
              0.6666666666666666,
              "#ed7953"
             ],
             [
              0.7777777777777778,
              "#fb9f3a"
             ],
             [
              0.8888888888888888,
              "#fdca26"
             ],
             [
              1,
              "#f0f921"
             ]
            ],
            "type": "heatmap"
           }
          ],
          "heatmapgl": [
           {
            "colorbar": {
             "outlinewidth": 0,
             "ticks": ""
            },
            "colorscale": [
             [
              0,
              "#0d0887"
             ],
             [
              0.1111111111111111,
              "#46039f"
             ],
             [
              0.2222222222222222,
              "#7201a8"
             ],
             [
              0.3333333333333333,
              "#9c179e"
             ],
             [
              0.4444444444444444,
              "#bd3786"
             ],
             [
              0.5555555555555556,
              "#d8576b"
             ],
             [
              0.6666666666666666,
              "#ed7953"
             ],
             [
              0.7777777777777778,
              "#fb9f3a"
             ],
             [
              0.8888888888888888,
              "#fdca26"
             ],
             [
              1,
              "#f0f921"
             ]
            ],
            "type": "heatmapgl"
           }
          ],
          "histogram": [
           {
            "marker": {
             "pattern": {
              "fillmode": "overlay",
              "size": 10,
              "solidity": 0.2
             }
            },
            "type": "histogram"
           }
          ],
          "histogram2d": [
           {
            "colorbar": {
             "outlinewidth": 0,
             "ticks": ""
            },
            "colorscale": [
             [
              0,
              "#0d0887"
             ],
             [
              0.1111111111111111,
              "#46039f"
             ],
             [
              0.2222222222222222,
              "#7201a8"
             ],
             [
              0.3333333333333333,
              "#9c179e"
             ],
             [
              0.4444444444444444,
              "#bd3786"
             ],
             [
              0.5555555555555556,
              "#d8576b"
             ],
             [
              0.6666666666666666,
              "#ed7953"
             ],
             [
              0.7777777777777778,
              "#fb9f3a"
             ],
             [
              0.8888888888888888,
              "#fdca26"
             ],
             [
              1,
              "#f0f921"
             ]
            ],
            "type": "histogram2d"
           }
          ],
          "histogram2dcontour": [
           {
            "colorbar": {
             "outlinewidth": 0,
             "ticks": ""
            },
            "colorscale": [
             [
              0,
              "#0d0887"
             ],
             [
              0.1111111111111111,
              "#46039f"
             ],
             [
              0.2222222222222222,
              "#7201a8"
             ],
             [
              0.3333333333333333,
              "#9c179e"
             ],
             [
              0.4444444444444444,
              "#bd3786"
             ],
             [
              0.5555555555555556,
              "#d8576b"
             ],
             [
              0.6666666666666666,
              "#ed7953"
             ],
             [
              0.7777777777777778,
              "#fb9f3a"
             ],
             [
              0.8888888888888888,
              "#fdca26"
             ],
             [
              1,
              "#f0f921"
             ]
            ],
            "type": "histogram2dcontour"
           }
          ],
          "mesh3d": [
           {
            "colorbar": {
             "outlinewidth": 0,
             "ticks": ""
            },
            "type": "mesh3d"
           }
          ],
          "parcoords": [
           {
            "line": {
             "colorbar": {
              "outlinewidth": 0,
              "ticks": ""
             }
            },
            "type": "parcoords"
           }
          ],
          "pie": [
           {
            "automargin": true,
            "type": "pie"
           }
          ],
          "scatter": [
           {
            "fillpattern": {
             "fillmode": "overlay",
             "size": 10,
             "solidity": 0.2
            },
            "type": "scatter"
           }
          ],
          "scatter3d": [
           {
            "line": {
             "colorbar": {
              "outlinewidth": 0,
              "ticks": ""
             }
            },
            "marker": {
             "colorbar": {
              "outlinewidth": 0,
              "ticks": ""
             }
            },
            "type": "scatter3d"
           }
          ],
          "scattercarpet": [
           {
            "marker": {
             "colorbar": {
              "outlinewidth": 0,
              "ticks": ""
             }
            },
            "type": "scattercarpet"
           }
          ],
          "scattergeo": [
           {
            "marker": {
             "colorbar": {
              "outlinewidth": 0,
              "ticks": ""
             }
            },
            "type": "scattergeo"
           }
          ],
          "scattergl": [
           {
            "marker": {
             "colorbar": {
              "outlinewidth": 0,
              "ticks": ""
             }
            },
            "type": "scattergl"
           }
          ],
          "scattermapbox": [
           {
            "marker": {
             "colorbar": {
              "outlinewidth": 0,
              "ticks": ""
             }
            },
            "type": "scattermapbox"
           }
          ],
          "scatterpolar": [
           {
            "marker": {
             "colorbar": {
              "outlinewidth": 0,
              "ticks": ""
             }
            },
            "type": "scatterpolar"
           }
          ],
          "scatterpolargl": [
           {
            "marker": {
             "colorbar": {
              "outlinewidth": 0,
              "ticks": ""
             }
            },
            "type": "scatterpolargl"
           }
          ],
          "scatterternary": [
           {
            "marker": {
             "colorbar": {
              "outlinewidth": 0,
              "ticks": ""
             }
            },
            "type": "scatterternary"
           }
          ],
          "surface": [
           {
            "colorbar": {
             "outlinewidth": 0,
             "ticks": ""
            },
            "colorscale": [
             [
              0,
              "#0d0887"
             ],
             [
              0.1111111111111111,
              "#46039f"
             ],
             [
              0.2222222222222222,
              "#7201a8"
             ],
             [
              0.3333333333333333,
              "#9c179e"
             ],
             [
              0.4444444444444444,
              "#bd3786"
             ],
             [
              0.5555555555555556,
              "#d8576b"
             ],
             [
              0.6666666666666666,
              "#ed7953"
             ],
             [
              0.7777777777777778,
              "#fb9f3a"
             ],
             [
              0.8888888888888888,
              "#fdca26"
             ],
             [
              1,
              "#f0f921"
             ]
            ],
            "type": "surface"
           }
          ],
          "table": [
           {
            "cells": {
             "fill": {
              "color": "#EBF0F8"
             },
             "line": {
              "color": "white"
             }
            },
            "header": {
             "fill": {
              "color": "#C8D4E3"
             },
             "line": {
              "color": "white"
             }
            },
            "type": "table"
           }
          ]
         },
         "layout": {
          "annotationdefaults": {
           "arrowcolor": "#2a3f5f",
           "arrowhead": 0,
           "arrowwidth": 1
          },
          "autotypenumbers": "strict",
          "coloraxis": {
           "colorbar": {
            "outlinewidth": 0,
            "ticks": ""
           }
          },
          "colorscale": {
           "diverging": [
            [
             0,
             "#8e0152"
            ],
            [
             0.1,
             "#c51b7d"
            ],
            [
             0.2,
             "#de77ae"
            ],
            [
             0.3,
             "#f1b6da"
            ],
            [
             0.4,
             "#fde0ef"
            ],
            [
             0.5,
             "#f7f7f7"
            ],
            [
             0.6,
             "#e6f5d0"
            ],
            [
             0.7,
             "#b8e186"
            ],
            [
             0.8,
             "#7fbc41"
            ],
            [
             0.9,
             "#4d9221"
            ],
            [
             1,
             "#276419"
            ]
           ],
           "sequential": [
            [
             0,
             "#0d0887"
            ],
            [
             0.1111111111111111,
             "#46039f"
            ],
            [
             0.2222222222222222,
             "#7201a8"
            ],
            [
             0.3333333333333333,
             "#9c179e"
            ],
            [
             0.4444444444444444,
             "#bd3786"
            ],
            [
             0.5555555555555556,
             "#d8576b"
            ],
            [
             0.6666666666666666,
             "#ed7953"
            ],
            [
             0.7777777777777778,
             "#fb9f3a"
            ],
            [
             0.8888888888888888,
             "#fdca26"
            ],
            [
             1,
             "#f0f921"
            ]
           ],
           "sequentialminus": [
            [
             0,
             "#0d0887"
            ],
            [
             0.1111111111111111,
             "#46039f"
            ],
            [
             0.2222222222222222,
             "#7201a8"
            ],
            [
             0.3333333333333333,
             "#9c179e"
            ],
            [
             0.4444444444444444,
             "#bd3786"
            ],
            [
             0.5555555555555556,
             "#d8576b"
            ],
            [
             0.6666666666666666,
             "#ed7953"
            ],
            [
             0.7777777777777778,
             "#fb9f3a"
            ],
            [
             0.8888888888888888,
             "#fdca26"
            ],
            [
             1,
             "#f0f921"
            ]
           ]
          },
          "colorway": [
           "#636efa",
           "#EF553B",
           "#00cc96",
           "#ab63fa",
           "#FFA15A",
           "#19d3f3",
           "#FF6692",
           "#B6E880",
           "#FF97FF",
           "#FECB52"
          ],
          "font": {
           "color": "#2a3f5f"
          },
          "geo": {
           "bgcolor": "white",
           "lakecolor": "white",
           "landcolor": "#E5ECF6",
           "showlakes": true,
           "showland": true,
           "subunitcolor": "white"
          },
          "hoverlabel": {
           "align": "left"
          },
          "hovermode": "closest",
          "mapbox": {
           "style": "light"
          },
          "paper_bgcolor": "white",
          "plot_bgcolor": "#E5ECF6",
          "polar": {
           "angularaxis": {
            "gridcolor": "white",
            "linecolor": "white",
            "ticks": ""
           },
           "bgcolor": "#E5ECF6",
           "radialaxis": {
            "gridcolor": "white",
            "linecolor": "white",
            "ticks": ""
           }
          },
          "scene": {
           "xaxis": {
            "backgroundcolor": "#E5ECF6",
            "gridcolor": "white",
            "gridwidth": 2,
            "linecolor": "white",
            "showbackground": true,
            "ticks": "",
            "zerolinecolor": "white"
           },
           "yaxis": {
            "backgroundcolor": "#E5ECF6",
            "gridcolor": "white",
            "gridwidth": 2,
            "linecolor": "white",
            "showbackground": true,
            "ticks": "",
            "zerolinecolor": "white"
           },
           "zaxis": {
            "backgroundcolor": "#E5ECF6",
            "gridcolor": "white",
            "gridwidth": 2,
            "linecolor": "white",
            "showbackground": true,
            "ticks": "",
            "zerolinecolor": "white"
           }
          },
          "shapedefaults": {
           "line": {
            "color": "#2a3f5f"
           }
          },
          "ternary": {
           "aaxis": {
            "gridcolor": "white",
            "linecolor": "white",
            "ticks": ""
           },
           "baxis": {
            "gridcolor": "white",
            "linecolor": "white",
            "ticks": ""
           },
           "bgcolor": "#E5ECF6",
           "caxis": {
            "gridcolor": "white",
            "linecolor": "white",
            "ticks": ""
           }
          },
          "title": {
           "x": 0.05
          },
          "xaxis": {
           "automargin": true,
           "gridcolor": "white",
           "linecolor": "white",
           "ticks": "",
           "title": {
            "standoff": 15
           },
           "zerolinecolor": "white",
           "zerolinewidth": 2
          },
          "yaxis": {
           "automargin": true,
           "gridcolor": "white",
           "linecolor": "white",
           "ticks": "",
           "title": {
            "standoff": 15
           },
           "zerolinecolor": "white",
           "zerolinewidth": 2
          }
         }
        },
        "title": {
         "text": "Comparación de emisiones de Land Use y Farm por entidad"
        },
        "xaxis": {
         "title": {
          "text": "Emisiones totales"
         }
        },
        "yaxis": {
         "title": {
          "text": "Entidad"
         }
        }
       }
      }
     },
     "metadata": {},
     "output_type": "display_data"
    }
   ],
   "source": [
    "\n",
    "# Ordenar el dataframe por la suma de las columnas 'food_emissions_land_use' y 'food_emissions_farm'\n",
    "df_sorted = fod.sort_values(['food_emissions_land_use', 'food_emissions_farm'], ascending=False)\n",
    "\n",
    "# Obtener los valores de las columnas\n",
    "entities = df_sorted['Entity']\n",
    "land_use = df_sorted['food_emissions_land_use']\n",
    "farm = df_sorted['food_emissions_farm']\n",
    "\n",
    "# Crear las barras apiladas\n",
    "fig = go.Figure()\n",
    "fig.add_trace(go.Bar(y=entities, x=land_use, name='Land Use', orientation='h'))\n",
    "fig.add_trace(go.Bar(y=entities, x=farm, name='Farm', orientation='h'))\n",
    "\n",
    "# Actualizar el diseño del gráfico\n",
    "fig.update_layout(\n",
    "    title='Comparación de emisiones de Land Use y Farm por entidad',\n",
    "    xaxis_title='Emisiones totales',\n",
    "    yaxis_title='Entidad',\n",
    "    barmode='stack',\n",
    "    bargap=0.2,\n",
    "    legend=dict(\n",
    "        x=1.05,\n",
    "        y=0.5,\n",
    "        bgcolor='rgba(255, 255, 255, 0.5)',\n",
    "        itemclick='toggle',\n",
    "        itemdoubleclick='toggleothers',\n",
    "    ),\n",
    "    plot_bgcolor='rgba(0,0,0,0)',\n",
    "    paper_bgcolor='rgba(0,0,0,0)',\n",
    ")\n",
    "\n",
    "# Definir la paleta de colores\n",
    "colors = ['rgb(239, 154, 154)', 'rgb(144, 202, 249)']\n",
    "\n",
    "# Asignar colores a las barras\n",
    "for i, bar in enumerate(fig['data']):\n",
    "    bar['marker']['color'] = colors[i % len(colors)]\n",
    "\n",
    "# Crear leyenda con el nombre de las entidades\n",
    "legend_text = [str(entity) for entity in entities]\n",
    "\n",
    "for i, entity in enumerate(entities):\n",
    "    fig.update_traces(name=str(entity), selector=dict(name=legend_text[i]))\n",
    "\n",
    "# Mostrar el gráfico\n",
    "fig.show()\n",
    "\n",
    "\n"
   ]
  },
  {
   "cell_type": "code",
   "execution_count": 12,
   "metadata": {},
   "outputs": [
    {
     "data": {
      "text/plain": [
       "['Liberia',\n",
       " 'Mexico',\n",
       " 'Pakistan',\n",
       " \"Korea, Democratic People's Republic of\",\n",
       " 'Nigeria',\n",
       " 'Nepal',\n",
       " 'Myanmar',\n",
       " 'Malaysia',\n",
       " 'Peru',\n",
       " 'Japan',\n",
       " 'Italy',\n",
       " 'Iran, Islamic Republic of',\n",
       " 'Indonesia',\n",
       " 'Paraguay',\n",
       " 'Philippines',\n",
       " 'Timor-Leste',\n",
       " 'Viet Nam',\n",
       " 'Uruguay',\n",
       " 'United States',\n",
       " 'Uganda',\n",
       " 'Turkey',\n",
       " 'Thailand',\n",
       " 'Romania',\n",
       " 'Tanzania, United Republic of',\n",
       " 'Taiwan, Province of China',\n",
       " 'Suriname',\n",
       " 'Sri Lanka',\n",
       " 'Korea, Republic of',\n",
       " 'South Africa',\n",
       " 'India',\n",
       " 'Zimbabwe',\n",
       " 'Cambodia',\n",
       " 'Colombia',\n",
       " 'Argentina',\n",
       " 'Australia',\n",
       " 'China',\n",
       " 'Brazil',\n",
       " 'Canada',\n",
       " 'Bulgaria',\n",
       " 'Ecuador',\n",
       " 'South Africa',\n",
       " 'Hungary',\n",
       " 'Rwanda',\n",
       " 'Bolivia, Plurinational State of',\n",
       " 'Chile',\n",
       " 'El Salvador',\n",
       " 'Spain',\n",
       " 'Egypt',\n",
       " 'Zambia',\n",
       " 'France',\n",
       " 'Iraq',\n",
       " 'Nicaragua',\n",
       " 'Madagascar',\n",
       " 'New Zealand',\n",
       " 'Cameroon',\n",
       " 'Albania',\n",
       " 'Mali',\n",
       " 'Guatemala',\n",
       " 'Morocco',\n",
       " 'Burkina Faso',\n",
       " 'Costa Rica',\n",
       " 'Guyana',\n",
       " 'Gabon',\n",
       " 'Benin',\n",
       " 'Venezuela, Bolivarian Republic of',\n",
       " 'Jordan',\n",
       " 'Greece',\n",
       " 'Switzerland',\n",
       " 'Belize',\n",
       " 'Senegal',\n",
       " 'Austria',\n",
       " 'Germany',\n",
       " 'Kenya',\n",
       " 'Panama',\n",
       " 'Togo',\n",
       " 'Honduras',\n",
       " 'Bangladesh',\n",
       " 'Poland',\n",
       " 'Malawi',\n",
       " 'Angola',\n",
       " 'North Macedonia',\n",
       " 'Moldova, Republic of',\n",
       " 'Netherlands',\n",
       " 'Georgia',\n",
       " 'Latvia',\n",
       " 'Kyrgyzstan',\n",
       " 'Croatia',\n",
       " 'Bosnia and Herzegovina',\n",
       " 'Slovenia',\n",
       " 'Azerbaijan',\n",
       " 'Ukraine',\n",
       " 'Kazakhstan',\n",
       " 'Russian Federation',\n",
       " 'Tajikistan',\n",
       " 'Czechia',\n",
       " 'Slovakia',\n",
       " 'Ethiopia',\n",
       " 'Serbia',\n",
       " 'Ghana',\n",
       " 'Syrian Arab Republic',\n",
       " 'Congo',\n",
       " 'Burundi',\n",
       " 'Uzbekistan',\n",
       " 'Mozambique',\n",
       " 'Lithuania',\n",
       " 'Denmark',\n",
       " 'Estonia',\n",
       " 'Ireland',\n",
       " 'Malta',\n",
       " 'Bhutan',\n",
       " 'Cyprus',\n",
       " 'Luxembourg',\n",
       " 'Finland']"
      ]
     },
     "execution_count": 12,
     "metadata": {},
     "output_type": "execute_result"
    }
   ],
   "source": [
    "todos = soy['Entity'].value_counts().index.to_list()\n",
    "paises = filtrar_paises(todos)\n",
    "paises"
   ]
  },
  {
   "cell_type": "code",
   "execution_count": 13,
   "metadata": {},
   "outputs": [
    {
     "data": {
      "image/png": "[encoded data removed]",
      "text/plain": [
       "<Figure size 1000x600 with 1 Axes>"
      ]
     },
     "metadata": {},
     "output_type": "display_data"
    }
   ],
   "source": [
    "# Filtrar el DataFrame para incluir solo los países de la lista 'paises'\n",
    "df_filtered = soy[soy['Entity'].isin(paises)]\n",
    "\n",
    "# Agrupar los datos por país y año, y calcular la suma del área cosechada en hectáreas\n",
    "grouped = df_filtered.groupby(['Entity', 'Year'])['Area harvested'].sum().reset_index()\n",
    "\n",
    "# Ordenar los países por el área cosechada total en orden descendente\n",
    "top_countries = grouped.groupby('Entity')['Area harvested'].sum().nlargest(5).index\n",
    "\n",
    "# Filtrar los datos para incluir solo los cinco países con mayor área cosechada\n",
    "df_top_countries = grouped[grouped['Entity'].isin(top_countries)]\n",
    "\n",
    "# Crear la figura y los ejes\n",
    "fig, ax = plt.subplots(figsize=(10, 6))\n",
    "\n",
    "# Función para actualizar el gráfico en cada frame de la animación\n",
    "def update(frame):\n",
    "    ax.clear()\n",
    "    year_data = df_top_countries[df_top_countries['Year'] == frame]\n",
    "    \n",
    "    # Crear un gráfico de línea para cada país seleccionado en el año actual\n",
    "    for country in top_countries:\n",
    "        country_data = year_data[year_data['Entity'] == country]\n",
    "        ax.plot(country_data['Year'], country_data['Area harvested'], label=country)\n",
    "    \n",
    "    ax.set_xlabel('Año')\n",
    "    ax.set_ylabel('Área cosechada (hectáreas)')\n",
    "    ax.set_title('Evolución del área cosechada por país - Año {}'.format(frame))\n",
    "    ax.legend()\n",
    "\n",
    "# Obtener los años únicos en el DataFrame\n",
    "years = df_top_countries['Year'].unique()\n",
    "\n",
    "# Crear la animación\n",
    "animation = FuncAnimation(fig, update, frames=years, interval=1000)\n",
    "\n",
    "# Mostrar la animación\n",
    "plt.show()"
   ]
  },
  {
   "cell_type": "code",
   "execution_count": 14,
   "metadata": {},
   "outputs": [
    {
     "data": {
      "application/vnd.plotly.v1+json": {
       "config": {
        "plotlyServerURL": "https://plot.ly"
       },
       "data": [
        {
         "hovertemplate": "Entity=Argentina<br>Año=%{x}<br>Área cosechada (hectáreas)=%{y}<extra></extra>",
         "legendgroup": "Argentina",
         "line": {
          "color": "#636efa",
          "dash": "solid"
         },
         "marker": {
          "symbol": "circle"
         },
         "mode": "lines",
         "name": "Argentina",
         "orientation": "v",
         "showlegend": true,
         "type": "scatter",
         "x": [
          "1961-01-01",
          "1962-01-01",
          "1963-01-01",
          "1964-01-01",
          "1965-01-01",
          "1966-01-01",
          "1967-01-01",
          "1968-01-01",
          "1969-01-01",
          "1970-01-01",
          "1971-01-01",
          "1972-01-01",
          "1973-01-01",
          "1974-01-01",
          "1975-01-01",
          "1976-01-01",
          "1977-01-01",
          "1978-01-01",
          "1979-01-01",
          "1980-01-01",
          "1981-01-01",
          "1982-01-01",
          "1983-01-01",
          "1984-01-01",
          "1985-01-01",
          "1986-01-01",
          "1987-01-01",
          "1988-01-01",
          "1989-01-01",
          "1990-01-01",
          "1991-01-01",
          "1992-01-01",
          "1993-01-01",
          "1994-01-01",
          "1995-01-01",
          "1996-01-01",
          "1997-01-01",
          "1998-01-01",
          "1999-01-01",
          "2000-01-01",
          "2001-01-01",
          "2002-01-01",
          "2003-01-01",
          "2004-01-01",
          "2005-01-01",
          "2006-01-01",
          "2007-01-01",
          "2008-01-01",
          "2009-01-01",
          "2010-01-01",
          "2011-01-01",
          "2012-01-01",
          "2013-01-01",
          "2014-01-01",
          "2015-01-01",
          "2016-01-01",
          "2017-01-01",
          "2018-01-01",
          "2019-01-01",
          "2020-01-01"
         ],
         "xaxis": "x",
         "y": [
          980,
          9649,
          19302,
          12220,
          16422,
          15689,
          17290,
          20200,
          28200,
          25970,
          36330,
          68000,
          157030,
          334440,
          355940,
          433500,
          660000,
          1150000,
          1600000,
          2030000,
          1880000,
          1985600,
          2280700,
          2910000,
          3269000,
          3316000,
          3532650,
          4373200,
          3931250,
          4961600,
          4774500,
          4935710,
          5116235,
          5748910,
          5934160,
          5913415,
          6393780,
          6954120,
          8180000,
          8637503,
          10400193,
          11405247,
          12419995,
          14304539,
          14032198,
          15130038,
          15981264,
          16387438,
          16771003,
          18130800,
          18764850,
          17577320,
          19418824,
          19252552,
          19352116,
          19504648,
          17335102,
          16318060,
          16575887,
          16721424
         ],
         "yaxis": "y"
        },
        {
         "hovertemplate": "Entity=Brazil<br>Año=%{x}<br>Área cosechada (hectáreas)=%{y}<extra></extra>",
         "legendgroup": "Brazil",
         "line": {
          "color": "#EF553B",
          "dash": "solid"
         },
         "marker": {
          "symbol": "circle"
         },
         "mode": "lines",
         "name": "Brazil",
         "orientation": "v",
         "showlegend": true,
         "type": "scatter",
         "x": [
          "1961-01-01",
          "1962-01-01",
          "1963-01-01",
          "1964-01-01",
          "1965-01-01",
          "1966-01-01",
          "1967-01-01",
          "1968-01-01",
          "1969-01-01",
          "1970-01-01",
          "1971-01-01",
          "1972-01-01",
          "1973-01-01",
          "1974-01-01",
          "1975-01-01",
          "1976-01-01",
          "1977-01-01",
          "1978-01-01",
          "1979-01-01",
          "1980-01-01",
          "1981-01-01",
          "1982-01-01",
          "1983-01-01",
          "1984-01-01",
          "1985-01-01",
          "1986-01-01",
          "1987-01-01",
          "1988-01-01",
          "1989-01-01",
          "1990-01-01",
          "1991-01-01",
          "1992-01-01",
          "1993-01-01",
          "1994-01-01",
          "1995-01-01",
          "1996-01-01",
          "1997-01-01",
          "1998-01-01",
          "1999-01-01",
          "2000-01-01",
          "2001-01-01",
          "2002-01-01",
          "2003-01-01",
          "2004-01-01",
          "2005-01-01",
          "2006-01-01",
          "2007-01-01",
          "2008-01-01",
          "2009-01-01",
          "2010-01-01",
          "2011-01-01",
          "2012-01-01",
          "2013-01-01",
          "2014-01-01",
          "2015-01-01",
          "2016-01-01",
          "2017-01-01",
          "2018-01-01",
          "2019-01-01",
          "2020-01-01"
         ],
         "xaxis": "x",
         "y": [
          240919,
          313640,
          339796,
          359622,
          431834,
          490687,
          612115,
          721913,
          906073,
          1318809,
          1716420,
          2191455,
          3615058,
          5143367,
          5824492,
          6416368,
          7070263,
          7782187,
          8256096,
          8774023,
          8501169,
          8203277,
          8137112,
          9421202,
          10153405,
          9181587,
          9129795,
          10518370,
          12200560,
          11487300,
          9616650,
          9441390,
          10635330,
          11525410,
          11675005,
          10299470,
          11486478,
          13303656,
          13061410,
          13656771,
          13985099,
          16359441,
          18524768,
          21538990,
          22948874,
          22047348,
          20565280,
          21246302,
          21750468,
          23327296,
          23968664,
          24975258,
          27906676,
          30273764,
          32181244,
          33183120,
          33959880,
          34777936,
          35895208,
          37188168
         ],
         "yaxis": "y"
        },
        {
         "hovertemplate": "Entity=China<br>Año=%{x}<br>Área cosechada (hectáreas)=%{y}<extra></extra>",
         "legendgroup": "China",
         "line": {
          "color": "#00cc96",
          "dash": "solid"
         },
         "marker": {
          "symbol": "circle"
         },
         "mode": "lines",
         "name": "China",
         "orientation": "v",
         "showlegend": true,
         "type": "scatter",
         "x": [
          "1961-01-01",
          "1962-01-01",
          "1963-01-01",
          "1964-01-01",
          "1965-01-01",
          "1966-01-01",
          "1967-01-01",
          "1968-01-01",
          "1969-01-01",
          "1970-01-01",
          "1971-01-01",
          "1972-01-01",
          "1973-01-01",
          "1974-01-01",
          "1975-01-01",
          "1976-01-01",
          "1977-01-01",
          "1978-01-01",
          "1979-01-01",
          "1980-01-01",
          "1981-01-01",
          "1982-01-01",
          "1983-01-01",
          "1984-01-01",
          "1985-01-01",
          "1986-01-01",
          "1987-01-01",
          "1988-01-01",
          "1989-01-01",
          "1990-01-01",
          "1991-01-01",
          "1992-01-01",
          "1993-01-01",
          "1994-01-01",
          "1995-01-01",
          "1996-01-01",
          "1997-01-01",
          "1998-01-01",
          "1999-01-01",
          "2000-01-01",
          "2001-01-01",
          "2002-01-01",
          "2003-01-01",
          "2004-01-01",
          "2005-01-01",
          "2006-01-01",
          "2007-01-01",
          "2008-01-01",
          "2009-01-01",
          "2010-01-01",
          "2011-01-01",
          "2012-01-01",
          "2013-01-01",
          "2014-01-01",
          "2015-01-01",
          "2016-01-01",
          "2017-01-01",
          "2018-01-01",
          "2019-01-01",
          "2020-01-01"
         ],
         "xaxis": "x",
         "y": [
          9947000,
          9494500,
          9623700,
          9998650,
          8584000,
          8417000,
          8494000,
          8354000,
          8320000,
          7977000,
          7784000,
          7576000,
          7400000,
          7254000,
          6992000,
          6684000,
          6838000,
          7144000,
          7239000,
          7219000,
          8015000,
          8410000,
          7559600,
          7286000,
          7718000,
          8296000,
          8444933,
          8120000,
          8057300,
          7559600,
          7041000,
          7220900,
          9454100,
          9221800,
          8126700,
          7470550,
          8346180,
          8500170,
          7962010,
          9306580,
          9481700,
          8719550,
          9312910,
          9588750,
          9590750,
          9304420,
          8753840,
          9127110,
          9189790,
          8515750,
          7888540,
          7171060,
          6790500,
          6799900,
          6506100,
          7092736,
          8244810,
          8412770,
          9300000,
          9882500
         ],
         "yaxis": "y"
        },
        {
         "hovertemplate": "Entity=India<br>Año=%{x}<br>Área cosechada (hectáreas)=%{y}<extra></extra>",
         "legendgroup": "India",
         "line": {
          "color": "#ab63fa",
          "dash": "solid"
         },
         "marker": {
          "symbol": "circle"
         },
         "mode": "lines",
         "name": "India",
         "orientation": "v",
         "showlegend": true,
         "type": "scatter",
         "x": [
          "1961-01-01",
          "1962-01-01",
          "1963-01-01",
          "1964-01-01",
          "1965-01-01",
          "1966-01-01",
          "1967-01-01",
          "1968-01-01",
          "1969-01-01",
          "1970-01-01",
          "1971-01-01",
          "1972-01-01",
          "1973-01-01",
          "1974-01-01",
          "1975-01-01",
          "1976-01-01",
          "1977-01-01",
          "1978-01-01",
          "1979-01-01",
          "1980-01-01",
          "1981-01-01",
          "1982-01-01",
          "1983-01-01",
          "1984-01-01",
          "1985-01-01",
          "1986-01-01",
          "1987-01-01",
          "1988-01-01",
          "1989-01-01",
          "1990-01-01",
          "1991-01-01",
          "1992-01-01",
          "1993-01-01",
          "1994-01-01",
          "1995-01-01",
          "1996-01-01",
          "1997-01-01",
          "1998-01-01",
          "1999-01-01",
          "2000-01-01",
          "2001-01-01",
          "2002-01-01",
          "2003-01-01",
          "2004-01-01",
          "2005-01-01",
          "2006-01-01",
          "2007-01-01",
          "2008-01-01",
          "2009-01-01",
          "2010-01-01",
          "2011-01-01",
          "2012-01-01",
          "2013-01-01",
          "2014-01-01",
          "2015-01-01",
          "2016-01-01",
          "2017-01-01",
          "2018-01-01",
          "2019-01-01",
          "2020-01-01"
         ],
         "xaxis": "x",
         "y": [
          11000,
          11000,
          18000,
          18000,
          23000,
          23000,
          27000,
          27000,
          32000,
          32000,
          32000,
          34000,
          48000,
          67000,
          93000,
          125000,
          195000,
          306000,
          496000,
          608000,
          475000,
          770000,
          836000,
          1242700,
          1339700,
          1526800,
          1542600,
          1734100,
          2253000,
          2564200,
          3184800,
          3789000,
          4370500,
          4318000,
          5035000,
          5233000,
          5990200,
          6493000,
          6222500,
          6416600,
          6343100,
          6105500,
          6554700,
          7571200,
          7707500,
          8334000,
          8880000,
          9510800,
          9734700,
          9554190,
          10180000,
          10840000,
          11716430,
          11086000,
          11670000,
          11180000,
          11183400,
          10328830,
          11131260,
          12192710
         ],
         "yaxis": "y"
        },
        {
         "hovertemplate": "Entity=United States<br>Año=%{x}<br>Área cosechada (hectáreas)=%{y}<extra></extra>",
         "legendgroup": "United States",
         "line": {
          "color": "#FFA15A",
          "dash": "solid"
         },
         "marker": {
          "symbol": "circle"
         },
         "mode": "lines",
         "name": "United States",
         "orientation": "v",
         "showlegend": true,
         "type": "scatter",
         "x": [
          "1961-01-01",
          "1962-01-01",
          "1963-01-01",
          "1964-01-01",
          "1965-01-01",
          "1966-01-01",
          "1967-01-01",
          "1968-01-01",
          "1969-01-01",
          "1970-01-01",
          "1971-01-01",
          "1972-01-01",
          "1973-01-01",
          "1974-01-01",
          "1975-01-01",
          "1976-01-01",
          "1977-01-01",
          "1978-01-01",
          "1979-01-01",
          "1980-01-01",
          "1981-01-01",
          "1982-01-01",
          "1983-01-01",
          "1984-01-01",
          "1985-01-01",
          "1986-01-01",
          "1987-01-01",
          "1988-01-01",
          "1989-01-01",
          "1990-01-01",
          "1991-01-01",
          "1992-01-01",
          "1993-01-01",
          "1994-01-01",
          "1995-01-01",
          "1996-01-01",
          "1997-01-01",
          "1998-01-01",
          "1999-01-01",
          "2000-01-01",
          "2001-01-01",
          "2002-01-01",
          "2003-01-01",
          "2004-01-01",
          "2005-01-01",
          "2006-01-01",
          "2007-01-01",
          "2008-01-01",
          "2009-01-01",
          "2010-01-01",
          "2011-01-01",
          "2012-01-01",
          "2013-01-01",
          "2014-01-01",
          "2015-01-01",
          "2016-01-01",
          "2017-01-01",
          "2018-01-01",
          "2019-01-01",
          "2020-01-01"
         ],
         "xaxis": "x",
         "y": [
          10928000,
          11172000,
          11580000,
          12461000,
          13941000,
          14789000,
          16108287,
          16750110,
          16728257,
          17097328,
          17281856,
          18486992,
          22527328,
          20776672,
          21697728,
          19991600,
          23402640,
          25763776,
          28466400,
          27442608,
          26774800,
          28101808,
          25302608,
          26755008,
          24922000,
          23590000,
          23136000,
          23218000,
          24033008,
          22869008,
          23476470,
          23566310,
          23191570,
          24608790,
          24906240,
          25636710,
          27968130,
          28506770,
          29318170,
          29302790,
          29532250,
          29338810,
          29330310,
          29930060,
          28834570,
          30190680,
          25959240,
          30222650,
          30906980,
          31003300,
          29856410,
          30814720,
          30858830,
          33423750,
          33123470,
          33470290,
          36236752,
          35448420,
          30327060,
          33428610
         ],
         "yaxis": "y"
        }
       ],
       "frames": [
        {
         "data": [
          {
           "mode": "lines",
           "name": "United States",
           "type": "scatter",
           "x": [
            "1961-01-01",
            "1961-01-01",
            "1961-01-01",
            "1961-01-01",
            "1961-01-01"
           ],
           "y": [
            980,
            240919,
            9947000,
            11000,
            10928000
           ]
          },
          {
           "mode": "lines",
           "name": "Brazil",
           "type": "scatter",
           "x": [
            "1961-01-01",
            "1961-01-01",
            "1961-01-01",
            "1961-01-01",
            "1961-01-01"
           ],
           "y": [
            980,
            240919,
            9947000,
            11000,
            10928000
           ]
          },
          {
           "mode": "lines",
           "name": "China",
           "type": "scatter",
           "x": [
            "1961-01-01",
            "1961-01-01",
            "1961-01-01",
            "1961-01-01",
            "1961-01-01"
           ],
           "y": [
            980,
            240919,
            9947000,
            11000,
            10928000
           ]
          },
          {
           "mode": "lines",
           "name": "Argentina",
           "type": "scatter",
           "x": [
            "1961-01-01",
            "1961-01-01",
            "1961-01-01",
            "1961-01-01",
            "1961-01-01"
           ],
           "y": [
            980,
            240919,
            9947000,
            11000,
            10928000
           ]
          },
          {
           "mode": "lines",
           "name": "India",
           "type": "scatter",
           "x": [
            "1961-01-01",
            "1961-01-01",
            "1961-01-01",
            "1961-01-01",
            "1961-01-01"
           ],
           "y": [
            980,
            240919,
            9947000,
            11000,
            10928000
           ]
          }
         ],
         "name": "1961-01-01"
        },
        {
         "data": [
          {
           "mode": "lines",
           "name": "United States",
           "type": "scatter",
           "x": [
            "1962-01-01",
            "1962-01-01",
            "1962-01-01",
            "1962-01-01",
            "1962-01-01"
           ],
           "y": [
            9649,
            313640,
            9494500,
            11000,
            11172000
           ]
          },
          {
           "mode": "lines",
           "name": "Brazil",
           "type": "scatter",
           "x": [
            "1962-01-01",
            "1962-01-01",
            "1962-01-01",
            "1962-01-01",
            "1962-01-01"
           ],
           "y": [
            9649,
            313640,
            9494500,
            11000,
            11172000
           ]
          },
          {
           "mode": "lines",
           "name": "China",
           "type": "scatter",
           "x": [
            "1962-01-01",
            "1962-01-01",
            "1962-01-01",
            "1962-01-01",
            "1962-01-01"
           ],
           "y": [
            9649,
            313640,
            9494500,
            11000,
            11172000
           ]
          },
          {
           "mode": "lines",
           "name": "Argentina",
           "type": "scatter",
           "x": [
            "1962-01-01",
            "1962-01-01",
            "1962-01-01",
            "1962-01-01",
            "1962-01-01"
           ],
           "y": [
            9649,
            313640,
            9494500,
            11000,
            11172000
           ]
          },
          {
           "mode": "lines",
           "name": "India",
           "type": "scatter",
           "x": [
            "1962-01-01",
            "1962-01-01",
            "1962-01-01",
            "1962-01-01",
            "1962-01-01"
           ],
           "y": [
            9649,
            313640,
            9494500,
            11000,
            11172000
           ]
          }
         ],
         "name": "1962-01-01"
        },
        {
         "data": [
          {
           "mode": "lines",
           "name": "United States",
           "type": "scatter",
           "x": [
            "1963-01-01",
            "1963-01-01",
            "1963-01-01",
            "1963-01-01",
            "1963-01-01"
           ],
           "y": [
            19302,
            339796,
            9623700,
            18000,
            11580000
           ]
          },
          {
           "mode": "lines",
           "name": "Brazil",
           "type": "scatter",
           "x": [
            "1963-01-01",
            "1963-01-01",
            "1963-01-01",
            "1963-01-01",
            "1963-01-01"
           ],
           "y": [
            19302,
            339796,
            9623700,
            18000,
            11580000
           ]
          },
          {
           "mode": "lines",
           "name": "China",
           "type": "scatter",
           "x": [
            "1963-01-01",
            "1963-01-01",
            "1963-01-01",
            "1963-01-01",
            "1963-01-01"
           ],
           "y": [
            19302,
            339796,
            9623700,
            18000,
            11580000
           ]
          },
          {
           "mode": "lines",
           "name": "Argentina",
           "type": "scatter",
           "x": [
            "1963-01-01",
            "1963-01-01",
            "1963-01-01",
            "1963-01-01",
            "1963-01-01"
           ],
           "y": [
            19302,
            339796,
            9623700,
            18000,
            11580000
           ]
          },
          {
           "mode": "lines",
           "name": "India",
           "type": "scatter",
           "x": [
            "1963-01-01",
            "1963-01-01",
            "1963-01-01",
            "1963-01-01",
            "1963-01-01"
           ],
           "y": [
            19302,
            339796,
            9623700,
            18000,
            11580000
           ]
          }
         ],
         "name": "1963-01-01"
        },
        {
         "data": [
          {
           "mode": "lines",
           "name": "United States",
           "type": "scatter",
           "x": [
            "1964-01-01",
            "1964-01-01",
            "1964-01-01",
            "1964-01-01",
            "1964-01-01"
           ],
           "y": [
            12220,
            359622,
            9998650,
            18000,
            12461000
           ]
          },
          {
           "mode": "lines",
           "name": "Brazil",
           "type": "scatter",
           "x": [
            "1964-01-01",
            "1964-01-01",
            "1964-01-01",
            "1964-01-01",
            "1964-01-01"
           ],
           "y": [
            12220,
            359622,
            9998650,
            18000,
            12461000
           ]
          },
          {
           "mode": "lines",
           "name": "China",
           "type": "scatter",
           "x": [
            "1964-01-01",
            "1964-01-01",
            "1964-01-01",
            "1964-01-01",
            "1964-01-01"
           ],
           "y": [
            12220,
            359622,
            9998650,
            18000,
            12461000
           ]
          },
          {
           "mode": "lines",
           "name": "Argentina",
           "type": "scatter",
           "x": [
            "1964-01-01",
            "1964-01-01",
            "1964-01-01",
            "1964-01-01",
            "1964-01-01"
           ],
           "y": [
            12220,
            359622,
            9998650,
            18000,
            12461000
           ]
          },
          {
           "mode": "lines",
           "name": "India",
           "type": "scatter",
           "x": [
            "1964-01-01",
            "1964-01-01",
            "1964-01-01",
            "1964-01-01",
            "1964-01-01"
           ],
           "y": [
            12220,
            359622,
            9998650,
            18000,
            12461000
           ]
          }
         ],
         "name": "1964-01-01"
        },
        {
         "data": [
          {
           "mode": "lines",
           "name": "United States",
           "type": "scatter",
           "x": [
            "1965-01-01",
            "1965-01-01",
            "1965-01-01",
            "1965-01-01",
            "1965-01-01"
           ],
           "y": [
            16422,
            431834,
            8584000,
            23000,
            13941000
           ]
          },
          {
           "mode": "lines",
           "name": "Brazil",
           "type": "scatter",
           "x": [
            "1965-01-01",
            "1965-01-01",
            "1965-01-01",
            "1965-01-01",
            "1965-01-01"
           ],
           "y": [
            16422,
            431834,
            8584000,
            23000,
            13941000
           ]
          },
          {
           "mode": "lines",
           "name": "China",
           "type": "scatter",
           "x": [
            "1965-01-01",
            "1965-01-01",
            "1965-01-01",
            "1965-01-01",
            "1965-01-01"
           ],
           "y": [
            16422,
            431834,
            8584000,
            23000,
            13941000
           ]
          },
          {
           "mode": "lines",
           "name": "Argentina",
           "type": "scatter",
           "x": [
            "1965-01-01",
            "1965-01-01",
            "1965-01-01",
            "1965-01-01",
            "1965-01-01"
           ],
           "y": [
            16422,
            431834,
            8584000,
            23000,
            13941000
           ]
          },
          {
           "mode": "lines",
           "name": "India",
           "type": "scatter",
           "x": [
            "1965-01-01",
            "1965-01-01",
            "1965-01-01",
            "1965-01-01",
            "1965-01-01"
           ],
           "y": [
            16422,
            431834,
            8584000,
            23000,
            13941000
           ]
          }
         ],
         "name": "1965-01-01"
        },
        {
         "data": [
          {
           "mode": "lines",
           "name": "United States",
           "type": "scatter",
           "x": [
            "1966-01-01",
            "1966-01-01",
            "1966-01-01",
            "1966-01-01",
            "1966-01-01"
           ],
           "y": [
            15689,
            490687,
            8417000,
            23000,
            14789000
           ]
          },
          {
           "mode": "lines",
           "name": "Brazil",
           "type": "scatter",
           "x": [
            "1966-01-01",
            "1966-01-01",
            "1966-01-01",
            "1966-01-01",
            "1966-01-01"
           ],
           "y": [
            15689,
            490687,
            8417000,
            23000,
            14789000
           ]
          },
          {
           "mode": "lines",
           "name": "China",
           "type": "scatter",
           "x": [
            "1966-01-01",
            "1966-01-01",
            "1966-01-01",
            "1966-01-01",
            "1966-01-01"
           ],
           "y": [
            15689,
            490687,
            8417000,
            23000,
            14789000
           ]
          },
          {
           "mode": "lines",
           "name": "Argentina",
           "type": "scatter",
           "x": [
            "1966-01-01",
            "1966-01-01",
            "1966-01-01",
            "1966-01-01",
            "1966-01-01"
           ],
           "y": [
            15689,
            490687,
            8417000,
            23000,
            14789000
           ]
          },
          {
           "mode": "lines",
           "name": "India",
           "type": "scatter",
           "x": [
            "1966-01-01",
            "1966-01-01",
            "1966-01-01",
            "1966-01-01",
            "1966-01-01"
           ],
           "y": [
            15689,
            490687,
            8417000,
            23000,
            14789000
           ]
          }
         ],
         "name": "1966-01-01"
        },
        {
         "data": [
          {
           "mode": "lines",
           "name": "United States",
           "type": "scatter",
           "x": [
            "1967-01-01",
            "1967-01-01",
            "1967-01-01",
            "1967-01-01",
            "1967-01-01"
           ],
           "y": [
            17290,
            612115,
            8494000,
            27000,
            16108287
           ]
          },
          {
           "mode": "lines",
           "name": "Brazil",
           "type": "scatter",
           "x": [
            "1967-01-01",
            "1967-01-01",
            "1967-01-01",
            "1967-01-01",
            "1967-01-01"
           ],
           "y": [
            17290,
            612115,
            8494000,
            27000,
            16108287
           ]
          },
          {
           "mode": "lines",
           "name": "China",
           "type": "scatter",
           "x": [
            "1967-01-01",
            "1967-01-01",
            "1967-01-01",
            "1967-01-01",
            "1967-01-01"
           ],
           "y": [
            17290,
            612115,
            8494000,
            27000,
            16108287
           ]
          },
          {
           "mode": "lines",
           "name": "Argentina",
           "type": "scatter",
           "x": [
            "1967-01-01",
            "1967-01-01",
            "1967-01-01",
            "1967-01-01",
            "1967-01-01"
           ],
           "y": [
            17290,
            612115,
            8494000,
            27000,
            16108287
           ]
          },
          {
           "mode": "lines",
           "name": "India",
           "type": "scatter",
           "x": [
            "1967-01-01",
            "1967-01-01",
            "1967-01-01",
            "1967-01-01",
            "1967-01-01"
           ],
           "y": [
            17290,
            612115,
            8494000,
            27000,
            16108287
           ]
          }
         ],
         "name": "1967-01-01"
        },
        {
         "data": [
          {
           "mode": "lines",
           "name": "United States",
           "type": "scatter",
           "x": [
            "1968-01-01",
            "1968-01-01",
            "1968-01-01",
            "1968-01-01",
            "1968-01-01"
           ],
           "y": [
            20200,
            721913,
            8354000,
            27000,
            16750110
           ]
          },
          {
           "mode": "lines",
           "name": "Brazil",
           "type": "scatter",
           "x": [
            "1968-01-01",
            "1968-01-01",
            "1968-01-01",
            "1968-01-01",
            "1968-01-01"
           ],
           "y": [
            20200,
            721913,
            8354000,
            27000,
            16750110
           ]
          },
          {
           "mode": "lines",
           "name": "China",
           "type": "scatter",
           "x": [
            "1968-01-01",
            "1968-01-01",
            "1968-01-01",
            "1968-01-01",
            "1968-01-01"
           ],
           "y": [
            20200,
            721913,
            8354000,
            27000,
            16750110
           ]
          },
          {
           "mode": "lines",
           "name": "Argentina",
           "type": "scatter",
           "x": [
            "1968-01-01",
            "1968-01-01",
            "1968-01-01",
            "1968-01-01",
            "1968-01-01"
           ],
           "y": [
            20200,
            721913,
            8354000,
            27000,
            16750110
           ]
          },
          {
           "mode": "lines",
           "name": "India",
           "type": "scatter",
           "x": [
            "1968-01-01",
            "1968-01-01",
            "1968-01-01",
            "1968-01-01",
            "1968-01-01"
           ],
           "y": [
            20200,
            721913,
            8354000,
            27000,
            16750110
           ]
          }
         ],
         "name": "1968-01-01"
        },
        {
         "data": [
          {
           "mode": "lines",
           "name": "United States",
           "type": "scatter",
           "x": [
            "1969-01-01",
            "1969-01-01",
            "1969-01-01",
            "1969-01-01",
            "1969-01-01"
           ],
           "y": [
            28200,
            906073,
            8320000,
            32000,
            16728257
           ]
          },
          {
           "mode": "lines",
           "name": "Brazil",
           "type": "scatter",
           "x": [
            "1969-01-01",
            "1969-01-01",
            "1969-01-01",
            "1969-01-01",
            "1969-01-01"
           ],
           "y": [
            28200,
            906073,
            8320000,
            32000,
            16728257
           ]
          },
          {
           "mode": "lines",
           "name": "China",
           "type": "scatter",
           "x": [
            "1969-01-01",
            "1969-01-01",
            "1969-01-01",
            "1969-01-01",
            "1969-01-01"
           ],
           "y": [
            28200,
            906073,
            8320000,
            32000,
            16728257
           ]
          },
          {
           "mode": "lines",
           "name": "Argentina",
           "type": "scatter",
           "x": [
            "1969-01-01",
            "1969-01-01",
            "1969-01-01",
            "1969-01-01",
            "1969-01-01"
           ],
           "y": [
            28200,
            906073,
            8320000,
            32000,
            16728257
           ]
          },
          {
           "mode": "lines",
           "name": "India",
           "type": "scatter",
           "x": [
            "1969-01-01",
            "1969-01-01",
            "1969-01-01",
            "1969-01-01",
            "1969-01-01"
           ],
           "y": [
            28200,
            906073,
            8320000,
            32000,
            16728257
           ]
          }
         ],
         "name": "1969-01-01"
        },
        {
         "data": [
          {
           "mode": "lines",
           "name": "United States",
           "type": "scatter",
           "x": [
            "1970-01-01",
            "1970-01-01",
            "1970-01-01",
            "1970-01-01",
            "1970-01-01"
           ],
           "y": [
            25970,
            1318809,
            7977000,
            32000,
            17097328
           ]
          },
          {
           "mode": "lines",
           "name": "Brazil",
           "type": "scatter",
           "x": [
            "1970-01-01",
            "1970-01-01",
            "1970-01-01",
            "1970-01-01",
            "1970-01-01"
           ],
           "y": [
            25970,
            1318809,
            7977000,
            32000,
            17097328
           ]
          },
          {
           "mode": "lines",
           "name": "China",
           "type": "scatter",
           "x": [
            "1970-01-01",
            "1970-01-01",
            "1970-01-01",
            "1970-01-01",
            "1970-01-01"
           ],
           "y": [
            25970,
            1318809,
            7977000,
            32000,
            17097328
           ]
          },
          {
           "mode": "lines",
           "name": "Argentina",
           "type": "scatter",
           "x": [
            "1970-01-01",
            "1970-01-01",
            "1970-01-01",
            "1970-01-01",
            "1970-01-01"
           ],
           "y": [
            25970,
            1318809,
            7977000,
            32000,
            17097328
           ]
          },
          {
           "mode": "lines",
           "name": "India",
           "type": "scatter",
           "x": [
            "1970-01-01",
            "1970-01-01",
            "1970-01-01",
            "1970-01-01",
            "1970-01-01"
           ],
           "y": [
            25970,
            1318809,
            7977000,
            32000,
            17097328
           ]
          }
         ],
         "name": "1970-01-01"
        },
        {
         "data": [
          {
           "mode": "lines",
           "name": "United States",
           "type": "scatter",
           "x": [
            "1971-01-01",
            "1971-01-01",
            "1971-01-01",
            "1971-01-01",
            "1971-01-01"
           ],
           "y": [
            36330,
            1716420,
            7784000,
            32000,
            17281856
           ]
          },
          {
           "mode": "lines",
           "name": "Brazil",
           "type": "scatter",
           "x": [
            "1971-01-01",
            "1971-01-01",
            "1971-01-01",
            "1971-01-01",
            "1971-01-01"
           ],
           "y": [
            36330,
            1716420,
            7784000,
            32000,
            17281856
           ]
          },
          {
           "mode": "lines",
           "name": "China",
           "type": "scatter",
           "x": [
            "1971-01-01",
            "1971-01-01",
            "1971-01-01",
            "1971-01-01",
            "1971-01-01"
           ],
           "y": [
            36330,
            1716420,
            7784000,
            32000,
            17281856
           ]
          },
          {
           "mode": "lines",
           "name": "Argentina",
           "type": "scatter",
           "x": [
            "1971-01-01",
            "1971-01-01",
            "1971-01-01",
            "1971-01-01",
            "1971-01-01"
           ],
           "y": [
            36330,
            1716420,
            7784000,
            32000,
            17281856
           ]
          },
          {
           "mode": "lines",
           "name": "India",
           "type": "scatter",
           "x": [
            "1971-01-01",
            "1971-01-01",
            "1971-01-01",
            "1971-01-01",
            "1971-01-01"
           ],
           "y": [
            36330,
            1716420,
            7784000,
            32000,
            17281856
           ]
          }
         ],
         "name": "1971-01-01"
        },
        {
         "data": [
          {
           "mode": "lines",
           "name": "United States",
           "type": "scatter",
           "x": [
            "1972-01-01",
            "1972-01-01",
            "1972-01-01",
            "1972-01-01",
            "1972-01-01"
           ],
           "y": [
            68000,
            2191455,
            7576000,
            34000,
            18486992
           ]
          },
          {
           "mode": "lines",
           "name": "Brazil",
           "type": "scatter",
           "x": [
            "1972-01-01",
            "1972-01-01",
            "1972-01-01",
            "1972-01-01",
            "1972-01-01"
           ],
           "y": [
            68000,
            2191455,
            7576000,
            34000,
            18486992
           ]
          },
          {
           "mode": "lines",
           "name": "China",
           "type": "scatter",
           "x": [
            "1972-01-01",
            "1972-01-01",
            "1972-01-01",
            "1972-01-01",
            "1972-01-01"
           ],
           "y": [
            68000,
            2191455,
            7576000,
            34000,
            18486992
           ]
          },
          {
           "mode": "lines",
           "name": "Argentina",
           "type": "scatter",
           "x": [
            "1972-01-01",
            "1972-01-01",
            "1972-01-01",
            "1972-01-01",
            "1972-01-01"
           ],
           "y": [
            68000,
            2191455,
            7576000,
            34000,
            18486992
           ]
          },
          {
           "mode": "lines",
           "name": "India",
           "type": "scatter",
           "x": [
            "1972-01-01",
            "1972-01-01",
            "1972-01-01",
            "1972-01-01",
            "1972-01-01"
           ],
           "y": [
            68000,
            2191455,
            7576000,
            34000,
            18486992
           ]
          }
         ],
         "name": "1972-01-01"
        },
        {
         "data": [
          {
           "mode": "lines",
           "name": "United States",
           "type": "scatter",
           "x": [
            "1973-01-01",
            "1973-01-01",
            "1973-01-01",
            "1973-01-01",
            "1973-01-01"
           ],
           "y": [
            157030,
            3615058,
            7400000,
            48000,
            22527328
           ]
          },
          {
           "mode": "lines",
           "name": "Brazil",
           "type": "scatter",
           "x": [
            "1973-01-01",
            "1973-01-01",
            "1973-01-01",
            "1973-01-01",
            "1973-01-01"
           ],
           "y": [
            157030,
            3615058,
            7400000,
            48000,
            22527328
           ]
          },
          {
           "mode": "lines",
           "name": "China",
           "type": "scatter",
           "x": [
            "1973-01-01",
            "1973-01-01",
            "1973-01-01",
            "1973-01-01",
            "1973-01-01"
           ],
           "y": [
            157030,
            3615058,
            7400000,
            48000,
            22527328
           ]
          },
          {
           "mode": "lines",
           "name": "Argentina",
           "type": "scatter",
           "x": [
            "1973-01-01",
            "1973-01-01",
            "1973-01-01",
            "1973-01-01",
            "1973-01-01"
           ],
           "y": [
            157030,
            3615058,
            7400000,
            48000,
            22527328
           ]
          },
          {
           "mode": "lines",
           "name": "India",
           "type": "scatter",
           "x": [
            "1973-01-01",
            "1973-01-01",
            "1973-01-01",
            "1973-01-01",
            "1973-01-01"
           ],
           "y": [
            157030,
            3615058,
            7400000,
            48000,
            22527328
           ]
          }
         ],
         "name": "1973-01-01"
        },
        {
         "data": [
          {
           "mode": "lines",
           "name": "United States",
           "type": "scatter",
           "x": [
            "1974-01-01",
            "1974-01-01",
            "1974-01-01",
            "1974-01-01",
            "1974-01-01"
           ],
           "y": [
            334440,
            5143367,
            7254000,
            67000,
            20776672
           ]
          },
          {
           "mode": "lines",
           "name": "Brazil",
           "type": "scatter",
           "x": [
            "1974-01-01",
            "1974-01-01",
            "1974-01-01",
            "1974-01-01",
            "1974-01-01"
           ],
           "y": [
            334440,
            5143367,
            7254000,
            67000,
            20776672
           ]
          },
          {
           "mode": "lines",
           "name": "China",
           "type": "scatter",
           "x": [
            "1974-01-01",
            "1974-01-01",
            "1974-01-01",
            "1974-01-01",
            "1974-01-01"
           ],
           "y": [
            334440,
            5143367,
            7254000,
            67000,
            20776672
           ]
          },
          {
           "mode": "lines",
           "name": "Argentina",
           "type": "scatter",
           "x": [
            "1974-01-01",
            "1974-01-01",
            "1974-01-01",
            "1974-01-01",
            "1974-01-01"
           ],
           "y": [
            334440,
            5143367,
            7254000,
            67000,
            20776672
           ]
          },
          {
           "mode": "lines",
           "name": "India",
           "type": "scatter",
           "x": [
            "1974-01-01",
            "1974-01-01",
            "1974-01-01",
            "1974-01-01",
            "1974-01-01"
           ],
           "y": [
            334440,
            5143367,
            7254000,
            67000,
            20776672
           ]
          }
         ],
         "name": "1974-01-01"
        },
        {
         "data": [
          {
           "mode": "lines",
           "name": "United States",
           "type": "scatter",
           "x": [
            "1975-01-01",
            "1975-01-01",
            "1975-01-01",
            "1975-01-01",
            "1975-01-01"
           ],
           "y": [
            355940,
            5824492,
            6992000,
            93000,
            21697728
           ]
          },
          {
           "mode": "lines",
           "name": "Brazil",
           "type": "scatter",
           "x": [
            "1975-01-01",
            "1975-01-01",
            "1975-01-01",
            "1975-01-01",
            "1975-01-01"
           ],
           "y": [
            355940,
            5824492,
            6992000,
            93000,
            21697728
           ]
          },
          {
           "mode": "lines",
           "name": "China",
           "type": "scatter",
           "x": [
            "1975-01-01",
            "1975-01-01",
            "1975-01-01",
            "1975-01-01",
            "1975-01-01"
           ],
           "y": [
            355940,
            5824492,
            6992000,
            93000,
            21697728
           ]
          },
          {
           "mode": "lines",
           "name": "Argentina",
           "type": "scatter",
           "x": [
            "1975-01-01",
            "1975-01-01",
            "1975-01-01",
            "1975-01-01",
            "1975-01-01"
           ],
           "y": [
            355940,
            5824492,
            6992000,
            93000,
            21697728
           ]
          },
          {
           "mode": "lines",
           "name": "India",
           "type": "scatter",
           "x": [
            "1975-01-01",
            "1975-01-01",
            "1975-01-01",
            "1975-01-01",
            "1975-01-01"
           ],
           "y": [
            355940,
            5824492,
            6992000,
            93000,
            21697728
           ]
          }
         ],
         "name": "1975-01-01"
        },
        {
         "data": [
          {
           "mode": "lines",
           "name": "United States",
           "type": "scatter",
           "x": [
            "1976-01-01",
            "1976-01-01",
            "1976-01-01",
            "1976-01-01",
            "1976-01-01"
           ],
           "y": [
            433500,
            6416368,
            6684000,
            125000,
            19991600
           ]
          },
          {
           "mode": "lines",
           "name": "Brazil",
           "type": "scatter",
           "x": [
            "1976-01-01",
            "1976-01-01",
            "1976-01-01",
            "1976-01-01",
            "1976-01-01"
           ],
           "y": [
            433500,
            6416368,
            6684000,
            125000,
            19991600
           ]
          },
          {
           "mode": "lines",
           "name": "China",
           "type": "scatter",
           "x": [
            "1976-01-01",
            "1976-01-01",
            "1976-01-01",
            "1976-01-01",
            "1976-01-01"
           ],
           "y": [
            433500,
            6416368,
            6684000,
            125000,
            19991600
           ]
          },
          {
           "mode": "lines",
           "name": "Argentina",
           "type": "scatter",
           "x": [
            "1976-01-01",
            "1976-01-01",
            "1976-01-01",
            "1976-01-01",
            "1976-01-01"
           ],
           "y": [
            433500,
            6416368,
            6684000,
            125000,
            19991600
           ]
          },
          {
           "mode": "lines",
           "name": "India",
           "type": "scatter",
           "x": [
            "1976-01-01",
            "1976-01-01",
            "1976-01-01",
            "1976-01-01",
            "1976-01-01"
           ],
           "y": [
            433500,
            6416368,
            6684000,
            125000,
            19991600
           ]
          }
         ],
         "name": "1976-01-01"
        },
        {
         "data": [
          {
           "mode": "lines",
           "name": "United States",
           "type": "scatter",
           "x": [
            "1977-01-01",
            "1977-01-01",
            "1977-01-01",
            "1977-01-01",
            "1977-01-01"
           ],
           "y": [
            660000,
            7070263,
            6838000,
            195000,
            23402640
           ]
          },
          {
           "mode": "lines",
           "name": "Brazil",
           "type": "scatter",
           "x": [
            "1977-01-01",
            "1977-01-01",
            "1977-01-01",
            "1977-01-01",
            "1977-01-01"
           ],
           "y": [
            660000,
            7070263,
            6838000,
            195000,
            23402640
           ]
          },
          {
           "mode": "lines",
           "name": "China",
           "type": "scatter",
           "x": [
            "1977-01-01",
            "1977-01-01",
            "1977-01-01",
            "1977-01-01",
            "1977-01-01"
           ],
           "y": [
            660000,
            7070263,
            6838000,
            195000,
            23402640
           ]
          },
          {
           "mode": "lines",
           "name": "Argentina",
           "type": "scatter",
           "x": [
            "1977-01-01",
            "1977-01-01",
            "1977-01-01",
            "1977-01-01",
            "1977-01-01"
           ],
           "y": [
            660000,
            7070263,
            6838000,
            195000,
            23402640
           ]
          },
          {
           "mode": "lines",
           "name": "India",
           "type": "scatter",
           "x": [
            "1977-01-01",
            "1977-01-01",
            "1977-01-01",
            "1977-01-01",
            "1977-01-01"
           ],
           "y": [
            660000,
            7070263,
            6838000,
            195000,
            23402640
           ]
          }
         ],
         "name": "1977-01-01"
        },
        {
         "data": [
          {
           "mode": "lines",
           "name": "United States",
           "type": "scatter",
           "x": [
            "1978-01-01",
            "1978-01-01",
            "1978-01-01",
            "1978-01-01",
            "1978-01-01"
           ],
           "y": [
            1150000,
            7782187,
            7144000,
            306000,
            25763776
           ]
          },
          {
           "mode": "lines",
           "name": "Brazil",
           "type": "scatter",
           "x": [
            "1978-01-01",
            "1978-01-01",
            "1978-01-01",
            "1978-01-01",
            "1978-01-01"
           ],
           "y": [
            1150000,
            7782187,
            7144000,
            306000,
            25763776
           ]
          },
          {
           "mode": "lines",
           "name": "China",
           "type": "scatter",
           "x": [
            "1978-01-01",
            "1978-01-01",
            "1978-01-01",
            "1978-01-01",
            "1978-01-01"
           ],
           "y": [
            1150000,
            7782187,
            7144000,
            306000,
            25763776
           ]
          },
          {
           "mode": "lines",
           "name": "Argentina",
           "type": "scatter",
           "x": [
            "1978-01-01",
            "1978-01-01",
            "1978-01-01",
            "1978-01-01",
            "1978-01-01"
           ],
           "y": [
            1150000,
            7782187,
            7144000,
            306000,
            25763776
           ]
          },
          {
           "mode": "lines",
           "name": "India",
           "type": "scatter",
           "x": [
            "1978-01-01",
            "1978-01-01",
            "1978-01-01",
            "1978-01-01",
            "1978-01-01"
           ],
           "y": [
            1150000,
            7782187,
            7144000,
            306000,
            25763776
           ]
          }
         ],
         "name": "1978-01-01"
        },
        {
         "data": [
          {
           "mode": "lines",
           "name": "United States",
           "type": "scatter",
           "x": [
            "1979-01-01",
            "1979-01-01",
            "1979-01-01",
            "1979-01-01",
            "1979-01-01"
           ],
           "y": [
            1600000,
            8256096,
            7239000,
            496000,
            28466400
           ]
          },
          {
           "mode": "lines",
           "name": "Brazil",
           "type": "scatter",
           "x": [
            "1979-01-01",
            "1979-01-01",
            "1979-01-01",
            "1979-01-01",
            "1979-01-01"
           ],
           "y": [
            1600000,
            8256096,
            7239000,
            496000,
            28466400
           ]
          },
          {
           "mode": "lines",
           "name": "China",
           "type": "scatter",
           "x": [
            "1979-01-01",
            "1979-01-01",
            "1979-01-01",
            "1979-01-01",
            "1979-01-01"
           ],
           "y": [
            1600000,
            8256096,
            7239000,
            496000,
            28466400
           ]
          },
          {
           "mode": "lines",
           "name": "Argentina",
           "type": "scatter",
           "x": [
            "1979-01-01",
            "1979-01-01",
            "1979-01-01",
            "1979-01-01",
            "1979-01-01"
           ],
           "y": [
            1600000,
            8256096,
            7239000,
            496000,
            28466400
           ]
          },
          {
           "mode": "lines",
           "name": "India",
           "type": "scatter",
           "x": [
            "1979-01-01",
            "1979-01-01",
            "1979-01-01",
            "1979-01-01",
            "1979-01-01"
           ],
           "y": [
            1600000,
            8256096,
            7239000,
            496000,
            28466400
           ]
          }
         ],
         "name": "1979-01-01"
        },
        {
         "data": [
          {
           "mode": "lines",
           "name": "United States",
           "type": "scatter",
           "x": [
            "1980-01-01",
            "1980-01-01",
            "1980-01-01",
            "1980-01-01",
            "1980-01-01"
           ],
           "y": [
            2030000,
            8774023,
            7219000,
            608000,
            27442608
           ]
          },
          {
           "mode": "lines",
           "name": "Brazil",
           "type": "scatter",
           "x": [
            "1980-01-01",
            "1980-01-01",
            "1980-01-01",
            "1980-01-01",
            "1980-01-01"
           ],
           "y": [
            2030000,
            8774023,
            7219000,
            608000,
            27442608
           ]
          },
          {
           "mode": "lines",
           "name": "China",
           "type": "scatter",
           "x": [
            "1980-01-01",
            "1980-01-01",
            "1980-01-01",
            "1980-01-01",
            "1980-01-01"
           ],
           "y": [
            2030000,
            8774023,
            7219000,
            608000,
            27442608
           ]
          },
          {
           "mode": "lines",
           "name": "Argentina",
           "type": "scatter",
           "x": [
            "1980-01-01",
            "1980-01-01",
            "1980-01-01",
            "1980-01-01",
            "1980-01-01"
           ],
           "y": [
            2030000,
            8774023,
            7219000,
            608000,
            27442608
           ]
          },
          {
           "mode": "lines",
           "name": "India",
           "type": "scatter",
           "x": [
            "1980-01-01",
            "1980-01-01",
            "1980-01-01",
            "1980-01-01",
            "1980-01-01"
           ],
           "y": [
            2030000,
            8774023,
            7219000,
            608000,
            27442608
           ]
          }
         ],
         "name": "1980-01-01"
        },
        {
         "data": [
          {
           "mode": "lines",
           "name": "United States",
           "type": "scatter",
           "x": [
            "1981-01-01",
            "1981-01-01",
            "1981-01-01",
            "1981-01-01",
            "1981-01-01"
           ],
           "y": [
            1880000,
            8501169,
            8015000,
            475000,
            26774800
           ]
          },
          {
           "mode": "lines",
           "name": "Brazil",
           "type": "scatter",
           "x": [
            "1981-01-01",
            "1981-01-01",
            "1981-01-01",
            "1981-01-01",
            "1981-01-01"
           ],
           "y": [
            1880000,
            8501169,
            8015000,
            475000,
            26774800
           ]
          },
          {
           "mode": "lines",
           "name": "China",
           "type": "scatter",
           "x": [
            "1981-01-01",
            "1981-01-01",
            "1981-01-01",
            "1981-01-01",
            "1981-01-01"
           ],
           "y": [
            1880000,
            8501169,
            8015000,
            475000,
            26774800
           ]
          },
          {
           "mode": "lines",
           "name": "Argentina",
           "type": "scatter",
           "x": [
            "1981-01-01",
            "1981-01-01",
            "1981-01-01",
            "1981-01-01",
            "1981-01-01"
           ],
           "y": [
            1880000,
            8501169,
            8015000,
            475000,
            26774800
           ]
          },
          {
           "mode": "lines",
           "name": "India",
           "type": "scatter",
           "x": [
            "1981-01-01",
            "1981-01-01",
            "1981-01-01",
            "1981-01-01",
            "1981-01-01"
           ],
           "y": [
            1880000,
            8501169,
            8015000,
            475000,
            26774800
           ]
          }
         ],
         "name": "1981-01-01"
        },
        {
         "data": [
          {
           "mode": "lines",
           "name": "United States",
           "type": "scatter",
           "x": [
            "1982-01-01",
            "1982-01-01",
            "1982-01-01",
            "1982-01-01",
            "1982-01-01"
           ],
           "y": [
            1985600,
            8203277,
            8410000,
            770000,
            28101808
           ]
          },
          {
           "mode": "lines",
           "name": "Brazil",
           "type": "scatter",
           "x": [
            "1982-01-01",
            "1982-01-01",
            "1982-01-01",
            "1982-01-01",
            "1982-01-01"
           ],
           "y": [
            1985600,
            8203277,
            8410000,
            770000,
            28101808
           ]
          },
          {
           "mode": "lines",
           "name": "China",
           "type": "scatter",
           "x": [
            "1982-01-01",
            "1982-01-01",
            "1982-01-01",
            "1982-01-01",
            "1982-01-01"
           ],
           "y": [
            1985600,
            8203277,
            8410000,
            770000,
            28101808
           ]
          },
          {
           "mode": "lines",
           "name": "Argentina",
           "type": "scatter",
           "x": [
            "1982-01-01",
            "1982-01-01",
            "1982-01-01",
            "1982-01-01",
            "1982-01-01"
           ],
           "y": [
            1985600,
            8203277,
            8410000,
            770000,
            28101808
           ]
          },
          {
           "mode": "lines",
           "name": "India",
           "type": "scatter",
           "x": [
            "1982-01-01",
            "1982-01-01",
            "1982-01-01",
            "1982-01-01",
            "1982-01-01"
           ],
           "y": [
            1985600,
            8203277,
            8410000,
            770000,
            28101808
           ]
          }
         ],
         "name": "1982-01-01"
        },
        {
         "data": [
          {
           "mode": "lines",
           "name": "United States",
           "type": "scatter",
           "x": [
            "1983-01-01",
            "1983-01-01",
            "1983-01-01",
            "1983-01-01",
            "1983-01-01"
           ],
           "y": [
            2280700,
            8137112,
            7559600,
            836000,
            25302608
           ]
          },
          {
           "mode": "lines",
           "name": "Brazil",
           "type": "scatter",
           "x": [
            "1983-01-01",
            "1983-01-01",
            "1983-01-01",
            "1983-01-01",
            "1983-01-01"
           ],
           "y": [
            2280700,
            8137112,
            7559600,
            836000,
            25302608
           ]
          },
          {
           "mode": "lines",
           "name": "China",
           "type": "scatter",
           "x": [
            "1983-01-01",
            "1983-01-01",
            "1983-01-01",
            "1983-01-01",
            "1983-01-01"
           ],
           "y": [
            2280700,
            8137112,
            7559600,
            836000,
            25302608
           ]
          },
          {
           "mode": "lines",
           "name": "Argentina",
           "type": "scatter",
           "x": [
            "1983-01-01",
            "1983-01-01",
            "1983-01-01",
            "1983-01-01",
            "1983-01-01"
           ],
           "y": [
            2280700,
            8137112,
            7559600,
            836000,
            25302608
           ]
          },
          {
           "mode": "lines",
           "name": "India",
           "type": "scatter",
           "x": [
            "1983-01-01",
            "1983-01-01",
            "1983-01-01",
            "1983-01-01",
            "1983-01-01"
           ],
           "y": [
            2280700,
            8137112,
            7559600,
            836000,
            25302608
           ]
          }
         ],
         "name": "1983-01-01"
        },
        {
         "data": [
          {
           "mode": "lines",
           "name": "United States",
           "type": "scatter",
           "x": [
            "1984-01-01",
            "1984-01-01",
            "1984-01-01",
            "1984-01-01",
            "1984-01-01"
           ],
           "y": [
            2910000,
            9421202,
            7286000,
            1242700,
            26755008
           ]
          },
          {
           "mode": "lines",
           "name": "Brazil",
           "type": "scatter",
           "x": [
            "1984-01-01",
            "1984-01-01",
            "1984-01-01",
            "1984-01-01",
            "1984-01-01"
           ],
           "y": [
            2910000,
            9421202,
            7286000,
            1242700,
            26755008
           ]
          },
          {
           "mode": "lines",
           "name": "China",
           "type": "scatter",
           "x": [
            "1984-01-01",
            "1984-01-01",
            "1984-01-01",
            "1984-01-01",
            "1984-01-01"
           ],
           "y": [
            2910000,
            9421202,
            7286000,
            1242700,
            26755008
           ]
          },
          {
           "mode": "lines",
           "name": "Argentina",
           "type": "scatter",
           "x": [
            "1984-01-01",
            "1984-01-01",
            "1984-01-01",
            "1984-01-01",
            "1984-01-01"
           ],
           "y": [
            2910000,
            9421202,
            7286000,
            1242700,
            26755008
           ]
          },
          {
           "mode": "lines",
           "name": "India",
           "type": "scatter",
           "x": [
            "1984-01-01",
            "1984-01-01",
            "1984-01-01",
            "1984-01-01",
            "1984-01-01"
           ],
           "y": [
            2910000,
            9421202,
            7286000,
            1242700,
            26755008
           ]
          }
         ],
         "name": "1984-01-01"
        },
        {
         "data": [
          {
           "mode": "lines",
           "name": "United States",
           "type": "scatter",
           "x": [
            "1985-01-01",
            "1985-01-01",
            "1985-01-01",
            "1985-01-01",
            "1985-01-01"
           ],
           "y": [
            3269000,
            10153405,
            7718000,
            1339700,
            24922000
           ]
          },
          {
           "mode": "lines",
           "name": "Brazil",
           "type": "scatter",
           "x": [
            "1985-01-01",
            "1985-01-01",
            "1985-01-01",
            "1985-01-01",
            "1985-01-01"
           ],
           "y": [
            3269000,
            10153405,
            7718000,
            1339700,
            24922000
           ]
          },
          {
           "mode": "lines",
           "name": "China",
           "type": "scatter",
           "x": [
            "1985-01-01",
            "1985-01-01",
            "1985-01-01",
            "1985-01-01",
            "1985-01-01"
           ],
           "y": [
            3269000,
            10153405,
            7718000,
            1339700,
            24922000
           ]
          },
          {
           "mode": "lines",
           "name": "Argentina",
           "type": "scatter",
           "x": [
            "1985-01-01",
            "1985-01-01",
            "1985-01-01",
            "1985-01-01",
            "1985-01-01"
           ],
           "y": [
            3269000,
            10153405,
            7718000,
            1339700,
            24922000
           ]
          },
          {
           "mode": "lines",
           "name": "India",
           "type": "scatter",
           "x": [
            "1985-01-01",
            "1985-01-01",
            "1985-01-01",
            "1985-01-01",
            "1985-01-01"
           ],
           "y": [
            3269000,
            10153405,
            7718000,
            1339700,
            24922000
           ]
          }
         ],
         "name": "1985-01-01"
        },
        {
         "data": [
          {
           "mode": "lines",
           "name": "United States",
           "type": "scatter",
           "x": [
            "1986-01-01",
            "1986-01-01",
            "1986-01-01",
            "1986-01-01",
            "1986-01-01"
           ],
           "y": [
            3316000,
            9181587,
            8296000,
            1526800,
            23590000
           ]
          },
          {
           "mode": "lines",
           "name": "Brazil",
           "type": "scatter",
           "x": [
            "1986-01-01",
            "1986-01-01",
            "1986-01-01",
            "1986-01-01",
            "1986-01-01"
           ],
           "y": [
            3316000,
            9181587,
            8296000,
            1526800,
            23590000
           ]
          },
          {
           "mode": "lines",
           "name": "China",
           "type": "scatter",
           "x": [
            "1986-01-01",
            "1986-01-01",
            "1986-01-01",
            "1986-01-01",
            "1986-01-01"
           ],
           "y": [
            3316000,
            9181587,
            8296000,
            1526800,
            23590000
           ]
          },
          {
           "mode": "lines",
           "name": "Argentina",
           "type": "scatter",
           "x": [
            "1986-01-01",
            "1986-01-01",
            "1986-01-01",
            "1986-01-01",
            "1986-01-01"
           ],
           "y": [
            3316000,
            9181587,
            8296000,
            1526800,
            23590000
           ]
          },
          {
           "mode": "lines",
           "name": "India",
           "type": "scatter",
           "x": [
            "1986-01-01",
            "1986-01-01",
            "1986-01-01",
            "1986-01-01",
            "1986-01-01"
           ],
           "y": [
            3316000,
            9181587,
            8296000,
            1526800,
            23590000
           ]
          }
         ],
         "name": "1986-01-01"
        },
        {
         "data": [
          {
           "mode": "lines",
           "name": "United States",
           "type": "scatter",
           "x": [
            "1987-01-01",
            "1987-01-01",
            "1987-01-01",
            "1987-01-01",
            "1987-01-01"
           ],
           "y": [
            3532650,
            9129795,
            8444933,
            1542600,
            23136000
           ]
          },
          {
           "mode": "lines",
           "name": "Brazil",
           "type": "scatter",
           "x": [
            "1987-01-01",
            "1987-01-01",
            "1987-01-01",
            "1987-01-01",
            "1987-01-01"
           ],
           "y": [
            3532650,
            9129795,
            8444933,
            1542600,
            23136000
           ]
          },
          {
           "mode": "lines",
           "name": "China",
           "type": "scatter",
           "x": [
            "1987-01-01",
            "1987-01-01",
            "1987-01-01",
            "1987-01-01",
            "1987-01-01"
           ],
           "y": [
            3532650,
            9129795,
            8444933,
            1542600,
            23136000
           ]
          },
          {
           "mode": "lines",
           "name": "Argentina",
           "type": "scatter",
           "x": [
            "1987-01-01",
            "1987-01-01",
            "1987-01-01",
            "1987-01-01",
            "1987-01-01"
           ],
           "y": [
            3532650,
            9129795,
            8444933,
            1542600,
            23136000
           ]
          },
          {
           "mode": "lines",
           "name": "India",
           "type": "scatter",
           "x": [
            "1987-01-01",
            "1987-01-01",
            "1987-01-01",
            "1987-01-01",
            "1987-01-01"
           ],
           "y": [
            3532650,
            9129795,
            8444933,
            1542600,
            23136000
           ]
          }
         ],
         "name": "1987-01-01"
        },
        {
         "data": [
          {
           "mode": "lines",
           "name": "United States",
           "type": "scatter",
           "x": [
            "1988-01-01",
            "1988-01-01",
            "1988-01-01",
            "1988-01-01",
            "1988-01-01"
           ],
           "y": [
            4373200,
            10518370,
            8120000,
            1734100,
            23218000
           ]
          },
          {
           "mode": "lines",
           "name": "Brazil",
           "type": "scatter",
           "x": [
            "1988-01-01",
            "1988-01-01",
            "1988-01-01",
            "1988-01-01",
            "1988-01-01"
           ],
           "y": [
            4373200,
            10518370,
            8120000,
            1734100,
            23218000
           ]
          },
          {
           "mode": "lines",
           "name": "China",
           "type": "scatter",
           "x": [
            "1988-01-01",
            "1988-01-01",
            "1988-01-01",
            "1988-01-01",
            "1988-01-01"
           ],
           "y": [
            4373200,
            10518370,
            8120000,
            1734100,
            23218000
           ]
          },
          {
           "mode": "lines",
           "name": "Argentina",
           "type": "scatter",
           "x": [
            "1988-01-01",
            "1988-01-01",
            "1988-01-01",
            "1988-01-01",
            "1988-01-01"
           ],
           "y": [
            4373200,
            10518370,
            8120000,
            1734100,
            23218000
           ]
          },
          {
           "mode": "lines",
           "name": "India",
           "type": "scatter",
           "x": [
            "1988-01-01",
            "1988-01-01",
            "1988-01-01",
            "1988-01-01",
            "1988-01-01"
           ],
           "y": [
            4373200,
            10518370,
            8120000,
            1734100,
            23218000
           ]
          }
         ],
         "name": "1988-01-01"
        },
        {
         "data": [
          {
           "mode": "lines",
           "name": "United States",
           "type": "scatter",
           "x": [
            "1989-01-01",
            "1989-01-01",
            "1989-01-01",
            "1989-01-01",
            "1989-01-01"
           ],
           "y": [
            3931250,
            12200560,
            8057300,
            2253000,
            24033008
           ]
          },
          {
           "mode": "lines",
           "name": "Brazil",
           "type": "scatter",
           "x": [
            "1989-01-01",
            "1989-01-01",
            "1989-01-01",
            "1989-01-01",
            "1989-01-01"
           ],
           "y": [
            3931250,
            12200560,
            8057300,
            2253000,
            24033008
           ]
          },
          {
           "mode": "lines",
           "name": "China",
           "type": "scatter",
           "x": [
            "1989-01-01",
            "1989-01-01",
            "1989-01-01",
            "1989-01-01",
            "1989-01-01"
           ],
           "y": [
            3931250,
            12200560,
            8057300,
            2253000,
            24033008
           ]
          },
          {
           "mode": "lines",
           "name": "Argentina",
           "type": "scatter",
           "x": [
            "1989-01-01",
            "1989-01-01",
            "1989-01-01",
            "1989-01-01",
            "1989-01-01"
           ],
           "y": [
            3931250,
            12200560,
            8057300,
            2253000,
            24033008
           ]
          },
          {
           "mode": "lines",
           "name": "India",
           "type": "scatter",
           "x": [
            "1989-01-01",
            "1989-01-01",
            "1989-01-01",
            "1989-01-01",
            "1989-01-01"
           ],
           "y": [
            3931250,
            12200560,
            8057300,
            2253000,
            24033008
           ]
          }
         ],
         "name": "1989-01-01"
        },
        {
         "data": [
          {
           "mode": "lines",
           "name": "United States",
           "type": "scatter",
           "x": [
            "1990-01-01",
            "1990-01-01",
            "1990-01-01",
            "1990-01-01",
            "1990-01-01"
           ],
           "y": [
            4961600,
            11487300,
            7559600,
            2564200,
            22869008
           ]
          },
          {
           "mode": "lines",
           "name": "Brazil",
           "type": "scatter",
           "x": [
            "1990-01-01",
            "1990-01-01",
            "1990-01-01",
            "1990-01-01",
            "1990-01-01"
           ],
           "y": [
            4961600,
            11487300,
            7559600,
            2564200,
            22869008
           ]
          },
          {
           "mode": "lines",
           "name": "China",
           "type": "scatter",
           "x": [
            "1990-01-01",
            "1990-01-01",
            "1990-01-01",
            "1990-01-01",
            "1990-01-01"
           ],
           "y": [
            4961600,
            11487300,
            7559600,
            2564200,
            22869008
           ]
          },
          {
           "mode": "lines",
           "name": "Argentina",
           "type": "scatter",
           "x": [
            "1990-01-01",
            "1990-01-01",
            "1990-01-01",
            "1990-01-01",
            "1990-01-01"
           ],
           "y": [
            4961600,
            11487300,
            7559600,
            2564200,
            22869008
           ]
          },
          {
           "mode": "lines",
           "name": "India",
           "type": "scatter",
           "x": [
            "1990-01-01",
            "1990-01-01",
            "1990-01-01",
            "1990-01-01",
            "1990-01-01"
           ],
           "y": [
            4961600,
            11487300,
            7559600,
            2564200,
            22869008
           ]
          }
         ],
         "name": "1990-01-01"
        },
        {
         "data": [
          {
           "mode": "lines",
           "name": "United States",
           "type": "scatter",
           "x": [
            "1991-01-01",
            "1991-01-01",
            "1991-01-01",
            "1991-01-01",
            "1991-01-01"
           ],
           "y": [
            4774500,
            9616650,
            7041000,
            3184800,
            23476470
           ]
          },
          {
           "mode": "lines",
           "name": "Brazil",
           "type": "scatter",
           "x": [
            "1991-01-01",
            "1991-01-01",
            "1991-01-01",
            "1991-01-01",
            "1991-01-01"
           ],
           "y": [
            4774500,
            9616650,
            7041000,
            3184800,
            23476470
           ]
          },
          {
           "mode": "lines",
           "name": "China",
           "type": "scatter",
           "x": [
            "1991-01-01",
            "1991-01-01",
            "1991-01-01",
            "1991-01-01",
            "1991-01-01"
           ],
           "y": [
            4774500,
            9616650,
            7041000,
            3184800,
            23476470
           ]
          },
          {
           "mode": "lines",
           "name": "Argentina",
           "type": "scatter",
           "x": [
            "1991-01-01",
            "1991-01-01",
            "1991-01-01",
            "1991-01-01",
            "1991-01-01"
           ],
           "y": [
            4774500,
            9616650,
            7041000,
            3184800,
            23476470
           ]
          },
          {
           "mode": "lines",
           "name": "India",
           "type": "scatter",
           "x": [
            "1991-01-01",
            "1991-01-01",
            "1991-01-01",
            "1991-01-01",
            "1991-01-01"
           ],
           "y": [
            4774500,
            9616650,
            7041000,
            3184800,
            23476470
           ]
          }
         ],
         "name": "1991-01-01"
        },
        {
         "data": [
          {
           "mode": "lines",
           "name": "United States",
           "type": "scatter",
           "x": [
            "1992-01-01",
            "1992-01-01",
            "1992-01-01",
            "1992-01-01",
            "1992-01-01"
           ],
           "y": [
            4935710,
            9441390,
            7220900,
            3789000,
            23566310
           ]
          },
          {
           "mode": "lines",
           "name": "Brazil",
           "type": "scatter",
           "x": [
            "1992-01-01",
            "1992-01-01",
            "1992-01-01",
            "1992-01-01",
            "1992-01-01"
           ],
           "y": [
            4935710,
            9441390,
            7220900,
            3789000,
            23566310
           ]
          },
          {
           "mode": "lines",
           "name": "China",
           "type": "scatter",
           "x": [
            "1992-01-01",
            "1992-01-01",
            "1992-01-01",
            "1992-01-01",
            "1992-01-01"
           ],
           "y": [
            4935710,
            9441390,
            7220900,
            3789000,
            23566310
           ]
          },
          {
           "mode": "lines",
           "name": "Argentina",
           "type": "scatter",
           "x": [
            "1992-01-01",
            "1992-01-01",
            "1992-01-01",
            "1992-01-01",
            "1992-01-01"
           ],
           "y": [
            4935710,
            9441390,
            7220900,
            3789000,
            23566310
           ]
          },
          {
           "mode": "lines",
           "name": "India",
           "type": "scatter",
           "x": [
            "1992-01-01",
            "1992-01-01",
            "1992-01-01",
            "1992-01-01",
            "1992-01-01"
           ],
           "y": [
            4935710,
            9441390,
            7220900,
            3789000,
            23566310
           ]
          }
         ],
         "name": "1992-01-01"
        },
        {
         "data": [
          {
           "mode": "lines",
           "name": "United States",
           "type": "scatter",
           "x": [
            "1993-01-01",
            "1993-01-01",
            "1993-01-01",
            "1993-01-01",
            "1993-01-01"
           ],
           "y": [
            5116235,
            10635330,
            9454100,
            4370500,
            23191570
           ]
          },
          {
           "mode": "lines",
           "name": "Brazil",
           "type": "scatter",
           "x": [
            "1993-01-01",
            "1993-01-01",
            "1993-01-01",
            "1993-01-01",
            "1993-01-01"
           ],
           "y": [
            5116235,
            10635330,
            9454100,
            4370500,
            23191570
           ]
          },
          {
           "mode": "lines",
           "name": "China",
           "type": "scatter",
           "x": [
            "1993-01-01",
            "1993-01-01",
            "1993-01-01",
            "1993-01-01",
            "1993-01-01"
           ],
           "y": [
            5116235,
            10635330,
            9454100,
            4370500,
            23191570
           ]
          },
          {
           "mode": "lines",
           "name": "Argentina",
           "type": "scatter",
           "x": [
            "1993-01-01",
            "1993-01-01",
            "1993-01-01",
            "1993-01-01",
            "1993-01-01"
           ],
           "y": [
            5116235,
            10635330,
            9454100,
            4370500,
            23191570
           ]
          },
          {
           "mode": "lines",
           "name": "India",
           "type": "scatter",
           "x": [
            "1993-01-01",
            "1993-01-01",
            "1993-01-01",
            "1993-01-01",
            "1993-01-01"
           ],
           "y": [
            5116235,
            10635330,
            9454100,
            4370500,
            23191570
           ]
          }
         ],
         "name": "1993-01-01"
        },
        {
         "data": [
          {
           "mode": "lines",
           "name": "United States",
           "type": "scatter",
           "x": [
            "1994-01-01",
            "1994-01-01",
            "1994-01-01",
            "1994-01-01",
            "1994-01-01"
           ],
           "y": [
            5748910,
            11525410,
            9221800,
            4318000,
            24608790
           ]
          },
          {
           "mode": "lines",
           "name": "Brazil",
           "type": "scatter",
           "x": [
            "1994-01-01",
            "1994-01-01",
            "1994-01-01",
            "1994-01-01",
            "1994-01-01"
           ],
           "y": [
            5748910,
            11525410,
            9221800,
            4318000,
            24608790
           ]
          },
          {
           "mode": "lines",
           "name": "China",
           "type": "scatter",
           "x": [
            "1994-01-01",
            "1994-01-01",
            "1994-01-01",
            "1994-01-01",
            "1994-01-01"
           ],
           "y": [
            5748910,
            11525410,
            9221800,
            4318000,
            24608790
           ]
          },
          {
           "mode": "lines",
           "name": "Argentina",
           "type": "scatter",
           "x": [
            "1994-01-01",
            "1994-01-01",
            "1994-01-01",
            "1994-01-01",
            "1994-01-01"
           ],
           "y": [
            5748910,
            11525410,
            9221800,
            4318000,
            24608790
           ]
          },
          {
           "mode": "lines",
           "name": "India",
           "type": "scatter",
           "x": [
            "1994-01-01",
            "1994-01-01",
            "1994-01-01",
            "1994-01-01",
            "1994-01-01"
           ],
           "y": [
            5748910,
            11525410,
            9221800,
            4318000,
            24608790
           ]
          }
         ],
         "name": "1994-01-01"
        },
        {
         "data": [
          {
           "mode": "lines",
           "name": "United States",
           "type": "scatter",
           "x": [
            "1995-01-01",
            "1995-01-01",
            "1995-01-01",
            "1995-01-01",
            "1995-01-01"
           ],
           "y": [
            5934160,
            11675005,
            8126700,
            5035000,
            24906240
           ]
          },
          {
           "mode": "lines",
           "name": "Brazil",
           "type": "scatter",
           "x": [
            "1995-01-01",
            "1995-01-01",
            "1995-01-01",
            "1995-01-01",
            "1995-01-01"
           ],
           "y": [
            5934160,
            11675005,
            8126700,
            5035000,
            24906240
           ]
          },
          {
           "mode": "lines",
           "name": "China",
           "type": "scatter",
           "x": [
            "1995-01-01",
            "1995-01-01",
            "1995-01-01",
            "1995-01-01",
            "1995-01-01"
           ],
           "y": [
            5934160,
            11675005,
            8126700,
            5035000,
            24906240
           ]
          },
          {
           "mode": "lines",
           "name": "Argentina",
           "type": "scatter",
           "x": [
            "1995-01-01",
            "1995-01-01",
            "1995-01-01",
            "1995-01-01",
            "1995-01-01"
           ],
           "y": [
            5934160,
            11675005,
            8126700,
            5035000,
            24906240
           ]
          },
          {
           "mode": "lines",
           "name": "India",
           "type": "scatter",
           "x": [
            "1995-01-01",
            "1995-01-01",
            "1995-01-01",
            "1995-01-01",
            "1995-01-01"
           ],
           "y": [
            5934160,
            11675005,
            8126700,
            5035000,
            24906240
           ]
          }
         ],
         "name": "1995-01-01"
        },
        {
         "data": [
          {
           "mode": "lines",
           "name": "United States",
           "type": "scatter",
           "x": [
            "1996-01-01",
            "1996-01-01",
            "1996-01-01",
            "1996-01-01",
            "1996-01-01"
           ],
           "y": [
            5913415,
            10299470,
            7470550,
            5233000,
            25636710
           ]
          },
          {
           "mode": "lines",
           "name": "Brazil",
           "type": "scatter",
           "x": [
            "1996-01-01",
            "1996-01-01",
            "1996-01-01",
            "1996-01-01",
            "1996-01-01"
           ],
           "y": [
            5913415,
            10299470,
            7470550,
            5233000,
            25636710
           ]
          },
          {
           "mode": "lines",
           "name": "China",
           "type": "scatter",
           "x": [
            "1996-01-01",
            "1996-01-01",
            "1996-01-01",
            "1996-01-01",
            "1996-01-01"
           ],
           "y": [
            5913415,
            10299470,
            7470550,
            5233000,
            25636710
           ]
          },
          {
           "mode": "lines",
           "name": "Argentina",
           "type": "scatter",
           "x": [
            "1996-01-01",
            "1996-01-01",
            "1996-01-01",
            "1996-01-01",
            "1996-01-01"
           ],
           "y": [
            5913415,
            10299470,
            7470550,
            5233000,
            25636710
           ]
          },
          {
           "mode": "lines",
           "name": "India",
           "type": "scatter",
           "x": [
            "1996-01-01",
            "1996-01-01",
            "1996-01-01",
            "1996-01-01",
            "1996-01-01"
           ],
           "y": [
            5913415,
            10299470,
            7470550,
            5233000,
            25636710
           ]
          }
         ],
         "name": "1996-01-01"
        },
        {
         "data": [
          {
           "mode": "lines",
           "name": "United States",
           "type": "scatter",
           "x": [
            "1997-01-01",
            "1997-01-01",
            "1997-01-01",
            "1997-01-01",
            "1997-01-01"
           ],
           "y": [
            6393780,
            11486478,
            8346180,
            5990200,
            27968130
           ]
          },
          {
           "mode": "lines",
           "name": "Brazil",
           "type": "scatter",
           "x": [
            "1997-01-01",
            "1997-01-01",
            "1997-01-01",
            "1997-01-01",
            "1997-01-01"
           ],
           "y": [
            6393780,
            11486478,
            8346180,
            5990200,
            27968130
           ]
          },
          {
           "mode": "lines",
           "name": "China",
           "type": "scatter",
           "x": [
            "1997-01-01",
            "1997-01-01",
            "1997-01-01",
            "1997-01-01",
            "1997-01-01"
           ],
           "y": [
            6393780,
            11486478,
            8346180,
            5990200,
            27968130
           ]
          },
          {
           "mode": "lines",
           "name": "Argentina",
           "type": "scatter",
           "x": [
            "1997-01-01",
            "1997-01-01",
            "1997-01-01",
            "1997-01-01",
            "1997-01-01"
           ],
           "y": [
            6393780,
            11486478,
            8346180,
            5990200,
            27968130
           ]
          },
          {
           "mode": "lines",
           "name": "India",
           "type": "scatter",
           "x": [
            "1997-01-01",
            "1997-01-01",
            "1997-01-01",
            "1997-01-01",
            "1997-01-01"
           ],
           "y": [
            6393780,
            11486478,
            8346180,
            5990200,
            27968130
           ]
          }
         ],
         "name": "1997-01-01"
        },
        {
         "data": [
          {
           "mode": "lines",
           "name": "United States",
           "type": "scatter",
           "x": [
            "1998-01-01",
            "1998-01-01",
            "1998-01-01",
            "1998-01-01",
            "1998-01-01"
           ],
           "y": [
            6954120,
            13303656,
            8500170,
            6493000,
            28506770
           ]
          },
          {
           "mode": "lines",
           "name": "Brazil",
           "type": "scatter",
           "x": [
            "1998-01-01",
            "1998-01-01",
            "1998-01-01",
            "1998-01-01",
            "1998-01-01"
           ],
           "y": [
            6954120,
            13303656,
            8500170,
            6493000,
            28506770
           ]
          },
          {
           "mode": "lines",
           "name": "China",
           "type": "scatter",
           "x": [
            "1998-01-01",
            "1998-01-01",
            "1998-01-01",
            "1998-01-01",
            "1998-01-01"
           ],
           "y": [
            6954120,
            13303656,
            8500170,
            6493000,
            28506770
           ]
          },
          {
           "mode": "lines",
           "name": "Argentina",
           "type": "scatter",
           "x": [
            "1998-01-01",
            "1998-01-01",
            "1998-01-01",
            "1998-01-01",
            "1998-01-01"
           ],
           "y": [
            6954120,
            13303656,
            8500170,
            6493000,
            28506770
           ]
          },
          {
           "mode": "lines",
           "name": "India",
           "type": "scatter",
           "x": [
            "1998-01-01",
            "1998-01-01",
            "1998-01-01",
            "1998-01-01",
            "1998-01-01"
           ],
           "y": [
            6954120,
            13303656,
            8500170,
            6493000,
            28506770
           ]
          }
         ],
         "name": "1998-01-01"
        },
        {
         "data": [
          {
           "mode": "lines",
           "name": "United States",
           "type": "scatter",
           "x": [
            "1999-01-01",
            "1999-01-01",
            "1999-01-01",
            "1999-01-01",
            "1999-01-01"
           ],
           "y": [
            8180000,
            13061410,
            7962010,
            6222500,
            29318170
           ]
          },
          {
           "mode": "lines",
           "name": "Brazil",
           "type": "scatter",
           "x": [
            "1999-01-01",
            "1999-01-01",
            "1999-01-01",
            "1999-01-01",
            "1999-01-01"
           ],
           "y": [
            8180000,
            13061410,
            7962010,
            6222500,
            29318170
           ]
          },
          {
           "mode": "lines",
           "name": "China",
           "type": "scatter",
           "x": [
            "1999-01-01",
            "1999-01-01",
            "1999-01-01",
            "1999-01-01",
            "1999-01-01"
           ],
           "y": [
            8180000,
            13061410,
            7962010,
            6222500,
            29318170
           ]
          },
          {
           "mode": "lines",
           "name": "Argentina",
           "type": "scatter",
           "x": [
            "1999-01-01",
            "1999-01-01",
            "1999-01-01",
            "1999-01-01",
            "1999-01-01"
           ],
           "y": [
            8180000,
            13061410,
            7962010,
            6222500,
            29318170
           ]
          },
          {
           "mode": "lines",
           "name": "India",
           "type": "scatter",
           "x": [
            "1999-01-01",
            "1999-01-01",
            "1999-01-01",
            "1999-01-01",
            "1999-01-01"
           ],
           "y": [
            8180000,
            13061410,
            7962010,
            6222500,
            29318170
           ]
          }
         ],
         "name": "1999-01-01"
        },
        {
         "data": [
          {
           "mode": "lines",
           "name": "United States",
           "type": "scatter",
           "x": [
            "2000-01-01",
            "2000-01-01",
            "2000-01-01",
            "2000-01-01",
            "2000-01-01"
           ],
           "y": [
            8637503,
            13656771,
            9306580,
            6416600,
            29302790
           ]
          },
          {
           "mode": "lines",
           "name": "Brazil",
           "type": "scatter",
           "x": [
            "2000-01-01",
            "2000-01-01",
            "2000-01-01",
            "2000-01-01",
            "2000-01-01"
           ],
           "y": [
            8637503,
            13656771,
            9306580,
            6416600,
            29302790
           ]
          },
          {
           "mode": "lines",
           "name": "China",
           "type": "scatter",
           "x": [
            "2000-01-01",
            "2000-01-01",
            "2000-01-01",
            "2000-01-01",
            "2000-01-01"
           ],
           "y": [
            8637503,
            13656771,
            9306580,
            6416600,
            29302790
           ]
          },
          {
           "mode": "lines",
           "name": "Argentina",
           "type": "scatter",
           "x": [
            "2000-01-01",
            "2000-01-01",
            "2000-01-01",
            "2000-01-01",
            "2000-01-01"
           ],
           "y": [
            8637503,
            13656771,
            9306580,
            6416600,
            29302790
           ]
          },
          {
           "mode": "lines",
           "name": "India",
           "type": "scatter",
           "x": [
            "2000-01-01",
            "2000-01-01",
            "2000-01-01",
            "2000-01-01",
            "2000-01-01"
           ],
           "y": [
            8637503,
            13656771,
            9306580,
            6416600,
            29302790
           ]
          }
         ],
         "name": "2000-01-01"
        },
        {
         "data": [
          {
           "mode": "lines",
           "name": "United States",
           "type": "scatter",
           "x": [
            "2001-01-01",
            "2001-01-01",
            "2001-01-01",
            "2001-01-01",
            "2001-01-01"
           ],
           "y": [
            10400193,
            13985099,
            9481700,
            6343100,
            29532250
           ]
          },
          {
           "mode": "lines",
           "name": "Brazil",
           "type": "scatter",
           "x": [
            "2001-01-01",
            "2001-01-01",
            "2001-01-01",
            "2001-01-01",
            "2001-01-01"
           ],
           "y": [
            10400193,
            13985099,
            9481700,
            6343100,
            29532250
           ]
          },
          {
           "mode": "lines",
           "name": "China",
           "type": "scatter",
           "x": [
            "2001-01-01",
            "2001-01-01",
            "2001-01-01",
            "2001-01-01",
            "2001-01-01"
           ],
           "y": [
            10400193,
            13985099,
            9481700,
            6343100,
            29532250
           ]
          },
          {
           "mode": "lines",
           "name": "Argentina",
           "type": "scatter",
           "x": [
            "2001-01-01",
            "2001-01-01",
            "2001-01-01",
            "2001-01-01",
            "2001-01-01"
           ],
           "y": [
            10400193,
            13985099,
            9481700,
            6343100,
            29532250
           ]
          },
          {
           "mode": "lines",
           "name": "India",
           "type": "scatter",
           "x": [
            "2001-01-01",
            "2001-01-01",
            "2001-01-01",
            "2001-01-01",
            "2001-01-01"
           ],
           "y": [
            10400193,
            13985099,
            9481700,
            6343100,
            29532250
           ]
          }
         ],
         "name": "2001-01-01"
        },
        {
         "data": [
          {
           "mode": "lines",
           "name": "United States",
           "type": "scatter",
           "x": [
            "2002-01-01",
            "2002-01-01",
            "2002-01-01",
            "2002-01-01",
            "2002-01-01"
           ],
           "y": [
            11405247,
            16359441,
            8719550,
            6105500,
            29338810
           ]
          },
          {
           "mode": "lines",
           "name": "Brazil",
           "type": "scatter",
           "x": [
            "2002-01-01",
            "2002-01-01",
            "2002-01-01",
            "2002-01-01",
            "2002-01-01"
           ],
           "y": [
            11405247,
            16359441,
            8719550,
            6105500,
            29338810
           ]
          },
          {
           "mode": "lines",
           "name": "China",
           "type": "scatter",
           "x": [
            "2002-01-01",
            "2002-01-01",
            "2002-01-01",
            "2002-01-01",
            "2002-01-01"
           ],
           "y": [
            11405247,
            16359441,
            8719550,
            6105500,
            29338810
           ]
          },
          {
           "mode": "lines",
           "name": "Argentina",
           "type": "scatter",
           "x": [
            "2002-01-01",
            "2002-01-01",
            "2002-01-01",
            "2002-01-01",
            "2002-01-01"
           ],
           "y": [
            11405247,
            16359441,
            8719550,
            6105500,
            29338810
           ]
          },
          {
           "mode": "lines",
           "name": "India",
           "type": "scatter",
           "x": [
            "2002-01-01",
            "2002-01-01",
            "2002-01-01",
            "2002-01-01",
            "2002-01-01"
           ],
           "y": [
            11405247,
            16359441,
            8719550,
            6105500,
            29338810
           ]
          }
         ],
         "name": "2002-01-01"
        },
        {
         "data": [
          {
           "mode": "lines",
           "name": "United States",
           "type": "scatter",
           "x": [
            "2003-01-01",
            "2003-01-01",
            "2003-01-01",
            "2003-01-01",
            "2003-01-01"
           ],
           "y": [
            12419995,
            18524768,
            9312910,
            6554700,
            29330310
           ]
          },
          {
           "mode": "lines",
           "name": "Brazil",
           "type": "scatter",
           "x": [
            "2003-01-01",
            "2003-01-01",
            "2003-01-01",
            "2003-01-01",
            "2003-01-01"
           ],
           "y": [
            12419995,
            18524768,
            9312910,
            6554700,
            29330310
           ]
          },
          {
           "mode": "lines",
           "name": "China",
           "type": "scatter",
           "x": [
            "2003-01-01",
            "2003-01-01",
            "2003-01-01",
            "2003-01-01",
            "2003-01-01"
           ],
           "y": [
            12419995,
            18524768,
            9312910,
            6554700,
            29330310
           ]
          },
          {
           "mode": "lines",
           "name": "Argentina",
           "type": "scatter",
           "x": [
            "2003-01-01",
            "2003-01-01",
            "2003-01-01",
            "2003-01-01",
            "2003-01-01"
           ],
           "y": [
            12419995,
            18524768,
            9312910,
            6554700,
            29330310
           ]
          },
          {
           "mode": "lines",
           "name": "India",
           "type": "scatter",
           "x": [
            "2003-01-01",
            "2003-01-01",
            "2003-01-01",
            "2003-01-01",
            "2003-01-01"
           ],
           "y": [
            12419995,
            18524768,
            9312910,
            6554700,
            29330310
           ]
          }
         ],
         "name": "2003-01-01"
        },
        {
         "data": [
          {
           "mode": "lines",
           "name": "United States",
           "type": "scatter",
           "x": [
            "2004-01-01",
            "2004-01-01",
            "2004-01-01",
            "2004-01-01",
            "2004-01-01"
           ],
           "y": [
            14304539,
            21538990,
            9588750,
            7571200,
            29930060
           ]
          },
          {
           "mode": "lines",
           "name": "Brazil",
           "type": "scatter",
           "x": [
            "2004-01-01",
            "2004-01-01",
            "2004-01-01",
            "2004-01-01",
            "2004-01-01"
           ],
           "y": [
            14304539,
            21538990,
            9588750,
            7571200,
            29930060
           ]
          },
          {
           "mode": "lines",
           "name": "China",
           "type": "scatter",
           "x": [
            "2004-01-01",
            "2004-01-01",
            "2004-01-01",
            "2004-01-01",
            "2004-01-01"
           ],
           "y": [
            14304539,
            21538990,
            9588750,
            7571200,
            29930060
           ]
          },
          {
           "mode": "lines",
           "name": "Argentina",
           "type": "scatter",
           "x": [
            "2004-01-01",
            "2004-01-01",
            "2004-01-01",
            "2004-01-01",
            "2004-01-01"
           ],
           "y": [
            14304539,
            21538990,
            9588750,
            7571200,
            29930060
           ]
          },
          {
           "mode": "lines",
           "name": "India",
           "type": "scatter",
           "x": [
            "2004-01-01",
            "2004-01-01",
            "2004-01-01",
            "2004-01-01",
            "2004-01-01"
           ],
           "y": [
            14304539,
            21538990,
            9588750,
            7571200,
            29930060
           ]
          }
         ],
         "name": "2004-01-01"
        },
        {
         "data": [
          {
           "mode": "lines",
           "name": "United States",
           "type": "scatter",
           "x": [
            "2005-01-01",
            "2005-01-01",
            "2005-01-01",
            "2005-01-01",
            "2005-01-01"
           ],
           "y": [
            14032198,
            22948874,
            9590750,
            7707500,
            28834570
           ]
          },
          {
           "mode": "lines",
           "name": "Brazil",
           "type": "scatter",
           "x": [
            "2005-01-01",
            "2005-01-01",
            "2005-01-01",
            "2005-01-01",
            "2005-01-01"
           ],
           "y": [
            14032198,
            22948874,
            9590750,
            7707500,
            28834570
           ]
          },
          {
           "mode": "lines",
           "name": "China",
           "type": "scatter",
           "x": [
            "2005-01-01",
            "2005-01-01",
            "2005-01-01",
            "2005-01-01",
            "2005-01-01"
           ],
           "y": [
            14032198,
            22948874,
            9590750,
            7707500,
            28834570
           ]
          },
          {
           "mode": "lines",
           "name": "Argentina",
           "type": "scatter",
           "x": [
            "2005-01-01",
            "2005-01-01",
            "2005-01-01",
            "2005-01-01",
            "2005-01-01"
           ],
           "y": [
            14032198,
            22948874,
            9590750,
            7707500,
            28834570
           ]
          },
          {
           "mode": "lines",
           "name": "India",
           "type": "scatter",
           "x": [
            "2005-01-01",
            "2005-01-01",
            "2005-01-01",
            "2005-01-01",
            "2005-01-01"
           ],
           "y": [
            14032198,
            22948874,
            9590750,
            7707500,
            28834570
           ]
          }
         ],
         "name": "2005-01-01"
        },
        {
         "data": [
          {
           "mode": "lines",
           "name": "United States",
           "type": "scatter",
           "x": [
            "2006-01-01",
            "2006-01-01",
            "2006-01-01",
            "2006-01-01",
            "2006-01-01"
           ],
           "y": [
            15130038,
            22047348,
            9304420,
            8334000,
            30190680
           ]
          },
          {
           "mode": "lines",
           "name": "Brazil",
           "type": "scatter",
           "x": [
            "2006-01-01",
            "2006-01-01",
            "2006-01-01",
            "2006-01-01",
            "2006-01-01"
           ],
           "y": [
            15130038,
            22047348,
            9304420,
            8334000,
            30190680
           ]
          },
          {
           "mode": "lines",
           "name": "China",
           "type": "scatter",
           "x": [
            "2006-01-01",
            "2006-01-01",
            "2006-01-01",
            "2006-01-01",
            "2006-01-01"
           ],
           "y": [
            15130038,
            22047348,
            9304420,
            8334000,
            30190680
           ]
          },
          {
           "mode": "lines",
           "name": "Argentina",
           "type": "scatter",
           "x": [
            "2006-01-01",
            "2006-01-01",
            "2006-01-01",
            "2006-01-01",
            "2006-01-01"
           ],
           "y": [
            15130038,
            22047348,
            9304420,
            8334000,
            30190680
           ]
          },
          {
           "mode": "lines",
           "name": "India",
           "type": "scatter",
           "x": [
            "2006-01-01",
            "2006-01-01",
            "2006-01-01",
            "2006-01-01",
            "2006-01-01"
           ],
           "y": [
            15130038,
            22047348,
            9304420,
            8334000,
            30190680
           ]
          }
         ],
         "name": "2006-01-01"
        },
        {
         "data": [
          {
           "mode": "lines",
           "name": "United States",
           "type": "scatter",
           "x": [
            "2007-01-01",
            "2007-01-01",
            "2007-01-01",
            "2007-01-01",
            "2007-01-01"
           ],
           "y": [
            15981264,
            20565280,
            8753840,
            8880000,
            25959240
           ]
          },
          {
           "mode": "lines",
           "name": "Brazil",
           "type": "scatter",
           "x": [
            "2007-01-01",
            "2007-01-01",
            "2007-01-01",
            "2007-01-01",
            "2007-01-01"
           ],
           "y": [
            15981264,
            20565280,
            8753840,
            8880000,
            25959240
           ]
          },
          {
           "mode": "lines",
           "name": "China",
           "type": "scatter",
           "x": [
            "2007-01-01",
            "2007-01-01",
            "2007-01-01",
            "2007-01-01",
            "2007-01-01"
           ],
           "y": [
            15981264,
            20565280,
            8753840,
            8880000,
            25959240
           ]
          },
          {
           "mode": "lines",
           "name": "Argentina",
           "type": "scatter",
           "x": [
            "2007-01-01",
            "2007-01-01",
            "2007-01-01",
            "2007-01-01",
            "2007-01-01"
           ],
           "y": [
            15981264,
            20565280,
            8753840,
            8880000,
            25959240
           ]
          },
          {
           "mode": "lines",
           "name": "India",
           "type": "scatter",
           "x": [
            "2007-01-01",
            "2007-01-01",
            "2007-01-01",
            "2007-01-01",
            "2007-01-01"
           ],
           "y": [
            15981264,
            20565280,
            8753840,
            8880000,
            25959240
           ]
          }
         ],
         "name": "2007-01-01"
        },
        {
         "data": [
          {
           "mode": "lines",
           "name": "United States",
           "type": "scatter",
           "x": [
            "2008-01-01",
            "2008-01-01",
            "2008-01-01",
            "2008-01-01",
            "2008-01-01"
           ],
           "y": [
            16387438,
            21246302,
            9127110,
            9510800,
            30222650
           ]
          },
          {
           "mode": "lines",
           "name": "Brazil",
           "type": "scatter",
           "x": [
            "2008-01-01",
            "2008-01-01",
            "2008-01-01",
            "2008-01-01",
            "2008-01-01"
           ],
           "y": [
            16387438,
            21246302,
            9127110,
            9510800,
            30222650
           ]
          },
          {
           "mode": "lines",
           "name": "China",
           "type": "scatter",
           "x": [
            "2008-01-01",
            "2008-01-01",
            "2008-01-01",
            "2008-01-01",
            "2008-01-01"
           ],
           "y": [
            16387438,
            21246302,
            9127110,
            9510800,
            30222650
           ]
          },
          {
           "mode": "lines",
           "name": "Argentina",
           "type": "scatter",
           "x": [
            "2008-01-01",
            "2008-01-01",
            "2008-01-01",
            "2008-01-01",
            "2008-01-01"
           ],
           "y": [
            16387438,
            21246302,
            9127110,
            9510800,
            30222650
           ]
          },
          {
           "mode": "lines",
           "name": "India",
           "type": "scatter",
           "x": [
            "2008-01-01",
            "2008-01-01",
            "2008-01-01",
            "2008-01-01",
            "2008-01-01"
           ],
           "y": [
            16387438,
            21246302,
            9127110,
            9510800,
            30222650
           ]
          }
         ],
         "name": "2008-01-01"
        },
        {
         "data": [
          {
           "mode": "lines",
           "name": "United States",
           "type": "scatter",
           "x": [
            "2009-01-01",
            "2009-01-01",
            "2009-01-01",
            "2009-01-01",
            "2009-01-01"
           ],
           "y": [
            16771003,
            21750468,
            9189790,
            9734700,
            30906980
           ]
          },
          {
           "mode": "lines",
           "name": "Brazil",
           "type": "scatter",
           "x": [
            "2009-01-01",
            "2009-01-01",
            "2009-01-01",
            "2009-01-01",
            "2009-01-01"
           ],
           "y": [
            16771003,
            21750468,
            9189790,
            9734700,
            30906980
           ]
          },
          {
           "mode": "lines",
           "name": "China",
           "type": "scatter",
           "x": [
            "2009-01-01",
            "2009-01-01",
            "2009-01-01",
            "2009-01-01",
            "2009-01-01"
           ],
           "y": [
            16771003,
            21750468,
            9189790,
            9734700,
            30906980
           ]
          },
          {
           "mode": "lines",
           "name": "Argentina",
           "type": "scatter",
           "x": [
            "2009-01-01",
            "2009-01-01",
            "2009-01-01",
            "2009-01-01",
            "2009-01-01"
           ],
           "y": [
            16771003,
            21750468,
            9189790,
            9734700,
            30906980
           ]
          },
          {
           "mode": "lines",
           "name": "India",
           "type": "scatter",
           "x": [
            "2009-01-01",
            "2009-01-01",
            "2009-01-01",
            "2009-01-01",
            "2009-01-01"
           ],
           "y": [
            16771003,
            21750468,
            9189790,
            9734700,
            30906980
           ]
          }
         ],
         "name": "2009-01-01"
        },
        {
         "data": [
          {
           "mode": "lines",
           "name": "United States",
           "type": "scatter",
           "x": [
            "2010-01-01",
            "2010-01-01",
            "2010-01-01",
            "2010-01-01",
            "2010-01-01"
           ],
           "y": [
            18130800,
            23327296,
            8515750,
            9554190,
            31003300
           ]
          },
          {
           "mode": "lines",
           "name": "Brazil",
           "type": "scatter",
           "x": [
            "2010-01-01",
            "2010-01-01",
            "2010-01-01",
            "2010-01-01",
            "2010-01-01"
           ],
           "y": [
            18130800,
            23327296,
            8515750,
            9554190,
            31003300
           ]
          },
          {
           "mode": "lines",
           "name": "China",
           "type": "scatter",
           "x": [
            "2010-01-01",
            "2010-01-01",
            "2010-01-01",
            "2010-01-01",
            "2010-01-01"
           ],
           "y": [
            18130800,
            23327296,
            8515750,
            9554190,
            31003300
           ]
          },
          {
           "mode": "lines",
           "name": "Argentina",
           "type": "scatter",
           "x": [
            "2010-01-01",
            "2010-01-01",
            "2010-01-01",
            "2010-01-01",
            "2010-01-01"
           ],
           "y": [
            18130800,
            23327296,
            8515750,
            9554190,
            31003300
           ]
          },
          {
           "mode": "lines",
           "name": "India",
           "type": "scatter",
           "x": [
            "2010-01-01",
            "2010-01-01",
            "2010-01-01",
            "2010-01-01",
            "2010-01-01"
           ],
           "y": [
            18130800,
            23327296,
            8515750,
            9554190,
            31003300
           ]
          }
         ],
         "name": "2010-01-01"
        },
        {
         "data": [
          {
           "mode": "lines",
           "name": "United States",
           "type": "scatter",
           "x": [
            "2011-01-01",
            "2011-01-01",
            "2011-01-01",
            "2011-01-01",
            "2011-01-01"
           ],
           "y": [
            18764850,
            23968664,
            7888540,
            10180000,
            29856410
           ]
          },
          {
           "mode": "lines",
           "name": "Brazil",
           "type": "scatter",
           "x": [
            "2011-01-01",
            "2011-01-01",
            "2011-01-01",
            "2011-01-01",
            "2011-01-01"
           ],
           "y": [
            18764850,
            23968664,
            7888540,
            10180000,
            29856410
           ]
          },
          {
           "mode": "lines",
           "name": "China",
           "type": "scatter",
           "x": [
            "2011-01-01",
            "2011-01-01",
            "2011-01-01",
            "2011-01-01",
            "2011-01-01"
           ],
           "y": [
            18764850,
            23968664,
            7888540,
            10180000,
            29856410
           ]
          },
          {
           "mode": "lines",
           "name": "Argentina",
           "type": "scatter",
           "x": [
            "2011-01-01",
            "2011-01-01",
            "2011-01-01",
            "2011-01-01",
            "2011-01-01"
           ],
           "y": [
            18764850,
            23968664,
            7888540,
            10180000,
            29856410
           ]
          },
          {
           "mode": "lines",
           "name": "India",
           "type": "scatter",
           "x": [
            "2011-01-01",
            "2011-01-01",
            "2011-01-01",
            "2011-01-01",
            "2011-01-01"
           ],
           "y": [
            18764850,
            23968664,
            7888540,
            10180000,
            29856410
           ]
          }
         ],
         "name": "2011-01-01"
        },
        {
         "data": [
          {
           "mode": "lines",
           "name": "United States",
           "type": "scatter",
           "x": [
            "2012-01-01",
            "2012-01-01",
            "2012-01-01",
            "2012-01-01",
            "2012-01-01"
           ],
           "y": [
            17577320,
            24975258,
            7171060,
            10840000,
            30814720
           ]
          },
          {
           "mode": "lines",
           "name": "Brazil",
           "type": "scatter",
           "x": [
            "2012-01-01",
            "2012-01-01",
            "2012-01-01",
            "2012-01-01",
            "2012-01-01"
           ],
           "y": [
            17577320,
            24975258,
            7171060,
            10840000,
            30814720
           ]
          },
          {
           "mode": "lines",
           "name": "China",
           "type": "scatter",
           "x": [
            "2012-01-01",
            "2012-01-01",
            "2012-01-01",
            "2012-01-01",
            "2012-01-01"
           ],
           "y": [
            17577320,
            24975258,
            7171060,
            10840000,
            30814720
           ]
          },
          {
           "mode": "lines",
           "name": "Argentina",
           "type": "scatter",
           "x": [
            "2012-01-01",
            "2012-01-01",
            "2012-01-01",
            "2012-01-01",
            "2012-01-01"
           ],
           "y": [
            17577320,
            24975258,
            7171060,
            10840000,
            30814720
           ]
          },
          {
           "mode": "lines",
           "name": "India",
           "type": "scatter",
           "x": [
            "2012-01-01",
            "2012-01-01",
            "2012-01-01",
            "2012-01-01",
            "2012-01-01"
           ],
           "y": [
            17577320,
            24975258,
            7171060,
            10840000,
            30814720
           ]
          }
         ],
         "name": "2012-01-01"
        },
        {
         "data": [
          {
           "mode": "lines",
           "name": "United States",
           "type": "scatter",
           "x": [
            "2013-01-01",
            "2013-01-01",
            "2013-01-01",
            "2013-01-01",
            "2013-01-01"
           ],
           "y": [
            19418824,
            27906676,
            6790500,
            11716430,
            30858830
           ]
          },
          {
           "mode": "lines",
           "name": "Brazil",
           "type": "scatter",
           "x": [
            "2013-01-01",
            "2013-01-01",
            "2013-01-01",
            "2013-01-01",
            "2013-01-01"
           ],
           "y": [
            19418824,
            27906676,
            6790500,
            11716430,
            30858830
           ]
          },
          {
           "mode": "lines",
           "name": "China",
           "type": "scatter",
           "x": [
            "2013-01-01",
            "2013-01-01",
            "2013-01-01",
            "2013-01-01",
            "2013-01-01"
           ],
           "y": [
            19418824,
            27906676,
            6790500,
            11716430,
            30858830
           ]
          },
          {
           "mode": "lines",
           "name": "Argentina",
           "type": "scatter",
           "x": [
            "2013-01-01",
            "2013-01-01",
            "2013-01-01",
            "2013-01-01",
            "2013-01-01"
           ],
           "y": [
            19418824,
            27906676,
            6790500,
            11716430,
            30858830
           ]
          },
          {
           "mode": "lines",
           "name": "India",
           "type": "scatter",
           "x": [
            "2013-01-01",
            "2013-01-01",
            "2013-01-01",
            "2013-01-01",
            "2013-01-01"
           ],
           "y": [
            19418824,
            27906676,
            6790500,
            11716430,
            30858830
           ]
          }
         ],
         "name": "2013-01-01"
        },
        {
         "data": [
          {
           "mode": "lines",
           "name": "United States",
           "type": "scatter",
           "x": [
            "2014-01-01",
            "2014-01-01",
            "2014-01-01",
            "2014-01-01",
            "2014-01-01"
           ],
           "y": [
            19252552,
            30273764,
            6799900,
            11086000,
            33423750
           ]
          },
          {
           "mode": "lines",
           "name": "Brazil",
           "type": "scatter",
           "x": [
            "2014-01-01",
            "2014-01-01",
            "2014-01-01",
            "2014-01-01",
            "2014-01-01"
           ],
           "y": [
            19252552,
            30273764,
            6799900,
            11086000,
            33423750
           ]
          },
          {
           "mode": "lines",
           "name": "China",
           "type": "scatter",
           "x": [
            "2014-01-01",
            "2014-01-01",
            "2014-01-01",
            "2014-01-01",
            "2014-01-01"
           ],
           "y": [
            19252552,
            30273764,
            6799900,
            11086000,
            33423750
           ]
          },
          {
           "mode": "lines",
           "name": "Argentina",
           "type": "scatter",
           "x": [
            "2014-01-01",
            "2014-01-01",
            "2014-01-01",
            "2014-01-01",
            "2014-01-01"
           ],
           "y": [
            19252552,
            30273764,
            6799900,
            11086000,
            33423750
           ]
          },
          {
           "mode": "lines",
           "name": "India",
           "type": "scatter",
           "x": [
            "2014-01-01",
            "2014-01-01",
            "2014-01-01",
            "2014-01-01",
            "2014-01-01"
           ],
           "y": [
            19252552,
            30273764,
            6799900,
            11086000,
            33423750
           ]
          }
         ],
         "name": "2014-01-01"
        },
        {
         "data": [
          {
           "mode": "lines",
           "name": "United States",
           "type": "scatter",
           "x": [
            "2015-01-01",
            "2015-01-01",
            "2015-01-01",
            "2015-01-01",
            "2015-01-01"
           ],
           "y": [
            19352116,
            32181244,
            6506100,
            11670000,
            33123470
           ]
          },
          {
           "mode": "lines",
           "name": "Brazil",
           "type": "scatter",
           "x": [
            "2015-01-01",
            "2015-01-01",
            "2015-01-01",
            "2015-01-01",
            "2015-01-01"
           ],
           "y": [
            19352116,
            32181244,
            6506100,
            11670000,
            33123470
           ]
          },
          {
           "mode": "lines",
           "name": "China",
           "type": "scatter",
           "x": [
            "2015-01-01",
            "2015-01-01",
            "2015-01-01",
            "2015-01-01",
            "2015-01-01"
           ],
           "y": [
            19352116,
            32181244,
            6506100,
            11670000,
            33123470
           ]
          },
          {
           "mode": "lines",
           "name": "Argentina",
           "type": "scatter",
           "x": [
            "2015-01-01",
            "2015-01-01",
            "2015-01-01",
            "2015-01-01",
            "2015-01-01"
           ],
           "y": [
            19352116,
            32181244,
            6506100,
            11670000,
            33123470
           ]
          },
          {
           "mode": "lines",
           "name": "India",
           "type": "scatter",
           "x": [
            "2015-01-01",
            "2015-01-01",
            "2015-01-01",
            "2015-01-01",
            "2015-01-01"
           ],
           "y": [
            19352116,
            32181244,
            6506100,
            11670000,
            33123470
           ]
          }
         ],
         "name": "2015-01-01"
        },
        {
         "data": [
          {
           "mode": "lines",
           "name": "United States",
           "type": "scatter",
           "x": [
            "2016-01-01",
            "2016-01-01",
            "2016-01-01",
            "2016-01-01",
            "2016-01-01"
           ],
           "y": [
            19504648,
            33183120,
            7092736,
            11180000,
            33470290
           ]
          },
          {
           "mode": "lines",
           "name": "Brazil",
           "type": "scatter",
           "x": [
            "2016-01-01",
            "2016-01-01",
            "2016-01-01",
            "2016-01-01",
            "2016-01-01"
           ],
           "y": [
            19504648,
            33183120,
            7092736,
            11180000,
            33470290
           ]
          },
          {
           "mode": "lines",
           "name": "China",
           "type": "scatter",
           "x": [
            "2016-01-01",
            "2016-01-01",
            "2016-01-01",
            "2016-01-01",
            "2016-01-01"
           ],
           "y": [
            19504648,
            33183120,
            7092736,
            11180000,
            33470290
           ]
          },
          {
           "mode": "lines",
           "name": "Argentina",
           "type": "scatter",
           "x": [
            "2016-01-01",
            "2016-01-01",
            "2016-01-01",
            "2016-01-01",
            "2016-01-01"
           ],
           "y": [
            19504648,
            33183120,
            7092736,
            11180000,
            33470290
           ]
          },
          {
           "mode": "lines",
           "name": "India",
           "type": "scatter",
           "x": [
            "2016-01-01",
            "2016-01-01",
            "2016-01-01",
            "2016-01-01",
            "2016-01-01"
           ],
           "y": [
            19504648,
            33183120,
            7092736,
            11180000,
            33470290
           ]
          }
         ],
         "name": "2016-01-01"
        },
        {
         "data": [
          {
           "mode": "lines",
           "name": "United States",
           "type": "scatter",
           "x": [
            "2017-01-01",
            "2017-01-01",
            "2017-01-01",
            "2017-01-01",
            "2017-01-01"
           ],
           "y": [
            17335102,
            33959880,
            8244810,
            11183400,
            36236752
           ]
          },
          {
           "mode": "lines",
           "name": "Brazil",
           "type": "scatter",
           "x": [
            "2017-01-01",
            "2017-01-01",
            "2017-01-01",
            "2017-01-01",
            "2017-01-01"
           ],
           "y": [
            17335102,
            33959880,
            8244810,
            11183400,
            36236752
           ]
          },
          {
           "mode": "lines",
           "name": "China",
           "type": "scatter",
           "x": [
            "2017-01-01",
            "2017-01-01",
            "2017-01-01",
            "2017-01-01",
            "2017-01-01"
           ],
           "y": [
            17335102,
            33959880,
            8244810,
            11183400,
            36236752
           ]
          },
          {
           "mode": "lines",
           "name": "Argentina",
           "type": "scatter",
           "x": [
            "2017-01-01",
            "2017-01-01",
            "2017-01-01",
            "2017-01-01",
            "2017-01-01"
           ],
           "y": [
            17335102,
            33959880,
            8244810,
            11183400,
            36236752
           ]
          },
          {
           "mode": "lines",
           "name": "India",
           "type": "scatter",
           "x": [
            "2017-01-01",
            "2017-01-01",
            "2017-01-01",
            "2017-01-01",
            "2017-01-01"
           ],
           "y": [
            17335102,
            33959880,
            8244810,
            11183400,
            36236752
           ]
          }
         ],
         "name": "2017-01-01"
        },
        {
         "data": [
          {
           "mode": "lines",
           "name": "United States",
           "type": "scatter",
           "x": [
            "2018-01-01",
            "2018-01-01",
            "2018-01-01",
            "2018-01-01",
            "2018-01-01"
           ],
           "y": [
            16318060,
            34777936,
            8412770,
            10328830,
            35448420
           ]
          },
          {
           "mode": "lines",
           "name": "Brazil",
           "type": "scatter",
           "x": [
            "2018-01-01",
            "2018-01-01",
            "2018-01-01",
            "2018-01-01",
            "2018-01-01"
           ],
           "y": [
            16318060,
            34777936,
            8412770,
            10328830,
            35448420
           ]
          },
          {
           "mode": "lines",
           "name": "China",
           "type": "scatter",
           "x": [
            "2018-01-01",
            "2018-01-01",
            "2018-01-01",
            "2018-01-01",
            "2018-01-01"
           ],
           "y": [
            16318060,
            34777936,
            8412770,
            10328830,
            35448420
           ]
          },
          {
           "mode": "lines",
           "name": "Argentina",
           "type": "scatter",
           "x": [
            "2018-01-01",
            "2018-01-01",
            "2018-01-01",
            "2018-01-01",
            "2018-01-01"
           ],
           "y": [
            16318060,
            34777936,
            8412770,
            10328830,
            35448420
           ]
          },
          {
           "mode": "lines",
           "name": "India",
           "type": "scatter",
           "x": [
            "2018-01-01",
            "2018-01-01",
            "2018-01-01",
            "2018-01-01",
            "2018-01-01"
           ],
           "y": [
            16318060,
            34777936,
            8412770,
            10328830,
            35448420
           ]
          }
         ],
         "name": "2018-01-01"
        },
        {
         "data": [
          {
           "mode": "lines",
           "name": "United States",
           "type": "scatter",
           "x": [
            "2019-01-01",
            "2019-01-01",
            "2019-01-01",
            "2019-01-01",
            "2019-01-01"
           ],
           "y": [
            16575887,
            35895208,
            9300000,
            11131260,
            30327060
           ]
          },
          {
           "mode": "lines",
           "name": "Brazil",
           "type": "scatter",
           "x": [
            "2019-01-01",
            "2019-01-01",
            "2019-01-01",
            "2019-01-01",
            "2019-01-01"
           ],
           "y": [
            16575887,
            35895208,
            9300000,
            11131260,
            30327060
           ]
          },
          {
           "mode": "lines",
           "name": "China",
           "type": "scatter",
           "x": [
            "2019-01-01",
            "2019-01-01",
            "2019-01-01",
            "2019-01-01",
            "2019-01-01"
           ],
           "y": [
            16575887,
            35895208,
            9300000,
            11131260,
            30327060
           ]
          },
          {
           "mode": "lines",
           "name": "Argentina",
           "type": "scatter",
           "x": [
            "2019-01-01",
            "2019-01-01",
            "2019-01-01",
            "2019-01-01",
            "2019-01-01"
           ],
           "y": [
            16575887,
            35895208,
            9300000,
            11131260,
            30327060
           ]
          },
          {
           "mode": "lines",
           "name": "India",
           "type": "scatter",
           "x": [
            "2019-01-01",
            "2019-01-01",
            "2019-01-01",
            "2019-01-01",
            "2019-01-01"
           ],
           "y": [
            16575887,
            35895208,
            9300000,
            11131260,
            30327060
           ]
          }
         ],
         "name": "2019-01-01"
        },
        {
         "data": [
          {
           "mode": "lines",
           "name": "United States",
           "type": "scatter",
           "x": [
            "2020-01-01",
            "2020-01-01",
            "2020-01-01",
            "2020-01-01",
            "2020-01-01"
           ],
           "y": [
            16721424,
            37188168,
            9882500,
            12192710,
            33428610
           ]
          },
          {
           "mode": "lines",
           "name": "Brazil",
           "type": "scatter",
           "x": [
            "2020-01-01",
            "2020-01-01",
            "2020-01-01",
            "2020-01-01",
            "2020-01-01"
           ],
           "y": [
            16721424,
            37188168,
            9882500,
            12192710,
            33428610
           ]
          },
          {
           "mode": "lines",
           "name": "China",
           "type": "scatter",
           "x": [
            "2020-01-01",
            "2020-01-01",
            "2020-01-01",
            "2020-01-01",
            "2020-01-01"
           ],
           "y": [
            16721424,
            37188168,
            9882500,
            12192710,
            33428610
           ]
          },
          {
           "mode": "lines",
           "name": "Argentina",
           "type": "scatter",
           "x": [
            "2020-01-01",
            "2020-01-01",
            "2020-01-01",
            "2020-01-01",
            "2020-01-01"
           ],
           "y": [
            16721424,
            37188168,
            9882500,
            12192710,
            33428610
           ]
          },
          {
           "mode": "lines",
           "name": "India",
           "type": "scatter",
           "x": [
            "2020-01-01",
            "2020-01-01",
            "2020-01-01",
            "2020-01-01",
            "2020-01-01"
           ],
           "y": [
            16721424,
            37188168,
            9882500,
            12192710,
            33428610
           ]
          }
         ],
         "name": "2020-01-01"
        }
       ],
       "layout": {
        "legend": {
         "title": {
          "text": "Entity"
         },
         "tracegroupgap": 0
        },
        "template": {
         "data": {
          "bar": [
           {
            "error_x": {
             "color": "#2a3f5f"
            },
            "error_y": {
             "color": "#2a3f5f"
            },
            "marker": {
             "line": {
              "color": "#E5ECF6",
              "width": 0.5
             },
             "pattern": {
              "fillmode": "overlay",
              "size": 10,
              "solidity": 0.2
             }
            },
            "type": "bar"
           }
          ],
          "barpolar": [
           {
            "marker": {
             "line": {
              "color": "#E5ECF6",
              "width": 0.5
             },
             "pattern": {
              "fillmode": "overlay",
              "size": 10,
              "solidity": 0.2
             }
            },
            "type": "barpolar"
           }
          ],
          "carpet": [
           {
            "aaxis": {
             "endlinecolor": "#2a3f5f",
             "gridcolor": "white",
             "linecolor": "white",
             "minorgridcolor": "white",
             "startlinecolor": "#2a3f5f"
            },
            "baxis": {
             "endlinecolor": "#2a3f5f",
             "gridcolor": "white",
             "linecolor": "white",
             "minorgridcolor": "white",
             "startlinecolor": "#2a3f5f"
            },
            "type": "carpet"
           }
          ],
          "choropleth": [
           {
            "colorbar": {
             "outlinewidth": 0,
             "ticks": ""
            },
            "type": "choropleth"
           }
          ],
          "contour": [
           {
            "colorbar": {
             "outlinewidth": 0,
             "ticks": ""
            },
            "colorscale": [
             [
              0,
              "#0d0887"
             ],
             [
              0.1111111111111111,
              "#46039f"
             ],
             [
              0.2222222222222222,
              "#7201a8"
             ],
             [
              0.3333333333333333,
              "#9c179e"
             ],
             [
              0.4444444444444444,
              "#bd3786"
             ],
             [
              0.5555555555555556,
              "#d8576b"
             ],
             [
              0.6666666666666666,
              "#ed7953"
             ],
             [
              0.7777777777777778,
              "#fb9f3a"
             ],
             [
              0.8888888888888888,
              "#fdca26"
             ],
             [
              1,
              "#f0f921"
             ]
            ],
            "type": "contour"
           }
          ],
          "contourcarpet": [
           {
            "colorbar": {
             "outlinewidth": 0,
             "ticks": ""
            },
            "type": "contourcarpet"
           }
          ],
          "heatmap": [
           {
            "colorbar": {
             "outlinewidth": 0,
             "ticks": ""
            },
            "colorscale": [
             [
              0,
              "#0d0887"
             ],
             [
              0.1111111111111111,
              "#46039f"
             ],
             [
              0.2222222222222222,
              "#7201a8"
             ],
             [
              0.3333333333333333,
              "#9c179e"
             ],
             [
              0.4444444444444444,
              "#bd3786"
             ],
             [
              0.5555555555555556,
              "#d8576b"
             ],
             [
              0.6666666666666666,
              "#ed7953"
             ],
             [
              0.7777777777777778,
              "#fb9f3a"
             ],
             [
              0.8888888888888888,
              "#fdca26"
             ],
             [
              1,
              "#f0f921"
             ]
            ],
            "type": "heatmap"
           }
          ],
          "heatmapgl": [
           {
            "colorbar": {
             "outlinewidth": 0,
             "ticks": ""
            },
            "colorscale": [
             [
              0,
              "#0d0887"
             ],
             [
              0.1111111111111111,
              "#46039f"
             ],
             [
              0.2222222222222222,
              "#7201a8"
             ],
             [
              0.3333333333333333,
              "#9c179e"
             ],
             [
              0.4444444444444444,
              "#bd3786"
             ],
             [
              0.5555555555555556,
              "#d8576b"
             ],
             [
              0.6666666666666666,
              "#ed7953"
             ],
             [
              0.7777777777777778,
              "#fb9f3a"
             ],
             [
              0.8888888888888888,
              "#fdca26"
             ],
             [
              1,
              "#f0f921"
             ]
            ],
            "type": "heatmapgl"
           }
          ],
          "histogram": [
           {
            "marker": {
             "pattern": {
              "fillmode": "overlay",
              "size": 10,
              "solidity": 0.2
             }
            },
            "type": "histogram"
           }
          ],
          "histogram2d": [
           {
            "colorbar": {
             "outlinewidth": 0,
             "ticks": ""
            },
            "colorscale": [
             [
              0,
              "#0d0887"
             ],
             [
              0.1111111111111111,
              "#46039f"
             ],
             [
              0.2222222222222222,
              "#7201a8"
             ],
             [
              0.3333333333333333,
              "#9c179e"
             ],
             [
              0.4444444444444444,
              "#bd3786"
             ],
             [
              0.5555555555555556,
              "#d8576b"
             ],
             [
              0.6666666666666666,
              "#ed7953"
             ],
             [
              0.7777777777777778,
              "#fb9f3a"
             ],
             [
              0.8888888888888888,
              "#fdca26"
             ],
             [
              1,
              "#f0f921"
             ]
            ],
            "type": "histogram2d"
           }
          ],
          "histogram2dcontour": [
           {
            "colorbar": {
             "outlinewidth": 0,
             "ticks": ""
            },
            "colorscale": [
             [
              0,
              "#0d0887"
             ],
             [
              0.1111111111111111,
              "#46039f"
             ],
             [
              0.2222222222222222,
              "#7201a8"
             ],
             [
              0.3333333333333333,
              "#9c179e"
             ],
             [
              0.4444444444444444,
              "#bd3786"
             ],
             [
              0.5555555555555556,
              "#d8576b"
             ],
             [
              0.6666666666666666,
              "#ed7953"
             ],
             [
              0.7777777777777778,
              "#fb9f3a"
             ],
             [
              0.8888888888888888,
              "#fdca26"
             ],
             [
              1,
              "#f0f921"
             ]
            ],
            "type": "histogram2dcontour"
           }
          ],
          "mesh3d": [
           {
            "colorbar": {
             "outlinewidth": 0,
             "ticks": ""
            },
            "type": "mesh3d"
           }
          ],
          "parcoords": [
           {
            "line": {
             "colorbar": {
              "outlinewidth": 0,
              "ticks": ""
             }
            },
            "type": "parcoords"
           }
          ],
          "pie": [
           {
            "automargin": true,
            "type": "pie"
           }
          ],
          "scatter": [
           {
            "fillpattern": {
             "fillmode": "overlay",
             "size": 10,
             "solidity": 0.2
            },
            "type": "scatter"
           }
          ],
          "scatter3d": [
           {
            "line": {
             "colorbar": {
              "outlinewidth": 0,
              "ticks": ""
             }
            },
            "marker": {
             "colorbar": {
              "outlinewidth": 0,
              "ticks": ""
             }
            },
            "type": "scatter3d"
           }
          ],
          "scattercarpet": [
           {
            "marker": {
             "colorbar": {
              "outlinewidth": 0,
              "ticks": ""
             }
            },
            "type": "scattercarpet"
           }
          ],
          "scattergeo": [
           {
            "marker": {
             "colorbar": {
              "outlinewidth": 0,
              "ticks": ""
             }
            },
            "type": "scattergeo"
           }
          ],
          "scattergl": [
           {
            "marker": {
             "colorbar": {
              "outlinewidth": 0,
              "ticks": ""
             }
            },
            "type": "scattergl"
           }
          ],
          "scattermapbox": [
           {
            "marker": {
             "colorbar": {
              "outlinewidth": 0,
              "ticks": ""
             }
            },
            "type": "scattermapbox"
           }
          ],
          "scatterpolar": [
           {
            "marker": {
             "colorbar": {
              "outlinewidth": 0,
              "ticks": ""
             }
            },
            "type": "scatterpolar"
           }
          ],
          "scatterpolargl": [
           {
            "marker": {
             "colorbar": {
              "outlinewidth": 0,
              "ticks": ""
             }
            },
            "type": "scatterpolargl"
           }
          ],
          "scatterternary": [
           {
            "marker": {
             "colorbar": {
              "outlinewidth": 0,
              "ticks": ""
             }
            },
            "type": "scatterternary"
           }
          ],
          "surface": [
           {
            "colorbar": {
             "outlinewidth": 0,
             "ticks": ""
            },
            "colorscale": [
             [
              0,
              "#0d0887"
             ],
             [
              0.1111111111111111,
              "#46039f"
             ],
             [
              0.2222222222222222,
              "#7201a8"
             ],
             [
              0.3333333333333333,
              "#9c179e"
             ],
             [
              0.4444444444444444,
              "#bd3786"
             ],
             [
              0.5555555555555556,
              "#d8576b"
             ],
             [
              0.6666666666666666,
              "#ed7953"
             ],
             [
              0.7777777777777778,
              "#fb9f3a"
             ],
             [
              0.8888888888888888,
              "#fdca26"
             ],
             [
              1,
              "#f0f921"
             ]
            ],
            "type": "surface"
           }
          ],
          "table": [
           {
            "cells": {
             "fill": {
              "color": "#EBF0F8"
             },
             "line": {
              "color": "white"
             }
            },
            "header": {
             "fill": {
              "color": "#C8D4E3"
             },
             "line": {
              "color": "white"
             }
            },
            "type": "table"
           }
          ]
         },
         "layout": {
          "annotationdefaults": {
           "arrowcolor": "#2a3f5f",
           "arrowhead": 0,
           "arrowwidth": 1
          },
          "autotypenumbers": "strict",
          "coloraxis": {
           "colorbar": {
            "outlinewidth": 0,
            "ticks": ""
           }
          },
          "colorscale": {
           "diverging": [
            [
             0,
             "#8e0152"
            ],
            [
             0.1,
             "#c51b7d"
            ],
            [
             0.2,
             "#de77ae"
            ],
            [
             0.3,
             "#f1b6da"
            ],
            [
             0.4,
             "#fde0ef"
            ],
            [
             0.5,
             "#f7f7f7"
            ],
            [
             0.6,
             "#e6f5d0"
            ],
            [
             0.7,
             "#b8e186"
            ],
            [
             0.8,
             "#7fbc41"
            ],
            [
             0.9,
             "#4d9221"
            ],
            [
             1,
             "#276419"
            ]
           ],
           "sequential": [
            [
             0,
             "#0d0887"
            ],
            [
             0.1111111111111111,
             "#46039f"
            ],
            [
             0.2222222222222222,
             "#7201a8"
            ],
            [
             0.3333333333333333,
             "#9c179e"
            ],
            [
             0.4444444444444444,
             "#bd3786"
            ],
            [
             0.5555555555555556,
             "#d8576b"
            ],
            [
             0.6666666666666666,
             "#ed7953"
            ],
            [
             0.7777777777777778,
             "#fb9f3a"
            ],
            [
             0.8888888888888888,
             "#fdca26"
            ],
            [
             1,
             "#f0f921"
            ]
           ],
           "sequentialminus": [
            [
             0,
             "#0d0887"
            ],
            [
             0.1111111111111111,
             "#46039f"
            ],
            [
             0.2222222222222222,
             "#7201a8"
            ],
            [
             0.3333333333333333,
             "#9c179e"
            ],
            [
             0.4444444444444444,
             "#bd3786"
            ],
            [
             0.5555555555555556,
             "#d8576b"
            ],
            [
             0.6666666666666666,
             "#ed7953"
            ],
            [
             0.7777777777777778,
             "#fb9f3a"
            ],
            [
             0.8888888888888888,
             "#fdca26"
            ],
            [
             1,
             "#f0f921"
            ]
           ]
          },
          "colorway": [
           "#636efa",
           "#EF553B",
           "#00cc96",
           "#ab63fa",
           "#FFA15A",
           "#19d3f3",
           "#FF6692",
           "#B6E880",
           "#FF97FF",
           "#FECB52"
          ],
          "font": {
           "color": "#2a3f5f"
          },
          "geo": {
           "bgcolor": "white",
           "lakecolor": "white",
           "landcolor": "#E5ECF6",
           "showlakes": true,
           "showland": true,
           "subunitcolor": "white"
          },
          "hoverlabel": {
           "align": "left"
          },
          "hovermode": "closest",
          "mapbox": {
           "style": "light"
          },
          "paper_bgcolor": "white",
          "plot_bgcolor": "#E5ECF6",
          "polar": {
           "angularaxis": {
            "gridcolor": "white",
            "linecolor": "white",
            "ticks": ""
           },
           "bgcolor": "#E5ECF6",
           "radialaxis": {
            "gridcolor": "white",
            "linecolor": "white",
            "ticks": ""
           }
          },
          "scene": {
           "xaxis": {
            "backgroundcolor": "#E5ECF6",
            "gridcolor": "white",
            "gridwidth": 2,
            "linecolor": "white",
            "showbackground": true,
            "ticks": "",
            "zerolinecolor": "white"
           },
           "yaxis": {
            "backgroundcolor": "#E5ECF6",
            "gridcolor": "white",
            "gridwidth": 2,
            "linecolor": "white",
            "showbackground": true,
            "ticks": "",
            "zerolinecolor": "white"
           },
           "zaxis": {
            "backgroundcolor": "#E5ECF6",
            "gridcolor": "white",
            "gridwidth": 2,
            "linecolor": "white",
            "showbackground": true,
            "ticks": "",
            "zerolinecolor": "white"
           }
          },
          "shapedefaults": {
           "line": {
            "color": "#2a3f5f"
           }
          },
          "ternary": {
           "aaxis": {
            "gridcolor": "white",
            "linecolor": "white",
            "ticks": ""
           },
           "baxis": {
            "gridcolor": "white",
            "linecolor": "white",
            "ticks": ""
           },
           "bgcolor": "#E5ECF6",
           "caxis": {
            "gridcolor": "white",
            "linecolor": "white",
            "ticks": ""
           }
          },
          "title": {
           "x": 0.05
          },
          "xaxis": {
           "automargin": true,
           "gridcolor": "white",
           "linecolor": "white",
           "ticks": "",
           "title": {
            "standoff": 15
           },
           "zerolinecolor": "white",
           "zerolinewidth": 2
          },
          "yaxis": {
           "automargin": true,
           "gridcolor": "white",
           "linecolor": "white",
           "ticks": "",
           "title": {
            "standoff": 15
           },
           "zerolinecolor": "white",
           "zerolinewidth": 2
          }
         }
        },
        "title": {
         "text": "Evolución del área cosechada por país"
        },
        "updatemenus": [
         {
          "active": 0,
          "buttons": [
           {
            "args": [
             null,
             {
              "frame": {
               "duration": 1000,
               "redraw": true
              },
              "fromcurrent": true,
              "transition": {
               "duration": 500
              }
             }
            ],
            "label": "Reproducir",
            "method": "animate"
           },
           {
            "args": [
             [
              null
             ],
             {
              "frame": {
               "duration": 0,
               "redraw": false
              },
              "mode": "immediate",
              "transition": {
               "duration": 0
              }
             }
            ],
            "label": "Pausa",
            "method": "animate"
           }
          ],
          "showactive": true,
          "type": "buttons",
          "x": 0.05,
          "xanchor": "right",
          "y": 0,
          "yanchor": "bottom"
         }
        ],
        "xaxis": {
         "anchor": "y",
         "autorange": false,
         "domain": [
          0,
          1
         ],
         "range": [
          "1961-01-01",
          "2020-01-01"
         ],
         "title": {
          "text": "Año"
         }
        },
        "yaxis": {
         "anchor": "x",
         "domain": [
          0,
          1
         ],
         "title": {
          "text": "Área cosechada (hectáreas)"
         }
        }
       }
      }
     },
     "metadata": {},
     "output_type": "display_data"
    }
   ],
   "source": [
    "# Filtrar el DataFrame para incluir solo los países de la lista 'paises'\n",
    "df_filtered = soy[soy['Entity'].isin(paises)]\n",
    "\n",
    "# Agrupar los datos por país y año, y calcular la suma del área cosechada en hectáreas\n",
    "grouped = df_filtered.groupby(['Entity', 'Year'])['Area harvested'].sum().reset_index()\n",
    "\n",
    "# Ordenar los países por el área cosechada total en orden descendente\n",
    "top_countries = grouped.groupby('Entity')['Area harvested'].sum().nlargest(5).index\n",
    "\n",
    "# Filtrar los datos para incluir solo los cinco países con mayor área cosechada\n",
    "df_top_countries = grouped[grouped['Entity'].isin(top_countries)]\n",
    "\n",
    "# Crear el gráfico interactivo utilizando Plotly Express\n",
    "fig = px.line(df_top_countries, x='Year', y='Area harvested', color='Entity',\n",
    "              labels={'Year': 'Año', 'Area harvested': 'Área cosechada (hectáreas)'},\n",
    "              title='Evolución del área cosechada por país')\n",
    "\n",
    "# Configurar la animación para que se mueva automáticamente por años\n",
    "fig.update_layout(\n",
    "    xaxis=dict(range=[df_top_countries['Year'].min(), df_top_countries['Year'].max()], autorange=False),\n",
    "    updatemenus=[\n",
    "        dict(\n",
    "            type='buttons',\n",
    "            buttons=[\n",
    "                dict(label='Reproducir',\n",
    "                     method='animate',\n",
    "                     args=[None, {'frame': {'duration': 1000, 'redraw': True}, 'fromcurrent': True, 'transition': {'duration': 500}}]),\n",
    "                dict(label='Pausa',\n",
    "                     method='animate',\n",
    "                     args=[[None], {'frame': {'duration': 0, 'redraw': False}, 'mode': 'immediate', 'transition': {'duration': 0}}])\n",
    "            ],\n",
    "            active=0,\n",
    "            showactive=True,\n",
    "            x=0.05,\n",
    "            y=0,\n",
    "            xanchor='right',\n",
    "            yanchor='bottom'\n",
    "        )\n",
    "    ]\n",
    ")\n",
    "\n",
    "# Configurar los fotogramas de la animación\n",
    "frames = []\n",
    "for year in df_top_countries['Year'].unique():\n",
    "    frame_data = df_top_countries[df_top_countries['Year'] == year]\n",
    "    frame = dict(\n",
    "        data=[dict(type='scatter', x=frame_data['Year'], y=frame_data['Area harvested'], mode='lines', name=country)\n",
    "              for country in top_countries],\n",
    "        name=str(year)\n",
    "    )\n",
    "    frames.append(frame)\n",
    "\n",
    "fig.update(frames=frames)\n",
    "\n",
    "# Mostrar el gráfico interactivo\n",
    "fig.show()"
   ]
  },
  {
   "cell_type": "code",
   "execution_count": 45,
   "metadata": {},
   "outputs": [
    {
     "ename": "KeyError",
     "evalue": "127057168.0",
     "output_type": "error",
     "traceback": [
      "\u001b[1;31m---------------------------------------------------------------------------\u001b[0m",
      "\u001b[1;31mKeyError\u001b[0m                                  Traceback (most recent call last)",
      "File \u001b[1;32m~\\AppData\\Local\\Packages\\PythonSoftwareFoundation.Python.3.11_qbz5n2kfra8p0\\LocalCache\\local-packages\\Python311\\site-packages\\pandas\\core\\indexes\\base.py:3652\u001b[0m, in \u001b[0;36mIndex.get_loc\u001b[1;34m(self, key)\u001b[0m\n\u001b[0;32m   3651\u001b[0m \u001b[39mtry\u001b[39;00m:\n\u001b[1;32m-> 3652\u001b[0m     \u001b[39mreturn\u001b[39;00m \u001b[39mself\u001b[39;49m\u001b[39m.\u001b[39;49m_engine\u001b[39m.\u001b[39;49mget_loc(casted_key)\n\u001b[0;32m   3653\u001b[0m \u001b[39mexcept\u001b[39;00m \u001b[39mKeyError\u001b[39;00m \u001b[39mas\u001b[39;00m err:\n",
      "File \u001b[1;32m~\\AppData\\Local\\Packages\\PythonSoftwareFoundation.Python.3.11_qbz5n2kfra8p0\\LocalCache\\local-packages\\Python311\\site-packages\\pandas\\_libs\\index.pyx:147\u001b[0m, in \u001b[0;36mpandas._libs.index.IndexEngine.get_loc\u001b[1;34m()\u001b[0m\n",
      "File \u001b[1;32m~\\AppData\\Local\\Packages\\PythonSoftwareFoundation.Python.3.11_qbz5n2kfra8p0\\LocalCache\\local-packages\\Python311\\site-packages\\pandas\\_libs\\index.pyx:176\u001b[0m, in \u001b[0;36mpandas._libs.index.IndexEngine.get_loc\u001b[1;34m()\u001b[0m\n",
      "File \u001b[1;32mpandas\\_libs\\hashtable_class_helper.pxi:7080\u001b[0m, in \u001b[0;36mpandas._libs.hashtable.PyObjectHashTable.get_item\u001b[1;34m()\u001b[0m\n",
      "File \u001b[1;32mpandas\\_libs\\hashtable_class_helper.pxi:7088\u001b[0m, in \u001b[0;36mpandas._libs.hashtable.PyObjectHashTable.get_item\u001b[1;34m()\u001b[0m\n",
      "\u001b[1;31mKeyError\u001b[0m: 127057168.0",
      "\nThe above exception was the direct cause of the following exception:\n",
      "\u001b[1;31mKeyError\u001b[0m                                  Traceback (most recent call last)",
      "Cell \u001b[1;32mIn[45], line 1\u001b[0m\n\u001b[1;32m----> 1\u001b[0m soy\u001b[39m.\u001b[39;49mloc[soy[\u001b[39m'\u001b[39;49m\u001b[39mEntity\u001b[39;49m\u001b[39m'\u001b[39;49m] \u001b[39m==\u001b[39;49m \u001b[39m'\u001b[39;49m\u001b[39mBrazil\u001b[39;49m\u001b[39m'\u001b[39;49m, soy[\u001b[39m'\u001b[39;49m\u001b[39mArea harvested\u001b[39;49m\u001b[39m'\u001b[39;49m]\u001b[39m.\u001b[39;49mmax()]\n",
      "File \u001b[1;32m~\\AppData\\Local\\Packages\\PythonSoftwareFoundation.Python.3.11_qbz5n2kfra8p0\\LocalCache\\local-packages\\Python311\\site-packages\\pandas\\core\\indexing.py:1097\u001b[0m, in \u001b[0;36m_LocationIndexer.__getitem__\u001b[1;34m(self, key)\u001b[0m\n\u001b[0;32m   1095\u001b[0m     \u001b[39mif\u001b[39;00m \u001b[39mself\u001b[39m\u001b[39m.\u001b[39m_is_scalar_access(key):\n\u001b[0;32m   1096\u001b[0m         \u001b[39mreturn\u001b[39;00m \u001b[39mself\u001b[39m\u001b[39m.\u001b[39mobj\u001b[39m.\u001b[39m_get_value(\u001b[39m*\u001b[39mkey, takeable\u001b[39m=\u001b[39m\u001b[39mself\u001b[39m\u001b[39m.\u001b[39m_takeable)\n\u001b[1;32m-> 1097\u001b[0m     \u001b[39mreturn\u001b[39;00m \u001b[39mself\u001b[39;49m\u001b[39m.\u001b[39;49m_getitem_tuple(key)\n\u001b[0;32m   1098\u001b[0m \u001b[39melse\u001b[39;00m:\n\u001b[0;32m   1099\u001b[0m     \u001b[39m# we by definition only have the 0th axis\u001b[39;00m\n\u001b[0;32m   1100\u001b[0m     axis \u001b[39m=\u001b[39m \u001b[39mself\u001b[39m\u001b[39m.\u001b[39maxis \u001b[39mor\u001b[39;00m \u001b[39m0\u001b[39m\n",
      "File \u001b[1;32m~\\AppData\\Local\\Packages\\PythonSoftwareFoundation.Python.3.11_qbz5n2kfra8p0\\LocalCache\\local-packages\\Python311\\site-packages\\pandas\\core\\indexing.py:1280\u001b[0m, in \u001b[0;36m_LocIndexer._getitem_tuple\u001b[1;34m(self, tup)\u001b[0m\n\u001b[0;32m   1278\u001b[0m \u001b[39mwith\u001b[39;00m suppress(IndexingError):\n\u001b[0;32m   1279\u001b[0m     tup \u001b[39m=\u001b[39m \u001b[39mself\u001b[39m\u001b[39m.\u001b[39m_expand_ellipsis(tup)\n\u001b[1;32m-> 1280\u001b[0m     \u001b[39mreturn\u001b[39;00m \u001b[39mself\u001b[39;49m\u001b[39m.\u001b[39;49m_getitem_lowerdim(tup)\n\u001b[0;32m   1282\u001b[0m \u001b[39m# no multi-index, so validate all of the indexers\u001b[39;00m\n\u001b[0;32m   1283\u001b[0m tup \u001b[39m=\u001b[39m \u001b[39mself\u001b[39m\u001b[39m.\u001b[39m_validate_tuple_indexer(tup)\n",
      "File \u001b[1;32m~\\AppData\\Local\\Packages\\PythonSoftwareFoundation.Python.3.11_qbz5n2kfra8p0\\LocalCache\\local-packages\\Python311\\site-packages\\pandas\\core\\indexing.py:1000\u001b[0m, in \u001b[0;36m_LocationIndexer._getitem_lowerdim\u001b[1;34m(self, tup)\u001b[0m\n\u001b[0;32m    996\u001b[0m \u001b[39mfor\u001b[39;00m i, key \u001b[39min\u001b[39;00m \u001b[39menumerate\u001b[39m(tup):\n\u001b[0;32m    997\u001b[0m     \u001b[39mif\u001b[39;00m is_label_like(key):\n\u001b[0;32m    998\u001b[0m         \u001b[39m# We don't need to check for tuples here because those are\u001b[39;00m\n\u001b[0;32m    999\u001b[0m         \u001b[39m#  caught by the _is_nested_tuple_indexer check above.\u001b[39;00m\n\u001b[1;32m-> 1000\u001b[0m         section \u001b[39m=\u001b[39m \u001b[39mself\u001b[39;49m\u001b[39m.\u001b[39;49m_getitem_axis(key, axis\u001b[39m=\u001b[39;49mi)\n\u001b[0;32m   1002\u001b[0m         \u001b[39m# We should never have a scalar section here, because\u001b[39;00m\n\u001b[0;32m   1003\u001b[0m         \u001b[39m#  _getitem_lowerdim is only called after a check for\u001b[39;00m\n\u001b[0;32m   1004\u001b[0m         \u001b[39m#  is_scalar_access, which that would be.\u001b[39;00m\n\u001b[0;32m   1005\u001b[0m         \u001b[39mif\u001b[39;00m section\u001b[39m.\u001b[39mndim \u001b[39m==\u001b[39m \u001b[39mself\u001b[39m\u001b[39m.\u001b[39mndim:\n\u001b[0;32m   1006\u001b[0m             \u001b[39m# we're in the middle of slicing through a MultiIndex\u001b[39;00m\n\u001b[0;32m   1007\u001b[0m             \u001b[39m# revise the key wrt to `section` by inserting an _NS\u001b[39;00m\n",
      "File \u001b[1;32m~\\AppData\\Local\\Packages\\PythonSoftwareFoundation.Python.3.11_qbz5n2kfra8p0\\LocalCache\\local-packages\\Python311\\site-packages\\pandas\\core\\indexing.py:1343\u001b[0m, in \u001b[0;36m_LocIndexer._getitem_axis\u001b[1;34m(self, key, axis)\u001b[0m\n\u001b[0;32m   1341\u001b[0m \u001b[39m# fall thru to straight lookup\u001b[39;00m\n\u001b[0;32m   1342\u001b[0m \u001b[39mself\u001b[39m\u001b[39m.\u001b[39m_validate_key(key, axis)\n\u001b[1;32m-> 1343\u001b[0m \u001b[39mreturn\u001b[39;00m \u001b[39mself\u001b[39;49m\u001b[39m.\u001b[39;49m_get_label(key, axis\u001b[39m=\u001b[39;49maxis)\n",
      "File \u001b[1;32m~\\AppData\\Local\\Packages\\PythonSoftwareFoundation.Python.3.11_qbz5n2kfra8p0\\LocalCache\\local-packages\\Python311\\site-packages\\pandas\\core\\indexing.py:1293\u001b[0m, in \u001b[0;36m_LocIndexer._get_label\u001b[1;34m(self, label, axis)\u001b[0m\n\u001b[0;32m   1291\u001b[0m \u001b[39mdef\u001b[39;00m \u001b[39m_get_label\u001b[39m(\u001b[39mself\u001b[39m, label, axis: AxisInt):\n\u001b[0;32m   1292\u001b[0m     \u001b[39m# GH#5567 this will fail if the label is not present in the axis.\u001b[39;00m\n\u001b[1;32m-> 1293\u001b[0m     \u001b[39mreturn\u001b[39;00m \u001b[39mself\u001b[39;49m\u001b[39m.\u001b[39;49mobj\u001b[39m.\u001b[39;49mxs(label, axis\u001b[39m=\u001b[39;49maxis)\n",
      "File \u001b[1;32m~\\AppData\\Local\\Packages\\PythonSoftwareFoundation.Python.3.11_qbz5n2kfra8p0\\LocalCache\\local-packages\\Python311\\site-packages\\pandas\\core\\generic.py:4082\u001b[0m, in \u001b[0;36mNDFrame.xs\u001b[1;34m(self, key, axis, level, drop_level)\u001b[0m\n\u001b[0;32m   4080\u001b[0m \u001b[39mif\u001b[39;00m axis \u001b[39m==\u001b[39m \u001b[39m1\u001b[39m:\n\u001b[0;32m   4081\u001b[0m     \u001b[39mif\u001b[39;00m drop_level:\n\u001b[1;32m-> 4082\u001b[0m         \u001b[39mreturn\u001b[39;00m \u001b[39mself\u001b[39;49m[key]\n\u001b[0;32m   4083\u001b[0m     index \u001b[39m=\u001b[39m \u001b[39mself\u001b[39m\u001b[39m.\u001b[39mcolumns\n\u001b[0;32m   4084\u001b[0m \u001b[39melse\u001b[39;00m:\n",
      "File \u001b[1;32m~\\AppData\\Local\\Packages\\PythonSoftwareFoundation.Python.3.11_qbz5n2kfra8p0\\LocalCache\\local-packages\\Python311\\site-packages\\pandas\\core\\frame.py:3760\u001b[0m, in \u001b[0;36mDataFrame.__getitem__\u001b[1;34m(self, key)\u001b[0m\n\u001b[0;32m   3758\u001b[0m \u001b[39mif\u001b[39;00m \u001b[39mself\u001b[39m\u001b[39m.\u001b[39mcolumns\u001b[39m.\u001b[39mnlevels \u001b[39m>\u001b[39m \u001b[39m1\u001b[39m:\n\u001b[0;32m   3759\u001b[0m     \u001b[39mreturn\u001b[39;00m \u001b[39mself\u001b[39m\u001b[39m.\u001b[39m_getitem_multilevel(key)\n\u001b[1;32m-> 3760\u001b[0m indexer \u001b[39m=\u001b[39m \u001b[39mself\u001b[39;49m\u001b[39m.\u001b[39;49mcolumns\u001b[39m.\u001b[39;49mget_loc(key)\n\u001b[0;32m   3761\u001b[0m \u001b[39mif\u001b[39;00m is_integer(indexer):\n\u001b[0;32m   3762\u001b[0m     indexer \u001b[39m=\u001b[39m [indexer]\n",
      "File \u001b[1;32m~\\AppData\\Local\\Packages\\PythonSoftwareFoundation.Python.3.11_qbz5n2kfra8p0\\LocalCache\\local-packages\\Python311\\site-packages\\pandas\\core\\indexes\\base.py:3654\u001b[0m, in \u001b[0;36mIndex.get_loc\u001b[1;34m(self, key)\u001b[0m\n\u001b[0;32m   3652\u001b[0m     \u001b[39mreturn\u001b[39;00m \u001b[39mself\u001b[39m\u001b[39m.\u001b[39m_engine\u001b[39m.\u001b[39mget_loc(casted_key)\n\u001b[0;32m   3653\u001b[0m \u001b[39mexcept\u001b[39;00m \u001b[39mKeyError\u001b[39;00m \u001b[39mas\u001b[39;00m err:\n\u001b[1;32m-> 3654\u001b[0m     \u001b[39mraise\u001b[39;00m \u001b[39mKeyError\u001b[39;00m(key) \u001b[39mfrom\u001b[39;00m \u001b[39merr\u001b[39;00m\n\u001b[0;32m   3655\u001b[0m \u001b[39mexcept\u001b[39;00m \u001b[39mTypeError\u001b[39;00m:\n\u001b[0;32m   3656\u001b[0m     \u001b[39m# If we have a listlike key, _check_indexing_error will raise\u001b[39;00m\n\u001b[0;32m   3657\u001b[0m     \u001b[39m#  InvalidIndexError. Otherwise we fall through and re-raise\u001b[39;00m\n\u001b[0;32m   3658\u001b[0m     \u001b[39m#  the TypeError.\u001b[39;00m\n\u001b[0;32m   3659\u001b[0m     \u001b[39mself\u001b[39m\u001b[39m.\u001b[39m_check_indexing_error(key)\n",
      "\u001b[1;31mKeyError\u001b[0m: 127057168.0"
     ]
    }
   ],
   "source": [
    "soy.loc[soy['Entity'] == 'Brazil', soy['Area harvested'].max()]"
   ]
  },
  {
   "cell_type": "code",
   "execution_count": 15,
   "metadata": {},
   "outputs": [
    {
     "data": {
      "image/png": "[encoded data removed]",
      "text/plain": [
       "<Figure size 1000x600 with 1 Axes>"
      ]
     },
     "metadata": {},
     "output_type": "display_data"
    }
   ],
   "source": [
    "# Filtrar el DataFrame para incluir solo los países de la lista 'paises'\n",
    "df_filtered = soy[soy['Entity'].isin(paises)]\n",
    "\n",
    "# Agrupar los datos por país y año, y calcular la suma del área cosechada en hectáreas\n",
    "grouped = df_filtered.groupby(['Entity', 'Year'])['Area harvested'].sum().reset_index()\n",
    "\n",
    "# Obtener los 5 países con el mayor área cosechada\n",
    "top_countries = grouped.groupby('Entity')['Area harvested'].sum().nlargest(5).index\n",
    "\n",
    "# Filtrar los datos para incluir solo los cinco países con mayor área cosechada\n",
    "df_top_countries = grouped[grouped['Entity'].isin(top_countries)]\n",
    "\n",
    "# Crear una figura y un eje\n",
    "fig, ax = plt.subplots(figsize=(10, 6))\n",
    "\n",
    "# Configurar el eje y los límites\n",
    "ax.set_xlim(df_top_countries['Year'].min(), df_top_countries['Year'].max())\n",
    "ax.set_ylim(0, df_top_countries['Area harvested'].max())\n",
    "\n",
    "# Inicializar una lista vacía para almacenar las líneas de cada país\n",
    "lines = []\n",
    "\n",
    "# Definir una función para inicializar el gráfico\n",
    "def init():\n",
    "    for country in top_countries:\n",
    "        line, = ax.plot([], [], marker='o', label=country)\n",
    "        lines.append(line)\n",
    "    ax.legend(loc='upper left')\n",
    "    return lines\n",
    "\n",
    "# Definir una función para actualizar el gráfico en cada fotograma de la animación\n",
    "def update(frame):\n",
    "    ax.clear()\n",
    "    ax.set_xlim(df_top_countries['Year'].min(), df_top_countries['Year'].max())\n",
    "    ax.set_ylim(0, df_top_countries['Area harvested'].max())\n",
    "    ax.set_title(f'Año {frame}')\n",
    "    ax.set_xlabel('Año')\n",
    "    ax.set_ylabel('Área cosechada (hectáreas)')\n",
    "    \n",
    "    data = df_top_countries[df_top_countries['Year'] == frame]\n",
    "    for i, country in enumerate(top_countries):\n",
    "        country_data = data[data['Entity'] == country]\n",
    "        lines[i], = ax.plot(country_data['Year'], country_data['Area harvested'], marker='o', label=country)\n",
    "    \n",
    "    ax.legend(loc='upper left')\n",
    "    return lines\n",
    "\n",
    "# Crear la animación\n",
    "ani = FuncAnimation(fig, update, frames=df_top_countries['Year'].unique(), init_func=init, blit=True)\n",
    "\n",
    "# Guardar la animación como un archivo de video (requiere FFMpeg instalado)\n",
    "# ani.save('evolucion_area_cosechada.mp4', writer='ffmpeg')\n",
    "\n",
    "# Mostrar el gráfico (opcional)\n",
    "plt.show()"
   ]
  },
  {
   "cell_type": "code",
   "execution_count": 22,
   "metadata": {},
   "outputs": [
    {
     "name": "stdout",
     "output_type": "stream",
     "text": [
      "<class 'pandas.core.frame.DataFrame'>\n",
      "RangeIndex: 5469 entries, 0 to 5468\n",
      "Data columns (total 9 columns):\n",
      " #   Column          Non-Null Count  Dtype         \n",
      "---  ------          --------------  -----         \n",
      " 0   Entity          5469 non-null   object        \n",
      " 1   Code            5469 non-null   int64         \n",
      " 2   Year            5469 non-null   datetime64[ns]\n",
      " 3   Food            5369 non-null   float64       \n",
      " 4   Feed            3090 non-null   float64       \n",
      " 5   Processed       4404 non-null   float64       \n",
      " 6   Production      5467 non-null   float64       \n",
      " 7   Yield           5094 non-null   float64       \n",
      " 8   Area harvested  5463 non-null   float64       \n",
      "dtypes: datetime64[ns](1), float64(6), int64(1), object(1)\n",
      "memory usage: 384.7+ KB\n"
     ]
    }
   ],
   "source": [
    "soy.info()"
   ]
  },
  {
   "cell_type": "code",
   "execution_count": 25,
   "metadata": {},
   "outputs": [
    {
     "data": {
      "image/png": "[encoded data removed]",
      "text/plain": [
       "<Figure size 640x480 with 1 Axes>"
      ]
     },
     "metadata": {},
     "output_type": "display_data"
    }
   ],
   "source": [
    "df = soy[soy['Year'].dt.year >= 2000]\n",
    "\n",
    "totals = df[['Food', 'Feed', 'Processed']].sum()\n",
    "\n",
    "# Crear la figura y el eje\n",
    "fig, ax = plt.subplots()\n",
    "\n",
    "# Configurar los datos y las etiquetas del eje x\n",
    "x_labels = ['Food', 'Feed', 'Processed']\n",
    "x = np.arange(len(x_labels))\n",
    "\n",
    "# Crear las barras verticales\n",
    "bars = ax.bar(x, np.zeros(len(x)))\n",
    "\n",
    "# Función para animar el crecimiento de las barras\n",
    "# def animate(i):\n",
    "#     total_heights = totals * i / 100\n",
    "#     for j, bar in enumerate(bars):\n",
    "#         bar.set_height(total_heights[j])\n",
    "#         ax.text(bar.get_x() + bar.get_width() / 2, bar.get_height(),\n",
    "#                 f'{total_heights[j]:.2f}', ha='center', va='bottom')\n",
    "#     ax.set_title(f'Progress: {i}%')\n",
    "\n",
    "# Crear la animación\n",
    "\n",
    "# anim = FuncAnimation(fig, animate, frames=100, interval=50, repeat=False)\n",
    "\n",
    "# Configurar el eje y los límites\n",
    "# ax.set_ylim(0, totals.max() * 1.1)\n",
    "\n",
    "# Configurar las etiquetas del eje x\n",
    "ax.set_xticks(x)\n",
    "ax.set_xticklabels(x_labels)\n",
    "\n",
    "# Mostrar el gráfico\n",
    "plt.show()"
   ]
  },
  {
   "cell_type": "code",
   "execution_count": 27,
   "metadata": {},
   "outputs": [
    {
     "data": {
      "image/png": "[encoded data removed]",
      "text/plain": [
       "<Figure size 640x480 with 1 Axes>"
      ]
     },
     "metadata": {},
     "output_type": "display_data"
    }
   ],
   "source": [
    "df = soy[soy['Year'].dt.year >= 2000]\n",
    "\n",
    "# Calcular la suma total de las columnas \"Food\", \"Feed\" y \"Processed\"\n",
    "totals = df[['Food', 'Feed', 'Processed']].sum()\n",
    "\n",
    "# Crear la figura y el eje\n",
    "fig, ax = plt.subplots()\n",
    "\n",
    "# Configurar los datos y las etiquetas del eje x\n",
    "x_labels = ['Food', 'Feed', 'Processed']\n",
    "x = range(len(x_labels))\n",
    "\n",
    "# Crear las barras verticales\n",
    "bars = ax.bar(x, totals)\n",
    "\n",
    "# Agregar etiquetas a las barras\n",
    "for bar in bars:\n",
    "    height = bar.get_height()\n",
    "    ax.text(bar.get_x() + bar.get_width() / 2, height,\n",
    "            f'{height}', ha='center', va='bottom')\n",
    "\n",
    "# Configurar las etiquetas del eje x\n",
    "ax.set_xticks(x)\n",
    "ax.set_xticklabels(x_labels)\n",
    "\n",
    "# Mostrar el gráfico\n",
    "plt.show()"
   ]
  },
  {
   "cell_type": "code",
   "execution_count": 28,
   "metadata": {},
   "outputs": [
    {
     "data": {
      "text/html": [
       "<div>\n",
       "<style scoped>\n",
       "    .dataframe tbody tr th:only-of-type {\n",
       "        vertical-align: middle;\n",
       "    }\n",
       "\n",
       "    .dataframe tbody tr th {\n",
       "        vertical-align: top;\n",
       "    }\n",
       "\n",
       "    .dataframe thead th {\n",
       "        text-align: right;\n",
       "    }\n",
       "</style>\n",
       "<table border=\"1\" class=\"dataframe\">\n",
       "  <thead>\n",
       "    <tr style=\"text-align: right;\">\n",
       "      <th></th>\n",
       "      <th>Entity</th>\n",
       "      <th>Code</th>\n",
       "      <th>food_emissions_land_use</th>\n",
       "      <th>food_emissions_farm</th>\n",
       "      <th>food_emissions_animal_feed</th>\n",
       "      <th>food_emissions_processing</th>\n",
       "      <th>food_emissions_transport</th>\n",
       "      <th>food_emissions_retail</th>\n",
       "      <th>food_emissions_packaging</th>\n",
       "      <th>food_emissions_losses</th>\n",
       "      <th>Water_l_kg</th>\n",
       "    </tr>\n",
       "  </thead>\n",
       "  <tbody>\n",
       "    <tr>\n",
       "      <th>0</th>\n",
       "      <td>Apples</td>\n",
       "      <td>1</td>\n",
       "      <td>-0.028951</td>\n",
       "      <td>0.225816</td>\n",
       "      <td>0.0</td>\n",
       "      <td>0.00382</td>\n",
       "      <td>0.095804</td>\n",
       "      <td>0.016578</td>\n",
       "      <td>0.044526</td>\n",
       "      <td>0.070808</td>\n",
       "      <td>180.1</td>\n",
       "    </tr>\n",
       "  </tbody>\n",
       "</table>\n",
       "</div>"
      ],
      "text/plain": [
       "   Entity  Code  food_emissions_land_use  food_emissions_farm   \n",
       "0  Apples     1                -0.028951             0.225816  \\\n",
       "\n",
       "   food_emissions_animal_feed  food_emissions_processing   \n",
       "0                         0.0                    0.00382  \\\n",
       "\n",
       "   food_emissions_transport  food_emissions_retail  food_emissions_packaging   \n",
       "0                  0.095804               0.016578                  0.044526  \\\n",
       "\n",
       "   food_emissions_losses  Water_l_kg  \n",
       "0               0.070808       180.1  "
      ]
     },
     "execution_count": 28,
     "metadata": {},
     "output_type": "execute_result"
    }
   ],
   "source": [
    "fod.head(1)"
   ]
  },
  {
   "cell_type": "code",
   "execution_count": 29,
   "metadata": {},
   "outputs": [
    {
     "name": "stdout",
     "output_type": "stream",
     "text": [
      "<class 'pandas.core.frame.DataFrame'>\n",
      "RangeIndex: 43 entries, 0 to 42\n",
      "Data columns (total 11 columns):\n",
      " #   Column                      Non-Null Count  Dtype  \n",
      "---  ------                      --------------  -----  \n",
      " 0   Entity                      43 non-null     object \n",
      " 1   Code                        43 non-null     int64  \n",
      " 2   food_emissions_land_use     43 non-null     float64\n",
      " 3   food_emissions_farm         43 non-null     float64\n",
      " 4   food_emissions_animal_feed  43 non-null     float64\n",
      " 5   food_emissions_processing   43 non-null     float64\n",
      " 6   food_emissions_transport    43 non-null     float64\n",
      " 7   food_emissions_retail       43 non-null     float64\n",
      " 8   food_emissions_packaging    43 non-null     float64\n",
      " 9   food_emissions_losses       43 non-null     float64\n",
      " 10  Water_l_kg                  38 non-null     float64\n",
      "dtypes: float64(9), int64(1), object(1)\n",
      "memory usage: 3.8+ KB\n"
     ]
    }
   ],
   "source": [
    "fod.info()"
   ]
  },
  {
   "cell_type": "code",
   "execution_count": 37,
   "metadata": {},
   "outputs": [
    {
     "name": "stdout",
     "output_type": "stream",
     "text": [
      "Total de emisiones de 'Soy milk' (200g): 0.1950358306\n"
     ]
    },
    {
     "data": {
      "text/plain": [
       "71.188078169"
      ]
     },
     "execution_count": 37,
     "metadata": {},
     "output_type": "execute_result"
    }
   ],
   "source": [
    "# Filtrar los datos para la 'Soy milk'\n",
    "soy_milk_emissions = fod[fod['Entity'] == 'Soy milk']\n",
    "\n",
    "# Calcular el total de las emisiones de 200g\n",
    "total_emissions = soy_milk_emissions[['food_emissions_land_use', 'food_emissions_farm', 'food_emissions_animal_feed',\n",
    "                                      'food_emissions_processing', 'food_emissions_transport', 'food_emissions_retail',\n",
    "                                      'food_emissions_packaging', 'food_emissions_losses']].sum().sum() * 0.2\n",
    "\n",
    "# Result\n",
    "print(\"Total de emisiones de 'Soy milk' (200g):\", total_emissions)\n",
    "total_emissions * 365"
   ]
  },
  {
   "cell_type": "code",
   "execution_count": 39,
   "metadata": {},
   "outputs": [
    {
     "name": "stdout",
     "output_type": "stream",
     "text": [
      "Total de litros de 'Soy milk' (200g): 5.5600000000000005\n"
     ]
    },
    {
     "data": {
      "text/plain": [
       "2029.4"
      ]
     },
     "execution_count": 39,
     "metadata": {},
     "output_type": "execute_result"
    }
   ],
   "source": [
    "# Filtrar los datos para la 'Soy milk'\n",
    "soy_milk_emissions = fod[fod['Entity'] == 'Soy milk']\n",
    "\n",
    "# Gasto de agua de 200g\n",
    "total_emissions = soy_milk_emissions[['Water_l_kg']].sum().sum() * 0.2\n",
    "\n",
    "# Result\n",
    "print(\"Total de litros de 'Soy milk' (200g):\", total_emissions)\n",
    "total_emissions * 365"
   ]
  },
  {
   "cell_type": "code",
   "execution_count": 41,
   "metadata": {},
   "outputs": [
    {
     "name": "stdout",
     "output_type": "stream",
     "text": [
      "Total de litros de 'Beef milk' (200g): 542.86\n"
     ]
    },
    {
     "data": {
      "text/plain": [
       "198143.9"
      ]
     },
     "execution_count": 41,
     "metadata": {},
     "output_type": "execute_result"
    }
   ],
   "source": [
    "# Filtrar los datos para la 'Beef milk'\n",
    "soy_milk_emissions = fod[fod['Entity'] == 'Beef milk']\n",
    "\n",
    "# Gasto de agua de 200g\n",
    "total_emissions = soy_milk_emissions[['Water_l_kg']].sum().sum() * 0.2\n",
    "\n",
    "# Result\n",
    "print(\"Total de litros de 'Beef milk' (200g):\", total_emissions)\n",
    "total_emissions * 365"
   ]
  },
  {
   "cell_type": "code",
   "execution_count": 36,
   "metadata": {},
   "outputs": [
    {
     "name": "stdout",
     "output_type": "stream",
     "text": [
      "Total de emisiones de 'Tofu' (250g): 0.47426165415\n"
     ]
    },
    {
     "data": {
      "text/plain": [
       "173.10550376474998"
      ]
     },
     "execution_count": 36,
     "metadata": {},
     "output_type": "execute_result"
    }
   ],
   "source": [
    "# Filtrar los datos para la entidad 'Tofu'\n",
    "tofu_emissions = fod[fod['Entity'] == 'Tofu']\n",
    "\n",
    "# Calcular el total de las emisiones para 150g\n",
    "total_emissions = tofu_emissions[['food_emissions_land_use', 'food_emissions_farm', 'food_emissions_animal_feed',\n",
    "                                      'food_emissions_processing', 'food_emissions_transport', 'food_emissions_retail',\n",
    "                                      'food_emissions_packaging', 'food_emissions_losses']].sum().sum() * 0.15\n",
    "\n",
    "# result\n",
    "print(\"Total de emisiones de 'Tofu' (250g):\", total_emissions)\n",
    "total_emissions * 365"
   ]
  },
  {
   "cell_type": "code",
   "execution_count": 42,
   "metadata": {},
   "outputs": [
    {
     "name": "stdout",
     "output_type": "stream",
     "text": [
      "Total de litros de 'Tofu' (150g): 22.29\n"
     ]
    },
    {
     "data": {
      "text/plain": [
       "8135.849999999999"
      ]
     },
     "execution_count": 42,
     "metadata": {},
     "output_type": "execute_result"
    }
   ],
   "source": [
    "# Filtrar los datos para la 'Tofu'\n",
    "soy_milk_emissions = fod[fod['Entity'] == 'Tofu']\n",
    "\n",
    "# Gasto de agua de 200g\n",
    "total_emissions = soy_milk_emissions[['Water_l_kg']].sum().sum() * 0.15\n",
    "\n",
    "# Result\n",
    "print(\"Total de litros de 'Tofu' (150g):\", total_emissions)\n",
    "total_emissions * 365"
   ]
  },
  {
   "cell_type": "code",
   "execution_count": null,
   "metadata": {},
   "outputs": [],
   "source": []
  }
 ],
 "metadata": {
  "kernelspec": {
   "display_name": "Python 3",
   "language": "python",
   "name": "python3"
  },
  "language_info": {
   "codemirror_mode": {
    "name": "ipython",
    "version": 3
   },
   "file_extension": ".py",
   "mimetype": "text/x-python",
   "name": "python",
   "nbconvert_exporter": "python",
   "pygments_lexer": "ipython3",
   "version": "3.11.3"
  },
  "orig_nbformat": 4
 },
 "nbformat": 4,
 "nbformat_minor": 2
}
