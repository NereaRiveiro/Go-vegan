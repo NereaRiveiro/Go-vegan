{
 "cells": [
  {
   "cell_type": "code",
   "execution_count": 333,
   "metadata": {},
   "outputs": [],
   "source": [
    "import pandas as pd\n",
    "import numpy as np\n",
    "pd.options.plotting.backend = \"plotly\"\n",
    "\n",
    "import plotly.express as px"
   ]
  },
  {
   "attachments": {},
   "cell_type": "markdown",
   "metadata": {},
   "source": [
    "## CO2 por alimentos\n",
    "Cargamos csv de emisiones CO2 por alimentos"
   ]
  },
  {
   "cell_type": "code",
   "execution_count": 334,
   "metadata": {},
   "outputs": [],
   "source": [
    "fod = pd.read_csv('../data/Food/food-emissions-supply-chain.csv')\n",
    "# fod.head()"
   ]
  },
  {
   "cell_type": "code",
   "execution_count": 335,
   "metadata": {},
   "outputs": [
    {
     "name": "stdout",
     "output_type": "stream",
     "text": [
      "<class 'pandas.core.frame.DataFrame'>\n",
      "RangeIndex: 43 entries, 0 to 42\n",
      "Data columns (total 11 columns):\n",
      " #   Column                      Non-Null Count  Dtype  \n",
      "---  ------                      --------------  -----  \n",
      " 0   Entity                      43 non-null     object \n",
      " 1   Code                        0 non-null      float64\n",
      " 2   Year                        43 non-null     int64  \n",
      " 3   food_emissions_land_use     43 non-null     float64\n",
      " 4   food_emissions_farm         43 non-null     float64\n",
      " 5   food_emissions_animal_feed  43 non-null     float64\n",
      " 6   food_emissions_processing   43 non-null     float64\n",
      " 7   food_emissions_transport    43 non-null     float64\n",
      " 8   food_emissions_retail       43 non-null     float64\n",
      " 9   food_emissions_packaging    43 non-null     float64\n",
      " 10  food_emissions_losses       43 non-null     float64\n",
      "dtypes: float64(9), int64(1), object(1)\n",
      "memory usage: 3.8+ KB\n"
     ]
    }
   ],
   "source": [
    "fod.info()"
   ]
  },
  {
   "attachments": {},
   "cell_type": "markdown",
   "metadata": {},
   "source": [
    "Cargamos datos de consumo de agua y añadimos al de alimentos."
   ]
  },
  {
   "cell_type": "code",
   "execution_count": 336,
   "metadata": {},
   "outputs": [
    {
     "data": {
      "text/html": [
       "<div>\n",
       "<style scoped>\n",
       "    .dataframe tbody tr th:only-of-type {\n",
       "        vertical-align: middle;\n",
       "    }\n",
       "\n",
       "    .dataframe tbody tr th {\n",
       "        vertical-align: top;\n",
       "    }\n",
       "\n",
       "    .dataframe thead th {\n",
       "        text-align: right;\n",
       "    }\n",
       "</style>\n",
       "<table border=\"1\" class=\"dataframe\">\n",
       "  <thead>\n",
       "    <tr style=\"text-align: right;\">\n",
       "      <th></th>\n",
       "      <th>Entity</th>\n",
       "      <th>Code</th>\n",
       "      <th>Year</th>\n",
       "      <th>Water_l_kg</th>\n",
       "    </tr>\n",
       "  </thead>\n",
       "  <tbody>\n",
       "    <tr>\n",
       "      <th>0</th>\n",
       "      <td>Apples</td>\n",
       "      <td>NaN</td>\n",
       "      <td>2010</td>\n",
       "      <td>180.1</td>\n",
       "    </tr>\n",
       "  </tbody>\n",
       "</table>\n",
       "</div>"
      ],
      "text/plain": [
       "   Entity  Code  Year  Water_l_kg\n",
       "0  Apples   NaN  2010       180.1"
      ]
     },
     "execution_count": 336,
     "metadata": {},
     "output_type": "execute_result"
    }
   ],
   "source": [
    "columns = ['Entity', 'Code', 'Year', 'Water_l_kg']\n",
    "wat = pd.read_csv('..\\data\\Food\\water-withdrawals-per-kg-poore.csv', names=columns, header=0)\n",
    "wat.head(1)"
   ]
  },
  {
   "cell_type": "code",
   "execution_count": 337,
   "metadata": {},
   "outputs": [
    {
     "data": {
      "text/html": [
       "<div>\n",
       "<style scoped>\n",
       "    .dataframe tbody tr th:only-of-type {\n",
       "        vertical-align: middle;\n",
       "    }\n",
       "\n",
       "    .dataframe tbody tr th {\n",
       "        vertical-align: top;\n",
       "    }\n",
       "\n",
       "    .dataframe thead th {\n",
       "        text-align: right;\n",
       "    }\n",
       "</style>\n",
       "<table border=\"1\" class=\"dataframe\">\n",
       "  <thead>\n",
       "    <tr style=\"text-align: right;\">\n",
       "      <th></th>\n",
       "      <th>Entity</th>\n",
       "      <th>Code</th>\n",
       "      <th>Year</th>\n",
       "      <th>food_emissions_land_use</th>\n",
       "      <th>food_emissions_farm</th>\n",
       "      <th>food_emissions_animal_feed</th>\n",
       "      <th>food_emissions_processing</th>\n",
       "      <th>food_emissions_transport</th>\n",
       "      <th>food_emissions_retail</th>\n",
       "      <th>food_emissions_packaging</th>\n",
       "      <th>food_emissions_losses</th>\n",
       "      <th>Water_l_kg</th>\n",
       "    </tr>\n",
       "  </thead>\n",
       "  <tbody>\n",
       "    <tr>\n",
       "      <th>0</th>\n",
       "      <td>Apples</td>\n",
       "      <td>NaN</td>\n",
       "      <td>2018</td>\n",
       "      <td>-0.028951</td>\n",
       "      <td>0.225816</td>\n",
       "      <td>0.000000</td>\n",
       "      <td>0.003820</td>\n",
       "      <td>0.095804</td>\n",
       "      <td>0.016578</td>\n",
       "      <td>0.044526</td>\n",
       "      <td>0.070808</td>\n",
       "      <td>180.1</td>\n",
       "    </tr>\n",
       "    <tr>\n",
       "      <th>1</th>\n",
       "      <td>Bananas</td>\n",
       "      <td>NaN</td>\n",
       "      <td>2018</td>\n",
       "      <td>-0.025534</td>\n",
       "      <td>0.269618</td>\n",
       "      <td>0.000000</td>\n",
       "      <td>0.060146</td>\n",
       "      <td>0.295830</td>\n",
       "      <td>0.020981</td>\n",
       "      <td>0.065670</td>\n",
       "      <td>0.175185</td>\n",
       "      <td>114.5</td>\n",
       "    </tr>\n",
       "    <tr>\n",
       "      <th>2</th>\n",
       "      <td>Barley</td>\n",
       "      <td>NaN</td>\n",
       "      <td>2018</td>\n",
       "      <td>0.008676</td>\n",
       "      <td>0.176377</td>\n",
       "      <td>0.000000</td>\n",
       "      <td>0.127703</td>\n",
       "      <td>0.035351</td>\n",
       "      <td>0.263587</td>\n",
       "      <td>0.496786</td>\n",
       "      <td>0.070692</td>\n",
       "      <td>17.1</td>\n",
       "    </tr>\n",
       "    <tr>\n",
       "      <th>3</th>\n",
       "      <td>Beef (beef herd)</td>\n",
       "      <td>NaN</td>\n",
       "      <td>2018</td>\n",
       "      <td>23.237536</td>\n",
       "      <td>56.228063</td>\n",
       "      <td>2.680979</td>\n",
       "      <td>1.811083</td>\n",
       "      <td>0.494125</td>\n",
       "      <td>0.233538</td>\n",
       "      <td>0.352084</td>\n",
       "      <td>14.439998</td>\n",
       "      <td>1451.2</td>\n",
       "    </tr>\n",
       "    <tr>\n",
       "      <th>4</th>\n",
       "      <td>Beef (dairy herd)</td>\n",
       "      <td>NaN</td>\n",
       "      <td>2018</td>\n",
       "      <td>1.266022</td>\n",
       "      <td>21.915529</td>\n",
       "      <td>3.503673</td>\n",
       "      <td>1.547664</td>\n",
       "      <td>0.592410</td>\n",
       "      <td>0.254032</td>\n",
       "      <td>0.374549</td>\n",
       "      <td>3.847515</td>\n",
       "      <td>2714.3</td>\n",
       "    </tr>\n",
       "  </tbody>\n",
       "</table>\n",
       "</div>"
      ],
      "text/plain": [
       "              Entity  Code  Year  food_emissions_land_use   \n",
       "0             Apples   NaN  2018                -0.028951  \\\n",
       "1            Bananas   NaN  2018                -0.025534   \n",
       "2             Barley   NaN  2018                 0.008676   \n",
       "3   Beef (beef herd)   NaN  2018                23.237536   \n",
       "4  Beef (dairy herd)   NaN  2018                 1.266022   \n",
       "\n",
       "   food_emissions_farm  food_emissions_animal_feed  food_emissions_processing   \n",
       "0             0.225816                    0.000000                   0.003820  \\\n",
       "1             0.269618                    0.000000                   0.060146   \n",
       "2             0.176377                    0.000000                   0.127703   \n",
       "3            56.228063                    2.680979                   1.811083   \n",
       "4            21.915529                    3.503673                   1.547664   \n",
       "\n",
       "   food_emissions_transport  food_emissions_retail  food_emissions_packaging   \n",
       "0                  0.095804               0.016578                  0.044526  \\\n",
       "1                  0.295830               0.020981                  0.065670   \n",
       "2                  0.035351               0.263587                  0.496786   \n",
       "3                  0.494125               0.233538                  0.352084   \n",
       "4                  0.592410               0.254032                  0.374549   \n",
       "\n",
       "   food_emissions_losses  Water_l_kg  \n",
       "0               0.070808       180.1  \n",
       "1               0.175185       114.5  \n",
       "2               0.070692        17.1  \n",
       "3              14.439998      1451.2  \n",
       "4               3.847515      2714.3  "
      ]
     },
     "execution_count": 337,
     "metadata": {},
     "output_type": "execute_result"
    }
   ],
   "source": [
    "fdi = wat.set_index('Entity')['Water_l_kg'].to_dict()\n",
    "\n",
    "fod['Water_l_kg'] = fod['Entity'].map(fdi)\n",
    "fod.head()"
   ]
  },
  {
   "attachments": {},
   "cell_type": "markdown",
   "metadata": {},
   "source": [
    "Limpieza del df"
   ]
  },
  {
   "cell_type": "code",
   "execution_count": 338,
   "metadata": {},
   "outputs": [],
   "source": [
    "fod.loc[fod['Entity'] == 'Shrimps (farmed)', 'Water_l_kg'] = 220\n",
    "fod = fod.drop('Year', axis=1)\n",
    "# fod['Entity'].value_counts()"
   ]
  },
  {
   "cell_type": "code",
   "execution_count": 339,
   "metadata": {},
   "outputs": [
    {
     "data": {
      "text/html": [
       "<div>\n",
       "<style scoped>\n",
       "    .dataframe tbody tr th:only-of-type {\n",
       "        vertical-align: middle;\n",
       "    }\n",
       "\n",
       "    .dataframe tbody tr th {\n",
       "        vertical-align: top;\n",
       "    }\n",
       "\n",
       "    .dataframe thead th {\n",
       "        text-align: right;\n",
       "    }\n",
       "</style>\n",
       "<table border=\"1\" class=\"dataframe\">\n",
       "  <thead>\n",
       "    <tr style=\"text-align: right;\">\n",
       "      <th></th>\n",
       "      <th>Entity</th>\n",
       "      <th>Code</th>\n",
       "      <th>food_emissions_land_use</th>\n",
       "      <th>food_emissions_farm</th>\n",
       "      <th>food_emissions_animal_feed</th>\n",
       "      <th>food_emissions_processing</th>\n",
       "      <th>food_emissions_transport</th>\n",
       "      <th>food_emissions_retail</th>\n",
       "      <th>food_emissions_packaging</th>\n",
       "      <th>food_emissions_losses</th>\n",
       "      <th>Water_l_kg</th>\n",
       "    </tr>\n",
       "  </thead>\n",
       "  <tbody>\n",
       "    <tr>\n",
       "      <th>0</th>\n",
       "      <td>Apples</td>\n",
       "      <td>NaN</td>\n",
       "      <td>-0.028951</td>\n",
       "      <td>0.225816</td>\n",
       "      <td>0.000000</td>\n",
       "      <td>0.003820</td>\n",
       "      <td>0.095804</td>\n",
       "      <td>0.016578</td>\n",
       "      <td>0.044526</td>\n",
       "      <td>0.070808</td>\n",
       "      <td>180.1</td>\n",
       "    </tr>\n",
       "    <tr>\n",
       "      <th>1</th>\n",
       "      <td>Bananas</td>\n",
       "      <td>NaN</td>\n",
       "      <td>-0.025534</td>\n",
       "      <td>0.269618</td>\n",
       "      <td>0.000000</td>\n",
       "      <td>0.060146</td>\n",
       "      <td>0.295830</td>\n",
       "      <td>0.020981</td>\n",
       "      <td>0.065670</td>\n",
       "      <td>0.175185</td>\n",
       "      <td>114.5</td>\n",
       "    </tr>\n",
       "    <tr>\n",
       "      <th>2</th>\n",
       "      <td>Barley</td>\n",
       "      <td>NaN</td>\n",
       "      <td>0.008676</td>\n",
       "      <td>0.176377</td>\n",
       "      <td>0.000000</td>\n",
       "      <td>0.127703</td>\n",
       "      <td>0.035351</td>\n",
       "      <td>0.263587</td>\n",
       "      <td>0.496786</td>\n",
       "      <td>0.070692</td>\n",
       "      <td>17.1</td>\n",
       "    </tr>\n",
       "    <tr>\n",
       "      <th>3</th>\n",
       "      <td>Beef meat</td>\n",
       "      <td>NaN</td>\n",
       "      <td>23.237536</td>\n",
       "      <td>56.228063</td>\n",
       "      <td>2.680979</td>\n",
       "      <td>1.811083</td>\n",
       "      <td>0.494125</td>\n",
       "      <td>0.233538</td>\n",
       "      <td>0.352084</td>\n",
       "      <td>14.439998</td>\n",
       "      <td>1451.2</td>\n",
       "    </tr>\n",
       "    <tr>\n",
       "      <th>4</th>\n",
       "      <td>Beef milk</td>\n",
       "      <td>NaN</td>\n",
       "      <td>1.266022</td>\n",
       "      <td>21.915529</td>\n",
       "      <td>3.503673</td>\n",
       "      <td>1.547664</td>\n",
       "      <td>0.592410</td>\n",
       "      <td>0.254032</td>\n",
       "      <td>0.374549</td>\n",
       "      <td>3.847515</td>\n",
       "      <td>2714.3</td>\n",
       "    </tr>\n",
       "    <tr>\n",
       "      <th>5</th>\n",
       "      <td>Beet Sugar</td>\n",
       "      <td>NaN</td>\n",
       "      <td>0.000052</td>\n",
       "      <td>0.535721</td>\n",
       "      <td>0.000000</td>\n",
       "      <td>0.241885</td>\n",
       "      <td>0.628544</td>\n",
       "      <td>0.039322</td>\n",
       "      <td>0.090289</td>\n",
       "      <td>0.276263</td>\n",
       "      <td>217.7</td>\n",
       "    </tr>\n",
       "    <tr>\n",
       "      <th>6</th>\n",
       "      <td>Berries &amp; Grapes</td>\n",
       "      <td>NaN</td>\n",
       "      <td>0.024601</td>\n",
       "      <td>0.717848</td>\n",
       "      <td>0.000000</td>\n",
       "      <td>0.000000</td>\n",
       "      <td>0.236392</td>\n",
       "      <td>0.017057</td>\n",
       "      <td>0.211092</td>\n",
       "      <td>0.324895</td>\n",
       "      <td>419.6</td>\n",
       "    </tr>\n",
       "    <tr>\n",
       "      <th>7</th>\n",
       "      <td>Brassicas</td>\n",
       "      <td>NaN</td>\n",
       "      <td>0.002242</td>\n",
       "      <td>0.277745</td>\n",
       "      <td>0.000000</td>\n",
       "      <td>0.000000</td>\n",
       "      <td>0.094641</td>\n",
       "      <td>0.016844</td>\n",
       "      <td>0.045303</td>\n",
       "      <td>0.077781</td>\n",
       "      <td>119.4</td>\n",
       "    </tr>\n",
       "    <tr>\n",
       "      <th>8</th>\n",
       "      <td>Cane Sugar</td>\n",
       "      <td>NaN</td>\n",
       "      <td>1.263041</td>\n",
       "      <td>0.491270</td>\n",
       "      <td>0.000000</td>\n",
       "      <td>0.037381</td>\n",
       "      <td>0.794510</td>\n",
       "      <td>0.036723</td>\n",
       "      <td>0.084277</td>\n",
       "      <td>0.491722</td>\n",
       "      <td>620.1</td>\n",
       "    </tr>\n",
       "    <tr>\n",
       "      <th>9</th>\n",
       "      <td>Cassava</td>\n",
       "      <td>NaN</td>\n",
       "      <td>0.589436</td>\n",
       "      <td>0.219994</td>\n",
       "      <td>0.000000</td>\n",
       "      <td>0.000000</td>\n",
       "      <td>0.093597</td>\n",
       "      <td>0.039322</td>\n",
       "      <td>0.044822</td>\n",
       "      <td>0.328504</td>\n",
       "      <td>0.0</td>\n",
       "    </tr>\n",
       "    <tr>\n",
       "      <th>10</th>\n",
       "      <td>Cheese</td>\n",
       "      <td>NaN</td>\n",
       "      <td>4.467476</td>\n",
       "      <td>13.095539</td>\n",
       "      <td>2.353058</td>\n",
       "      <td>0.740386</td>\n",
       "      <td>0.138557</td>\n",
       "      <td>0.333338</td>\n",
       "      <td>0.172091</td>\n",
       "      <td>2.577137</td>\n",
       "      <td>5605.2</td>\n",
       "    </tr>\n",
       "    <tr>\n",
       "      <th>11</th>\n",
       "      <td>Citrus Fruit</td>\n",
       "      <td>NaN</td>\n",
       "      <td>-0.145954</td>\n",
       "      <td>0.306733</td>\n",
       "      <td>0.000000</td>\n",
       "      <td>0.000000</td>\n",
       "      <td>0.093855</td>\n",
       "      <td>0.016685</td>\n",
       "      <td>0.044735</td>\n",
       "      <td>0.071570</td>\n",
       "      <td>82.7</td>\n",
       "    </tr>\n",
       "    <tr>\n",
       "      <th>12</th>\n",
       "      <td>Coffee</td>\n",
       "      <td>NaN</td>\n",
       "      <td>3.818799</td>\n",
       "      <td>10.754440</td>\n",
       "      <td>0.000000</td>\n",
       "      <td>0.613185</td>\n",
       "      <td>0.134528</td>\n",
       "      <td>0.052487</td>\n",
       "      <td>1.687496</td>\n",
       "      <td>11.466971</td>\n",
       "      <td>25.9</td>\n",
       "    </tr>\n",
       "    <tr>\n",
       "      <th>13</th>\n",
       "      <td>Dark Chocolate</td>\n",
       "      <td>NaN</td>\n",
       "      <td>25.814833</td>\n",
       "      <td>6.687002</td>\n",
       "      <td>0.000000</td>\n",
       "      <td>0.333744</td>\n",
       "      <td>0.110871</td>\n",
       "      <td>0.037652</td>\n",
       "      <td>0.722434</td>\n",
       "      <td>12.940209</td>\n",
       "      <td>540.6</td>\n",
       "    </tr>\n",
       "    <tr>\n",
       "      <th>14</th>\n",
       "      <td>Eggs</td>\n",
       "      <td>NaN</td>\n",
       "      <td>0.710381</td>\n",
       "      <td>1.319637</td>\n",
       "      <td>2.205012</td>\n",
       "      <td>0.000000</td>\n",
       "      <td>0.084064</td>\n",
       "      <td>0.035616</td>\n",
       "      <td>0.161437</td>\n",
       "      <td>0.153323</td>\n",
       "      <td>577.7</td>\n",
       "    </tr>\n",
       "    <tr>\n",
       "      <th>15</th>\n",
       "      <td>Fish (farmed)</td>\n",
       "      <td>NaN</td>\n",
       "      <td>1.194717</td>\n",
       "      <td>8.056115</td>\n",
       "      <td>1.834420</td>\n",
       "      <td>0.044599</td>\n",
       "      <td>0.247959</td>\n",
       "      <td>0.089976</td>\n",
       "      <td>0.137537</td>\n",
       "      <td>2.027123</td>\n",
       "      <td>3691.3</td>\n",
       "    </tr>\n",
       "    <tr>\n",
       "      <th>16</th>\n",
       "      <td>Groundnuts</td>\n",
       "      <td>NaN</td>\n",
       "      <td>0.485152</td>\n",
       "      <td>1.575954</td>\n",
       "      <td>0.000000</td>\n",
       "      <td>0.410918</td>\n",
       "      <td>0.132597</td>\n",
       "      <td>0.046873</td>\n",
       "      <td>0.109440</td>\n",
       "      <td>0.469080</td>\n",
       "      <td>1852.3</td>\n",
       "    </tr>\n",
       "    <tr>\n",
       "      <th>17</th>\n",
       "      <td>Lamb</td>\n",
       "      <td>NaN</td>\n",
       "      <td>0.648247</td>\n",
       "      <td>27.025749</td>\n",
       "      <td>3.283170</td>\n",
       "      <td>1.539596</td>\n",
       "      <td>0.678854</td>\n",
       "      <td>0.300814</td>\n",
       "      <td>0.347604</td>\n",
       "      <td>5.898235</td>\n",
       "      <td>1802.8</td>\n",
       "    </tr>\n",
       "    <tr>\n",
       "      <th>18</th>\n",
       "      <td>Maize</td>\n",
       "      <td>NaN</td>\n",
       "      <td>0.475169</td>\n",
       "      <td>0.717274</td>\n",
       "      <td>0.000000</td>\n",
       "      <td>0.078319</td>\n",
       "      <td>0.090377</td>\n",
       "      <td>0.039313</td>\n",
       "      <td>0.090268</td>\n",
       "      <td>0.210791</td>\n",
       "      <td>215.7</td>\n",
       "    </tr>\n",
       "    <tr>\n",
       "      <th>19</th>\n",
       "      <td>Nuts</td>\n",
       "      <td>NaN</td>\n",
       "      <td>-3.257812</td>\n",
       "      <td>3.374407</td>\n",
       "      <td>0.000000</td>\n",
       "      <td>0.051420</td>\n",
       "      <td>0.106734</td>\n",
       "      <td>0.042639</td>\n",
       "      <td>0.123748</td>\n",
       "      <td>-0.008000</td>\n",
       "      <td>4133.8</td>\n",
       "    </tr>\n",
       "    <tr>\n",
       "      <th>20</th>\n",
       "      <td>Oatmeal</td>\n",
       "      <td>NaN</td>\n",
       "      <td>0.001932</td>\n",
       "      <td>1.872374</td>\n",
       "      <td>0.000000</td>\n",
       "      <td>0.057838</td>\n",
       "      <td>0.091276</td>\n",
       "      <td>0.039322</td>\n",
       "      <td>0.090289</td>\n",
       "      <td>0.327418</td>\n",
       "      <td>482.4</td>\n",
       "    </tr>\n",
       "    <tr>\n",
       "      <th>21</th>\n",
       "      <td>Olive Oil</td>\n",
       "      <td>NaN</td>\n",
       "      <td>-0.323684</td>\n",
       "      <td>3.672172</td>\n",
       "      <td>0.000000</td>\n",
       "      <td>0.567189</td>\n",
       "      <td>0.414114</td>\n",
       "      <td>0.039322</td>\n",
       "      <td>0.740117</td>\n",
       "      <td>0.315646</td>\n",
       "      <td>NaN</td>\n",
       "    </tr>\n",
       "    <tr>\n",
       "      <th>22</th>\n",
       "      <td>Onions &amp; Leeks</td>\n",
       "      <td>NaN</td>\n",
       "      <td>0.004809</td>\n",
       "      <td>0.211039</td>\n",
       "      <td>0.000000</td>\n",
       "      <td>0.000000</td>\n",
       "      <td>0.094782</td>\n",
       "      <td>0.039250</td>\n",
       "      <td>0.044785</td>\n",
       "      <td>0.102099</td>\n",
       "      <td>14.3</td>\n",
       "    </tr>\n",
       "    <tr>\n",
       "      <th>23</th>\n",
       "      <td>Other Fruit</td>\n",
       "      <td>NaN</td>\n",
       "      <td>0.127035</td>\n",
       "      <td>0.372579</td>\n",
       "      <td>0.000000</td>\n",
       "      <td>0.015558</td>\n",
       "      <td>0.183165</td>\n",
       "      <td>0.016432</td>\n",
       "      <td>0.041961</td>\n",
       "      <td>0.296022</td>\n",
       "      <td>153.5</td>\n",
       "    </tr>\n",
       "    <tr>\n",
       "      <th>24</th>\n",
       "      <td>Other Pulses</td>\n",
       "      <td>NaN</td>\n",
       "      <td>0.033302</td>\n",
       "      <td>1.088715</td>\n",
       "      <td>0.000000</td>\n",
       "      <td>0.000000</td>\n",
       "      <td>0.096177</td>\n",
       "      <td>0.039322</td>\n",
       "      <td>0.353230</td>\n",
       "      <td>0.175633</td>\n",
       "      <td>435.7</td>\n",
       "    </tr>\n",
       "    <tr>\n",
       "      <th>25</th>\n",
       "      <td>Other Vegetables</td>\n",
       "      <td>NaN</td>\n",
       "      <td>0.001181</td>\n",
       "      <td>0.176173</td>\n",
       "      <td>0.000000</td>\n",
       "      <td>0.060405</td>\n",
       "      <td>0.165550</td>\n",
       "      <td>0.015135</td>\n",
       "      <td>0.041748</td>\n",
       "      <td>0.071981</td>\n",
       "      <td>102.5</td>\n",
       "    </tr>\n",
       "    <tr>\n",
       "      <th>26</th>\n",
       "      <td>Palm Oil</td>\n",
       "      <td>NaN</td>\n",
       "      <td>2.755585</td>\n",
       "      <td>1.875132</td>\n",
       "      <td>0.000000</td>\n",
       "      <td>1.125326</td>\n",
       "      <td>0.185117</td>\n",
       "      <td>0.038738</td>\n",
       "      <td>0.788108</td>\n",
       "      <td>0.548765</td>\n",
       "      <td>NaN</td>\n",
       "    </tr>\n",
       "    <tr>\n",
       "      <th>27</th>\n",
       "      <td>Peas</td>\n",
       "      <td>NaN</td>\n",
       "      <td>0.000119</td>\n",
       "      <td>0.717160</td>\n",
       "      <td>0.000000</td>\n",
       "      <td>0.000000</td>\n",
       "      <td>0.095067</td>\n",
       "      <td>0.039322</td>\n",
       "      <td>0.044822</td>\n",
       "      <td>0.078591</td>\n",
       "      <td>396.6</td>\n",
       "    </tr>\n",
       "    <tr>\n",
       "      <th>28</th>\n",
       "      <td>Pig Meat</td>\n",
       "      <td>NaN</td>\n",
       "      <td>2.244069</td>\n",
       "      <td>2.477098</td>\n",
       "      <td>4.298476</td>\n",
       "      <td>0.415842</td>\n",
       "      <td>0.501264</td>\n",
       "      <td>0.278096</td>\n",
       "      <td>0.432286</td>\n",
       "      <td>1.658551</td>\n",
       "      <td>1795.8</td>\n",
       "    </tr>\n",
       "    <tr>\n",
       "      <th>29</th>\n",
       "      <td>Potatoes</td>\n",
       "      <td>NaN</td>\n",
       "      <td>-0.001315</td>\n",
       "      <td>0.193083</td>\n",
       "      <td>0.000000</td>\n",
       "      <td>0.000000</td>\n",
       "      <td>0.093867</td>\n",
       "      <td>0.039244</td>\n",
       "      <td>0.044549</td>\n",
       "      <td>0.090706</td>\n",
       "      <td>59.1</td>\n",
       "    </tr>\n",
       "    <tr>\n",
       "      <th>30</th>\n",
       "      <td>Poultry Meat</td>\n",
       "      <td>NaN</td>\n",
       "      <td>3.508429</td>\n",
       "      <td>0.927822</td>\n",
       "      <td>2.452357</td>\n",
       "      <td>0.607373</td>\n",
       "      <td>0.381078</td>\n",
       "      <td>0.243977</td>\n",
       "      <td>0.292702</td>\n",
       "      <td>1.452086</td>\n",
       "      <td>660.0</td>\n",
       "    </tr>\n",
       "    <tr>\n",
       "      <th>31</th>\n",
       "      <td>Rapeseed Oil</td>\n",
       "      <td>NaN</td>\n",
       "      <td>0.195575</td>\n",
       "      <td>2.156630</td>\n",
       "      <td>0.000000</td>\n",
       "      <td>0.177875</td>\n",
       "      <td>0.175147</td>\n",
       "      <td>0.042541</td>\n",
       "      <td>0.776638</td>\n",
       "      <td>0.243267</td>\n",
       "      <td>NaN</td>\n",
       "    </tr>\n",
       "    <tr>\n",
       "      <th>32</th>\n",
       "      <td>Rice</td>\n",
       "      <td>NaN</td>\n",
       "      <td>-0.021880</td>\n",
       "      <td>3.553954</td>\n",
       "      <td>0.000000</td>\n",
       "      <td>0.065220</td>\n",
       "      <td>0.095619</td>\n",
       "      <td>0.063362</td>\n",
       "      <td>0.083854</td>\n",
       "      <td>0.611517</td>\n",
       "      <td>2248.4</td>\n",
       "    </tr>\n",
       "    <tr>\n",
       "      <th>33</th>\n",
       "      <td>Root Vegetables</td>\n",
       "      <td>NaN</td>\n",
       "      <td>0.013389</td>\n",
       "      <td>0.153994</td>\n",
       "      <td>0.000000</td>\n",
       "      <td>0.000000</td>\n",
       "      <td>0.113770</td>\n",
       "      <td>0.038855</td>\n",
       "      <td>0.044662</td>\n",
       "      <td>0.061610</td>\n",
       "      <td>28.4</td>\n",
       "    </tr>\n",
       "    <tr>\n",
       "      <th>34</th>\n",
       "      <td>Shrimps (farmed)</td>\n",
       "      <td>NaN</td>\n",
       "      <td>0.330563</td>\n",
       "      <td>13.453979</td>\n",
       "      <td>4.029939</td>\n",
       "      <td>0.000000</td>\n",
       "      <td>0.330852</td>\n",
       "      <td>0.352361</td>\n",
       "      <td>0.536147</td>\n",
       "      <td>7.832022</td>\n",
       "      <td>220.0</td>\n",
       "    </tr>\n",
       "    <tr>\n",
       "      <th>35</th>\n",
       "      <td>Soy milk</td>\n",
       "      <td>NaN</td>\n",
       "      <td>0.179972</td>\n",
       "      <td>0.092768</td>\n",
       "      <td>0.000000</td>\n",
       "      <td>0.162509</td>\n",
       "      <td>0.109835</td>\n",
       "      <td>0.270172</td>\n",
       "      <td>0.098395</td>\n",
       "      <td>0.061527</td>\n",
       "      <td>27.8</td>\n",
       "    </tr>\n",
       "    <tr>\n",
       "      <th>36</th>\n",
       "      <td>Soybean Oil</td>\n",
       "      <td>NaN</td>\n",
       "      <td>2.866184</td>\n",
       "      <td>1.406294</td>\n",
       "      <td>0.000000</td>\n",
       "      <td>0.287776</td>\n",
       "      <td>0.276950</td>\n",
       "      <td>0.039403</td>\n",
       "      <td>0.786068</td>\n",
       "      <td>0.661796</td>\n",
       "      <td>NaN</td>\n",
       "    </tr>\n",
       "    <tr>\n",
       "      <th>37</th>\n",
       "      <td>Sunflower Oil</td>\n",
       "      <td>NaN</td>\n",
       "      <td>0.122421</td>\n",
       "      <td>1.976378</td>\n",
       "      <td>0.000000</td>\n",
       "      <td>0.210714</td>\n",
       "      <td>0.184542</td>\n",
       "      <td>0.039322</td>\n",
       "      <td>0.784465</td>\n",
       "      <td>0.281636</td>\n",
       "      <td>NaN</td>\n",
       "    </tr>\n",
       "    <tr>\n",
       "      <th>38</th>\n",
       "      <td>Tofu</td>\n",
       "      <td>NaN</td>\n",
       "      <td>0.958230</td>\n",
       "      <td>0.494701</td>\n",
       "      <td>0.000000</td>\n",
       "      <td>0.793885</td>\n",
       "      <td>0.176925</td>\n",
       "      <td>0.270172</td>\n",
       "      <td>0.177361</td>\n",
       "      <td>0.290470</td>\n",
       "      <td>148.6</td>\n",
       "    </tr>\n",
       "    <tr>\n",
       "      <th>39</th>\n",
       "      <td>Tomatoes</td>\n",
       "      <td>NaN</td>\n",
       "      <td>0.372987</td>\n",
       "      <td>0.705447</td>\n",
       "      <td>0.000000</td>\n",
       "      <td>0.012382</td>\n",
       "      <td>0.177111</td>\n",
       "      <td>0.016692</td>\n",
       "      <td>0.145671</td>\n",
       "      <td>0.658417</td>\n",
       "      <td>369.8</td>\n",
       "    </tr>\n",
       "    <tr>\n",
       "      <th>40</th>\n",
       "      <td>Wheat &amp; Rye</td>\n",
       "      <td>NaN</td>\n",
       "      <td>0.097130</td>\n",
       "      <td>0.820300</td>\n",
       "      <td>0.000000</td>\n",
       "      <td>0.210129</td>\n",
       "      <td>0.125441</td>\n",
       "      <td>0.056049</td>\n",
       "      <td>0.086839</td>\n",
       "      <td>0.177935</td>\n",
       "      <td>647.5</td>\n",
       "    </tr>\n",
       "    <tr>\n",
       "      <th>41</th>\n",
       "      <td>Wine</td>\n",
       "      <td>NaN</td>\n",
       "      <td>-0.061264</td>\n",
       "      <td>0.626027</td>\n",
       "      <td>0.000000</td>\n",
       "      <td>0.138626</td>\n",
       "      <td>0.093284</td>\n",
       "      <td>0.039322</td>\n",
       "      <td>0.749232</td>\n",
       "      <td>0.203536</td>\n",
       "      <td>78.9</td>\n",
       "    </tr>\n",
       "  </tbody>\n",
       "</table>\n",
       "</div>"
      ],
      "text/plain": [
       "              Entity  Code  food_emissions_land_use  food_emissions_farm   \n",
       "0             Apples   NaN                -0.028951             0.225816  \\\n",
       "1            Bananas   NaN                -0.025534             0.269618   \n",
       "2             Barley   NaN                 0.008676             0.176377   \n",
       "3          Beef meat   NaN                23.237536            56.228063   \n",
       "4          Beef milk   NaN                 1.266022            21.915529   \n",
       "5         Beet Sugar   NaN                 0.000052             0.535721   \n",
       "6   Berries & Grapes   NaN                 0.024601             0.717848   \n",
       "7          Brassicas   NaN                 0.002242             0.277745   \n",
       "8         Cane Sugar   NaN                 1.263041             0.491270   \n",
       "9            Cassava   NaN                 0.589436             0.219994   \n",
       "10            Cheese   NaN                 4.467476            13.095539   \n",
       "11      Citrus Fruit   NaN                -0.145954             0.306733   \n",
       "12            Coffee   NaN                 3.818799            10.754440   \n",
       "13    Dark Chocolate   NaN                25.814833             6.687002   \n",
       "14              Eggs   NaN                 0.710381             1.319637   \n",
       "15     Fish (farmed)   NaN                 1.194717             8.056115   \n",
       "16        Groundnuts   NaN                 0.485152             1.575954   \n",
       "17              Lamb   NaN                 0.648247            27.025749   \n",
       "18             Maize   NaN                 0.475169             0.717274   \n",
       "19              Nuts   NaN                -3.257812             3.374407   \n",
       "20           Oatmeal   NaN                 0.001932             1.872374   \n",
       "21         Olive Oil   NaN                -0.323684             3.672172   \n",
       "22    Onions & Leeks   NaN                 0.004809             0.211039   \n",
       "23       Other Fruit   NaN                 0.127035             0.372579   \n",
       "24      Other Pulses   NaN                 0.033302             1.088715   \n",
       "25  Other Vegetables   NaN                 0.001181             0.176173   \n",
       "26          Palm Oil   NaN                 2.755585             1.875132   \n",
       "27              Peas   NaN                 0.000119             0.717160   \n",
       "28          Pig Meat   NaN                 2.244069             2.477098   \n",
       "29          Potatoes   NaN                -0.001315             0.193083   \n",
       "30      Poultry Meat   NaN                 3.508429             0.927822   \n",
       "31      Rapeseed Oil   NaN                 0.195575             2.156630   \n",
       "32              Rice   NaN                -0.021880             3.553954   \n",
       "33   Root Vegetables   NaN                 0.013389             0.153994   \n",
       "34  Shrimps (farmed)   NaN                 0.330563            13.453979   \n",
       "35          Soy milk   NaN                 0.179972             0.092768   \n",
       "36       Soybean Oil   NaN                 2.866184             1.406294   \n",
       "37     Sunflower Oil   NaN                 0.122421             1.976378   \n",
       "38              Tofu   NaN                 0.958230             0.494701   \n",
       "39          Tomatoes   NaN                 0.372987             0.705447   \n",
       "40       Wheat & Rye   NaN                 0.097130             0.820300   \n",
       "41              Wine   NaN                -0.061264             0.626027   \n",
       "\n",
       "    food_emissions_animal_feed  food_emissions_processing   \n",
       "0                     0.000000                   0.003820  \\\n",
       "1                     0.000000                   0.060146   \n",
       "2                     0.000000                   0.127703   \n",
       "3                     2.680979                   1.811083   \n",
       "4                     3.503673                   1.547664   \n",
       "5                     0.000000                   0.241885   \n",
       "6                     0.000000                   0.000000   \n",
       "7                     0.000000                   0.000000   \n",
       "8                     0.000000                   0.037381   \n",
       "9                     0.000000                   0.000000   \n",
       "10                    2.353058                   0.740386   \n",
       "11                    0.000000                   0.000000   \n",
       "12                    0.000000                   0.613185   \n",
       "13                    0.000000                   0.333744   \n",
       "14                    2.205012                   0.000000   \n",
       "15                    1.834420                   0.044599   \n",
       "16                    0.000000                   0.410918   \n",
       "17                    3.283170                   1.539596   \n",
       "18                    0.000000                   0.078319   \n",
       "19                    0.000000                   0.051420   \n",
       "20                    0.000000                   0.057838   \n",
       "21                    0.000000                   0.567189   \n",
       "22                    0.000000                   0.000000   \n",
       "23                    0.000000                   0.015558   \n",
       "24                    0.000000                   0.000000   \n",
       "25                    0.000000                   0.060405   \n",
       "26                    0.000000                   1.125326   \n",
       "27                    0.000000                   0.000000   \n",
       "28                    4.298476                   0.415842   \n",
       "29                    0.000000                   0.000000   \n",
       "30                    2.452357                   0.607373   \n",
       "31                    0.000000                   0.177875   \n",
       "32                    0.000000                   0.065220   \n",
       "33                    0.000000                   0.000000   \n",
       "34                    4.029939                   0.000000   \n",
       "35                    0.000000                   0.162509   \n",
       "36                    0.000000                   0.287776   \n",
       "37                    0.000000                   0.210714   \n",
       "38                    0.000000                   0.793885   \n",
       "39                    0.000000                   0.012382   \n",
       "40                    0.000000                   0.210129   \n",
       "41                    0.000000                   0.138626   \n",
       "\n",
       "    food_emissions_transport  food_emissions_retail  food_emissions_packaging   \n",
       "0                   0.095804               0.016578                  0.044526  \\\n",
       "1                   0.295830               0.020981                  0.065670   \n",
       "2                   0.035351               0.263587                  0.496786   \n",
       "3                   0.494125               0.233538                  0.352084   \n",
       "4                   0.592410               0.254032                  0.374549   \n",
       "5                   0.628544               0.039322                  0.090289   \n",
       "6                   0.236392               0.017057                  0.211092   \n",
       "7                   0.094641               0.016844                  0.045303   \n",
       "8                   0.794510               0.036723                  0.084277   \n",
       "9                   0.093597               0.039322                  0.044822   \n",
       "10                  0.138557               0.333338                  0.172091   \n",
       "11                  0.093855               0.016685                  0.044735   \n",
       "12                  0.134528               0.052487                  1.687496   \n",
       "13                  0.110871               0.037652                  0.722434   \n",
       "14                  0.084064               0.035616                  0.161437   \n",
       "15                  0.247959               0.089976                  0.137537   \n",
       "16                  0.132597               0.046873                  0.109440   \n",
       "17                  0.678854               0.300814                  0.347604   \n",
       "18                  0.090377               0.039313                  0.090268   \n",
       "19                  0.106734               0.042639                  0.123748   \n",
       "20                  0.091276               0.039322                  0.090289   \n",
       "21                  0.414114               0.039322                  0.740117   \n",
       "22                  0.094782               0.039250                  0.044785   \n",
       "23                  0.183165               0.016432                  0.041961   \n",
       "24                  0.096177               0.039322                  0.353230   \n",
       "25                  0.165550               0.015135                  0.041748   \n",
       "26                  0.185117               0.038738                  0.788108   \n",
       "27                  0.095067               0.039322                  0.044822   \n",
       "28                  0.501264               0.278096                  0.432286   \n",
       "29                  0.093867               0.039244                  0.044549   \n",
       "30                  0.381078               0.243977                  0.292702   \n",
       "31                  0.175147               0.042541                  0.776638   \n",
       "32                  0.095619               0.063362                  0.083854   \n",
       "33                  0.113770               0.038855                  0.044662   \n",
       "34                  0.330852               0.352361                  0.536147   \n",
       "35                  0.109835               0.270172                  0.098395   \n",
       "36                  0.276950               0.039403                  0.786068   \n",
       "37                  0.184542               0.039322                  0.784465   \n",
       "38                  0.176925               0.270172                  0.177361   \n",
       "39                  0.177111               0.016692                  0.145671   \n",
       "40                  0.125441               0.056049                  0.086839   \n",
       "41                  0.093284               0.039322                  0.749232   \n",
       "\n",
       "    food_emissions_losses  Water_l_kg  \n",
       "0                0.070808       180.1  \n",
       "1                0.175185       114.5  \n",
       "2                0.070692        17.1  \n",
       "3               14.439998      1451.2  \n",
       "4                3.847515      2714.3  \n",
       "5                0.276263       217.7  \n",
       "6                0.324895       419.6  \n",
       "7                0.077781       119.4  \n",
       "8                0.491722       620.1  \n",
       "9                0.328504         0.0  \n",
       "10               2.577137      5605.2  \n",
       "11               0.071570        82.7  \n",
       "12              11.466971        25.9  \n",
       "13              12.940209       540.6  \n",
       "14               0.153323       577.7  \n",
       "15               2.027123      3691.3  \n",
       "16               0.469080      1852.3  \n",
       "17               5.898235      1802.8  \n",
       "18               0.210791       215.7  \n",
       "19              -0.008000      4133.8  \n",
       "20               0.327418       482.4  \n",
       "21               0.315646         NaN  \n",
       "22               0.102099        14.3  \n",
       "23               0.296022       153.5  \n",
       "24               0.175633       435.7  \n",
       "25               0.071981       102.5  \n",
       "26               0.548765         NaN  \n",
       "27               0.078591       396.6  \n",
       "28               1.658551      1795.8  \n",
       "29               0.090706        59.1  \n",
       "30               1.452086       660.0  \n",
       "31               0.243267         NaN  \n",
       "32               0.611517      2248.4  \n",
       "33               0.061610        28.4  \n",
       "34               7.832022       220.0  \n",
       "35               0.061527        27.8  \n",
       "36               0.661796         NaN  \n",
       "37               0.281636         NaN  \n",
       "38               0.290470       148.6  \n",
       "39               0.658417       369.8  \n",
       "40               0.177935       647.5  \n",
       "41               0.203536        78.9  "
      ]
     },
     "execution_count": 339,
     "metadata": {},
     "output_type": "execute_result"
    }
   ],
   "source": [
    "fod.loc[fod['Entity'] ==  'Lamb & Mutton', 'Entity'] = 'Lamb'\n",
    "fod.loc[fod['Entity'] ==  'Beef (dairy herd)', 'Entity'] = 'Beef milk'\n",
    "fod.loc[fod['Entity'] ==  'Beef (beef herd)', 'Entity'] = 'Beef meat'\n",
    "fod.drop(index=19, axis=0).reset_index(drop=True)"
   ]
  },
  {
   "attachments": {},
   "cell_type": "markdown",
   "metadata": {},
   "source": [
    "Creamos una columna id para relaciones"
   ]
  },
  {
   "cell_type": "code",
   "execution_count": 340,
   "metadata": {},
   "outputs": [],
   "source": [
    "fod['Code'] = [x for x in range(1, 44)]\n",
    "# fod"
   ]
  },
  {
   "attachments": {},
   "cell_type": "markdown",
   "metadata": {},
   "source": [
    "#### Leyenda de columnas\n",
    "\n",
    "- Emisiones kgCO2 por kg\n",
    "- Consumo de agua en litros por kg de comida"
   ]
  },
  {
   "cell_type": "code",
   "execution_count": 341,
   "metadata": {},
   "outputs": [],
   "source": [
    "fod.to_csv('../data/Food/food_clean.csv', index=False)"
   ]
  },
  {
   "attachments": {},
   "cell_type": "markdown",
   "metadata": {},
   "source": [
    "## Soja\n",
    "\n",
    "Cargamos datos del uso futuro de la soja recogida"
   ]
  },
  {
   "cell_type": "code",
   "execution_count": 342,
   "metadata": {},
   "outputs": [
    {
     "data": {
      "text/html": [
       "<div>\n",
       "<style scoped>\n",
       "    .dataframe tbody tr th:only-of-type {\n",
       "        vertical-align: middle;\n",
       "    }\n",
       "\n",
       "    .dataframe tbody tr th {\n",
       "        vertical-align: top;\n",
       "    }\n",
       "\n",
       "    .dataframe thead th {\n",
       "        text-align: right;\n",
       "    }\n",
       "</style>\n",
       "<table border=\"1\" class=\"dataframe\">\n",
       "  <thead>\n",
       "    <tr style=\"text-align: right;\">\n",
       "      <th></th>\n",
       "      <th>Entity</th>\n",
       "      <th>Code</th>\n",
       "      <th>Year</th>\n",
       "      <th>Food</th>\n",
       "      <th>Feed</th>\n",
       "      <th>Processed</th>\n",
       "    </tr>\n",
       "  </thead>\n",
       "  <tbody>\n",
       "    <tr>\n",
       "      <th>0</th>\n",
       "      <td>Afghanistan</td>\n",
       "      <td>AFG</td>\n",
       "      <td>2015</td>\n",
       "      <td>0.0</td>\n",
       "      <td>0.0</td>\n",
       "      <td>NaN</td>\n",
       "    </tr>\n",
       "    <tr>\n",
       "      <th>1</th>\n",
       "      <td>Afghanistan</td>\n",
       "      <td>AFG</td>\n",
       "      <td>2016</td>\n",
       "      <td>0.0</td>\n",
       "      <td>0.0</td>\n",
       "      <td>NaN</td>\n",
       "    </tr>\n",
       "    <tr>\n",
       "      <th>2</th>\n",
       "      <td>Afghanistan</td>\n",
       "      <td>AFG</td>\n",
       "      <td>2017</td>\n",
       "      <td>0.0</td>\n",
       "      <td>0.0</td>\n",
       "      <td>NaN</td>\n",
       "    </tr>\n",
       "    <tr>\n",
       "      <th>3</th>\n",
       "      <td>Afghanistan</td>\n",
       "      <td>AFG</td>\n",
       "      <td>2018</td>\n",
       "      <td>0.0</td>\n",
       "      <td>0.0</td>\n",
       "      <td>NaN</td>\n",
       "    </tr>\n",
       "    <tr>\n",
       "      <th>4</th>\n",
       "      <td>Afghanistan</td>\n",
       "      <td>AFG</td>\n",
       "      <td>2019</td>\n",
       "      <td>0.0</td>\n",
       "      <td>3000.0</td>\n",
       "      <td>NaN</td>\n",
       "    </tr>\n",
       "    <tr>\n",
       "      <th>...</th>\n",
       "      <td>...</td>\n",
       "      <td>...</td>\n",
       "      <td>...</td>\n",
       "      <td>...</td>\n",
       "      <td>...</td>\n",
       "      <td>...</td>\n",
       "    </tr>\n",
       "    <tr>\n",
       "      <th>12077</th>\n",
       "      <td>Zimbabwe</td>\n",
       "      <td>ZWE</td>\n",
       "      <td>2016</td>\n",
       "      <td>2000.0</td>\n",
       "      <td>NaN</td>\n",
       "      <td>54000.0</td>\n",
       "    </tr>\n",
       "    <tr>\n",
       "      <th>12078</th>\n",
       "      <td>Zimbabwe</td>\n",
       "      <td>ZWE</td>\n",
       "      <td>2017</td>\n",
       "      <td>4000.0</td>\n",
       "      <td>NaN</td>\n",
       "      <td>82000.0</td>\n",
       "    </tr>\n",
       "    <tr>\n",
       "      <th>12079</th>\n",
       "      <td>Zimbabwe</td>\n",
       "      <td>ZWE</td>\n",
       "      <td>2018</td>\n",
       "      <td>5000.0</td>\n",
       "      <td>NaN</td>\n",
       "      <td>67000.0</td>\n",
       "    </tr>\n",
       "    <tr>\n",
       "      <th>12080</th>\n",
       "      <td>Zimbabwe</td>\n",
       "      <td>ZWE</td>\n",
       "      <td>2019</td>\n",
       "      <td>1000.0</td>\n",
       "      <td>NaN</td>\n",
       "      <td>66000.0</td>\n",
       "    </tr>\n",
       "    <tr>\n",
       "      <th>12081</th>\n",
       "      <td>Zimbabwe</td>\n",
       "      <td>ZWE</td>\n",
       "      <td>2020</td>\n",
       "      <td>4000.0</td>\n",
       "      <td>NaN</td>\n",
       "      <td>63000.0</td>\n",
       "    </tr>\n",
       "  </tbody>\n",
       "</table>\n",
       "<p>12082 rows × 6 columns</p>\n",
       "</div>"
      ],
      "text/plain": [
       "            Entity Code  Year    Food    Feed  Processed\n",
       "0      Afghanistan  AFG  2015     0.0     0.0        NaN\n",
       "1      Afghanistan  AFG  2016     0.0     0.0        NaN\n",
       "2      Afghanistan  AFG  2017     0.0     0.0        NaN\n",
       "3      Afghanistan  AFG  2018     0.0     0.0        NaN\n",
       "4      Afghanistan  AFG  2019     0.0  3000.0        NaN\n",
       "...            ...  ...   ...     ...     ...        ...\n",
       "12077     Zimbabwe  ZWE  2016  2000.0     NaN    54000.0\n",
       "12078     Zimbabwe  ZWE  2017  4000.0     NaN    82000.0\n",
       "12079     Zimbabwe  ZWE  2018  5000.0     NaN    67000.0\n",
       "12080     Zimbabwe  ZWE  2019  1000.0     NaN    66000.0\n",
       "12081     Zimbabwe  ZWE  2020  4000.0     NaN    63000.0\n",
       "\n",
       "[12082 rows x 6 columns]"
      ]
     },
     "execution_count": 342,
     "metadata": {},
     "output_type": "execute_result"
    }
   ],
   "source": [
    "columns = ['Entity', 'Code', 'Year', 'Food', 'Feed', 'Processed']\n",
    "\n",
    "soy1 = pd.read_csv('..\\data\\Soy\\soybean-production-and-use.csv', names=columns, header=1)\n",
    "soy1"
   ]
  },
  {
   "cell_type": "code",
   "execution_count": 343,
   "metadata": {},
   "outputs": [
    {
     "data": {
      "text/plain": [
       "Entity\n",
       "Zimbabwe                         60\n",
       "Malta                            60\n",
       "Low-income countries             60\n",
       "Lower-middle-income countries    60\n",
       "Tanzania                         60\n",
       "                                 ..\n",
       "Bhutan                            2\n",
       "Micronesia (country)              2\n",
       "Bahrain                           2\n",
       "Nauru                             2\n",
       "South Sudan                       2\n",
       "Name: count, Length: 239, dtype: int64"
      ]
     },
     "execution_count": 343,
     "metadata": {},
     "output_type": "execute_result"
    }
   ],
   "source": [
    "soy1['Entity'].value_counts()"
   ]
  },
  {
   "attachments": {},
   "cell_type": "markdown",
   "metadata": {},
   "source": [
    "Cargamos datos de la producción y consumo de soja"
   ]
  },
  {
   "cell_type": "code",
   "execution_count": 344,
   "metadata": {},
   "outputs": [
    {
     "data": {
      "text/html": [
       "<div>\n",
       "<style scoped>\n",
       "    .dataframe tbody tr th:only-of-type {\n",
       "        vertical-align: middle;\n",
       "    }\n",
       "\n",
       "    .dataframe tbody tr th {\n",
       "        vertical-align: top;\n",
       "    }\n",
       "\n",
       "    .dataframe thead th {\n",
       "        text-align: right;\n",
       "    }\n",
       "</style>\n",
       "<table border=\"1\" class=\"dataframe\">\n",
       "  <thead>\n",
       "    <tr style=\"text-align: right;\">\n",
       "      <th></th>\n",
       "      <th>Entity</th>\n",
       "      <th>Code</th>\n",
       "      <th>Year</th>\n",
       "      <th>Production</th>\n",
       "      <th>Yield</th>\n",
       "      <th>Area harvested</th>\n",
       "    </tr>\n",
       "  </thead>\n",
       "  <tbody>\n",
       "    <tr>\n",
       "      <th>0</th>\n",
       "      <td>Africa</td>\n",
       "      <td>NaN</td>\n",
       "      <td>1962</td>\n",
       "      <td>84594.0</td>\n",
       "      <td>0.393471</td>\n",
       "      <td>214994.0</td>\n",
       "    </tr>\n",
       "    <tr>\n",
       "      <th>1</th>\n",
       "      <td>Africa</td>\n",
       "      <td>NaN</td>\n",
       "      <td>1963</td>\n",
       "      <td>87260.0</td>\n",
       "      <td>0.394851</td>\n",
       "      <td>220995.0</td>\n",
       "    </tr>\n",
       "    <tr>\n",
       "      <th>2</th>\n",
       "      <td>Africa</td>\n",
       "      <td>NaN</td>\n",
       "      <td>1964</td>\n",
       "      <td>76781.0</td>\n",
       "      <td>0.369237</td>\n",
       "      <td>207945.0</td>\n",
       "    </tr>\n",
       "    <tr>\n",
       "      <th>3</th>\n",
       "      <td>Africa</td>\n",
       "      <td>NaN</td>\n",
       "      <td>1965</td>\n",
       "      <td>73067.0</td>\n",
       "      <td>0.347998</td>\n",
       "      <td>209964.0</td>\n",
       "    </tr>\n",
       "    <tr>\n",
       "      <th>4</th>\n",
       "      <td>Africa</td>\n",
       "      <td>NaN</td>\n",
       "      <td>1966</td>\n",
       "      <td>77180.0</td>\n",
       "      <td>0.374569</td>\n",
       "      <td>206050.0</td>\n",
       "    </tr>\n",
       "    <tr>\n",
       "      <th>...</th>\n",
       "      <td>...</td>\n",
       "      <td>...</td>\n",
       "      <td>...</td>\n",
       "      <td>...</td>\n",
       "      <td>...</td>\n",
       "      <td>...</td>\n",
       "    </tr>\n",
       "    <tr>\n",
       "      <th>7421</th>\n",
       "      <td>Zimbabwe</td>\n",
       "      <td>ZWE</td>\n",
       "      <td>2017</td>\n",
       "      <td>36478.0</td>\n",
       "      <td>1.551300</td>\n",
       "      <td>23515.0</td>\n",
       "    </tr>\n",
       "    <tr>\n",
       "      <th>7422</th>\n",
       "      <td>Zimbabwe</td>\n",
       "      <td>ZWE</td>\n",
       "      <td>2018</td>\n",
       "      <td>69688.0</td>\n",
       "      <td>1.868000</td>\n",
       "      <td>37307.0</td>\n",
       "    </tr>\n",
       "    <tr>\n",
       "      <th>7423</th>\n",
       "      <td>Zimbabwe</td>\n",
       "      <td>ZWE</td>\n",
       "      <td>2019</td>\n",
       "      <td>23043.0</td>\n",
       "      <td>0.695400</td>\n",
       "      <td>33136.0</td>\n",
       "    </tr>\n",
       "    <tr>\n",
       "      <th>7424</th>\n",
       "      <td>Zimbabwe</td>\n",
       "      <td>ZWE</td>\n",
       "      <td>2020</td>\n",
       "      <td>59656.0</td>\n",
       "      <td>1.814700</td>\n",
       "      <td>32874.0</td>\n",
       "    </tr>\n",
       "    <tr>\n",
       "      <th>7425</th>\n",
       "      <td>Zimbabwe</td>\n",
       "      <td>ZWE</td>\n",
       "      <td>2021</td>\n",
       "      <td>54404.0</td>\n",
       "      <td>1.570200</td>\n",
       "      <td>34648.0</td>\n",
       "    </tr>\n",
       "  </tbody>\n",
       "</table>\n",
       "<p>7426 rows × 6 columns</p>\n",
       "</div>"
      ],
      "text/plain": [
       "        Entity Code  Year  Production     Yield  Area harvested\n",
       "0       Africa  NaN  1962     84594.0  0.393471        214994.0\n",
       "1       Africa  NaN  1963     87260.0  0.394851        220995.0\n",
       "2       Africa  NaN  1964     76781.0  0.369237        207945.0\n",
       "3       Africa  NaN  1965     73067.0  0.347998        209964.0\n",
       "4       Africa  NaN  1966     77180.0  0.374569        206050.0\n",
       "...        ...  ...   ...         ...       ...             ...\n",
       "7421  Zimbabwe  ZWE  2017     36478.0  1.551300         23515.0\n",
       "7422  Zimbabwe  ZWE  2018     69688.0  1.868000         37307.0\n",
       "7423  Zimbabwe  ZWE  2019     23043.0  0.695400         33136.0\n",
       "7424  Zimbabwe  ZWE  2020     59656.0  1.814700         32874.0\n",
       "7425  Zimbabwe  ZWE  2021     54404.0  1.570200         34648.0\n",
       "\n",
       "[7426 rows x 6 columns]"
      ]
     },
     "execution_count": 344,
     "metadata": {},
     "output_type": "execute_result"
    }
   ],
   "source": [
    "columns = ['Entity', 'Code', 'Year', 'Production', 'Yield', 'Area harvested']\n",
    "\n",
    "soy2 = pd.read_csv('..\\data\\Soy\\soy-production-yield-area.csv', names=columns, header=1)\n",
    "soy2"
   ]
  },
  {
   "attachments": {},
   "cell_type": "markdown",
   "metadata": {},
   "source": [
    "Unimos los df en uno conjunto y lo limpiamos"
   ]
  },
  {
   "cell_type": "code",
   "execution_count": 345,
   "metadata": {},
   "outputs": [
    {
     "data": {
      "text/plain": [
       "(7104, 9)"
      ]
     },
     "execution_count": 345,
     "metadata": {},
     "output_type": "execute_result"
    }
   ],
   "source": [
    "soy2 = soy2.drop(['Code'], axis=1)\n",
    "soy = pd.merge(soy1, soy2, on=['Entity', 'Year']).reset_index(drop=True)\n",
    "soy.shape"
   ]
  },
  {
   "cell_type": "code",
   "execution_count": 346,
   "metadata": {},
   "outputs": [
    {
     "name": "stderr",
     "output_type": "stream",
     "text": [
      "C:\\Users\\Nerea\\AppData\\Local\\Temp\\ipykernel_8444\\839986000.py:1: UserWarning:\n",
      "\n",
      "This pattern is interpreted as a regular expression, and has match groups. To actually get the groups, use str.extract.\n",
      "\n"
     ]
    },
    {
     "data": {
      "text/plain": [
       "Entity\n",
       "Liberia        60\n",
       "Mexico         60\n",
       "Pakistan       60\n",
       "Oceania        60\n",
       "North Korea    60\n",
       "               ..\n",
       "Malta           3\n",
       "Bhutan          2\n",
       "Cyprus          2\n",
       "Luxembourg      1\n",
       "Finland         1\n",
       "Name: count, Length: 131, dtype: int64"
      ]
     },
     "execution_count": 346,
     "metadata": {},
     "output_type": "execute_result"
    }
   ],
   "source": [
    "soy = soy[~soy['Entity'].str.contains('(FAO)')].reset_index(drop=True)\n",
    "soy['Entity'].value_counts()\n"
   ]
  },
  {
   "cell_type": "code",
   "execution_count": 347,
   "metadata": {},
   "outputs": [],
   "source": [
    "# lst = soy['Entity'].value_counts().index.tolist()\n",
    "# lst"
   ]
  },
  {
   "cell_type": "code",
   "execution_count": 348,
   "metadata": {},
   "outputs": [],
   "source": [
    "soy.loc[soy['Entity'] == 'European Union (27)', 'Entity'] = 'European Union'\n",
    "soy.loc[soy['Entity'] ==\"Cote d'Ivoire\", 'Entity'] = 'Ivory Coast'\n",
    "soy.loc[soy['Entity'] == 'Democratic Republic of Congo'] = 'Congo'"
   ]
  },
  {
   "cell_type": "code",
   "execution_count": 349,
   "metadata": {},
   "outputs": [
    {
     "data": {
      "text/html": [
       "<div>\n",
       "<style scoped>\n",
       "    .dataframe tbody tr th:only-of-type {\n",
       "        vertical-align: middle;\n",
       "    }\n",
       "\n",
       "    .dataframe tbody tr th {\n",
       "        vertical-align: top;\n",
       "    }\n",
       "\n",
       "    .dataframe thead th {\n",
       "        text-align: right;\n",
       "    }\n",
       "</style>\n",
       "<table border=\"1\" class=\"dataframe\">\n",
       "  <thead>\n",
       "    <tr style=\"text-align: right;\">\n",
       "      <th></th>\n",
       "      <th>Entity</th>\n",
       "      <th>Code</th>\n",
       "      <th>Year</th>\n",
       "      <th>Food</th>\n",
       "      <th>Feed</th>\n",
       "      <th>Processed</th>\n",
       "      <th>Production</th>\n",
       "      <th>Yield</th>\n",
       "      <th>Area harvested</th>\n",
       "    </tr>\n",
       "  </thead>\n",
       "  <tbody>\n",
       "    <tr>\n",
       "      <th>0</th>\n",
       "      <td>Africa</td>\n",
       "      <td>NaN</td>\n",
       "      <td>1962</td>\n",
       "      <td>44000.0</td>\n",
       "      <td>7000.0</td>\n",
       "      <td>17000.0</td>\n",
       "      <td>84594.0</td>\n",
       "      <td>0.393471</td>\n",
       "      <td>214994.0</td>\n",
       "    </tr>\n",
       "    <tr>\n",
       "      <th>1</th>\n",
       "      <td>Africa</td>\n",
       "      <td>NaN</td>\n",
       "      <td>1963</td>\n",
       "      <td>31000.0</td>\n",
       "      <td>7000.0</td>\n",
       "      <td>5000.0</td>\n",
       "      <td>87260.0</td>\n",
       "      <td>0.394851</td>\n",
       "      <td>220995.0</td>\n",
       "    </tr>\n",
       "    <tr>\n",
       "      <th>2</th>\n",
       "      <td>Africa</td>\n",
       "      <td>NaN</td>\n",
       "      <td>1964</td>\n",
       "      <td>43000.0</td>\n",
       "      <td>6000.0</td>\n",
       "      <td>14000.0</td>\n",
       "      <td>76781.0</td>\n",
       "      <td>0.369237</td>\n",
       "      <td>207945.0</td>\n",
       "    </tr>\n",
       "    <tr>\n",
       "      <th>3</th>\n",
       "      <td>Africa</td>\n",
       "      <td>NaN</td>\n",
       "      <td>1965</td>\n",
       "      <td>34000.0</td>\n",
       "      <td>6000.0</td>\n",
       "      <td>12000.0</td>\n",
       "      <td>73067.0</td>\n",
       "      <td>0.347998</td>\n",
       "      <td>209964.0</td>\n",
       "    </tr>\n",
       "    <tr>\n",
       "      <th>4</th>\n",
       "      <td>Africa</td>\n",
       "      <td>NaN</td>\n",
       "      <td>1966</td>\n",
       "      <td>41000.0</td>\n",
       "      <td>6000.0</td>\n",
       "      <td>2000.0</td>\n",
       "      <td>77180.0</td>\n",
       "      <td>0.374569</td>\n",
       "      <td>206050.0</td>\n",
       "    </tr>\n",
       "    <tr>\n",
       "      <th>5</th>\n",
       "      <td>Africa</td>\n",
       "      <td>NaN</td>\n",
       "      <td>1967</td>\n",
       "      <td>48000.0</td>\n",
       "      <td>6000.0</td>\n",
       "      <td>4000.0</td>\n",
       "      <td>80884.0</td>\n",
       "      <td>0.418871</td>\n",
       "      <td>193100.0</td>\n",
       "    </tr>\n",
       "    <tr>\n",
       "      <th>6</th>\n",
       "      <td>Africa</td>\n",
       "      <td>NaN</td>\n",
       "      <td>1968</td>\n",
       "      <td>49000.0</td>\n",
       "      <td>7000.0</td>\n",
       "      <td>3000.0</td>\n",
       "      <td>90459.0</td>\n",
       "      <td>0.416296</td>\n",
       "      <td>217295.0</td>\n",
       "    </tr>\n",
       "    <tr>\n",
       "      <th>7</th>\n",
       "      <td>Africa</td>\n",
       "      <td>NaN</td>\n",
       "      <td>1969</td>\n",
       "      <td>52000.0</td>\n",
       "      <td>6000.0</td>\n",
       "      <td>6000.0</td>\n",
       "      <td>89000.0</td>\n",
       "      <td>0.459376</td>\n",
       "      <td>193741.0</td>\n",
       "    </tr>\n",
       "    <tr>\n",
       "      <th>8</th>\n",
       "      <td>Africa</td>\n",
       "      <td>NaN</td>\n",
       "      <td>1970</td>\n",
       "      <td>53000.0</td>\n",
       "      <td>6000.0</td>\n",
       "      <td>8000.0</td>\n",
       "      <td>97211.0</td>\n",
       "      <td>0.436648</td>\n",
       "      <td>222630.0</td>\n",
       "    </tr>\n",
       "    <tr>\n",
       "      <th>9</th>\n",
       "      <td>Africa</td>\n",
       "      <td>NaN</td>\n",
       "      <td>1971</td>\n",
       "      <td>60000.0</td>\n",
       "      <td>6000.0</td>\n",
       "      <td>2000.0</td>\n",
       "      <td>97545.0</td>\n",
       "      <td>0.412102</td>\n",
       "      <td>236701.0</td>\n",
       "    </tr>\n",
       "  </tbody>\n",
       "</table>\n",
       "</div>"
      ],
      "text/plain": [
       "   Entity Code  Year     Food    Feed Processed Production     Yield   \n",
       "0  Africa  NaN  1962  44000.0  7000.0   17000.0    84594.0  0.393471  \\\n",
       "1  Africa  NaN  1963  31000.0  7000.0    5000.0    87260.0  0.394851   \n",
       "2  Africa  NaN  1964  43000.0  6000.0   14000.0    76781.0  0.369237   \n",
       "3  Africa  NaN  1965  34000.0  6000.0   12000.0    73067.0  0.347998   \n",
       "4  Africa  NaN  1966  41000.0  6000.0    2000.0    77180.0  0.374569   \n",
       "5  Africa  NaN  1967  48000.0  6000.0    4000.0    80884.0  0.418871   \n",
       "6  Africa  NaN  1968  49000.0  7000.0    3000.0    90459.0  0.416296   \n",
       "7  Africa  NaN  1969  52000.0  6000.0    6000.0    89000.0  0.459376   \n",
       "8  Africa  NaN  1970  53000.0  6000.0    8000.0    97211.0  0.436648   \n",
       "9  Africa  NaN  1971  60000.0  6000.0    2000.0    97545.0  0.412102   \n",
       "\n",
       "  Area harvested  \n",
       "0       214994.0  \n",
       "1       220995.0  \n",
       "2       207945.0  \n",
       "3       209964.0  \n",
       "4       206050.0  \n",
       "5       193100.0  \n",
       "6       217295.0  \n",
       "7       193741.0  \n",
       "8       222630.0  \n",
       "9       236701.0  "
      ]
     },
     "execution_count": 349,
     "metadata": {},
     "output_type": "execute_result"
    }
   ],
   "source": [
    "soy.head(10)"
   ]
  },
  {
   "cell_type": "code",
   "execution_count": 350,
   "metadata": {},
   "outputs": [
    {
     "data": {
      "text/plain": [
       "False"
      ]
     },
     "execution_count": 350,
     "metadata": {},
     "output_type": "execute_result"
    }
   ],
   "source": [
    "soy['Year'].isnull().any()"
   ]
  },
  {
   "cell_type": "code",
   "execution_count": 351,
   "metadata": {},
   "outputs": [],
   "source": [
    "columns_to_convert = ['Year', 'Food', 'Feed', 'Processed', 'Production', 'Yield', 'Area harvested']\n",
    "\n",
    "for column in columns_to_convert:\n",
    "    soy[column] = pd.to_numeric(soy[column], errors='coerce')\n",
    "\n",
    "# soy['Year'] = soy['Year'].astype(int)\n",
    "# soy['Year'] = soy['Year'].astype(str)\n",
    "# soy['Year'] = soy['Year'] + '-01-01'\n",
    "# soy['Year'] = pd.to_datetime(soy['Year'])\n",
    "# soy['Year'] = soy['Year'].dt.year"
   ]
  },
  {
   "cell_type": "code",
   "execution_count": 352,
   "metadata": {},
   "outputs": [
    {
     "data": {
      "text/html": [
       "<div>\n",
       "<style scoped>\n",
       "    .dataframe tbody tr th:only-of-type {\n",
       "        vertical-align: middle;\n",
       "    }\n",
       "\n",
       "    .dataframe tbody tr th {\n",
       "        vertical-align: top;\n",
       "    }\n",
       "\n",
       "    .dataframe thead th {\n",
       "        text-align: right;\n",
       "    }\n",
       "</style>\n",
       "<table border=\"1\" class=\"dataframe\">\n",
       "  <thead>\n",
       "    <tr style=\"text-align: right;\">\n",
       "      <th></th>\n",
       "      <th>Entity</th>\n",
       "      <th>Code</th>\n",
       "      <th>Year</th>\n",
       "      <th>Food</th>\n",
       "      <th>Feed</th>\n",
       "      <th>Processed</th>\n",
       "      <th>Production</th>\n",
       "      <th>Yield</th>\n",
       "      <th>Area harvested</th>\n",
       "    </tr>\n",
       "  </thead>\n",
       "  <tbody>\n",
       "    <tr>\n",
       "      <th>0</th>\n",
       "      <td>Africa</td>\n",
       "      <td>1</td>\n",
       "      <td>1962.0</td>\n",
       "      <td>44000.0</td>\n",
       "      <td>7000.0</td>\n",
       "      <td>17000.0</td>\n",
       "      <td>84594.0</td>\n",
       "      <td>0.393471</td>\n",
       "      <td>214994.0</td>\n",
       "    </tr>\n",
       "    <tr>\n",
       "      <th>1</th>\n",
       "      <td>Africa</td>\n",
       "      <td>1</td>\n",
       "      <td>1963.0</td>\n",
       "      <td>31000.0</td>\n",
       "      <td>7000.0</td>\n",
       "      <td>5000.0</td>\n",
       "      <td>87260.0</td>\n",
       "      <td>0.394851</td>\n",
       "      <td>220995.0</td>\n",
       "    </tr>\n",
       "    <tr>\n",
       "      <th>2</th>\n",
       "      <td>Africa</td>\n",
       "      <td>1</td>\n",
       "      <td>1964.0</td>\n",
       "      <td>43000.0</td>\n",
       "      <td>6000.0</td>\n",
       "      <td>14000.0</td>\n",
       "      <td>76781.0</td>\n",
       "      <td>0.369237</td>\n",
       "      <td>207945.0</td>\n",
       "    </tr>\n",
       "    <tr>\n",
       "      <th>3</th>\n",
       "      <td>Africa</td>\n",
       "      <td>1</td>\n",
       "      <td>1965.0</td>\n",
       "      <td>34000.0</td>\n",
       "      <td>6000.0</td>\n",
       "      <td>12000.0</td>\n",
       "      <td>73067.0</td>\n",
       "      <td>0.347998</td>\n",
       "      <td>209964.0</td>\n",
       "    </tr>\n",
       "    <tr>\n",
       "      <th>4</th>\n",
       "      <td>Africa</td>\n",
       "      <td>1</td>\n",
       "      <td>1966.0</td>\n",
       "      <td>41000.0</td>\n",
       "      <td>6000.0</td>\n",
       "      <td>2000.0</td>\n",
       "      <td>77180.0</td>\n",
       "      <td>0.374569</td>\n",
       "      <td>206050.0</td>\n",
       "    </tr>\n",
       "  </tbody>\n",
       "</table>\n",
       "</div>"
      ],
      "text/plain": [
       "   Entity  Code    Year     Food    Feed  Processed  Production     Yield   \n",
       "0  Africa     1  1962.0  44000.0  7000.0    17000.0     84594.0  0.393471  \\\n",
       "1  Africa     1  1963.0  31000.0  7000.0     5000.0     87260.0  0.394851   \n",
       "2  Africa     1  1964.0  43000.0  6000.0    14000.0     76781.0  0.369237   \n",
       "3  Africa     1  1965.0  34000.0  6000.0    12000.0     73067.0  0.347998   \n",
       "4  Africa     1  1966.0  41000.0  6000.0     2000.0     77180.0  0.374569   \n",
       "\n",
       "   Area harvested  \n",
       "0        214994.0  \n",
       "1        220995.0  \n",
       "2        207945.0  \n",
       "3        209964.0  \n",
       "4        206050.0  "
      ]
     },
     "execution_count": 352,
     "metadata": {},
     "output_type": "execute_result"
    }
   ],
   "source": [
    "soy['Code'] = pd.factorize(soy['Entity'])[0]+1\n",
    "soy.head()"
   ]
  },
  {
   "cell_type": "code",
   "execution_count": 353,
   "metadata": {},
   "outputs": [
    {
     "data": {
      "text/plain": [
       "True"
      ]
     },
     "execution_count": 353,
     "metadata": {},
     "output_type": "execute_result"
    }
   ],
   "source": [
    "len(soy['Entity'].value_counts()) == len(soy['Code'].value_counts())"
   ]
  },
  {
   "attachments": {},
   "cell_type": "markdown",
   "metadata": {},
   "source": [
    "#### Leyenda de las columnas\n",
    "\n",
    "- Soja usada para comida humana, soja usada para alimentación de ganado y soja usada para procesados o aceites. Todo en toneladas.\n",
    "-  Soja producida en t, soja utilizada en comercio de t/ha, superficie de area plantada ha"
   ]
  },
  {
   "cell_type": "code",
   "execution_count": 354,
   "metadata": {},
   "outputs": [],
   "source": [
    "soy.to_csv('../data/Soy/soy_clean.csv', index=False)"
   ]
  },
  {
   "attachments": {},
   "cell_type": "markdown",
   "metadata": {},
   "source": [
    "## Aceites \n",
    "\n",
    "Cargamos datos del consumo y producción de los aceites según su origen"
   ]
  },
  {
   "cell_type": "code",
   "execution_count": 355,
   "metadata": {},
   "outputs": [
    {
     "data": {
      "text/html": [
       "<div>\n",
       "<style scoped>\n",
       "    .dataframe tbody tr th:only-of-type {\n",
       "        vertical-align: middle;\n",
       "    }\n",
       "\n",
       "    .dataframe tbody tr th {\n",
       "        vertical-align: top;\n",
       "    }\n",
       "\n",
       "    .dataframe thead th {\n",
       "        text-align: right;\n",
       "    }\n",
       "</style>\n",
       "<table border=\"1\" class=\"dataframe\">\n",
       "  <thead>\n",
       "    <tr style=\"text-align: right;\">\n",
       "      <th></th>\n",
       "      <th>Entity</th>\n",
       "      <th>Code</th>\n",
       "      <th>Year</th>\n",
       "      <th>Coconut</th>\n",
       "      <th>Groundnut</th>\n",
       "      <th>Palm</th>\n",
       "      <th>Sesame</th>\n",
       "      <th>Sunflower</th>\n",
       "      <th>Cottonseed</th>\n",
       "      <th>Olive</th>\n",
       "      <th>Rapeseed</th>\n",
       "      <th>Soybean</th>\n",
       "    </tr>\n",
       "  </thead>\n",
       "  <tbody>\n",
       "    <tr>\n",
       "      <th>0</th>\n",
       "      <td>Afghanistan</td>\n",
       "      <td>AFG</td>\n",
       "      <td>1962</td>\n",
       "      <td>NaN</td>\n",
       "      <td>NaN</td>\n",
       "      <td>NaN</td>\n",
       "      <td>0.056506</td>\n",
       "      <td>0.378042</td>\n",
       "      <td>0.084737</td>\n",
       "      <td>0.1496</td>\n",
       "      <td>NaN</td>\n",
       "      <td>NaN</td>\n",
       "    </tr>\n",
       "    <tr>\n",
       "      <th>1</th>\n",
       "      <td>Afghanistan</td>\n",
       "      <td>AFG</td>\n",
       "      <td>1963</td>\n",
       "      <td>NaN</td>\n",
       "      <td>NaN</td>\n",
       "      <td>NaN</td>\n",
       "      <td>0.055145</td>\n",
       "      <td>0.378042</td>\n",
       "      <td>0.096713</td>\n",
       "      <td>0.1360</td>\n",
       "      <td>NaN</td>\n",
       "      <td>NaN</td>\n",
       "    </tr>\n",
       "    <tr>\n",
       "      <th>2</th>\n",
       "      <td>Afghanistan</td>\n",
       "      <td>AFG</td>\n",
       "      <td>1964</td>\n",
       "      <td>NaN</td>\n",
       "      <td>NaN</td>\n",
       "      <td>NaN</td>\n",
       "      <td>0.082000</td>\n",
       "      <td>0.378042</td>\n",
       "      <td>0.065567</td>\n",
       "      <td>0.1496</td>\n",
       "      <td>NaN</td>\n",
       "      <td>NaN</td>\n",
       "    </tr>\n",
       "    <tr>\n",
       "      <th>3</th>\n",
       "      <td>Afghanistan</td>\n",
       "      <td>AFG</td>\n",
       "      <td>1965</td>\n",
       "      <td>NaN</td>\n",
       "      <td>NaN</td>\n",
       "      <td>NaN</td>\n",
       "      <td>0.084964</td>\n",
       "      <td>0.390090</td>\n",
       "      <td>0.097932</td>\n",
       "      <td>0.1360</td>\n",
       "      <td>NaN</td>\n",
       "      <td>NaN</td>\n",
       "    </tr>\n",
       "    <tr>\n",
       "      <th>4</th>\n",
       "      <td>Afghanistan</td>\n",
       "      <td>AFG</td>\n",
       "      <td>1966</td>\n",
       "      <td>NaN</td>\n",
       "      <td>NaN</td>\n",
       "      <td>NaN</td>\n",
       "      <td>0.094843</td>\n",
       "      <td>0.414187</td>\n",
       "      <td>0.134445</td>\n",
       "      <td>0.1496</td>\n",
       "      <td>NaN</td>\n",
       "      <td>NaN</td>\n",
       "    </tr>\n",
       "    <tr>\n",
       "      <th>...</th>\n",
       "      <td>...</td>\n",
       "      <td>...</td>\n",
       "      <td>...</td>\n",
       "      <td>...</td>\n",
       "      <td>...</td>\n",
       "      <td>...</td>\n",
       "      <td>...</td>\n",
       "      <td>...</td>\n",
       "      <td>...</td>\n",
       "      <td>...</td>\n",
       "      <td>...</td>\n",
       "      <td>...</td>\n",
       "    </tr>\n",
       "    <tr>\n",
       "      <th>12162</th>\n",
       "      <td>Zimbabwe</td>\n",
       "      <td>ZWE</td>\n",
       "      <td>2016</td>\n",
       "      <td>NaN</td>\n",
       "      <td>0.037665</td>\n",
       "      <td>NaN</td>\n",
       "      <td>NaN</td>\n",
       "      <td>0.166113</td>\n",
       "      <td>0.061971</td>\n",
       "      <td>NaN</td>\n",
       "      <td>NaN</td>\n",
       "      <td>0.240391</td>\n",
       "    </tr>\n",
       "    <tr>\n",
       "      <th>12163</th>\n",
       "      <td>Zimbabwe</td>\n",
       "      <td>ZWE</td>\n",
       "      <td>2017</td>\n",
       "      <td>NaN</td>\n",
       "      <td>0.036669</td>\n",
       "      <td>NaN</td>\n",
       "      <td>NaN</td>\n",
       "      <td>0.181400</td>\n",
       "      <td>0.082358</td>\n",
       "      <td>NaN</td>\n",
       "      <td>NaN</td>\n",
       "      <td>0.612375</td>\n",
       "    </tr>\n",
       "    <tr>\n",
       "      <th>12164</th>\n",
       "      <td>Zimbabwe</td>\n",
       "      <td>ZWE</td>\n",
       "      <td>2018</td>\n",
       "      <td>NaN</td>\n",
       "      <td>0.049197</td>\n",
       "      <td>NaN</td>\n",
       "      <td>NaN</td>\n",
       "      <td>0.170973</td>\n",
       "      <td>0.074162</td>\n",
       "      <td>NaN</td>\n",
       "      <td>NaN</td>\n",
       "      <td>0.394028</td>\n",
       "    </tr>\n",
       "    <tr>\n",
       "      <th>12165</th>\n",
       "      <td>Zimbabwe</td>\n",
       "      <td>ZWE</td>\n",
       "      <td>2019</td>\n",
       "      <td>NaN</td>\n",
       "      <td>0.060487</td>\n",
       "      <td>NaN</td>\n",
       "      <td>NaN</td>\n",
       "      <td>0.097837</td>\n",
       "      <td>0.110400</td>\n",
       "      <td>NaN</td>\n",
       "      <td>NaN</td>\n",
       "      <td>0.250483</td>\n",
       "    </tr>\n",
       "    <tr>\n",
       "      <th>12166</th>\n",
       "      <td>Zimbabwe</td>\n",
       "      <td>ZWE</td>\n",
       "      <td>2020</td>\n",
       "      <td>NaN</td>\n",
       "      <td>0.057387</td>\n",
       "      <td>NaN</td>\n",
       "      <td>NaN</td>\n",
       "      <td>0.184672</td>\n",
       "      <td>0.095483</td>\n",
       "      <td>NaN</td>\n",
       "      <td>NaN</td>\n",
       "      <td>0.282898</td>\n",
       "    </tr>\n",
       "  </tbody>\n",
       "</table>\n",
       "<p>12167 rows × 12 columns</p>\n",
       "</div>"
      ],
      "text/plain": [
       "            Entity Code  Year  Coconut  Groundnut  Palm    Sesame  Sunflower   \n",
       "0      Afghanistan  AFG  1962      NaN        NaN   NaN  0.056506   0.378042  \\\n",
       "1      Afghanistan  AFG  1963      NaN        NaN   NaN  0.055145   0.378042   \n",
       "2      Afghanistan  AFG  1964      NaN        NaN   NaN  0.082000   0.378042   \n",
       "3      Afghanistan  AFG  1965      NaN        NaN   NaN  0.084964   0.390090   \n",
       "4      Afghanistan  AFG  1966      NaN        NaN   NaN  0.094843   0.414187   \n",
       "...            ...  ...   ...      ...        ...   ...       ...        ...   \n",
       "12162     Zimbabwe  ZWE  2016      NaN   0.037665   NaN       NaN   0.166113   \n",
       "12163     Zimbabwe  ZWE  2017      NaN   0.036669   NaN       NaN   0.181400   \n",
       "12164     Zimbabwe  ZWE  2018      NaN   0.049197   NaN       NaN   0.170973   \n",
       "12165     Zimbabwe  ZWE  2019      NaN   0.060487   NaN       NaN   0.097837   \n",
       "12166     Zimbabwe  ZWE  2020      NaN   0.057387   NaN       NaN   0.184672   \n",
       "\n",
       "       Cottonseed   Olive  Rapeseed   Soybean  \n",
       "0        0.084737  0.1496       NaN       NaN  \n",
       "1        0.096713  0.1360       NaN       NaN  \n",
       "2        0.065567  0.1496       NaN       NaN  \n",
       "3        0.097932  0.1360       NaN       NaN  \n",
       "4        0.134445  0.1496       NaN       NaN  \n",
       "...           ...     ...       ...       ...  \n",
       "12162    0.061971     NaN       NaN  0.240391  \n",
       "12163    0.082358     NaN       NaN  0.612375  \n",
       "12164    0.074162     NaN       NaN  0.394028  \n",
       "12165    0.110400     NaN       NaN  0.250483  \n",
       "12166    0.095483     NaN       NaN  0.282898  \n",
       "\n",
       "[12167 rows x 12 columns]"
      ]
     },
     "execution_count": 355,
     "metadata": {},
     "output_type": "execute_result"
    }
   ],
   "source": [
    "columns = ['Entity', 'Code', 'Year', 'Coconut', 'Groundnut', 'Palm', 'Sesame', 'Sunflower', 'Cottonseed', 'Olive', 'Rapeseed', 'Soybean']\n",
    "\n",
    "oil_yield = pd.read_csv('..\\data\\Palm\\oil-yield-by-crop.csv', names=columns, header=1)\n",
    "oil_yield"
   ]
  },
  {
   "cell_type": "code",
   "execution_count": 356,
   "metadata": {},
   "outputs": [
    {
     "data": {
      "text/html": [
       "<div>\n",
       "<style scoped>\n",
       "    .dataframe tbody tr th:only-of-type {\n",
       "        vertical-align: middle;\n",
       "    }\n",
       "\n",
       "    .dataframe tbody tr th {\n",
       "        vertical-align: top;\n",
       "    }\n",
       "\n",
       "    .dataframe thead th {\n",
       "        text-align: right;\n",
       "    }\n",
       "</style>\n",
       "<table border=\"1\" class=\"dataframe\">\n",
       "  <thead>\n",
       "    <tr style=\"text-align: right;\">\n",
       "      <th></th>\n",
       "      <th>Entity</th>\n",
       "      <th>Code</th>\n",
       "      <th>Year</th>\n",
       "      <th>Sesame</th>\n",
       "      <th>Maize</th>\n",
       "      <th>Safflower</th>\n",
       "      <th>Coconut</th>\n",
       "      <th>Sunflower</th>\n",
       "      <th>Rapeseed</th>\n",
       "      <th>Palm kernel</th>\n",
       "      <th>Groundnut</th>\n",
       "      <th>Linseed</th>\n",
       "      <th>Olive</th>\n",
       "      <th>Palm</th>\n",
       "      <th>Soybean</th>\n",
       "      <th>Cottonseed</th>\n",
       "    </tr>\n",
       "  </thead>\n",
       "  <tbody>\n",
       "    <tr>\n",
       "      <th>0</th>\n",
       "      <td>Afghanistan</td>\n",
       "      <td>AFG</td>\n",
       "      <td>2011</td>\n",
       "      <td>1292.0</td>\n",
       "      <td>NaN</td>\n",
       "      <td>NaN</td>\n",
       "      <td>NaN</td>\n",
       "      <td>60.0</td>\n",
       "      <td>NaN</td>\n",
       "      <td>NaN</td>\n",
       "      <td>NaN</td>\n",
       "      <td>674.65</td>\n",
       "      <td>538.56</td>\n",
       "      <td>NaN</td>\n",
       "      <td>NaN</td>\n",
       "      <td>3725.00</td>\n",
       "    </tr>\n",
       "    <tr>\n",
       "      <th>1</th>\n",
       "      <td>Afghanistan</td>\n",
       "      <td>AFG</td>\n",
       "      <td>2012</td>\n",
       "      <td>1261.0</td>\n",
       "      <td>NaN</td>\n",
       "      <td>NaN</td>\n",
       "      <td>NaN</td>\n",
       "      <td>61.0</td>\n",
       "      <td>NaN</td>\n",
       "      <td>NaN</td>\n",
       "      <td>NaN</td>\n",
       "      <td>706.30</td>\n",
       "      <td>538.56</td>\n",
       "      <td>NaN</td>\n",
       "      <td>NaN</td>\n",
       "      <td>4097.97</td>\n",
       "    </tr>\n",
       "    <tr>\n",
       "      <th>2</th>\n",
       "      <td>Afghanistan</td>\n",
       "      <td>AFG</td>\n",
       "      <td>2013</td>\n",
       "      <td>1334.0</td>\n",
       "      <td>NaN</td>\n",
       "      <td>NaN</td>\n",
       "      <td>NaN</td>\n",
       "      <td>138.0</td>\n",
       "      <td>NaN</td>\n",
       "      <td>NaN</td>\n",
       "      <td>NaN</td>\n",
       "      <td>733.57</td>\n",
       "      <td>545.93</td>\n",
       "      <td>NaN</td>\n",
       "      <td>NaN</td>\n",
       "      <td>4761.86</td>\n",
       "    </tr>\n",
       "    <tr>\n",
       "      <th>3</th>\n",
       "      <td>Afghanistan</td>\n",
       "      <td>AFG</td>\n",
       "      <td>2014</td>\n",
       "      <td>1250.0</td>\n",
       "      <td>NaN</td>\n",
       "      <td>NaN</td>\n",
       "      <td>NaN</td>\n",
       "      <td>960.0</td>\n",
       "      <td>NaN</td>\n",
       "      <td>NaN</td>\n",
       "      <td>NaN</td>\n",
       "      <td>790.00</td>\n",
       "      <td>658.42</td>\n",
       "      <td>NaN</td>\n",
       "      <td>NaN</td>\n",
       "      <td>4832.28</td>\n",
       "    </tr>\n",
       "    <tr>\n",
       "      <th>4</th>\n",
       "      <td>Afghanistan</td>\n",
       "      <td>AFG</td>\n",
       "      <td>2015</td>\n",
       "      <td>861.0</td>\n",
       "      <td>NaN</td>\n",
       "      <td>NaN</td>\n",
       "      <td>NaN</td>\n",
       "      <td>1035.0</td>\n",
       "      <td>NaN</td>\n",
       "      <td>NaN</td>\n",
       "      <td>NaN</td>\n",
       "      <td>5374.63</td>\n",
       "      <td>711.37</td>\n",
       "      <td>NaN</td>\n",
       "      <td>NaN</td>\n",
       "      <td>5690.84</td>\n",
       "    </tr>\n",
       "    <tr>\n",
       "      <th>...</th>\n",
       "      <td>...</td>\n",
       "      <td>...</td>\n",
       "      <td>...</td>\n",
       "      <td>...</td>\n",
       "      <td>...</td>\n",
       "      <td>...</td>\n",
       "      <td>...</td>\n",
       "      <td>...</td>\n",
       "      <td>...</td>\n",
       "      <td>...</td>\n",
       "      <td>...</td>\n",
       "      <td>...</td>\n",
       "      <td>...</td>\n",
       "      <td>...</td>\n",
       "      <td>...</td>\n",
       "      <td>...</td>\n",
       "    </tr>\n",
       "    <tr>\n",
       "      <th>12703</th>\n",
       "      <td>Zimbabwe</td>\n",
       "      <td>ZWE</td>\n",
       "      <td>1964</td>\n",
       "      <td>NaN</td>\n",
       "      <td>NaN</td>\n",
       "      <td>NaN</td>\n",
       "      <td>NaN</td>\n",
       "      <td>NaN</td>\n",
       "      <td>NaN</td>\n",
       "      <td>NaN</td>\n",
       "      <td>7560.0</td>\n",
       "      <td>NaN</td>\n",
       "      <td>NaN</td>\n",
       "      <td>NaN</td>\n",
       "      <td>NaN</td>\n",
       "      <td>540.00</td>\n",
       "    </tr>\n",
       "    <tr>\n",
       "      <th>12704</th>\n",
       "      <td>Zimbabwe</td>\n",
       "      <td>ZWE</td>\n",
       "      <td>1965</td>\n",
       "      <td>NaN</td>\n",
       "      <td>NaN</td>\n",
       "      <td>NaN</td>\n",
       "      <td>NaN</td>\n",
       "      <td>NaN</td>\n",
       "      <td>NaN</td>\n",
       "      <td>NaN</td>\n",
       "      <td>6300.0</td>\n",
       "      <td>NaN</td>\n",
       "      <td>NaN</td>\n",
       "      <td>NaN</td>\n",
       "      <td>NaN</td>\n",
       "      <td>1260.00</td>\n",
       "    </tr>\n",
       "    <tr>\n",
       "      <th>12705</th>\n",
       "      <td>Zimbabwe</td>\n",
       "      <td>ZWE</td>\n",
       "      <td>1966</td>\n",
       "      <td>NaN</td>\n",
       "      <td>NaN</td>\n",
       "      <td>NaN</td>\n",
       "      <td>NaN</td>\n",
       "      <td>NaN</td>\n",
       "      <td>NaN</td>\n",
       "      <td>NaN</td>\n",
       "      <td>4956.0</td>\n",
       "      <td>NaN</td>\n",
       "      <td>NaN</td>\n",
       "      <td>NaN</td>\n",
       "      <td>NaN</td>\n",
       "      <td>1260.00</td>\n",
       "    </tr>\n",
       "    <tr>\n",
       "      <th>12706</th>\n",
       "      <td>Zimbabwe</td>\n",
       "      <td>ZWE</td>\n",
       "      <td>1967</td>\n",
       "      <td>NaN</td>\n",
       "      <td>NaN</td>\n",
       "      <td>NaN</td>\n",
       "      <td>NaN</td>\n",
       "      <td>NaN</td>\n",
       "      <td>NaN</td>\n",
       "      <td>NaN</td>\n",
       "      <td>7518.0</td>\n",
       "      <td>NaN</td>\n",
       "      <td>NaN</td>\n",
       "      <td>NaN</td>\n",
       "      <td>NaN</td>\n",
       "      <td>3474.00</td>\n",
       "    </tr>\n",
       "    <tr>\n",
       "      <th>12707</th>\n",
       "      <td>Zimbabwe</td>\n",
       "      <td>ZWE</td>\n",
       "      <td>1968</td>\n",
       "      <td>NaN</td>\n",
       "      <td>NaN</td>\n",
       "      <td>NaN</td>\n",
       "      <td>NaN</td>\n",
       "      <td>NaN</td>\n",
       "      <td>NaN</td>\n",
       "      <td>NaN</td>\n",
       "      <td>7140.0</td>\n",
       "      <td>NaN</td>\n",
       "      <td>NaN</td>\n",
       "      <td>NaN</td>\n",
       "      <td>NaN</td>\n",
       "      <td>2520.00</td>\n",
       "    </tr>\n",
       "  </tbody>\n",
       "</table>\n",
       "<p>12708 rows × 16 columns</p>\n",
       "</div>"
      ],
      "text/plain": [
       "            Entity Code  Year  Sesame  Maize  Safflower  Coconut  Sunflower   \n",
       "0      Afghanistan  AFG  2011  1292.0    NaN        NaN      NaN       60.0  \\\n",
       "1      Afghanistan  AFG  2012  1261.0    NaN        NaN      NaN       61.0   \n",
       "2      Afghanistan  AFG  2013  1334.0    NaN        NaN      NaN      138.0   \n",
       "3      Afghanistan  AFG  2014  1250.0    NaN        NaN      NaN      960.0   \n",
       "4      Afghanistan  AFG  2015   861.0    NaN        NaN      NaN     1035.0   \n",
       "...            ...  ...   ...     ...    ...        ...      ...        ...   \n",
       "12703     Zimbabwe  ZWE  1964     NaN    NaN        NaN      NaN        NaN   \n",
       "12704     Zimbabwe  ZWE  1965     NaN    NaN        NaN      NaN        NaN   \n",
       "12705     Zimbabwe  ZWE  1966     NaN    NaN        NaN      NaN        NaN   \n",
       "12706     Zimbabwe  ZWE  1967     NaN    NaN        NaN      NaN        NaN   \n",
       "12707     Zimbabwe  ZWE  1968     NaN    NaN        NaN      NaN        NaN   \n",
       "\n",
       "       Rapeseed  Palm kernel  Groundnut  Linseed   Olive  Palm  Soybean   \n",
       "0           NaN          NaN        NaN   674.65  538.56   NaN      NaN  \\\n",
       "1           NaN          NaN        NaN   706.30  538.56   NaN      NaN   \n",
       "2           NaN          NaN        NaN   733.57  545.93   NaN      NaN   \n",
       "3           NaN          NaN        NaN   790.00  658.42   NaN      NaN   \n",
       "4           NaN          NaN        NaN  5374.63  711.37   NaN      NaN   \n",
       "...         ...          ...        ...      ...     ...   ...      ...   \n",
       "12703       NaN          NaN     7560.0      NaN     NaN   NaN      NaN   \n",
       "12704       NaN          NaN     6300.0      NaN     NaN   NaN      NaN   \n",
       "12705       NaN          NaN     4956.0      NaN     NaN   NaN      NaN   \n",
       "12706       NaN          NaN     7518.0      NaN     NaN   NaN      NaN   \n",
       "12707       NaN          NaN     7140.0      NaN     NaN   NaN      NaN   \n",
       "\n",
       "       Cottonseed  \n",
       "0         3725.00  \n",
       "1         4097.97  \n",
       "2         4761.86  \n",
       "3         4832.28  \n",
       "4         5690.84  \n",
       "...           ...  \n",
       "12703      540.00  \n",
       "12704     1260.00  \n",
       "12705     1260.00  \n",
       "12706     3474.00  \n",
       "12707     2520.00  \n",
       "\n",
       "[12708 rows x 16 columns]"
      ]
     },
     "execution_count": 356,
     "metadata": {},
     "output_type": "execute_result"
    }
   ],
   "source": [
    "columns = ['Entity', 'Code', 'Year', 'Sesame', 'Maize', 'Safflower', 'Coconut', 'Sunflower', 'Rapeseed', 'Palm kernel', 'Groundnut', 'Linseed', 'Olive', 'Palm', 'Soybean', 'Cottonseed']\n",
    "\n",
    "oil_prod = pd.read_csv(r\"..\\data\\Palm\\vegetable-oil-production.csv\", names=columns, header=1)\n",
    "oil_prod"
   ]
  },
  {
   "cell_type": "code",
   "execution_count": 357,
   "metadata": {},
   "outputs": [
    {
     "name": "stdout",
     "output_type": "stream",
     "text": [
      "<class 'pandas.core.frame.DataFrame'>\n",
      "RangeIndex: 12167 entries, 0 to 12166\n",
      "Data columns (total 12 columns):\n",
      " #   Column      Non-Null Count  Dtype  \n",
      "---  ------      --------------  -----  \n",
      " 0   Entity      12167 non-null  object \n",
      " 1   Code        9589 non-null   object \n",
      " 2   Year        12167 non-null  int64  \n",
      " 3   Coconut     5396 non-null   float64\n",
      " 4   Groundnut   6774 non-null   float64\n",
      " 5   Palm        3584 non-null   float64\n",
      " 6   Sesame      4345 non-null   float64\n",
      " 7   Sunflower   5470 non-null   float64\n",
      " 8   Cottonseed  7127 non-null   float64\n",
      " 9   Olive       3369 non-null   float64\n",
      " 10  Rapeseed    4762 non-null   float64\n",
      " 11  Soybean     5594 non-null   float64\n",
      "dtypes: float64(9), int64(1), object(2)\n",
      "memory usage: 1.1+ MB\n"
     ]
    }
   ],
   "source": [
    "oil_yield.info()"
   ]
  },
  {
   "attachments": {},
   "cell_type": "markdown",
   "metadata": {},
   "source": [
    "Limpieza de los df. Decidimos dejarlos separados para un mejor estudio de ellos a posteriori pero creamos una columna con id para las relaciones."
   ]
  },
  {
   "cell_type": "code",
   "execution_count": 358,
   "metadata": {},
   "outputs": [
    {
     "name": "stdout",
     "output_type": "stream",
     "text": [
      "<class 'pandas.core.frame.DataFrame'>\n",
      "RangeIndex: 10300 entries, 0 to 10299\n",
      "Data columns (total 12 columns):\n",
      " #   Column      Non-Null Count  Dtype  \n",
      "---  ------      --------------  -----  \n",
      " 0   Entity      10300 non-null  object \n",
      " 1   Code        9589 non-null   object \n",
      " 2   Year        10300 non-null  int64  \n",
      " 3   Coconut     4201 non-null   float64\n",
      " 4   Groundnut   5139 non-null   float64\n",
      " 5   Palm        2590 non-null   float64\n",
      " 6   Sesame      3027 non-null   float64\n",
      " 7   Sunflower   3949 non-null   float64\n",
      " 8   Cottonseed  5478 non-null   float64\n",
      " 9   Olive       2288 non-null   float64\n",
      " 10  Rapeseed    3342 non-null   float64\n",
      " 11  Soybean     4026 non-null   float64\n",
      "dtypes: float64(9), int64(1), object(2)\n",
      "memory usage: 965.8+ KB\n"
     ]
    },
    {
     "name": "stderr",
     "output_type": "stream",
     "text": [
      "C:\\Users\\Nerea\\AppData\\Local\\Temp\\ipykernel_8444\\854352433.py:1: UserWarning:\n",
      "\n",
      "This pattern is interpreted as a regular expression, and has match groups. To actually get the groups, use str.extract.\n",
      "\n"
     ]
    }
   ],
   "source": [
    "oil_yield = oil_yield[~oil_yield['Entity'].str.contains('(FAO)')].reset_index(drop=True)\n",
    "oil_yield.info()"
   ]
  },
  {
   "cell_type": "code",
   "execution_count": 359,
   "metadata": {},
   "outputs": [],
   "source": [
    "oil_yield.loc[oil_yield['Entity'] == 'European Union (27)', 'Entity'] = 'European Union'\n",
    "oil_yield.loc[oil_yield['Entity'] ==\"Cote d'Ivoire\", 'Entity'] = 'Ivory Coast'\n",
    "oil_yield.loc[oil_yield['Entity'] == 'Democratic Republic of Congo'] = 'Congo'\n",
    "oil_yield.loc[oil_yield['Entity'] == 'Micronesia (country)'] = 'Micronesia'"
   ]
  },
  {
   "cell_type": "code",
   "execution_count": 360,
   "metadata": {},
   "outputs": [
    {
     "name": "stdout",
     "output_type": "stream",
     "text": [
      "<class 'pandas.core.frame.DataFrame'>\n",
      "RangeIndex: 10841 entries, 0 to 10840\n",
      "Data columns (total 16 columns):\n",
      " #   Column       Non-Null Count  Dtype  \n",
      "---  ------       --------------  -----  \n",
      " 0   Entity       10841 non-null  object \n",
      " 1   Code         10130 non-null  object \n",
      " 2   Year         10841 non-null  int64  \n",
      " 3   Sesame       739 non-null    float64\n",
      " 4   Maize        3419 non-null   float64\n",
      " 5   Safflower    320 non-null    float64\n",
      " 6   Coconut      5869 non-null   float64\n",
      " 7   Sunflower    988 non-null    float64\n",
      " 8   Rapeseed     819 non-null    float64\n",
      " 9   Palm kernel  3785 non-null   float64\n",
      " 10  Groundnut    6065 non-null   float64\n",
      " 11  Linseed      4061 non-null   float64\n",
      " 12  Olive        2485 non-null   float64\n",
      " 13  Palm         3153 non-null   float64\n",
      " 14  Soybean      1208 non-null   float64\n",
      " 15  Cottonseed   6166 non-null   float64\n",
      "dtypes: float64(13), int64(1), object(2)\n",
      "memory usage: 1.3+ MB\n"
     ]
    },
    {
     "name": "stderr",
     "output_type": "stream",
     "text": [
      "C:\\Users\\Nerea\\AppData\\Local\\Temp\\ipykernel_8444\\2797232385.py:1: UserWarning:\n",
      "\n",
      "This pattern is interpreted as a regular expression, and has match groups. To actually get the groups, use str.extract.\n",
      "\n"
     ]
    }
   ],
   "source": [
    "oil_prod = oil_prod[~oil_prod['Entity'].str.contains('(FAO)')].reset_index(drop=True)\n",
    "oil_prod.info()"
   ]
  },
  {
   "cell_type": "code",
   "execution_count": 361,
   "metadata": {},
   "outputs": [],
   "source": [
    "oil_prod.loc[oil_prod['Entity'] == 'European Union (27)', 'Entity'] = 'European Union'\n",
    "oil_prod.loc[oil_prod['Entity'] ==\"Cote d'Ivoire\", 'Entity'] = 'Ivory Coast'\n",
    "oil_prod.loc[oil_prod['Entity'] == 'Democratic Republic of Congo'] = 'Congo'\n",
    "oil_prod.loc[oil_prod['Entity'] == 'Micronesia (country)'] = 'Micronesia'\n"
   ]
  },
  {
   "cell_type": "code",
   "execution_count": 362,
   "metadata": {},
   "outputs": [],
   "source": [
    "# Dejamos los valores nulos porque representan que no existe la producción de ese vegetale en ese momento. Rellenarlos con valores sería sesgar la info."
   ]
  },
  {
   "cell_type": "code",
   "execution_count": 363,
   "metadata": {},
   "outputs": [
    {
     "data": {
      "text/plain": [
       "131"
      ]
     },
     "execution_count": 363,
     "metadata": {},
     "output_type": "execute_result"
    }
   ],
   "source": [
    "# Creamos un diccionario con los nombres de paises y su id. Se aplica mapeando a los dos df de oil.\n",
    "\n",
    "dic = soy.set_index('Entity')['Code'].to_dict()\n",
    "oil_prod['Code'] = oil_prod['Entity'].map(dic)\n",
    "oil_yield['Code'] = oil_yield['Entity'].map(dic)\n",
    "max(soy['Code'])"
   ]
  },
  {
   "cell_type": "code",
   "execution_count": 364,
   "metadata": {},
   "outputs": [],
   "source": [
    "nul_ind = oil_prod['Code'].isnull()\n",
    "ent = oil_prod.loc[nul_ind, 'Entity'].unique()\n",
    "fac = pd.factorize(ent)[0] + 132\n",
    "ma = dict(zip(ent, fac))\n",
    "ser = oil_prod['Entity'].map(ma)\n",
    "\n",
    "oil_prod.loc[nul_ind, 'Code'] = ser\n",
    "oil_prod['Code'] = oil_prod['Code'].astype(int)\n",
    "# oil_prod['Code'].value_counts()\n"
   ]
  },
  {
   "cell_type": "code",
   "execution_count": 365,
   "metadata": {},
   "outputs": [],
   "source": [
    "nul_ind = oil_yield['Code'].isnull()\n",
    "ent = oil_yield.loc[nul_ind, 'Entity'].unique()\n",
    "fac = pd.factorize(ent)[0] + 132\n",
    "ma = dict(zip(ent, fac))\n",
    "ser = oil_yield['Entity'].map(ma)\n",
    "\n",
    "oil_yield.loc[nul_ind, 'Code'] = ser\n",
    "oil_yield['Code'] = oil_yield['Code'].astype(int)\n",
    "# oil_prod['Code'].value_counts()"
   ]
  },
  {
   "cell_type": "code",
   "execution_count": 366,
   "metadata": {},
   "outputs": [],
   "source": [
    "oil_prod.to_csv('../data/Palm/oil_prod_clean.csv', index=False)\n",
    "oil_yield.to_csv('../data/Palm/oil_yield_clean.csv', index=False)"
   ]
  },
  {
   "attachments": {},
   "cell_type": "markdown",
   "metadata": {},
   "source": [
    "#### Habitantes por regiones\n",
    "\n",
    "Creamos el df de habitantes y le asignamos el id."
   ]
  },
  {
   "cell_type": "code",
   "execution_count": 367,
   "metadata": {},
   "outputs": [
    {
     "data": {
      "text/html": [
       "<div>\n",
       "<style scoped>\n",
       "    .dataframe tbody tr th:only-of-type {\n",
       "        vertical-align: middle;\n",
       "    }\n",
       "\n",
       "    .dataframe tbody tr th {\n",
       "        vertical-align: top;\n",
       "    }\n",
       "\n",
       "    .dataframe thead th {\n",
       "        text-align: right;\n",
       "    }\n",
       "</style>\n",
       "<table border=\"1\" class=\"dataframe\">\n",
       "  <thead>\n",
       "    <tr style=\"text-align: right;\">\n",
       "      <th></th>\n",
       "      <th>Entity</th>\n",
       "      <th>Population</th>\n",
       "    </tr>\n",
       "  </thead>\n",
       "  <tbody>\n",
       "    <tr>\n",
       "      <th>0</th>\n",
       "      <td>Congo</td>\n",
       "      <td>89561403</td>\n",
       "    </tr>\n",
       "    <tr>\n",
       "      <th>1</th>\n",
       "      <td>Malawi</td>\n",
       "      <td>19930763</td>\n",
       "    </tr>\n",
       "    <tr>\n",
       "      <th>2</th>\n",
       "      <td>North Korea</td>\n",
       "      <td>25778816</td>\n",
       "    </tr>\n",
       "    <tr>\n",
       "      <th>3</th>\n",
       "      <td>Nepal</td>\n",
       "      <td>29996478</td>\n",
       "    </tr>\n",
       "    <tr>\n",
       "      <th>4</th>\n",
       "      <td>Netherlands</td>\n",
       "      <td>17134873</td>\n",
       "    </tr>\n",
       "  </tbody>\n",
       "</table>\n",
       "</div>"
      ],
      "text/plain": [
       "        Entity  Population\n",
       "0        Congo    89561403\n",
       "1       Malawi    19930763\n",
       "2  North Korea    25778816\n",
       "3        Nepal    29996478\n",
       "4  Netherlands    17134873"
      ]
     },
     "execution_count": 367,
     "metadata": {},
     "output_type": "execute_result"
    }
   ],
   "source": [
    "pop = pd.read_csv('../data/Population/population.csv')\n",
    "pop.head()"
   ]
  },
  {
   "cell_type": "code",
   "execution_count": 368,
   "metadata": {},
   "outputs": [
    {
     "data": {
      "text/plain": [
       "Series([], Name: Entity, dtype: object)"
      ]
     },
     "execution_count": 368,
     "metadata": {},
     "output_type": "execute_result"
    }
   ],
   "source": [
    "ids = oil_yield.set_index('Entity')['Code'].to_dict()\n",
    "pop['Code'] = pop['Entity'].map(ids)\n",
    "# hab['Code'] = hab['Code'].astype(int)\n",
    "pop.loc[pop['Code'].isnull(), 'Entity']"
   ]
  },
  {
   "cell_type": "code",
   "execution_count": 369,
   "metadata": {},
   "outputs": [
    {
     "name": "stdout",
     "output_type": "stream",
     "text": [
      "set()\n"
     ]
    }
   ],
   "source": [
    "print(set(hab['Entity']) - set(oil_yield['Entity']))"
   ]
  },
  {
   "cell_type": "code",
   "execution_count": 370,
   "metadata": {},
   "outputs": [],
   "source": [
    "pop.to_csv('../data/Population/population_clean.csv')"
   ]
  },
  {
   "cell_type": "code",
   "execution_count": 371,
   "metadata": {},
   "outputs": [],
   "source": [
    "#Pruebas visualizaciones"
   ]
  },
  {
   "cell_type": "code",
   "execution_count": 372,
   "metadata": {},
   "outputs": [
    {
     "name": "stdout",
     "output_type": "stream",
     "text": [
      "<class 'pandas.core.frame.DataFrame'>\n",
      "RangeIndex: 5469 entries, 0 to 5468\n",
      "Data columns (total 9 columns):\n",
      " #   Column          Non-Null Count  Dtype  \n",
      "---  ------          --------------  -----  \n",
      " 0   Entity          5469 non-null   object \n",
      " 1   Code            5469 non-null   int64  \n",
      " 2   Year            5458 non-null   float64\n",
      " 3   Food            5358 non-null   float64\n",
      " 4   Feed            3079 non-null   float64\n",
      " 5   Processed       4404 non-null   float64\n",
      " 6   Production      5456 non-null   float64\n",
      " 7   Yield           5083 non-null   float64\n",
      " 8   Area harvested  5452 non-null   float64\n",
      "dtypes: float64(7), int64(1), object(1)\n",
      "memory usage: 384.7+ KB\n"
     ]
    }
   ],
   "source": [
    "soy.info()"
   ]
  },
  {
   "cell_type": "code",
   "execution_count": 373,
   "metadata": {},
   "outputs": [
    {
     "data": {
      "application/vnd.plotly.v1+json": {
       "config": {
        "plotlyServerURL": "https://plot.ly"
       },
       "data": [
        {
         "name": "Asia",
         "type": "bar",
         "x": [
          1961,
          1962,
          1963,
          1964,
          1965,
          1966,
          1967,
          1968,
          1969,
          1970,
          1971,
          1972,
          1973,
          1974,
          1975,
          1976,
          1977,
          1978,
          1979,
          1980,
          1981,
          1982,
          1983,
          1984,
          1985,
          1986,
          1987,
          1988,
          1989,
          1990,
          1991,
          1992,
          1993,
          1994,
          1995,
          1996,
          1997,
          1998,
          1999,
          2000,
          2001,
          2002,
          2003,
          2004,
          2005,
          2006,
          2007,
          2008,
          2009,
          2010,
          2011,
          2012,
          2013,
          2014,
          2015,
          2016,
          2017,
          2018,
          2019,
          2020
         ],
         "xaxis": "x",
         "y": [
          191000,
          205000,
          225000,
          263000,
          284000,
          426000,
          403000,
          373000,
          332000,
          302000,
          474000,
          303000,
          367000,
          301000,
          293000,
          359000,
          365000,
          319000,
          335000,
          457000,
          486000,
          446000,
          478000,
          521000,
          845000,
          632000,
          606000,
          643000,
          574000,
          482000,
          488000,
          437000,
          1094000,
          1170000,
          769000,
          514000,
          454000,
          542000,
          1612000,
          2218000,
          2868000,
          2271000,
          3255000,
          3905000,
          3358000,
          3503000,
          3715000,
          3944000,
          5284000,
          11538000,
          7768000,
          13810000,
          10770000,
          10814000,
          15661000,
          12767000,
          15275000,
          12013000,
          16882000,
          23057000
         ],
         "yaxis": "y"
        },
        {
         "name": "China",
         "type": "bar",
         "x": [
          1961,
          1962,
          1963,
          1964,
          1965,
          1966,
          1967,
          1968,
          1969,
          1970,
          1971,
          1972,
          1973,
          1974,
          1975,
          1976,
          1977,
          1978,
          1979,
          1980,
          1981,
          1982,
          1983,
          1984,
          1985,
          1986,
          1987,
          1988,
          1989,
          1990,
          1991,
          1992,
          1993,
          1994,
          1995,
          1996,
          1997,
          1998,
          1999,
          2000,
          2001,
          2002,
          2003,
          2004,
          2005,
          2006,
          2007,
          2008,
          2009,
          2010,
          2011,
          2012,
          2013,
          2014,
          2015,
          2016,
          2017,
          2018,
          2019,
          2020
         ],
         "xaxis": "x",
         "y": [
          186000,
          195000,
          217000,
          236000,
          230000,
          348000,
          290000,
          280000,
          232000,
          260000,
          260000,
          200000,
          255000,
          244000,
          203000,
          210000,
          248000,
          233000,
          242000,
          260000,
          300000,
          320000,
          350000,
          400000,
          700000,
          500000,
          500000,
          480000,
          400000,
          250000,
          200000,
          200000,
          800000,
          700000,
          450000,
          300000,
          300000,
          400000,
          1457000,
          2009000,
          2655000,
          1907000,
          2911000,
          3594000,
          3014000,
          3216000,
          3408000,
          3609000,
          4821000,
          9296000,
          5498000,
          11561000,
          8917000,
          8680000,
          11707000,
          6913000,
          10830000,
          8656000,
          11194000,
          18864000
         ],
         "yaxis": "y"
        },
        {
         "name": "Europe",
         "type": "bar",
         "x": [
          1961,
          1962,
          1963,
          1964,
          1965,
          1966,
          1967,
          1968,
          1969,
          1970,
          1971,
          1972,
          1973,
          1974,
          1975,
          1976,
          1977,
          1978,
          1979,
          1980,
          1981,
          1982,
          1983,
          1984,
          1985,
          1986,
          1987,
          1988,
          1989,
          1990,
          1991,
          1992,
          1993,
          1994,
          1995,
          1996,
          1997,
          1998,
          1999,
          2000,
          2001,
          2002,
          2003,
          2004,
          2005,
          2006,
          2007,
          2008,
          2009,
          2010,
          2011,
          2012,
          2013,
          2014,
          2015,
          2016,
          2017,
          2018,
          2019,
          2020
         ],
         "xaxis": "x",
         "y": [
          76000,
          89000,
          120000,
          105000,
          109000,
          166000,
          132000,
          147000,
          128000,
          140000,
          124000,
          146000,
          135000,
          183000,
          208000,
          253000,
          309000,
          312000,
          251000,
          288000,
          305000,
          503000,
          515000,
          500000,
          579000,
          856000,
          1398000,
          1665000,
          1581000,
          1591000,
          1856000,
          1580000,
          1460000,
          1579000,
          1339000,
          1291000,
          1565000,
          1460000,
          1559000,
          1262000,
          1461000,
          2200000,
          1514000,
          1811000,
          1780000,
          2241000,
          1786000,
          1663000,
          1592000,
          2832000,
          2543000,
          1012000,
          1299000,
          3331000,
          2355000,
          2375000,
          2185000,
          2022000,
          2592000,
          2271000
         ],
         "yaxis": "y"
        },
        {
         "name": "European Union",
         "type": "bar",
         "x": [
          1961,
          1962,
          1963,
          1964,
          1965,
          1966,
          1967,
          1968,
          1969,
          1970,
          1971,
          1972,
          1973,
          1974,
          1975,
          1976,
          1977,
          1978,
          1979,
          1980,
          1981,
          1982,
          1983,
          1984,
          1985,
          1986,
          1987,
          1988,
          1989,
          1990,
          1991,
          1992,
          1993,
          1994,
          1995,
          1996,
          1997,
          1998,
          1999,
          2000,
          2001,
          2002,
          2003,
          2004,
          2005,
          2006,
          2007,
          2008,
          2009,
          2010,
          2011,
          2012,
          2013,
          2014,
          2015,
          2016,
          2017,
          2018,
          2019,
          2020
         ],
         "xaxis": "x",
         "y": [
          9000,
          14000,
          37000,
          21000,
          13000,
          17000,
          17000,
          6000,
          22000,
          12000,
          19000,
          26000,
          23000,
          22000,
          36000,
          35000,
          32000,
          54000,
          47000,
          49000,
          83000,
          116000,
          100000,
          101000,
          162000,
          246000,
          778000,
          1023000,
          1102000,
          1198000,
          1225000,
          1287000,
          1015000,
          1009000,
          1060000,
          930000,
          1260000,
          1291000,
          1162000,
          1183000,
          1298000,
          1842000,
          1156000,
          1255000,
          1139000,
          1254000,
          999000,
          728000,
          639000,
          896000,
          788000,
          572000,
          593000,
          998000,
          657000,
          1051000,
          723000,
          1122000,
          1420000,
          1357000
         ],
         "yaxis": "y"
        },
        {
         "name": "High-income countries",
         "type": "bar",
         "x": [
          1961,
          1962,
          1963,
          1964,
          1965,
          1966,
          1967,
          1968,
          1969,
          1970,
          1971,
          1972,
          1973,
          1974,
          1975,
          1976,
          1977,
          1978,
          1979,
          1980,
          1981,
          1982,
          1983,
          1984,
          1985,
          1986,
          1987,
          1988,
          1989,
          1990,
          1991,
          1992,
          1993,
          1994,
          1995,
          1996,
          1997,
          1998,
          1999,
          2000,
          2001,
          2002,
          2003,
          2004,
          2005,
          2006,
          2007,
          2008,
          2009,
          2010,
          2011,
          2012,
          2013,
          2014,
          2015,
          2016,
          2017,
          2018,
          2019,
          2020
         ],
         "xaxis": "x",
         "y": [
          67000,
          77000,
          94000,
          99000,
          115000,
          179000,
          194000,
          177000,
          182000,
          131000,
          295000,
          208000,
          177000,
          148000,
          194000,
          251000,
          233000,
          211000,
          203000,
          327000,
          432000,
          557000,
          556000,
          580000,
          569000,
          758000,
          1263000,
          1569000,
          1688000,
          1941000,
          1998000,
          2100000,
          1839000,
          2163000,
          2042000,
          2061000,
          2341000,
          2069000,
          1926000,
          1991000,
          1990000,
          2512000,
          2540000,
          4744000,
          3970000,
          4164000,
          2345000,
          3555000,
          3603000,
          3745000,
          3576000,
          3107000,
          3477000,
          4993000,
          6372000,
          2918000,
          5459000,
          3260000,
          3101000,
          3064000
         ],
         "yaxis": "y"
        },
        {
         "name": "North America",
         "type": "bar",
         "x": [
          1961,
          1962,
          1963,
          1964,
          1965,
          1966,
          1967,
          1968,
          1969,
          1970,
          1971,
          1972,
          1973,
          1974,
          1975,
          1976,
          1977,
          1978,
          1979,
          1980,
          1981,
          1982,
          1983,
          1984,
          1985,
          1986,
          1987,
          1988,
          1989,
          1990,
          1991,
          1992,
          1993,
          1994,
          1995,
          1996,
          1997,
          1998,
          1999,
          2000,
          2001,
          2002,
          2003,
          2004,
          2005,
          2006,
          2007,
          2008,
          2009,
          2010,
          2011,
          2012,
          2013,
          2014,
          2015,
          2016,
          2017,
          2018,
          2019,
          2020
         ],
         "xaxis": "x",
         "y": [
          50000,
          75000,
          66000,
          45000,
          62000,
          81000,
          97000,
          204000,
          198000,
          93000,
          124000,
          119000,
          157000,
          140000,
          119000,
          75000,
          67000,
          87000,
          76000,
          80000,
          114000,
          102000,
          216000,
          449000,
          336000,
          265000,
          230000,
          263000,
          290000,
          396000,
          329000,
          440000,
          508000,
          633000,
          647000,
          860000,
          1122000,
          1210000,
          1239000,
          1352000,
          1183000,
          1137000,
          1895000,
          3973000,
          3243000,
          3411000,
          1962000,
          3294000,
          3429000,
          3317000,
          3171000,
          3186000,
          3605000,
          4885000,
          6379000,
          2586000,
          5397000,
          3286000,
          2480000,
          2306000
         ],
         "yaxis": "y"
        },
        {
         "name": "South America",
         "type": "bar",
         "x": [
          1961,
          1962,
          1963,
          1964,
          1965,
          1966,
          1967,
          1968,
          1969,
          1970,
          1971,
          1972,
          1973,
          1974,
          1975,
          1976,
          1977,
          1978,
          1979,
          1980,
          1981,
          1982,
          1983,
          1984,
          1985,
          1986,
          1987,
          1988,
          1989,
          1990,
          1991,
          1992,
          1993,
          1994,
          1995,
          1996,
          1997,
          1998,
          1999,
          2000,
          2001,
          2002,
          2003,
          2004,
          2005,
          2006,
          2007,
          2008,
          2009,
          2010,
          2011,
          2012,
          2013,
          2014,
          2015,
          2016,
          2017,
          2018,
          2019,
          2020
         ],
         "xaxis": "x",
         "y": [
          46000,
          65000,
          80000,
          69000,
          69000,
          61000,
          50000,
          90000,
          93000,
          66000,
          133000,
          128000,
          142000,
          115000,
          130000,
          229000,
          347000,
          342000,
          359000,
          380000,
          352000,
          344000,
          332000,
          321000,
          343000,
          576000,
          725000,
          823000,
          1061000,
          1066000,
          1073000,
          1163000,
          1148000,
          669000,
          643000,
          674000,
          721000,
          731000,
          745000,
          688000,
          597000,
          649000,
          603000,
          641000,
          1023000,
          972000,
          1105000,
          1251000,
          877000,
          1699000,
          3490000,
          3782000,
          4136000,
          3807000,
          2615000,
          6210000,
          5035000,
          5065000,
          4506000,
          4796000
         ],
         "yaxis": "y"
        },
        {
         "name": "United States",
         "type": "bar",
         "x": [
          1961,
          1962,
          1963,
          1964,
          1965,
          1966,
          1967,
          1968,
          1969,
          1970,
          1971,
          1972,
          1973,
          1974,
          1975,
          1976,
          1977,
          1978,
          1979,
          1980,
          1981,
          1982,
          1983,
          1984,
          1985,
          1986,
          1987,
          1988,
          1989,
          1990,
          1991,
          1992,
          1993,
          1994,
          1995,
          1996,
          1997,
          1998,
          1999,
          2000,
          2001,
          2002,
          2003,
          2004,
          2005,
          2006,
          2007,
          2008,
          2009,
          2010,
          2011,
          2012,
          2013,
          2014,
          2015,
          2016,
          2017,
          2018,
          2019,
          2020
         ],
         "xaxis": "x",
         "y": [
          36000,
          31000,
          24000,
          23000,
          24000,
          24000,
          26000,
          25000,
          24000,
          24000,
          29000,
          29000,
          30000,
          33000,
          27000,
          33000,
          27000,
          27000,
          27000,
          27000,
          43000,
          47000,
          35000,
          40000,
          12000,
          55000,
          52000,
          44000,
          54000,
          55000,
          56000,
          62000,
          53000,
          71000,
          62000,
          67000,
          76000,
          78000,
          76000,
          76000,
          78000,
          77000,
          650000,
          2748000,
          1932000,
          2096000,
          900000,
          1960000,
          2205000,
          2205000,
          2205000,
          2014000,
          2240000,
          3480000,
          5059000,
          1335000,
          4118000,
          1690000,
          1294000,
          1306000
         ],
         "yaxis": "y"
        },
        {
         "name": "Upper-middle-income countries",
         "type": "bar",
         "x": [
          1961,
          1962,
          1963,
          1964,
          1965,
          1966,
          1967,
          1968,
          1969,
          1970,
          1971,
          1972,
          1973,
          1974,
          1975,
          1976,
          1977,
          1978,
          1979,
          1980,
          1981,
          1982,
          1983,
          1984,
          1985,
          1986,
          1987,
          1988,
          1989,
          1990,
          1991,
          1992,
          1993,
          1994,
          1995,
          1996,
          1997,
          1998,
          1999,
          2000,
          2001,
          2002,
          2003,
          2004,
          2005,
          2006,
          2007,
          2008,
          2009,
          2010,
          2011,
          2012,
          2013,
          2014,
          2015,
          2016,
          2017,
          2018,
          2019,
          2020
         ],
         "xaxis": "x",
         "y": [
          296000,
          357000,
          397000,
          384000,
          411000,
          576000,
          490000,
          641000,
          569000,
          470000,
          560000,
          496000,
          624000,
          620000,
          578000,
          667000,
          880000,
          880000,
          843000,
          907000,
          861000,
          865000,
          1009000,
          1236000,
          1570000,
          1579000,
          1697000,
          1837000,
          1881000,
          1616000,
          1760000,
          1504000,
          2338000,
          1876000,
          1359000,
          1404000,
          1627000,
          1801000,
          3135000,
          3608000,
          4074000,
          3503000,
          4537000,
          5380000,
          5343000,
          5525000,
          5820000,
          6127000,
          7233000,
          13435000,
          11467000,
          17778000,
          15742000,
          16192000,
          17797000,
          16382000,
          19478000,
          17362000,
          19431000,
          26857000
         ],
         "yaxis": "y"
        },
        {
         "name": "World",
         "type": "bar",
         "x": [
          1961,
          1962,
          1963,
          1964,
          1965,
          1966,
          1967,
          1968,
          1969,
          1970,
          1971,
          1972,
          1973,
          1974,
          1975,
          1976,
          1977,
          1978,
          1979,
          1980,
          1981,
          1982,
          1983,
          1984,
          1985,
          1986,
          1987,
          1988,
          1989,
          1990,
          1991,
          1992,
          1993,
          1994,
          1995,
          1996,
          1997,
          1998,
          1999,
          2000,
          2001,
          2002,
          2003,
          2004,
          2005,
          2006,
          2007,
          2008,
          2009,
          2010,
          2011,
          2012,
          2013,
          2014,
          2015,
          2016,
          2017,
          2018,
          2019,
          2020
         ],
         "xaxis": "x",
         "y": [
          368000,
          440000,
          498000,
          487000,
          531000,
          759000,
          690000,
          825000,
          756000,
          607000,
          860000,
          710000,
          807000,
          776000,
          778000,
          926000,
          1119000,
          1100000,
          1054000,
          1242000,
          1301000,
          1433000,
          1572000,
          1825000,
          2148000,
          2365000,
          2992000,
          3438000,
          3604000,
          3580000,
          3804000,
          3682000,
          4259000,
          4136000,
          3747000,
          3725000,
          4249000,
          4216000,
          5434000,
          5728000,
          6204000,
          6311000,
          7374000,
          10547000,
          9643000,
          10309000,
          8670000,
          10250000,
          11270000,
          19789000,
          17425000,
          22295000,
          20368000,
          23261000,
          27381000,
          24569000,
          28660000,
          23255000,
          27118000,
          33624000
         ],
         "yaxis": "y"
        }
       ],
       "layout": {
        "template": {
         "data": {
          "bar": [
           {
            "error_x": {
             "color": "#2a3f5f"
            },
            "error_y": {
             "color": "#2a3f5f"
            },
            "marker": {
             "line": {
              "color": "#E5ECF6",
              "width": 0.5
             },
             "pattern": {
              "fillmode": "overlay",
              "size": 10,
              "solidity": 0.2
             }
            },
            "type": "bar"
           }
          ],
          "barpolar": [
           {
            "marker": {
             "line": {
              "color": "#E5ECF6",
              "width": 0.5
             },
             "pattern": {
              "fillmode": "overlay",
              "size": 10,
              "solidity": 0.2
             }
            },
            "type": "barpolar"
           }
          ],
          "carpet": [
           {
            "aaxis": {
             "endlinecolor": "#2a3f5f",
             "gridcolor": "white",
             "linecolor": "white",
             "minorgridcolor": "white",
             "startlinecolor": "#2a3f5f"
            },
            "baxis": {
             "endlinecolor": "#2a3f5f",
             "gridcolor": "white",
             "linecolor": "white",
             "minorgridcolor": "white",
             "startlinecolor": "#2a3f5f"
            },
            "type": "carpet"
           }
          ],
          "choropleth": [
           {
            "colorbar": {
             "outlinewidth": 0,
             "ticks": ""
            },
            "type": "choropleth"
           }
          ],
          "contour": [
           {
            "colorbar": {
             "outlinewidth": 0,
             "ticks": ""
            },
            "colorscale": [
             [
              0,
              "#0d0887"
             ],
             [
              0.1111111111111111,
              "#46039f"
             ],
             [
              0.2222222222222222,
              "#7201a8"
             ],
             [
              0.3333333333333333,
              "#9c179e"
             ],
             [
              0.4444444444444444,
              "#bd3786"
             ],
             [
              0.5555555555555556,
              "#d8576b"
             ],
             [
              0.6666666666666666,
              "#ed7953"
             ],
             [
              0.7777777777777778,
              "#fb9f3a"
             ],
             [
              0.8888888888888888,
              "#fdca26"
             ],
             [
              1,
              "#f0f921"
             ]
            ],
            "type": "contour"
           }
          ],
          "contourcarpet": [
           {
            "colorbar": {
             "outlinewidth": 0,
             "ticks": ""
            },
            "type": "contourcarpet"
           }
          ],
          "heatmap": [
           {
            "colorbar": {
             "outlinewidth": 0,
             "ticks": ""
            },
            "colorscale": [
             [
              0,
              "#0d0887"
             ],
             [
              0.1111111111111111,
              "#46039f"
             ],
             [
              0.2222222222222222,
              "#7201a8"
             ],
             [
              0.3333333333333333,
              "#9c179e"
             ],
             [
              0.4444444444444444,
              "#bd3786"
             ],
             [
              0.5555555555555556,
              "#d8576b"
             ],
             [
              0.6666666666666666,
              "#ed7953"
             ],
             [
              0.7777777777777778,
              "#fb9f3a"
             ],
             [
              0.8888888888888888,
              "#fdca26"
             ],
             [
              1,
              "#f0f921"
             ]
            ],
            "type": "heatmap"
           }
          ],
          "heatmapgl": [
           {
            "colorbar": {
             "outlinewidth": 0,
             "ticks": ""
            },
            "colorscale": [
             [
              0,
              "#0d0887"
             ],
             [
              0.1111111111111111,
              "#46039f"
             ],
             [
              0.2222222222222222,
              "#7201a8"
             ],
             [
              0.3333333333333333,
              "#9c179e"
             ],
             [
              0.4444444444444444,
              "#bd3786"
             ],
             [
              0.5555555555555556,
              "#d8576b"
             ],
             [
              0.6666666666666666,
              "#ed7953"
             ],
             [
              0.7777777777777778,
              "#fb9f3a"
             ],
             [
              0.8888888888888888,
              "#fdca26"
             ],
             [
              1,
              "#f0f921"
             ]
            ],
            "type": "heatmapgl"
           }
          ],
          "histogram": [
           {
            "marker": {
             "pattern": {
              "fillmode": "overlay",
              "size": 10,
              "solidity": 0.2
             }
            },
            "type": "histogram"
           }
          ],
          "histogram2d": [
           {
            "colorbar": {
             "outlinewidth": 0,
             "ticks": ""
            },
            "colorscale": [
             [
              0,
              "#0d0887"
             ],
             [
              0.1111111111111111,
              "#46039f"
             ],
             [
              0.2222222222222222,
              "#7201a8"
             ],
             [
              0.3333333333333333,
              "#9c179e"
             ],
             [
              0.4444444444444444,
              "#bd3786"
             ],
             [
              0.5555555555555556,
              "#d8576b"
             ],
             [
              0.6666666666666666,
              "#ed7953"
             ],
             [
              0.7777777777777778,
              "#fb9f3a"
             ],
             [
              0.8888888888888888,
              "#fdca26"
             ],
             [
              1,
              "#f0f921"
             ]
            ],
            "type": "histogram2d"
           }
          ],
          "histogram2dcontour": [
           {
            "colorbar": {
             "outlinewidth": 0,
             "ticks": ""
            },
            "colorscale": [
             [
              0,
              "#0d0887"
             ],
             [
              0.1111111111111111,
              "#46039f"
             ],
             [
              0.2222222222222222,
              "#7201a8"
             ],
             [
              0.3333333333333333,
              "#9c179e"
             ],
             [
              0.4444444444444444,
              "#bd3786"
             ],
             [
              0.5555555555555556,
              "#d8576b"
             ],
             [
              0.6666666666666666,
              "#ed7953"
             ],
             [
              0.7777777777777778,
              "#fb9f3a"
             ],
             [
              0.8888888888888888,
              "#fdca26"
             ],
             [
              1,
              "#f0f921"
             ]
            ],
            "type": "histogram2dcontour"
           }
          ],
          "mesh3d": [
           {
            "colorbar": {
             "outlinewidth": 0,
             "ticks": ""
            },
            "type": "mesh3d"
           }
          ],
          "parcoords": [
           {
            "line": {
             "colorbar": {
              "outlinewidth": 0,
              "ticks": ""
             }
            },
            "type": "parcoords"
           }
          ],
          "pie": [
           {
            "automargin": true,
            "type": "pie"
           }
          ],
          "scatter": [
           {
            "fillpattern": {
             "fillmode": "overlay",
             "size": 10,
             "solidity": 0.2
            },
            "type": "scatter"
           }
          ],
          "scatter3d": [
           {
            "line": {
             "colorbar": {
              "outlinewidth": 0,
              "ticks": ""
             }
            },
            "marker": {
             "colorbar": {
              "outlinewidth": 0,
              "ticks": ""
             }
            },
            "type": "scatter3d"
           }
          ],
          "scattercarpet": [
           {
            "marker": {
             "colorbar": {
              "outlinewidth": 0,
              "ticks": ""
             }
            },
            "type": "scattercarpet"
           }
          ],
          "scattergeo": [
           {
            "marker": {
             "colorbar": {
              "outlinewidth": 0,
              "ticks": ""
             }
            },
            "type": "scattergeo"
           }
          ],
          "scattergl": [
           {
            "marker": {
             "colorbar": {
              "outlinewidth": 0,
              "ticks": ""
             }
            },
            "type": "scattergl"
           }
          ],
          "scattermapbox": [
           {
            "marker": {
             "colorbar": {
              "outlinewidth": 0,
              "ticks": ""
             }
            },
            "type": "scattermapbox"
           }
          ],
          "scatterpolar": [
           {
            "marker": {
             "colorbar": {
              "outlinewidth": 0,
              "ticks": ""
             }
            },
            "type": "scatterpolar"
           }
          ],
          "scatterpolargl": [
           {
            "marker": {
             "colorbar": {
              "outlinewidth": 0,
              "ticks": ""
             }
            },
            "type": "scatterpolargl"
           }
          ],
          "scatterternary": [
           {
            "marker": {
             "colorbar": {
              "outlinewidth": 0,
              "ticks": ""
             }
            },
            "type": "scatterternary"
           }
          ],
          "surface": [
           {
            "colorbar": {
             "outlinewidth": 0,
             "ticks": ""
            },
            "colorscale": [
             [
              0,
              "#0d0887"
             ],
             [
              0.1111111111111111,
              "#46039f"
             ],
             [
              0.2222222222222222,
              "#7201a8"
             ],
             [
              0.3333333333333333,
              "#9c179e"
             ],
             [
              0.4444444444444444,
              "#bd3786"
             ],
             [
              0.5555555555555556,
              "#d8576b"
             ],
             [
              0.6666666666666666,
              "#ed7953"
             ],
             [
              0.7777777777777778,
              "#fb9f3a"
             ],
             [
              0.8888888888888888,
              "#fdca26"
             ],
             [
              1,
              "#f0f921"
             ]
            ],
            "type": "surface"
           }
          ],
          "table": [
           {
            "cells": {
             "fill": {
              "color": "#EBF0F8"
             },
             "line": {
              "color": "white"
             }
            },
            "header": {
             "fill": {
              "color": "#C8D4E3"
             },
             "line": {
              "color": "white"
             }
            },
            "type": "table"
           }
          ]
         },
         "layout": {
          "annotationdefaults": {
           "arrowcolor": "#2a3f5f",
           "arrowhead": 0,
           "arrowwidth": 1
          },
          "autotypenumbers": "strict",
          "coloraxis": {
           "colorbar": {
            "outlinewidth": 0,
            "ticks": ""
           }
          },
          "colorscale": {
           "diverging": [
            [
             0,
             "#8e0152"
            ],
            [
             0.1,
             "#c51b7d"
            ],
            [
             0.2,
             "#de77ae"
            ],
            [
             0.3,
             "#f1b6da"
            ],
            [
             0.4,
             "#fde0ef"
            ],
            [
             0.5,
             "#f7f7f7"
            ],
            [
             0.6,
             "#e6f5d0"
            ],
            [
             0.7,
             "#b8e186"
            ],
            [
             0.8,
             "#7fbc41"
            ],
            [
             0.9,
             "#4d9221"
            ],
            [
             1,
             "#276419"
            ]
           ],
           "sequential": [
            [
             0,
             "#0d0887"
            ],
            [
             0.1111111111111111,
             "#46039f"
            ],
            [
             0.2222222222222222,
             "#7201a8"
            ],
            [
             0.3333333333333333,
             "#9c179e"
            ],
            [
             0.4444444444444444,
             "#bd3786"
            ],
            [
             0.5555555555555556,
             "#d8576b"
            ],
            [
             0.6666666666666666,
             "#ed7953"
            ],
            [
             0.7777777777777778,
             "#fb9f3a"
            ],
            [
             0.8888888888888888,
             "#fdca26"
            ],
            [
             1,
             "#f0f921"
            ]
           ],
           "sequentialminus": [
            [
             0,
             "#0d0887"
            ],
            [
             0.1111111111111111,
             "#46039f"
            ],
            [
             0.2222222222222222,
             "#7201a8"
            ],
            [
             0.3333333333333333,
             "#9c179e"
            ],
            [
             0.4444444444444444,
             "#bd3786"
            ],
            [
             0.5555555555555556,
             "#d8576b"
            ],
            [
             0.6666666666666666,
             "#ed7953"
            ],
            [
             0.7777777777777778,
             "#fb9f3a"
            ],
            [
             0.8888888888888888,
             "#fdca26"
            ],
            [
             1,
             "#f0f921"
            ]
           ]
          },
          "colorway": [
           "#636efa",
           "#EF553B",
           "#00cc96",
           "#ab63fa",
           "#FFA15A",
           "#19d3f3",
           "#FF6692",
           "#B6E880",
           "#FF97FF",
           "#FECB52"
          ],
          "font": {
           "color": "#2a3f5f"
          },
          "geo": {
           "bgcolor": "white",
           "lakecolor": "white",
           "landcolor": "#E5ECF6",
           "showlakes": true,
           "showland": true,
           "subunitcolor": "white"
          },
          "hoverlabel": {
           "align": "left"
          },
          "hovermode": "closest",
          "mapbox": {
           "style": "light"
          },
          "paper_bgcolor": "white",
          "plot_bgcolor": "#E5ECF6",
          "polar": {
           "angularaxis": {
            "gridcolor": "white",
            "linecolor": "white",
            "ticks": ""
           },
           "bgcolor": "#E5ECF6",
           "radialaxis": {
            "gridcolor": "white",
            "linecolor": "white",
            "ticks": ""
           }
          },
          "scene": {
           "xaxis": {
            "backgroundcolor": "#E5ECF6",
            "gridcolor": "white",
            "gridwidth": 2,
            "linecolor": "white",
            "showbackground": true,
            "ticks": "",
            "zerolinecolor": "white"
           },
           "yaxis": {
            "backgroundcolor": "#E5ECF6",
            "gridcolor": "white",
            "gridwidth": 2,
            "linecolor": "white",
            "showbackground": true,
            "ticks": "",
            "zerolinecolor": "white"
           },
           "zaxis": {
            "backgroundcolor": "#E5ECF6",
            "gridcolor": "white",
            "gridwidth": 2,
            "linecolor": "white",
            "showbackground": true,
            "ticks": "",
            "zerolinecolor": "white"
           }
          },
          "shapedefaults": {
           "line": {
            "color": "#2a3f5f"
           }
          },
          "ternary": {
           "aaxis": {
            "gridcolor": "white",
            "linecolor": "white",
            "ticks": ""
           },
           "baxis": {
            "gridcolor": "white",
            "linecolor": "white",
            "ticks": ""
           },
           "bgcolor": "#E5ECF6",
           "caxis": {
            "gridcolor": "white",
            "linecolor": "white",
            "ticks": ""
           }
          },
          "title": {
           "x": 0.05
          },
          "xaxis": {
           "automargin": true,
           "gridcolor": "white",
           "linecolor": "white",
           "ticks": "",
           "title": {
            "standoff": 15
           },
           "zerolinecolor": "white",
           "zerolinewidth": 2
          },
          "yaxis": {
           "automargin": true,
           "gridcolor": "white",
           "linecolor": "white",
           "ticks": "",
           "title": {
            "standoff": 15
           },
           "zerolinecolor": "white",
           "zerolinewidth": 2
          }
         }
        },
        "title": {
         "text": "Total de Feed por año para los 10 países con más número en Feed"
        },
        "xaxis": {
         "anchor": "y",
         "domain": [
          0,
          1
         ],
         "title": {
          "text": "Año"
         }
        },
        "yaxis": {
         "anchor": "x",
         "domain": [
          0,
          1
         ],
         "title": {
          "text": "Total de Feed"
         }
        }
       }
      }
     },
     "metadata": {},
     "output_type": "display_data"
    }
   ],
   "source": [
    "import plotly.graph_objects as go\n",
    "from plotly.subplots import make_subplots\n",
    "\n",
    "# Agrupar los datos filtrados por año y sumar el Feed para cada año y país\n",
    "agregado = df_top_countries.groupby(['Year', 'Entity'])['Feed'].sum().unstack()\n",
    "\n",
    "# Crear subplots con una sola fila y una columna\n",
    "fig = make_subplots(rows=1, cols=1)\n",
    "\n",
    "# Añadir las barras apiladas al subplot\n",
    "for pais in agregado.columns:\n",
    "    fig.add_trace(go.Bar(x=agregado.index, y=agregado[pais], name=pais), 1, 1)\n",
    "\n",
    "# Establecer el título y las etiquetas de los ejes\n",
    "fig.update_layout(title='Total de Feed por año para los 10 países con más número en Feed',\n",
    "                  xaxis_title='Año',\n",
    "                  yaxis_title='Total de Feed')\n",
    "\n",
    "# Mostrar el gráfico\n",
    "fig.show()\n",
    "\n"
   ]
  },
  {
   "cell_type": "code",
   "execution_count": 374,
   "metadata": {},
   "outputs": [
    {
     "data": {
      "application/vnd.plotly.v1+json": {
       "config": {
        "plotlyServerURL": "https://plot.ly"
       },
       "data": [
        {
         "name": "Asia",
         "type": "bar",
         "x": [
          1961,
          1962,
          1963,
          1964,
          1965,
          1966,
          1967,
          1968,
          1969,
          1970,
          1971,
          1972,
          1973,
          1974,
          1975,
          1976,
          1977,
          1978,
          1979,
          1980,
          1981,
          1982,
          1983,
          1984,
          1985,
          1986,
          1987,
          1988,
          1989,
          1990,
          1991,
          1992,
          1993,
          1994,
          1995,
          1996,
          1997,
          1998,
          1999,
          2000,
          2001,
          2002,
          2003,
          2004,
          2005,
          2006,
          2007,
          2008,
          2009,
          2010,
          2011,
          2012,
          2013,
          2014,
          2015,
          2016,
          2017,
          2018,
          2019,
          2020
         ],
         "xaxis": "x",
         "y": [
          191000,
          205000,
          225000,
          263000,
          284000,
          426000,
          403000,
          373000,
          332000,
          302000,
          474000,
          303000,
          367000,
          301000,
          293000,
          359000,
          365000,
          319000,
          335000,
          457000,
          486000,
          446000,
          478000,
          521000,
          845000,
          632000,
          606000,
          643000,
          574000,
          482000,
          488000,
          437000,
          1094000,
          1170000,
          769000,
          514000,
          454000,
          542000,
          1612000,
          2218000,
          2868000,
          2271000,
          3255000,
          3905000,
          3358000,
          3503000,
          3715000,
          3944000,
          5284000,
          11538000,
          7768000,
          13810000,
          10770000,
          10814000,
          15661000,
          12767000,
          15275000,
          12013000,
          16882000,
          23057000
         ],
         "yaxis": "y"
        },
        {
         "name": "China",
         "type": "bar",
         "x": [
          1961,
          1962,
          1963,
          1964,
          1965,
          1966,
          1967,
          1968,
          1969,
          1970,
          1971,
          1972,
          1973,
          1974,
          1975,
          1976,
          1977,
          1978,
          1979,
          1980,
          1981,
          1982,
          1983,
          1984,
          1985,
          1986,
          1987,
          1988,
          1989,
          1990,
          1991,
          1992,
          1993,
          1994,
          1995,
          1996,
          1997,
          1998,
          1999,
          2000,
          2001,
          2002,
          2003,
          2004,
          2005,
          2006,
          2007,
          2008,
          2009,
          2010,
          2011,
          2012,
          2013,
          2014,
          2015,
          2016,
          2017,
          2018,
          2019,
          2020
         ],
         "xaxis": "x",
         "y": [
          186000,
          195000,
          217000,
          236000,
          230000,
          348000,
          290000,
          280000,
          232000,
          260000,
          260000,
          200000,
          255000,
          244000,
          203000,
          210000,
          248000,
          233000,
          242000,
          260000,
          300000,
          320000,
          350000,
          400000,
          700000,
          500000,
          500000,
          480000,
          400000,
          250000,
          200000,
          200000,
          800000,
          700000,
          450000,
          300000,
          300000,
          400000,
          1457000,
          2009000,
          2655000,
          1907000,
          2911000,
          3594000,
          3014000,
          3216000,
          3408000,
          3609000,
          4821000,
          9296000,
          5498000,
          11561000,
          8917000,
          8680000,
          11707000,
          6913000,
          10830000,
          8656000,
          11194000,
          18864000
         ],
         "yaxis": "y"
        },
        {
         "name": "High-income countries",
         "type": "bar",
         "x": [
          1961,
          1962,
          1963,
          1964,
          1965,
          1966,
          1967,
          1968,
          1969,
          1970,
          1971,
          1972,
          1973,
          1974,
          1975,
          1976,
          1977,
          1978,
          1979,
          1980,
          1981,
          1982,
          1983,
          1984,
          1985,
          1986,
          1987,
          1988,
          1989,
          1990,
          1991,
          1992,
          1993,
          1994,
          1995,
          1996,
          1997,
          1998,
          1999,
          2000,
          2001,
          2002,
          2003,
          2004,
          2005,
          2006,
          2007,
          2008,
          2009,
          2010,
          2011,
          2012,
          2013,
          2014,
          2015,
          2016,
          2017,
          2018,
          2019,
          2020
         ],
         "xaxis": "x",
         "y": [
          67000,
          77000,
          94000,
          99000,
          115000,
          179000,
          194000,
          177000,
          182000,
          131000,
          295000,
          208000,
          177000,
          148000,
          194000,
          251000,
          233000,
          211000,
          203000,
          327000,
          432000,
          557000,
          556000,
          580000,
          569000,
          758000,
          1263000,
          1569000,
          1688000,
          1941000,
          1998000,
          2100000,
          1839000,
          2163000,
          2042000,
          2061000,
          2341000,
          2069000,
          1926000,
          1991000,
          1990000,
          2512000,
          2540000,
          4744000,
          3970000,
          4164000,
          2345000,
          3555000,
          3603000,
          3745000,
          3576000,
          3107000,
          3477000,
          4993000,
          6372000,
          2918000,
          5459000,
          3260000,
          3101000,
          3064000
         ],
         "yaxis": "y"
        },
        {
         "name": "Upper-middle-income countries",
         "type": "bar",
         "x": [
          1961,
          1962,
          1963,
          1964,
          1965,
          1966,
          1967,
          1968,
          1969,
          1970,
          1971,
          1972,
          1973,
          1974,
          1975,
          1976,
          1977,
          1978,
          1979,
          1980,
          1981,
          1982,
          1983,
          1984,
          1985,
          1986,
          1987,
          1988,
          1989,
          1990,
          1991,
          1992,
          1993,
          1994,
          1995,
          1996,
          1997,
          1998,
          1999,
          2000,
          2001,
          2002,
          2003,
          2004,
          2005,
          2006,
          2007,
          2008,
          2009,
          2010,
          2011,
          2012,
          2013,
          2014,
          2015,
          2016,
          2017,
          2018,
          2019,
          2020
         ],
         "xaxis": "x",
         "y": [
          296000,
          357000,
          397000,
          384000,
          411000,
          576000,
          490000,
          641000,
          569000,
          470000,
          560000,
          496000,
          624000,
          620000,
          578000,
          667000,
          880000,
          880000,
          843000,
          907000,
          861000,
          865000,
          1009000,
          1236000,
          1570000,
          1579000,
          1697000,
          1837000,
          1881000,
          1616000,
          1760000,
          1504000,
          2338000,
          1876000,
          1359000,
          1404000,
          1627000,
          1801000,
          3135000,
          3608000,
          4074000,
          3503000,
          4537000,
          5380000,
          5343000,
          5525000,
          5820000,
          6127000,
          7233000,
          13435000,
          11467000,
          17778000,
          15742000,
          16192000,
          17797000,
          16382000,
          19478000,
          17362000,
          19431000,
          26857000
         ],
         "yaxis": "y"
        },
        {
         "name": "World",
         "type": "bar",
         "x": [
          1961,
          1962,
          1963,
          1964,
          1965,
          1966,
          1967,
          1968,
          1969,
          1970,
          1971,
          1972,
          1973,
          1974,
          1975,
          1976,
          1977,
          1978,
          1979,
          1980,
          1981,
          1982,
          1983,
          1984,
          1985,
          1986,
          1987,
          1988,
          1989,
          1990,
          1991,
          1992,
          1993,
          1994,
          1995,
          1996,
          1997,
          1998,
          1999,
          2000,
          2001,
          2002,
          2003,
          2004,
          2005,
          2006,
          2007,
          2008,
          2009,
          2010,
          2011,
          2012,
          2013,
          2014,
          2015,
          2016,
          2017,
          2018,
          2019,
          2020
         ],
         "xaxis": "x",
         "y": [
          368000,
          440000,
          498000,
          487000,
          531000,
          759000,
          690000,
          825000,
          756000,
          607000,
          860000,
          710000,
          807000,
          776000,
          778000,
          926000,
          1119000,
          1100000,
          1054000,
          1242000,
          1301000,
          1433000,
          1572000,
          1825000,
          2148000,
          2365000,
          2992000,
          3438000,
          3604000,
          3580000,
          3804000,
          3682000,
          4259000,
          4136000,
          3747000,
          3725000,
          4249000,
          4216000,
          5434000,
          5728000,
          6204000,
          6311000,
          7374000,
          10547000,
          9643000,
          10309000,
          8670000,
          10250000,
          11270000,
          19789000,
          17425000,
          22295000,
          20368000,
          23261000,
          27381000,
          24569000,
          28660000,
          23255000,
          27118000,
          33624000
         ],
         "yaxis": "y"
        }
       ],
       "layout": {
        "template": {
         "data": {
          "bar": [
           {
            "error_x": {
             "color": "#2a3f5f"
            },
            "error_y": {
             "color": "#2a3f5f"
            },
            "marker": {
             "line": {
              "color": "#E5ECF6",
              "width": 0.5
             },
             "pattern": {
              "fillmode": "overlay",
              "size": 10,
              "solidity": 0.2
             }
            },
            "type": "bar"
           }
          ],
          "barpolar": [
           {
            "marker": {
             "line": {
              "color": "#E5ECF6",
              "width": 0.5
             },
             "pattern": {
              "fillmode": "overlay",
              "size": 10,
              "solidity": 0.2
             }
            },
            "type": "barpolar"
           }
          ],
          "carpet": [
           {
            "aaxis": {
             "endlinecolor": "#2a3f5f",
             "gridcolor": "white",
             "linecolor": "white",
             "minorgridcolor": "white",
             "startlinecolor": "#2a3f5f"
            },
            "baxis": {
             "endlinecolor": "#2a3f5f",
             "gridcolor": "white",
             "linecolor": "white",
             "minorgridcolor": "white",
             "startlinecolor": "#2a3f5f"
            },
            "type": "carpet"
           }
          ],
          "choropleth": [
           {
            "colorbar": {
             "outlinewidth": 0,
             "ticks": ""
            },
            "type": "choropleth"
           }
          ],
          "contour": [
           {
            "colorbar": {
             "outlinewidth": 0,
             "ticks": ""
            },
            "colorscale": [
             [
              0,
              "#0d0887"
             ],
             [
              0.1111111111111111,
              "#46039f"
             ],
             [
              0.2222222222222222,
              "#7201a8"
             ],
             [
              0.3333333333333333,
              "#9c179e"
             ],
             [
              0.4444444444444444,
              "#bd3786"
             ],
             [
              0.5555555555555556,
              "#d8576b"
             ],
             [
              0.6666666666666666,
              "#ed7953"
             ],
             [
              0.7777777777777778,
              "#fb9f3a"
             ],
             [
              0.8888888888888888,
              "#fdca26"
             ],
             [
              1,
              "#f0f921"
             ]
            ],
            "type": "contour"
           }
          ],
          "contourcarpet": [
           {
            "colorbar": {
             "outlinewidth": 0,
             "ticks": ""
            },
            "type": "contourcarpet"
           }
          ],
          "heatmap": [
           {
            "colorbar": {
             "outlinewidth": 0,
             "ticks": ""
            },
            "colorscale": [
             [
              0,
              "#0d0887"
             ],
             [
              0.1111111111111111,
              "#46039f"
             ],
             [
              0.2222222222222222,
              "#7201a8"
             ],
             [
              0.3333333333333333,
              "#9c179e"
             ],
             [
              0.4444444444444444,
              "#bd3786"
             ],
             [
              0.5555555555555556,
              "#d8576b"
             ],
             [
              0.6666666666666666,
              "#ed7953"
             ],
             [
              0.7777777777777778,
              "#fb9f3a"
             ],
             [
              0.8888888888888888,
              "#fdca26"
             ],
             [
              1,
              "#f0f921"
             ]
            ],
            "type": "heatmap"
           }
          ],
          "heatmapgl": [
           {
            "colorbar": {
             "outlinewidth": 0,
             "ticks": ""
            },
            "colorscale": [
             [
              0,
              "#0d0887"
             ],
             [
              0.1111111111111111,
              "#46039f"
             ],
             [
              0.2222222222222222,
              "#7201a8"
             ],
             [
              0.3333333333333333,
              "#9c179e"
             ],
             [
              0.4444444444444444,
              "#bd3786"
             ],
             [
              0.5555555555555556,
              "#d8576b"
             ],
             [
              0.6666666666666666,
              "#ed7953"
             ],
             [
              0.7777777777777778,
              "#fb9f3a"
             ],
             [
              0.8888888888888888,
              "#fdca26"
             ],
             [
              1,
              "#f0f921"
             ]
            ],
            "type": "heatmapgl"
           }
          ],
          "histogram": [
           {
            "marker": {
             "pattern": {
              "fillmode": "overlay",
              "size": 10,
              "solidity": 0.2
             }
            },
            "type": "histogram"
           }
          ],
          "histogram2d": [
           {
            "colorbar": {
             "outlinewidth": 0,
             "ticks": ""
            },
            "colorscale": [
             [
              0,
              "#0d0887"
             ],
             [
              0.1111111111111111,
              "#46039f"
             ],
             [
              0.2222222222222222,
              "#7201a8"
             ],
             [
              0.3333333333333333,
              "#9c179e"
             ],
             [
              0.4444444444444444,
              "#bd3786"
             ],
             [
              0.5555555555555556,
              "#d8576b"
             ],
             [
              0.6666666666666666,
              "#ed7953"
             ],
             [
              0.7777777777777778,
              "#fb9f3a"
             ],
             [
              0.8888888888888888,
              "#fdca26"
             ],
             [
              1,
              "#f0f921"
             ]
            ],
            "type": "histogram2d"
           }
          ],
          "histogram2dcontour": [
           {
            "colorbar": {
             "outlinewidth": 0,
             "ticks": ""
            },
            "colorscale": [
             [
              0,
              "#0d0887"
             ],
             [
              0.1111111111111111,
              "#46039f"
             ],
             [
              0.2222222222222222,
              "#7201a8"
             ],
             [
              0.3333333333333333,
              "#9c179e"
             ],
             [
              0.4444444444444444,
              "#bd3786"
             ],
             [
              0.5555555555555556,
              "#d8576b"
             ],
             [
              0.6666666666666666,
              "#ed7953"
             ],
             [
              0.7777777777777778,
              "#fb9f3a"
             ],
             [
              0.8888888888888888,
              "#fdca26"
             ],
             [
              1,
              "#f0f921"
             ]
            ],
            "type": "histogram2dcontour"
           }
          ],
          "mesh3d": [
           {
            "colorbar": {
             "outlinewidth": 0,
             "ticks": ""
            },
            "type": "mesh3d"
           }
          ],
          "parcoords": [
           {
            "line": {
             "colorbar": {
              "outlinewidth": 0,
              "ticks": ""
             }
            },
            "type": "parcoords"
           }
          ],
          "pie": [
           {
            "automargin": true,
            "type": "pie"
           }
          ],
          "scatter": [
           {
            "fillpattern": {
             "fillmode": "overlay",
             "size": 10,
             "solidity": 0.2
            },
            "type": "scatter"
           }
          ],
          "scatter3d": [
           {
            "line": {
             "colorbar": {
              "outlinewidth": 0,
              "ticks": ""
             }
            },
            "marker": {
             "colorbar": {
              "outlinewidth": 0,
              "ticks": ""
             }
            },
            "type": "scatter3d"
           }
          ],
          "scattercarpet": [
           {
            "marker": {
             "colorbar": {
              "outlinewidth": 0,
              "ticks": ""
             }
            },
            "type": "scattercarpet"
           }
          ],
          "scattergeo": [
           {
            "marker": {
             "colorbar": {
              "outlinewidth": 0,
              "ticks": ""
             }
            },
            "type": "scattergeo"
           }
          ],
          "scattergl": [
           {
            "marker": {
             "colorbar": {
              "outlinewidth": 0,
              "ticks": ""
             }
            },
            "type": "scattergl"
           }
          ],
          "scattermapbox": [
           {
            "marker": {
             "colorbar": {
              "outlinewidth": 0,
              "ticks": ""
             }
            },
            "type": "scattermapbox"
           }
          ],
          "scatterpolar": [
           {
            "marker": {
             "colorbar": {
              "outlinewidth": 0,
              "ticks": ""
             }
            },
            "type": "scatterpolar"
           }
          ],
          "scatterpolargl": [
           {
            "marker": {
             "colorbar": {
              "outlinewidth": 0,
              "ticks": ""
             }
            },
            "type": "scatterpolargl"
           }
          ],
          "scatterternary": [
           {
            "marker": {
             "colorbar": {
              "outlinewidth": 0,
              "ticks": ""
             }
            },
            "type": "scatterternary"
           }
          ],
          "surface": [
           {
            "colorbar": {
             "outlinewidth": 0,
             "ticks": ""
            },
            "colorscale": [
             [
              0,
              "#0d0887"
             ],
             [
              0.1111111111111111,
              "#46039f"
             ],
             [
              0.2222222222222222,
              "#7201a8"
             ],
             [
              0.3333333333333333,
              "#9c179e"
             ],
             [
              0.4444444444444444,
              "#bd3786"
             ],
             [
              0.5555555555555556,
              "#d8576b"
             ],
             [
              0.6666666666666666,
              "#ed7953"
             ],
             [
              0.7777777777777778,
              "#fb9f3a"
             ],
             [
              0.8888888888888888,
              "#fdca26"
             ],
             [
              1,
              "#f0f921"
             ]
            ],
            "type": "surface"
           }
          ],
          "table": [
           {
            "cells": {
             "fill": {
              "color": "#EBF0F8"
             },
             "line": {
              "color": "white"
             }
            },
            "header": {
             "fill": {
              "color": "#C8D4E3"
             },
             "line": {
              "color": "white"
             }
            },
            "type": "table"
           }
          ]
         },
         "layout": {
          "annotationdefaults": {
           "arrowcolor": "#2a3f5f",
           "arrowhead": 0,
           "arrowwidth": 1
          },
          "autotypenumbers": "strict",
          "coloraxis": {
           "colorbar": {
            "outlinewidth": 0,
            "ticks": ""
           }
          },
          "colorscale": {
           "diverging": [
            [
             0,
             "#8e0152"
            ],
            [
             0.1,
             "#c51b7d"
            ],
            [
             0.2,
             "#de77ae"
            ],
            [
             0.3,
             "#f1b6da"
            ],
            [
             0.4,
             "#fde0ef"
            ],
            [
             0.5,
             "#f7f7f7"
            ],
            [
             0.6,
             "#e6f5d0"
            ],
            [
             0.7,
             "#b8e186"
            ],
            [
             0.8,
             "#7fbc41"
            ],
            [
             0.9,
             "#4d9221"
            ],
            [
             1,
             "#276419"
            ]
           ],
           "sequential": [
            [
             0,
             "#0d0887"
            ],
            [
             0.1111111111111111,
             "#46039f"
            ],
            [
             0.2222222222222222,
             "#7201a8"
            ],
            [
             0.3333333333333333,
             "#9c179e"
            ],
            [
             0.4444444444444444,
             "#bd3786"
            ],
            [
             0.5555555555555556,
             "#d8576b"
            ],
            [
             0.6666666666666666,
             "#ed7953"
            ],
            [
             0.7777777777777778,
             "#fb9f3a"
            ],
            [
             0.8888888888888888,
             "#fdca26"
            ],
            [
             1,
             "#f0f921"
            ]
           ],
           "sequentialminus": [
            [
             0,
             "#0d0887"
            ],
            [
             0.1111111111111111,
             "#46039f"
            ],
            [
             0.2222222222222222,
             "#7201a8"
            ],
            [
             0.3333333333333333,
             "#9c179e"
            ],
            [
             0.4444444444444444,
             "#bd3786"
            ],
            [
             0.5555555555555556,
             "#d8576b"
            ],
            [
             0.6666666666666666,
             "#ed7953"
            ],
            [
             0.7777777777777778,
             "#fb9f3a"
            ],
            [
             0.8888888888888888,
             "#fdca26"
            ],
            [
             1,
             "#f0f921"
            ]
           ]
          },
          "colorway": [
           "#636efa",
           "#EF553B",
           "#00cc96",
           "#ab63fa",
           "#FFA15A",
           "#19d3f3",
           "#FF6692",
           "#B6E880",
           "#FF97FF",
           "#FECB52"
          ],
          "font": {
           "color": "#2a3f5f"
          },
          "geo": {
           "bgcolor": "white",
           "lakecolor": "white",
           "landcolor": "#E5ECF6",
           "showlakes": true,
           "showland": true,
           "subunitcolor": "white"
          },
          "hoverlabel": {
           "align": "left"
          },
          "hovermode": "closest",
          "mapbox": {
           "style": "light"
          },
          "paper_bgcolor": "white",
          "plot_bgcolor": "#E5ECF6",
          "polar": {
           "angularaxis": {
            "gridcolor": "white",
            "linecolor": "white",
            "ticks": ""
           },
           "bgcolor": "#E5ECF6",
           "radialaxis": {
            "gridcolor": "white",
            "linecolor": "white",
            "ticks": ""
           }
          },
          "scene": {
           "xaxis": {
            "backgroundcolor": "#E5ECF6",
            "gridcolor": "white",
            "gridwidth": 2,
            "linecolor": "white",
            "showbackground": true,
            "ticks": "",
            "zerolinecolor": "white"
           },
           "yaxis": {
            "backgroundcolor": "#E5ECF6",
            "gridcolor": "white",
            "gridwidth": 2,
            "linecolor": "white",
            "showbackground": true,
            "ticks": "",
            "zerolinecolor": "white"
           },
           "zaxis": {
            "backgroundcolor": "#E5ECF6",
            "gridcolor": "white",
            "gridwidth": 2,
            "linecolor": "white",
            "showbackground": true,
            "ticks": "",
            "zerolinecolor": "white"
           }
          },
          "shapedefaults": {
           "line": {
            "color": "#2a3f5f"
           }
          },
          "ternary": {
           "aaxis": {
            "gridcolor": "white",
            "linecolor": "white",
            "ticks": ""
           },
           "baxis": {
            "gridcolor": "white",
            "linecolor": "white",
            "ticks": ""
           },
           "bgcolor": "#E5ECF6",
           "caxis": {
            "gridcolor": "white",
            "linecolor": "white",
            "ticks": ""
           }
          },
          "title": {
           "x": 0.05
          },
          "xaxis": {
           "automargin": true,
           "gridcolor": "white",
           "linecolor": "white",
           "ticks": "",
           "title": {
            "standoff": 15
           },
           "zerolinecolor": "white",
           "zerolinewidth": 2
          },
          "yaxis": {
           "automargin": true,
           "gridcolor": "white",
           "linecolor": "white",
           "ticks": "",
           "title": {
            "standoff": 15
           },
           "zerolinecolor": "white",
           "zerolinewidth": 2
          }
         }
        },
        "title": {
         "text": "Total de Feed por año para los cinco continentes"
        },
        "xaxis": {
         "anchor": "y",
         "domain": [
          0,
          1
         ],
         "title": {
          "text": "Año"
         }
        },
        "yaxis": {
         "anchor": "x",
         "domain": [
          0,
          1
         ],
         "title": {
          "text": "Total de Feed"
         }
        }
       }
      }
     },
     "metadata": {},
     "output_type": "display_data"
    }
   ],
   "source": [
    "agregado = soy.groupby(['Year', 'Entity'])['Feed'].sum().unstack()\n",
    "\n",
    "top_continents = soy.groupby('Entity')['Feed'].sum().nlargest(5).index\n",
    "\n",
    "# Filtrar los datos para incluir solo los continentes seleccionados\n",
    "df_top_continents = soy[soy['Entity'].isin(top_continents)]\n",
    "\n",
    "# Agrupar los datos filtrados por 'Year' y 'Entity' y sumar el 'Feed'\n",
    "agregado = df_top_continents.groupby(['Year', 'Entity'])['Feed'].sum().unstack()\n",
    "\n",
    "# Crear subplots con una sola fila y una columna\n",
    "fig = make_subplots(rows=1, cols=1)\n",
    "\n",
    "# Añadir las barras apiladas al subplot\n",
    "for continente in agregado.columns:\n",
    "    fig.add_trace(go.Bar(x=agregado.index, y=agregado[continente], name=continente), 1, 1)\n",
    "\n",
    "# Establecer el título y las etiquetas de los ejes\n",
    "fig.update_layout(title='Total de Feed por año para los cinco continentes',\n",
    "                  xaxis_title='Año',\n",
    "                  yaxis_title='Total de Feed')\n",
    "\n",
    "# Mostrar el gráfico\n",
    "fig.show()"
   ]
  },
  {
   "cell_type": "code",
   "execution_count": null,
   "metadata": {},
   "outputs": [],
   "source": []
  },
  {
   "cell_type": "code",
   "execution_count": null,
   "metadata": {},
   "outputs": [],
   "source": []
  },
  {
   "cell_type": "code",
   "execution_count": null,
   "metadata": {},
   "outputs": [],
   "source": []
  }
 ],
 "metadata": {
  "kernelspec": {
   "display_name": "Python 3",
   "language": "python",
   "name": "python3"
  },
  "language_info": {
   "codemirror_mode": {
    "name": "ipython",
    "version": 3
   },
   "file_extension": ".py",
   "mimetype": "text/x-python",
   "name": "python",
   "nbconvert_exporter": "python",
   "pygments_lexer": "ipython3",
   "version": "3.11.3"
  },
  "orig_nbformat": 4
 },
 "nbformat": 4,
 "nbformat_minor": 2
}
